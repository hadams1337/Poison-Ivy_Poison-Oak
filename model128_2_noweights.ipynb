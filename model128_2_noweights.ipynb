{
 "cells": [
  {
   "cell_type": "code",
   "execution_count": 1,
   "metadata": {},
   "outputs": [],
   "source": [
    "import os\n",
    "from skimage import io\n",
    "import pandas as pd\n",
    "import numpy as np\n",
    "import scipy.stats as stats\n",
    "import matplotlib.pyplot as plt\n",
    "import shutil\n",
    "import PIL\n",
    "import tensorflow as tf\n",
    "from tensorflow import keras\n",
    "from tensorflow.keras import layers\n",
    "from tensorflow.keras.models import Sequential\n",
    "from sklearn.metrics import plot_confusion_matrix\n",
    "from sklearn.metrics import confusion_matrix\n",
    "import seaborn as sns"
   ]
  },
  {
   "cell_type": "code",
   "execution_count": 2,
   "metadata": {},
   "outputs": [],
   "source": [
    "batch_size = 32\n",
    "img_height = 300\n",
    "img_width = 200"
   ]
  },
  {
   "cell_type": "code",
   "execution_count": 3,
   "metadata": {},
   "outputs": [],
   "source": [
    "num_classes = 3\n",
    "model = Sequential([\n",
    "  layers.experimental.preprocessing.Rescaling(1./255, input_shape=(img_height, img_width, 3)),\n",
    "  layers.Conv2D(64, 7, padding='same', activation='relu'),\n",
    "  layers.MaxPooling2D(),\n",
    "  layers.Conv2D(64, 3, padding='same', activation='relu'),\n",
    "  layers.MaxPooling2D(),\n",
    "  layers.Conv2D(128, 3, padding='same', activation='relu'),\n",
    "  layers.MaxPooling2D(),\n",
    "  layers.Conv2D(128, 3, padding='same', activation='relu'),\n",
    "  layers.MaxPooling2D(),\n",
    "  layers.Flatten(),\n",
    "  layers.Dense(128, activation='relu'),\n",
    "  layers.Dense(num_classes, activation='softmax')\n",
    "])"
   ]
  },
  {
   "cell_type": "code",
   "execution_count": 4,
   "metadata": {},
   "outputs": [],
   "source": [
    "def get_model_name():\n",
    "    import time\n",
    "    run=time.strftime(\"run_%Y_%m_%d-%H_%M_%S\")\n",
    "    return run"
   ]
  },
  {
   "cell_type": "code",
   "execution_count": 5,
   "metadata": {},
   "outputs": [],
   "source": [
    "recall=tf.keras.metrics.Recall(class_id=None)"
   ]
  },
  {
   "cell_type": "code",
   "execution_count": 6,
   "metadata": {},
   "outputs": [],
   "source": [
    "root_logdir=os.path.join(os.curdir, 'my_logs')"
   ]
  },
  {
   "cell_type": "code",
   "execution_count": 7,
   "metadata": {},
   "outputs": [],
   "source": [
    "def get_run_logdir():\n",
    "    import time\n",
    "    run_id=time.strftime(\"run_%Y_%m_%d-%H_%M_%S\")\n",
    "    return os.path.join(root_logdir, run_id)"
   ]
  },
  {
   "cell_type": "code",
   "execution_count": 8,
   "metadata": {},
   "outputs": [],
   "source": [
    "run_logdir=get_run_logdir()\n",
    "model_name=get_model_name()"
   ]
  },
  {
   "cell_type": "code",
   "execution_count": 9,
   "metadata": {},
   "outputs": [],
   "source": [
    "callbacks = [\n",
    "    keras.callbacks.EarlyStopping(\n",
    "        # Stop training when `val_loss` is no longer improving\n",
    "        monitor=\"val_loss\",\n",
    "        # \"no longer improving\" being defined as \"no better than 1e-5 less\"\n",
    "        min_delta=1e-5,\n",
    "        # \"no longer improving\" being further defined as \"for at least 30 epochs\"\n",
    "        patience=30,\n",
    "        verbose=1,), \n",
    "    keras.callbacks.TensorBoard(run_logdir,\n",
    "                              histogram_freq=2,\n",
    "                              write_graph=True,\n",
    "                              write_images=True),\n",
    "    keras.callbacks.ModelCheckpoint(filepath='models/'+model_name ,save_best_only=True)]"
   ]
  },
  {
   "cell_type": "code",
   "execution_count": 10,
   "metadata": {},
   "outputs": [],
   "source": [
    "train_datagen=tf.keras.preprocessing.image.ImageDataGenerator(\n",
    "    zca_whitening=False, zca_epsilon=1e-06, rotation_range=20, width_shift_range=0.1,\n",
    "    height_shift_range=0.1, fill_mode='nearest', cval=0.0,\n",
    "    horizontal_flip=True, vertical_flip=False)\n",
    "test_datagen=tf.keras.preprocessing.image.ImageDataGenerator()"
   ]
  },
  {
   "cell_type": "code",
   "execution_count": 11,
   "metadata": {},
   "outputs": [
    {
     "name": "stdout",
     "output_type": "stream",
     "text": [
      "Found 1968 images belonging to 3 classes.\n",
      "Found 422 images belonging to 3 classes.\n"
     ]
    }
   ],
   "source": [
    "train_generator = train_datagen.flow_from_directory(\n",
    "        'plants/train',\n",
    "        target_size=(300, 200),\n",
    "        batch_size=32,\n",
    "        class_mode='categorical')\n",
    "validation_generator = test_datagen.flow_from_directory(\n",
    "        'plants/val',\n",
    "        target_size=(300, 200),\n",
    "        batch_size=32,\n",
    "        class_mode='categorical')"
   ]
  },
  {
   "cell_type": "code",
   "execution_count": 12,
   "metadata": {},
   "outputs": [],
   "source": [
    "model.compile(optimizer='adam',\n",
    "              loss=tf.keras.losses.CategoricalCrossentropy(),\n",
    "              metrics=[recall])"
   ]
  },
  {
   "cell_type": "code",
   "execution_count": 13,
   "metadata": {},
   "outputs": [
    {
     "name": "stdout",
     "output_type": "stream",
     "text": [
      "Epoch 1/300\n",
      " 1/62 [..............................] - ETA: 0s - loss: 1.0998 - recall: 0.0000e+00WARNING:tensorflow:From /Users/johnwilliams/opt/anaconda3/lib/python3.8/site-packages/tensorflow/python/ops/summary_ops_v2.py:1277: stop (from tensorflow.python.eager.profiler) is deprecated and will be removed after 2020-07-01.\n",
      "Instructions for updating:\n",
      "use `tf.profiler.experimental.stop` instead.\n",
      "62/62 [==============================] - ETA: 0s - loss: 0.8324 - recall: 0.6839WARNING:tensorflow:From /Users/johnwilliams/opt/anaconda3/lib/python3.8/site-packages/tensorflow/python/training/tracking/tracking.py:111: Model.state_updates (from tensorflow.python.keras.engine.training) is deprecated and will be removed in a future version.\n",
      "Instructions for updating:\n",
      "This property should not be used in TensorFlow 2.0, as updates are applied automatically.\n",
      "WARNING:tensorflow:From /Users/johnwilliams/opt/anaconda3/lib/python3.8/site-packages/tensorflow/python/training/tracking/tracking.py:111: Layer.updates (from tensorflow.python.keras.engine.base_layer) is deprecated and will be removed in a future version.\n",
      "Instructions for updating:\n",
      "This property should not be used in TensorFlow 2.0, as updates are applied automatically.\n",
      "INFO:tensorflow:Assets written to: models/run_2021_01_09-22_16_45/assets\n",
      "62/62 [==============================] - 171s 3s/step - loss: 0.8324 - recall: 0.6839 - val_loss: 0.7958 - val_recall: 0.7014\n",
      "Epoch 2/300\n",
      "62/62 [==============================] - ETA: 0s - loss: 0.7898 - recall: 0.6900INFO:tensorflow:Assets written to: models/run_2021_01_09-22_16_45/assets\n",
      "62/62 [==============================] - 168s 3s/step - loss: 0.7898 - recall: 0.6900 - val_loss: 0.7645 - val_recall: 0.6919\n",
      "Epoch 3/300\n",
      "62/62 [==============================] - 167s 3s/step - loss: 0.7845 - recall: 0.6484 - val_loss: 0.8343 - val_recall: 0.6777\n",
      "Epoch 4/300\n",
      "62/62 [==============================] - 166s 3s/step - loss: 0.7873 - recall: 0.6799 - val_loss: 0.7866 - val_recall: 0.5758\n",
      "Epoch 5/300\n",
      "62/62 [==============================] - ETA: 0s - loss: 0.7674 - recall: 0.6829INFO:tensorflow:Assets written to: models/run_2021_01_09-22_16_45/assets\n",
      "62/62 [==============================] - 167s 3s/step - loss: 0.7674 - recall: 0.6829 - val_loss: 0.7579 - val_recall: 0.7038\n",
      "Epoch 6/300\n",
      "62/62 [==============================] - ETA: 0s - loss: 0.7474 - recall: 0.6712INFO:tensorflow:Assets written to: models/run_2021_01_09-22_16_45/assets\n",
      "62/62 [==============================] - 166s 3s/step - loss: 0.7474 - recall: 0.6712 - val_loss: 0.7414 - val_recall: 0.6801\n",
      "Epoch 7/300\n",
      "62/62 [==============================] - ETA: 0s - loss: 0.7395 - recall: 0.6560INFO:tensorflow:Assets written to: models/run_2021_01_09-22_16_45/assets\n",
      "62/62 [==============================] - 167s 3s/step - loss: 0.7395 - recall: 0.6560 - val_loss: 0.7331 - val_recall: 0.6730\n",
      "Epoch 8/300\n",
      "62/62 [==============================] - ETA: 0s - loss: 0.7438 - recall: 0.6657INFO:tensorflow:Assets written to: models/run_2021_01_09-22_16_45/assets\n",
      "62/62 [==============================] - 167s 3s/step - loss: 0.7438 - recall: 0.6657 - val_loss: 0.7264 - val_recall: 0.6896\n",
      "Epoch 9/300\n",
      "62/62 [==============================] - 166s 3s/step - loss: 0.7193 - recall: 0.6667 - val_loss: 0.7398 - val_recall: 0.6848\n",
      "Epoch 10/300\n",
      "62/62 [==============================] - 165s 3s/step - loss: 0.7308 - recall: 0.6601 - val_loss: 0.7326 - val_recall: 0.6943\n",
      "Epoch 11/300\n",
      "62/62 [==============================] - 165s 3s/step - loss: 0.7183 - recall: 0.6601 - val_loss: 0.7814 - val_recall: 0.7038\n",
      "Epoch 12/300\n",
      "62/62 [==============================] - ETA: 0s - loss: 0.7121 - recall: 0.6626INFO:tensorflow:Assets written to: models/run_2021_01_09-22_16_45/assets\n",
      "62/62 [==============================] - 166s 3s/step - loss: 0.7121 - recall: 0.6626 - val_loss: 0.7022 - val_recall: 0.6351\n",
      "Epoch 13/300\n",
      "62/62 [==============================] - 167s 3s/step - loss: 0.7038 - recall: 0.6657 - val_loss: 0.7344 - val_recall: 0.6801\n",
      "Epoch 14/300\n",
      "62/62 [==============================] - 165s 3s/step - loss: 0.7038 - recall: 0.6733 - val_loss: 0.7072 - val_recall: 0.6825\n",
      "Epoch 15/300\n",
      "62/62 [==============================] - ETA: 0s - loss: 0.6905 - recall: 0.6809INFO:tensorflow:Assets written to: models/run_2021_01_09-22_16_45/assets\n",
      "62/62 [==============================] - 166s 3s/step - loss: 0.6905 - recall: 0.6809 - val_loss: 0.6980 - val_recall: 0.6611\n",
      "Epoch 16/300\n",
      "62/62 [==============================] - 164s 3s/step - loss: 0.6991 - recall: 0.6677 - val_loss: 0.7080 - val_recall: 0.7038\n",
      "Epoch 17/300\n",
      "62/62 [==============================] - 164s 3s/step - loss: 0.6788 - recall: 0.6768 - val_loss: 0.7107 - val_recall: 0.6919\n",
      "Epoch 18/300\n",
      "62/62 [==============================] - ETA: 0s - loss: 0.6802 - recall: 0.6728INFO:tensorflow:Assets written to: models/run_2021_01_09-22_16_45/assets\n",
      "62/62 [==============================] - 166s 3s/step - loss: 0.6802 - recall: 0.6728 - val_loss: 0.6829 - val_recall: 0.6919\n",
      "Epoch 19/300\n",
      "62/62 [==============================] - 165s 3s/step - loss: 0.6664 - recall: 0.6819 - val_loss: 0.6914 - val_recall: 0.6943\n",
      "Epoch 20/300\n",
      "62/62 [==============================] - 164s 3s/step - loss: 0.6623 - recall: 0.6900 - val_loss: 0.7214 - val_recall: 0.7038\n",
      "Epoch 21/300\n",
      "62/62 [==============================] - 165s 3s/step - loss: 0.6804 - recall: 0.6890 - val_loss: 0.7215 - val_recall: 0.6991\n",
      "Epoch 22/300\n",
      "62/62 [==============================] - 164s 3s/step - loss: 0.6657 - recall: 0.6794 - val_loss: 0.7236 - val_recall: 0.7062\n",
      "Epoch 23/300\n",
      "62/62 [==============================] - 165s 3s/step - loss: 0.6666 - recall: 0.6855 - val_loss: 0.6892 - val_recall: 0.6825\n",
      "Epoch 24/300\n",
      "62/62 [==============================] - 164s 3s/step - loss: 0.6507 - recall: 0.7068 - val_loss: 0.6953 - val_recall: 0.7038\n",
      "Epoch 25/300\n",
      "62/62 [==============================] - 165s 3s/step - loss: 0.6605 - recall: 0.7038 - val_loss: 0.6831 - val_recall: 0.7204\n",
      "Epoch 26/300\n",
      "62/62 [==============================] - ETA: 0s - loss: 0.6363 - recall: 0.7073INFO:tensorflow:Assets written to: models/run_2021_01_09-22_16_45/assets\n",
      "62/62 [==============================] - 165s 3s/step - loss: 0.6363 - recall: 0.7073 - val_loss: 0.6803 - val_recall: 0.7109\n",
      "Epoch 27/300\n",
      "62/62 [==============================] - ETA: 0s - loss: 0.6505 - recall: 0.7073INFO:tensorflow:Assets written to: models/run_2021_01_09-22_16_45/assets\n",
      "62/62 [==============================] - 166s 3s/step - loss: 0.6505 - recall: 0.7073 - val_loss: 0.6693 - val_recall: 0.7085\n",
      "Epoch 28/300\n",
      "62/62 [==============================] - 165s 3s/step - loss: 0.6304 - recall: 0.7144 - val_loss: 0.7048 - val_recall: 0.7180\n",
      "Epoch 29/300\n",
      "62/62 [==============================] - 165s 3s/step - loss: 0.6268 - recall: 0.7200 - val_loss: 0.6757 - val_recall: 0.6754\n",
      "Epoch 30/300\n",
      "62/62 [==============================] - 164s 3s/step - loss: 0.6202 - recall: 0.7287 - val_loss: 0.6937 - val_recall: 0.7204\n",
      "Epoch 31/300\n",
      "62/62 [==============================] - ETA: 0s - loss: 0.6090 - recall: 0.7353INFO:tensorflow:Assets written to: models/run_2021_01_09-22_16_45/assets\n",
      "62/62 [==============================] - 165s 3s/step - loss: 0.6090 - recall: 0.7353 - val_loss: 0.6639 - val_recall: 0.7180\n",
      "Epoch 32/300\n",
      "62/62 [==============================] - 164s 3s/step - loss: 0.6160 - recall: 0.7271 - val_loss: 0.6741 - val_recall: 0.7370\n",
      "Epoch 33/300\n",
      "62/62 [==============================] - 165s 3s/step - loss: 0.5968 - recall: 0.7368 - val_loss: 0.6960 - val_recall: 0.7085\n",
      "Epoch 34/300\n",
      "62/62 [==============================] - ETA: 0s - loss: 0.6177 - recall: 0.7231INFO:tensorflow:Assets written to: models/run_2021_01_09-22_16_45/assets\n",
      "62/62 [==============================] - 165s 3s/step - loss: 0.6177 - recall: 0.7231 - val_loss: 0.6479 - val_recall: 0.7227\n",
      "Epoch 35/300\n",
      "62/62 [==============================] - 165s 3s/step - loss: 0.5962 - recall: 0.7434 - val_loss: 0.6743 - val_recall: 0.7322\n",
      "Epoch 36/300\n",
      "62/62 [==============================] - 165s 3s/step - loss: 0.5906 - recall: 0.7332 - val_loss: 0.6508 - val_recall: 0.7370\n",
      "Epoch 37/300\n"
     ]
    },
    {
     "name": "stdout",
     "output_type": "stream",
     "text": [
      "62/62 [==============================] - 164s 3s/step - loss: 0.5779 - recall: 0.7434 - val_loss: 0.6613 - val_recall: 0.7559\n",
      "Epoch 38/300\n",
      "62/62 [==============================] - 164s 3s/step - loss: 0.5860 - recall: 0.7500 - val_loss: 0.6664 - val_recall: 0.7085\n",
      "Epoch 39/300\n",
      "62/62 [==============================] - 164s 3s/step - loss: 0.5596 - recall: 0.7698 - val_loss: 0.6538 - val_recall: 0.7370\n",
      "Epoch 40/300\n",
      "62/62 [==============================] - 165s 3s/step - loss: 0.5788 - recall: 0.7449 - val_loss: 0.6834 - val_recall: 0.7559\n",
      "Epoch 41/300\n",
      "62/62 [==============================] - 164s 3s/step - loss: 0.5646 - recall: 0.7586 - val_loss: 0.6674 - val_recall: 0.7464\n",
      "Epoch 42/300\n",
      "62/62 [==============================] - 164s 3s/step - loss: 0.5688 - recall: 0.7576 - val_loss: 0.6742 - val_recall: 0.7156\n",
      "Epoch 43/300\n",
      "62/62 [==============================] - ETA: 0s - loss: 0.5524 - recall: 0.7581INFO:tensorflow:Assets written to: models/run_2021_01_09-22_16_45/assets\n",
      "62/62 [==============================] - 166s 3s/step - loss: 0.5524 - recall: 0.7581 - val_loss: 0.6364 - val_recall: 0.7299\n",
      "Epoch 44/300\n",
      "62/62 [==============================] - 164s 3s/step - loss: 0.5529 - recall: 0.7612 - val_loss: 0.6684 - val_recall: 0.7299\n",
      "Epoch 45/300\n",
      "62/62 [==============================] - 165s 3s/step - loss: 0.5208 - recall: 0.7739 - val_loss: 0.6449 - val_recall: 0.7393\n",
      "Epoch 46/300\n",
      "62/62 [==============================] - ETA: 0s - loss: 0.5360 - recall: 0.7779INFO:tensorflow:Assets written to: models/run_2021_01_09-22_16_45/assets\n",
      "62/62 [==============================] - 165s 3s/step - loss: 0.5360 - recall: 0.7779 - val_loss: 0.6326 - val_recall: 0.7678\n",
      "Epoch 47/300\n",
      "62/62 [==============================] - ETA: 0s - loss: 0.5412 - recall: 0.7673INFO:tensorflow:Assets written to: models/run_2021_01_09-22_16_45/assets\n",
      "62/62 [==============================] - 166s 3s/step - loss: 0.5412 - recall: 0.7673 - val_loss: 0.6258 - val_recall: 0.7464\n",
      "Epoch 48/300\n",
      "62/62 [==============================] - 164s 3s/step - loss: 0.5190 - recall: 0.7805 - val_loss: 0.6703 - val_recall: 0.7701\n",
      "Epoch 49/300\n",
      "62/62 [==============================] - 165s 3s/step - loss: 0.5276 - recall: 0.7830 - val_loss: 0.6496 - val_recall: 0.7583\n",
      "Epoch 50/300\n",
      "62/62 [==============================] - 164s 3s/step - loss: 0.5022 - recall: 0.7866 - val_loss: 0.6468 - val_recall: 0.7654\n",
      "Epoch 51/300\n",
      "62/62 [==============================] - 165s 3s/step - loss: 0.4763 - recall: 0.7901 - val_loss: 0.6930 - val_recall: 0.7014\n",
      "Epoch 52/300\n",
      "62/62 [==============================] - 164s 3s/step - loss: 0.4939 - recall: 0.7937 - val_loss: 0.6767 - val_recall: 0.7393\n",
      "Epoch 53/300\n",
      "62/62 [==============================] - ETA: 0s - loss: 0.4925 - recall: 0.7927INFO:tensorflow:Assets written to: models/run_2021_01_09-22_16_45/assets\n",
      "62/62 [==============================] - 166s 3s/step - loss: 0.4925 - recall: 0.7927 - val_loss: 0.6179 - val_recall: 0.7512\n",
      "Epoch 54/300\n",
      "62/62 [==============================] - ETA: 0s - loss: 0.4625 - recall: 0.8028INFO:tensorflow:Assets written to: models/run_2021_01_09-22_16_45/assets\n",
      "62/62 [==============================] - 166s 3s/step - loss: 0.4625 - recall: 0.8028 - val_loss: 0.5919 - val_recall: 0.7725\n",
      "Epoch 55/300\n",
      "62/62 [==============================] - 165s 3s/step - loss: 0.4871 - recall: 0.7917 - val_loss: 0.6091 - val_recall: 0.7512\n",
      "Epoch 56/300\n",
      "62/62 [==============================] - 164s 3s/step - loss: 0.4553 - recall: 0.8155 - val_loss: 0.6960 - val_recall: 0.7370\n",
      "Epoch 57/300\n",
      "62/62 [==============================] - 165s 3s/step - loss: 0.4478 - recall: 0.8039 - val_loss: 0.6322 - val_recall: 0.7749\n",
      "Epoch 58/300\n",
      "62/62 [==============================] - 165s 3s/step - loss: 0.4404 - recall: 0.8216 - val_loss: 0.6481 - val_recall: 0.7630\n",
      "Epoch 59/300\n",
      "62/62 [==============================] - 165s 3s/step - loss: 0.4491 - recall: 0.8095 - val_loss: 0.6611 - val_recall: 0.7725\n",
      "Epoch 60/300\n",
      "62/62 [==============================] - 164s 3s/step - loss: 0.4272 - recall: 0.8267 - val_loss: 0.6382 - val_recall: 0.7701\n",
      "Epoch 61/300\n",
      "62/62 [==============================] - 165s 3s/step - loss: 0.4192 - recall: 0.8232 - val_loss: 0.6263 - val_recall: 0.7559\n",
      "Epoch 62/300\n",
      "62/62 [==============================] - 164s 3s/step - loss: 0.4400 - recall: 0.8125 - val_loss: 0.5923 - val_recall: 0.7630\n",
      "Epoch 63/300\n",
      "62/62 [==============================] - 166s 3s/step - loss: 0.4046 - recall: 0.8293 - val_loss: 0.6765 - val_recall: 0.7417\n",
      "Epoch 64/300\n",
      "62/62 [==============================] - 164s 3s/step - loss: 0.4278 - recall: 0.8196 - val_loss: 0.6184 - val_recall: 0.7464\n",
      "Epoch 65/300\n",
      "62/62 [==============================] - 165s 3s/step - loss: 0.4000 - recall: 0.8272 - val_loss: 0.6762 - val_recall: 0.7725\n",
      "Epoch 66/300\n",
      "62/62 [==============================] - 166s 3s/step - loss: 0.4203 - recall: 0.8333 - val_loss: 0.5963 - val_recall: 0.7796\n",
      "Epoch 67/300\n",
      "62/62 [==============================] - 165s 3s/step - loss: 0.4052 - recall: 0.8277 - val_loss: 0.6979 - val_recall: 0.7346\n",
      "Epoch 68/300\n",
      "62/62 [==============================] - 164s 3s/step - loss: 0.3808 - recall: 0.8455 - val_loss: 0.6799 - val_recall: 0.7796\n",
      "Epoch 69/300\n",
      "62/62 [==============================] - 165s 3s/step - loss: 0.3665 - recall: 0.8445 - val_loss: 0.7980 - val_recall: 0.7820\n",
      "Epoch 70/300\n",
      "62/62 [==============================] - 164s 3s/step - loss: 0.3886 - recall: 0.8450 - val_loss: 0.7185 - val_recall: 0.7630\n",
      "Epoch 71/300\n",
      "62/62 [==============================] - 165s 3s/step - loss: 0.3570 - recall: 0.8486 - val_loss: 0.6845 - val_recall: 0.7583\n",
      "Epoch 72/300\n",
      "62/62 [==============================] - 164s 3s/step - loss: 0.3668 - recall: 0.8562 - val_loss: 0.6503 - val_recall: 0.7749\n",
      "Epoch 73/300\n",
      "62/62 [==============================] - 165s 3s/step - loss: 0.3392 - recall: 0.8648 - val_loss: 0.7096 - val_recall: 0.7962\n",
      "Epoch 74/300\n",
      "62/62 [==============================] - 164s 3s/step - loss: 0.3487 - recall: 0.8592 - val_loss: 0.7197 - val_recall: 0.7559\n",
      "Epoch 75/300\n",
      "62/62 [==============================] - 165s 3s/step - loss: 0.3439 - recall: 0.8582 - val_loss: 0.6528 - val_recall: 0.8033\n",
      "Epoch 76/300\n",
      "62/62 [==============================] - 164s 3s/step - loss: 0.3333 - recall: 0.8648 - val_loss: 0.7339 - val_recall: 0.7583\n",
      "Epoch 77/300\n",
      "62/62 [==============================] - 165s 3s/step - loss: 0.3219 - recall: 0.8725 - val_loss: 0.7220 - val_recall: 0.7844\n",
      "Epoch 78/300\n",
      "62/62 [==============================] - 164s 3s/step - loss: 0.3200 - recall: 0.8689 - val_loss: 0.6993 - val_recall: 0.7796\n",
      "Epoch 79/300\n",
      "62/62 [==============================] - 165s 3s/step - loss: 0.3019 - recall: 0.8694 - val_loss: 0.7951 - val_recall: 0.7678\n",
      "Epoch 80/300\n",
      "62/62 [==============================] - 164s 3s/step - loss: 0.3311 - recall: 0.8659 - val_loss: 0.6813 - val_recall: 0.7749\n",
      "Epoch 81/300\n",
      "62/62 [==============================] - 165s 3s/step - loss: 0.3057 - recall: 0.8755 - val_loss: 0.7092 - val_recall: 0.7915\n",
      "Epoch 82/300\n",
      "62/62 [==============================] - 164s 3s/step - loss: 0.3273 - recall: 0.8603 - val_loss: 0.6598 - val_recall: 0.7725\n",
      "Epoch 83/300\n",
      "62/62 [==============================] - 164s 3s/step - loss: 0.2929 - recall: 0.8836 - val_loss: 0.6950 - val_recall: 0.7844\n",
      "Epoch 84/300\n",
      "62/62 [==============================] - 164s 3s/step - loss: 0.2653 - recall: 0.8974 - val_loss: 0.7827 - val_recall: 0.8033\n",
      "Epoch 00084: early stopping\n"
     ]
    }
   ],
   "source": [
    "epochs=300\n",
    "history = model.fit(\n",
    "  train_generator,\n",
    "  validation_data=validation_generator,\n",
    "  epochs=epochs,\n",
    "    callbacks=[callbacks])"
   ]
  },
  {
   "cell_type": "code",
   "execution_count": 14,
   "metadata": {},
   "outputs": [
    {
     "data": {
      "image/png": "[encoded data removed]",
      "text/plain": [
       "<Figure size 576x576 with 2 Axes>"
      ]
     },
     "metadata": {
      "needs_background": "light"
     },
     "output_type": "display_data"
    }
   ],
   "source": [
    "acc = history.history['recall']\n",
    "val_acc = history.history['val_recall']\n",
    "\n",
    "loss = history.history['loss']\n",
    "val_loss = history.history['val_loss']\n",
    "\n",
    "epochs_range = range(len(acc))\n",
    "\n",
    "plt.figure(figsize=(8, 8))\n",
    "plt.subplot(1, 2, 1)\n",
    "plt.plot(epochs_range, acc, label='Training Recall')\n",
    "plt.plot(epochs_range, val_acc, label='Validation Recall')\n",
    "plt.legend(loc='lower right')\n",
    "plt.title('Training and Validation Recall')\n",
    "\n",
    "\n",
    "plt.subplot(1, 2, 2)\n",
    "plt.plot(epochs_range, loss, label='Training Loss')\n",
    "plt.plot(epochs_range, val_loss, label='Validation Loss')\n",
    "plt.legend(loc='upper right')\n",
    "plt.title('Training and Validation Loss')\n",
    "plt.savefig('graphs/simplemodel128x2.png', bbox_inches='tight')\n",
    "plt.show()"
   ]
  },
  {
   "cell_type": "code",
   "execution_count": 15,
   "metadata": {},
   "outputs": [
    {
     "name": "stdout",
     "output_type": "stream",
     "text": [
      "Found 424 images belonging to 3 classes.\n"
     ]
    }
   ],
   "source": [
    "test_generator = test_datagen.flow_from_directory(\n",
    "        'plants/test',\n",
    "        target_size=(300, 200),\n",
    "        batch_size=16,\n",
    "        shuffle=False,\n",
    "        class_mode='categorical')"
   ]
  },
  {
   "cell_type": "code",
   "execution_count": 16,
   "metadata": {},
   "outputs": [],
   "source": [
    "ben_plants = os.listdir('plants/test/Benign_Plants')\n",
    "ivy=os.listdir('plants/test/Poison_Ivy/')\n",
    "oak=os.listdir('plants/test/Poison_Oak')"
   ]
  },
  {
   "cell_type": "code",
   "execution_count": 17,
   "metadata": {},
   "outputs": [],
   "source": [
    "y_true=pd.DataFrame()\n",
    "for i in range(len(ben_plants)):\n",
    "    num=pd.Series([1,0,0])\n",
    "    y_true= y_true.append(num, ignore_index=True)\n",
    "for j in range(len(ivy)):\n",
    "    num=pd.Series([0,1,0])\n",
    "    y_true= y_true.append(num, ignore_index=True)\n",
    "for k in range(len(oak)):\n",
    "    num=pd.Series([0,0,1])\n",
    "    y_true= y_true.append(num, ignore_index=True)"
   ]
  },
  {
   "cell_type": "code",
   "execution_count": 18,
   "metadata": {},
   "outputs": [
    {
     "name": "stdout",
     "output_type": "stream",
     "text": [
      "27/27 [==============================] - 9s 344ms/step\n"
     ]
    }
   ],
   "source": [
    "y_hat=(model.predict(test_generator, verbose=1))"
   ]
  },
  {
   "cell_type": "code",
   "execution_count": 19,
   "metadata": {},
   "outputs": [],
   "source": [
    "y_pred=np.argmax(y_hat, axis=1)\n",
    "y_s=np.argmax(np.array(y_true), axis=1)\n",
    "c_mat=confusion_matrix(y_s, y_pred)\n",
    "percent=(c_mat/(np.sum(c_mat, axis=1).reshape(3,-1))).reshape(3,3)"
   ]
  },
  {
   "cell_type": "code",
   "execution_count": 20,
   "metadata": {},
   "outputs": [
    {
     "data": {
      "image/png": "[encoded data removed]",
      "text/plain": [
       "<Figure size 432x288 with 2 Axes>"
      ]
     },
     "metadata": {
      "needs_background": "light"
     },
     "output_type": "display_data"
    }
   ],
   "source": [
    "predicted_cat=['Predicted Benign', 'Predicted Poison Ivy', 'Predicted Poison Oak']\n",
    "real_cat=['Actual Benign', 'Actual Poison Ivy', 'Truly Poison Oak']\n",
    "sns.heatmap(percent, annot=percent, cmap='YlGn', \n",
    "            xticklabels=predicted_cat, \n",
    "            yticklabels=real_cat).set_title('Confusion Matrix -Percent Actual Plant Predicted \\n built model 64 filters no weights');\n",
    "plt.savefig('graphs/simplemodel128x2_2.png', bbox_inches='tight')"
   ]
  },
  {
   "cell_type": "code",
   "execution_count": null,
   "metadata": {},
   "outputs": [],
   "source": []
  }
 ],
 "metadata": {
  "kernelspec": {
   "display_name": "Python 3",
   "language": "python",
   "name": "python3"
  },
  "language_info": {
   "codemirror_mode": {
    "name": "ipython",
    "version": 3
   },
   "file_extension": ".py",
   "mimetype": "text/x-python",
   "name": "python",
   "nbconvert_exporter": "python",
   "pygments_lexer": "ipython3",
   "version": "3.8.3"
  }
 },
 "nbformat": 4,
 "nbformat_minor": 4
}
