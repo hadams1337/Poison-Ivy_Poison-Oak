{
 "cells": [
  {
   "cell_type": "code",
   "execution_count": 45,
   "metadata": {},
   "outputs": [],
   "source": [
    "import os\n",
    "from skimage import io\n",
    "import pandas as pd\n",
    "import numpy as np\n",
    "import scipy.stats as stats\n",
    "import matplotlib.pyplot as plt\n",
    "import shutil\n",
    "import PIL\n",
    "import tensorflow as tf\n",
    "from tensorflow import keras\n",
    "from tensorflow.keras import layers\n",
    "from tensorflow.keras.models import Sequential\n",
    "from sklearn.metrics import plot_confusion_matrix\n",
    "from sklearn.metrics import confusion_matrix\n",
    "import seaborn as sns"
   ]
  },
  {
   "cell_type": "code",
   "execution_count": 2,
   "metadata": {},
   "outputs": [],
   "source": [
    "batch_size = 32\n",
    "img_height = 300\n",
    "img_width = 200"
   ]
  },
  {
   "cell_type": "code",
   "execution_count": 3,
   "metadata": {},
   "outputs": [],
   "source": [
    "num_classes = 3\n",
    "model = Sequential([\n",
    "  layers.experimental.preprocessing.Rescaling(1./255, input_shape=(img_height, img_width, 3)),\n",
    "  layers.Conv2D(32, 7, padding='same', activation='relu'),\n",
    "  layers.MaxPooling2D(),\n",
    "  layers.Conv2D(64, 3, padding='same', activation='relu'),\n",
    "  layers.MaxPooling2D(),\n",
    "  layers.Conv2D(128, 3, padding='same', activation='relu'),\n",
    "  layers.MaxPooling2D(),\n",
    "  layers.Flatten(),\n",
    "  layers.Dense(128, activation='relu'),\n",
    "  layers.Dense(num_classes, activation='softmax')\n",
    "])"
   ]
  },
  {
   "cell_type": "code",
   "execution_count": 13,
   "metadata": {},
   "outputs": [
    {
     "name": "stdout",
     "output_type": "stream",
     "text": [
      "Model: \"sequential_13\"\n",
      "_________________________________________________________________\n",
      "Layer (type)                 Output Shape              Param #   \n",
      "=================================================================\n",
      "rescaling_10 (Rescaling)     (None, 300, 200, 3)       0         \n",
      "_________________________________________________________________\n",
      "conv2d_39 (Conv2D)           (None, 300, 200, 32)      4736      \n",
      "_________________________________________________________________\n",
      "max_pooling2d_39 (MaxPooling (None, 150, 100, 32)      0         \n",
      "_________________________________________________________________\n",
      "conv2d_40 (Conv2D)           (None, 150, 100, 64)      18496     \n",
      "_________________________________________________________________\n",
      "max_pooling2d_40 (MaxPooling (None, 75, 50, 64)        0         \n",
      "_________________________________________________________________\n",
      "conv2d_41 (Conv2D)           (None, 75, 50, 128)       73856     \n",
      "_________________________________________________________________\n",
      "max_pooling2d_41 (MaxPooling (None, 37, 25, 128)       0         \n",
      "_________________________________________________________________\n",
      "flatten_13 (Flatten)         (None, 118400)            0         \n",
      "_________________________________________________________________\n",
      "dense_26 (Dense)             (None, 128)               15155328  \n",
      "_________________________________________________________________\n",
      "dense_27 (Dense)             (None, 3)                 387       \n",
      "=================================================================\n",
      "Total params: 15,252,803\n",
      "Trainable params: 15,252,803\n",
      "Non-trainable params: 0\n",
      "_________________________________________________________________\n"
     ]
    }
   ],
   "source": [
    "new_model = tf.keras.models.load_model('../Capstone3/mymodel_25/')\n",
    "\n",
    "# Check its architecture\n",
    "new_model.summary()"
   ]
  },
  {
   "cell_type": "code",
   "execution_count": null,
   "metadata": {},
   "outputs": [],
   "source": []
  },
  {
   "cell_type": "code",
   "execution_count": 20,
   "metadata": {},
   "outputs": [],
   "source": [
    "def get_model_name():\n",
    "    import time\n",
    "    run=time.strftime(\"run_%Y_%m_%d-%H_%M_%S\")\n",
    "    return run"
   ]
  },
  {
   "cell_type": "code",
   "execution_count": 21,
   "metadata": {},
   "outputs": [],
   "source": [
    "recall=tf.keras.metrics.Recall(class_id=None)"
   ]
  },
  {
   "cell_type": "code",
   "execution_count": 22,
   "metadata": {},
   "outputs": [],
   "source": [
    "root_logdir=os.path.join(os.curdir, 'my_logs')"
   ]
  },
  {
   "cell_type": "code",
   "execution_count": 23,
   "metadata": {},
   "outputs": [],
   "source": [
    "def get_run_logdir():\n",
    "    import time\n",
    "    run_id=time.strftime(\"run_%Y_%m_%d-%H_%M_%S\")\n",
    "    return os.path.join(root_logdir, run_id)"
   ]
  },
  {
   "cell_type": "code",
   "execution_count": 24,
   "metadata": {},
   "outputs": [],
   "source": [
    "run_logdir=get_run_logdir()"
   ]
  },
  {
   "cell_type": "code",
   "execution_count": 25,
   "metadata": {},
   "outputs": [],
   "source": [
    "model_name=get_model_name()"
   ]
  },
  {
   "cell_type": "code",
   "execution_count": 26,
   "metadata": {},
   "outputs": [
    {
     "data": {
      "text/plain": [
       "'run_2021_01_08-20_41_55'"
      ]
     },
     "execution_count": 26,
     "metadata": {},
     "output_type": "execute_result"
    }
   ],
   "source": [
    "model_name"
   ]
  },
  {
   "cell_type": "code",
   "execution_count": 27,
   "metadata": {},
   "outputs": [],
   "source": [
    "callbacks = [\n",
    "    keras.callbacks.EarlyStopping(\n",
    "        # Stop training when `val_loss` is no longer improving\n",
    "        monitor=\"val_loss\",\n",
    "        # \"no longer improving\" being defined as \"no better than 1e-5 less\"\n",
    "        min_delta=1e-5,\n",
    "        # \"no longer improving\" being further defined as \"for at least 30 epochs\"\n",
    "        patience=30,\n",
    "        verbose=1,), \n",
    "    keras.callbacks.TensorBoard(run_logdir,\n",
    "                              histogram_freq=2,\n",
    "                              write_graph=True,\n",
    "                              write_images=True),\n",
    "    keras.callbacks.ModelCheckpoint(filepath=model_name+\"epoch_{epoch}\",save_best_only=True)]"
   ]
  },
  {
   "cell_type": "code",
   "execution_count": null,
   "metadata": {},
   "outputs": [],
   "source": []
  },
  {
   "cell_type": "code",
   "execution_count": 28,
   "metadata": {},
   "outputs": [],
   "source": [
    "train_datagen=tf.keras.preprocessing.image.ImageDataGenerator(\n",
    "    zca_whitening=False, zca_epsilon=1e-06, rotation_range=20, width_shift_range=0.1,\n",
    "    height_shift_range=0.1, fill_mode='nearest', cval=0.0,\n",
    "    horizontal_flip=True, vertical_flip=False)\n",
    "test_datagen=tf.keras.preprocessing.image.ImageDataGenerator()"
   ]
  },
  {
   "cell_type": "code",
   "execution_count": 29,
   "metadata": {},
   "outputs": [
    {
     "name": "stdout",
     "output_type": "stream",
     "text": [
      "Found 1968 images belonging to 3 classes.\n",
      "Found 422 images belonging to 3 classes.\n"
     ]
    }
   ],
   "source": [
    "train_generator = train_datagen.flow_from_directory(\n",
    "        'plants/train',\n",
    "        target_size=(300, 200),\n",
    "        batch_size=32,\n",
    "        class_mode='categorical')\n",
    "validation_generator = test_datagen.flow_from_directory(\n",
    "        'plants/val',\n",
    "        target_size=(300, 200),\n",
    "        batch_size=32,\n",
    "        class_mode='categorical')"
   ]
  },
  {
   "cell_type": "code",
   "execution_count": 30,
   "metadata": {},
   "outputs": [],
   "source": [
    "model.compile(optimizer='adam',\n",
    "              loss=tf.keras.losses.CategoricalCrossentropy(),\n",
    "              metrics=[recall])"
   ]
  },
  {
   "cell_type": "code",
   "execution_count": 31,
   "metadata": {},
   "outputs": [
    {
     "name": "stdout",
     "output_type": "stream",
     "text": [
      "Epoch 1/200\n",
      " 1/62 [..............................] - ETA: 0s - loss: 1.1016 - recall_2: 0.0000e+00WARNING:tensorflow:From /Users/johnwilliams/opt/anaconda3/lib/python3.8/site-packages/tensorflow/python/ops/summary_ops_v2.py:1277: stop (from tensorflow.python.eager.profiler) is deprecated and will be removed after 2020-07-01.\n",
      "Instructions for updating:\n",
      "use `tf.profiler.experimental.stop` instead.\n",
      "62/62 [==============================] - ETA: 0s - loss: 1.0465 - recall_2: 0.5864WARNING:tensorflow:From /Users/johnwilliams/opt/anaconda3/lib/python3.8/site-packages/tensorflow/python/training/tracking/tracking.py:111: Model.state_updates (from tensorflow.python.keras.engine.training) is deprecated and will be removed in a future version.\n",
      "Instructions for updating:\n",
      "This property should not be used in TensorFlow 2.0, as updates are applied automatically.\n",
      "WARNING:tensorflow:From /Users/johnwilliams/opt/anaconda3/lib/python3.8/site-packages/tensorflow/python/training/tracking/tracking.py:111: Layer.updates (from tensorflow.python.keras.engine.base_layer) is deprecated and will be removed in a future version.\n",
      "Instructions for updating:\n",
      "This property should not be used in TensorFlow 2.0, as updates are applied automatically.\n",
      "INFO:tensorflow:Assets written to: run_2021_01_08-20_41_55epoch_1/assets\n",
      "62/62 [==============================] - 121s 2s/step - loss: 1.0465 - recall_2: 0.5864 - val_loss: 0.8146 - val_recall_2: 0.7085\n",
      "Epoch 2/200\n",
      "62/62 [==============================] - ETA: 0s - loss: 0.7874 - recall_2: 0.7012INFO:tensorflow:Assets written to: run_2021_01_08-20_41_55epoch_2/assets\n",
      "62/62 [==============================] - 122s 2s/step - loss: 0.7874 - recall_2: 0.7012 - val_loss: 0.7976 - val_recall_2: 0.6991\n",
      "Epoch 3/200\n",
      "62/62 [==============================] - ETA: 0s - loss: 0.7900 - recall_2: 0.6921INFO:tensorflow:Assets written to: run_2021_01_08-20_41_55epoch_3/assets\n",
      "62/62 [==============================] - 124s 2s/step - loss: 0.7900 - recall_2: 0.6921 - val_loss: 0.7776 - val_recall_2: 0.6919\n",
      "Epoch 4/200\n",
      "62/62 [==============================] - ETA: 0s - loss: 0.7814 - recall_2: 0.6809INFO:tensorflow:Assets written to: run_2021_01_08-20_41_55epoch_4/assets\n",
      "62/62 [==============================] - 120s 2s/step - loss: 0.7814 - recall_2: 0.6809 - val_loss: 0.7674 - val_recall_2: 0.6967\n",
      "Epoch 5/200\n",
      "62/62 [==============================] - 119s 2s/step - loss: 0.7649 - recall_2: 0.6865 - val_loss: 0.7813 - val_recall_2: 0.6943\n",
      "Epoch 6/200\n",
      "62/62 [==============================] - ETA: 0s - loss: 0.7687 - recall_2: 0.6799INFO:tensorflow:Assets written to: run_2021_01_08-20_41_55epoch_6/assets\n",
      "62/62 [==============================] - 116s 2s/step - loss: 0.7687 - recall_2: 0.6799 - val_loss: 0.7650 - val_recall_2: 0.6825\n",
      "Epoch 7/200\n",
      "62/62 [==============================] - 116s 2s/step - loss: 0.7491 - recall_2: 0.6672 - val_loss: 0.7717 - val_recall_2: 0.6659\n",
      "Epoch 8/200\n",
      "62/62 [==============================] - ETA: 0s - loss: 0.7701 - recall_2: 0.6519INFO:tensorflow:Assets written to: run_2021_01_08-20_41_55epoch_8/assets\n",
      "62/62 [==============================] - 117s 2s/step - loss: 0.7701 - recall_2: 0.6519 - val_loss: 0.7629 - val_recall_2: 0.6896\n",
      "Epoch 9/200\n",
      "62/62 [==============================] - ETA: 0s - loss: 0.7393 - recall_2: 0.6723INFO:tensorflow:Assets written to: run_2021_01_08-20_41_55epoch_9/assets\n",
      "62/62 [==============================] - 120s 2s/step - loss: 0.7393 - recall_2: 0.6723 - val_loss: 0.7369 - val_recall_2: 0.6872\n",
      "Epoch 10/200\n",
      "62/62 [==============================] - 128s 2s/step - loss: 0.7455 - recall_2: 0.6814 - val_loss: 0.7423 - val_recall_2: 0.6872\n",
      "Epoch 11/200\n",
      "62/62 [==============================] - 161s 3s/step - loss: 0.7406 - recall_2: 0.6646 - val_loss: 0.7673 - val_recall_2: 0.6919\n",
      "Epoch 12/200\n",
      "62/62 [==============================] - ETA: 0s - loss: 0.7402 - recall_2: 0.6784INFO:tensorflow:Assets written to: run_2021_01_08-20_41_55epoch_12/assets\n",
      "62/62 [==============================] - 169s 3s/step - loss: 0.7402 - recall_2: 0.6784 - val_loss: 0.7312 - val_recall_2: 0.6919\n",
      "Epoch 13/200\n",
      "62/62 [==============================] - 167s 3s/step - loss: 0.7273 - recall_2: 0.6631 - val_loss: 0.7339 - val_recall_2: 0.6991\n",
      "Epoch 14/200\n",
      "62/62 [==============================] - ETA: 0s - loss: 0.7247 - recall_2: 0.6636INFO:tensorflow:Assets written to: run_2021_01_08-20_41_55epoch_14/assets\n",
      "62/62 [==============================] - 167s 3s/step - loss: 0.7247 - recall_2: 0.6636 - val_loss: 0.7290 - val_recall_2: 0.6682\n",
      "Epoch 15/200\n",
      "62/62 [==============================] - ETA: 0s - loss: 0.7090 - recall_2: 0.6723INFO:tensorflow:Assets written to: run_2021_01_08-20_41_55epoch_15/assets\n",
      "62/62 [==============================] - 148s 2s/step - loss: 0.7090 - recall_2: 0.6723 - val_loss: 0.7126 - val_recall_2: 0.6848\n",
      "Epoch 16/200\n",
      "62/62 [==============================] - ETA: 0s - loss: 0.7096 - recall_2: 0.6712INFO:tensorflow:Assets written to: run_2021_01_08-20_41_55epoch_16/assets\n",
      "62/62 [==============================] - 149s 2s/step - loss: 0.7096 - recall_2: 0.6712 - val_loss: 0.7113 - val_recall_2: 0.6943\n",
      "Epoch 17/200\n",
      "62/62 [==============================] - ETA: 0s - loss: 0.7071 - recall_2: 0.6733INFO:tensorflow:Assets written to: run_2021_01_08-20_41_55epoch_17/assets\n",
      "62/62 [==============================] - 148s 2s/step - loss: 0.7071 - recall_2: 0.6733 - val_loss: 0.7087 - val_recall_2: 0.6754\n",
      "Epoch 18/200\n",
      "62/62 [==============================] - 144s 2s/step - loss: 0.7207 - recall_2: 0.6626 - val_loss: 0.7198 - val_recall_2: 0.6967\n",
      "Epoch 19/200\n",
      "62/62 [==============================] - 147s 2s/step - loss: 0.7136 - recall_2: 0.6784 - val_loss: 0.7162 - val_recall_2: 0.6801\n",
      "Epoch 20/200\n",
      "62/62 [==============================] - 144s 2s/step - loss: 0.7144 - recall_2: 0.6717 - val_loss: 0.7120 - val_recall_2: 0.6754\n",
      "Epoch 21/200\n",
      "62/62 [==============================] - 146s 2s/step - loss: 0.7056 - recall_2: 0.6672 - val_loss: 0.7296 - val_recall_2: 0.7014\n",
      "Epoch 22/200\n",
      "62/62 [==============================] - ETA: 0s - loss: 0.6985 - recall_2: 0.6850INFO:tensorflow:Assets written to: run_2021_01_08-20_41_55epoch_22/assets\n",
      "62/62 [==============================] - 159s 3s/step - loss: 0.6985 - recall_2: 0.6850 - val_loss: 0.6998 - val_recall_2: 0.6754\n",
      "Epoch 23/200\n",
      "62/62 [==============================] - 118s 2s/step - loss: 0.6900 - recall_2: 0.6687 - val_loss: 0.7053 - val_recall_2: 0.6445\n",
      "Epoch 24/200\n",
      "62/62 [==============================] - 115s 2s/step - loss: 0.6822 - recall_2: 0.6728 - val_loss: 0.7084 - val_recall_2: 0.6896\n",
      "Epoch 25/200\n",
      "62/62 [==============================] - 116s 2s/step - loss: 0.6787 - recall_2: 0.6763 - val_loss: 0.7076 - val_recall_2: 0.7014\n",
      "Epoch 26/200\n",
      "62/62 [==============================] - 113s 2s/step - loss: 0.6796 - recall_2: 0.6819 - val_loss: 0.7147 - val_recall_2: 0.6872\n",
      "Epoch 27/200\n",
      "62/62 [==============================] - 116s 2s/step - loss: 0.6861 - recall_2: 0.6682 - val_loss: 0.7157 - val_recall_2: 0.7014\n",
      "Epoch 28/200\n",
      "62/62 [==============================] - ETA: 0s - loss: 0.6803 - recall_2: 0.6814INFO:tensorflow:Assets written to: run_2021_01_08-20_41_55epoch_28/assets\n",
      "62/62 [==============================] - 115s 2s/step - loss: 0.6803 - recall_2: 0.6814 - val_loss: 0.6854 - val_recall_2: 0.6848\n",
      "Epoch 29/200\n",
      "62/62 [==============================] - ETA: 0s - loss: 0.6743 - recall_2: 0.6834INFO:tensorflow:Assets written to: run_2021_01_08-20_41_55epoch_29/assets\n",
      "62/62 [==============================] - 117s 2s/step - loss: 0.6743 - recall_2: 0.6834 - val_loss: 0.6678 - val_recall_2: 0.7156\n",
      "Epoch 30/200\n",
      "62/62 [==============================] - 113s 2s/step - loss: 0.6641 - recall_2: 0.6758 - val_loss: 0.6737 - val_recall_2: 0.6943\n",
      "Epoch 31/200\n",
      "62/62 [==============================] - 116s 2s/step - loss: 0.6503 - recall_2: 0.6951 - val_loss: 0.6793 - val_recall_2: 0.7133\n",
      "Epoch 32/200\n",
      "62/62 [==============================] - ETA: 0s - loss: 0.6367 - recall_2: 0.6972INFO:tensorflow:Assets written to: run_2021_01_08-20_41_55epoch_32/assets\n",
      "62/62 [==============================] - 115s 2s/step - loss: 0.6367 - recall_2: 0.6972 - val_loss: 0.6635 - val_recall_2: 0.7227\n"
     ]
    },
    {
     "name": "stdout",
     "output_type": "stream",
     "text": [
      "Epoch 33/200\n",
      "62/62 [==============================] - ETA: 0s - loss: 0.6427 - recall_2: 0.6972INFO:tensorflow:Assets written to: run_2021_01_08-20_41_55epoch_33/assets\n",
      "62/62 [==============================] - 118s 2s/step - loss: 0.6427 - recall_2: 0.6972 - val_loss: 0.6373 - val_recall_2: 0.7299\n",
      "Epoch 34/200\n",
      "62/62 [==============================] - 113s 2s/step - loss: 0.6251 - recall_2: 0.7068 - val_loss: 0.6448 - val_recall_2: 0.7062\n",
      "Epoch 35/200\n",
      "62/62 [==============================] - 116s 2s/step - loss: 0.6479 - recall_2: 0.6880 - val_loss: 0.6412 - val_recall_2: 0.7251\n",
      "Epoch 36/200\n",
      "62/62 [==============================] - 113s 2s/step - loss: 0.6425 - recall_2: 0.6987 - val_loss: 0.6578 - val_recall_2: 0.7204\n",
      "Epoch 37/200\n",
      "62/62 [==============================] - 116s 2s/step - loss: 0.6376 - recall_2: 0.7043 - val_loss: 0.7300 - val_recall_2: 0.7180\n",
      "Epoch 38/200\n",
      "62/62 [==============================] - 112s 2s/step - loss: 0.6281 - recall_2: 0.7129 - val_loss: 0.6745 - val_recall_2: 0.7180\n",
      "Epoch 39/200\n",
      "62/62 [==============================] - 117s 2s/step - loss: 0.6158 - recall_2: 0.7205 - val_loss: 0.6576 - val_recall_2: 0.7180\n",
      "Epoch 40/200\n",
      "62/62 [==============================] - 112s 2s/step - loss: 0.6153 - recall_2: 0.7180 - val_loss: 0.6594 - val_recall_2: 0.7038\n",
      "Epoch 41/200\n",
      "62/62 [==============================] - 116s 2s/step - loss: 0.6256 - recall_2: 0.7139 - val_loss: 0.6717 - val_recall_2: 0.6682\n",
      "Epoch 42/200\n",
      "62/62 [==============================] - 112s 2s/step - loss: 0.5972 - recall_2: 0.7226 - val_loss: 0.6644 - val_recall_2: 0.7180\n",
      "Epoch 43/200\n",
      "62/62 [==============================] - ETA: 0s - loss: 0.6201 - recall_2: 0.7114INFO:tensorflow:Assets written to: run_2021_01_08-20_41_55epoch_43/assets\n",
      "62/62 [==============================] - 118s 2s/step - loss: 0.6201 - recall_2: 0.7114 - val_loss: 0.6358 - val_recall_2: 0.7204\n",
      "Epoch 44/200\n",
      "62/62 [==============================] - 112s 2s/step - loss: 0.5980 - recall_2: 0.7195 - val_loss: 0.6635 - val_recall_2: 0.6919\n",
      "Epoch 45/200\n",
      "62/62 [==============================] - 116s 2s/step - loss: 0.5847 - recall_2: 0.7307 - val_loss: 0.6390 - val_recall_2: 0.7299\n",
      "Epoch 46/200\n",
      "62/62 [==============================] - 112s 2s/step - loss: 0.5775 - recall_2: 0.7337 - val_loss: 0.6523 - val_recall_2: 0.6919\n",
      "Epoch 47/200\n",
      "62/62 [==============================] - 116s 2s/step - loss: 0.6008 - recall_2: 0.7170 - val_loss: 0.6408 - val_recall_2: 0.7370\n",
      "Epoch 48/200\n",
      "62/62 [==============================] - ETA: 0s - loss: 0.5808 - recall_2: 0.7332INFO:tensorflow:Assets written to: run_2021_01_08-20_41_55epoch_48/assets\n",
      "62/62 [==============================] - 113s 2s/step - loss: 0.5808 - recall_2: 0.7332 - val_loss: 0.6354 - val_recall_2: 0.7346\n",
      "Epoch 49/200\n",
      "62/62 [==============================] - 116s 2s/step - loss: 0.5931 - recall_2: 0.7312 - val_loss: 0.6656 - val_recall_2: 0.7464\n",
      "Epoch 50/200\n",
      "62/62 [==============================] - ETA: 0s - loss: 0.5732 - recall_2: 0.7454INFO:tensorflow:Assets written to: run_2021_01_08-20_41_55epoch_50/assets\n",
      "62/62 [==============================] - 114s 2s/step - loss: 0.5732 - recall_2: 0.7454 - val_loss: 0.6269 - val_recall_2: 0.7346\n",
      "Epoch 51/200\n",
      "62/62 [==============================] - 116s 2s/step - loss: 0.5733 - recall_2: 0.7287 - val_loss: 0.6512 - val_recall_2: 0.7251\n",
      "Epoch 52/200\n",
      "62/62 [==============================] - 112s 2s/step - loss: 0.5641 - recall_2: 0.7510 - val_loss: 0.6565 - val_recall_2: 0.7322\n",
      "Epoch 53/200\n",
      "62/62 [==============================] - 116s 2s/step - loss: 0.5582 - recall_2: 0.7505 - val_loss: 0.6733 - val_recall_2: 0.7251\n",
      "Epoch 54/200\n",
      "62/62 [==============================] - 112s 2s/step - loss: 0.5533 - recall_2: 0.7434 - val_loss: 0.6698 - val_recall_2: 0.7275\n",
      "Epoch 55/200\n",
      "62/62 [==============================] - 116s 2s/step - loss: 0.5604 - recall_2: 0.7373 - val_loss: 0.6744 - val_recall_2: 0.7536\n",
      "Epoch 56/200\n",
      "62/62 [==============================] - 113s 2s/step - loss: 0.5518 - recall_2: 0.7576 - val_loss: 0.6828 - val_recall_2: 0.7701\n",
      "Epoch 57/200\n",
      "62/62 [==============================] - 117s 2s/step - loss: 0.5434 - recall_2: 0.7586 - val_loss: 0.7029 - val_recall_2: 0.7322\n",
      "Epoch 58/200\n",
      "62/62 [==============================] - 112s 2s/step - loss: 0.5211 - recall_2: 0.7734 - val_loss: 0.7424 - val_recall_2: 0.7180\n",
      "Epoch 59/200\n",
      "62/62 [==============================] - 116s 2s/step - loss: 0.5371 - recall_2: 0.7652 - val_loss: 0.6434 - val_recall_2: 0.7441\n",
      "Epoch 60/200\n",
      "62/62 [==============================] - 112s 2s/step - loss: 0.5288 - recall_2: 0.7703 - val_loss: 0.6857 - val_recall_2: 0.7559\n",
      "Epoch 61/200\n",
      "62/62 [==============================] - 116s 2s/step - loss: 0.5190 - recall_2: 0.7835 - val_loss: 0.6294 - val_recall_2: 0.7393\n",
      "Epoch 62/200\n",
      "62/62 [==============================] - 113s 2s/step - loss: 0.4921 - recall_2: 0.7835 - val_loss: 0.6871 - val_recall_2: 0.7346\n",
      "Epoch 63/200\n",
      "62/62 [==============================] - ETA: 0s - loss: 0.5267 - recall_2: 0.7698INFO:tensorflow:Assets written to: run_2021_01_08-20_41_55epoch_63/assets\n",
      "62/62 [==============================] - 118s 2s/step - loss: 0.5267 - recall_2: 0.7698 - val_loss: 0.6251 - val_recall_2: 0.7014\n",
      "Epoch 64/200\n",
      "62/62 [==============================] - 112s 2s/step - loss: 0.5150 - recall_2: 0.7800 - val_loss: 0.6616 - val_recall_2: 0.7393\n",
      "Epoch 65/200\n",
      "62/62 [==============================] - 116s 2s/step - loss: 0.5102 - recall_2: 0.7901 - val_loss: 0.6593 - val_recall_2: 0.7488\n",
      "Epoch 66/200\n",
      "62/62 [==============================] - 112s 2s/step - loss: 0.4821 - recall_2: 0.7896 - val_loss: 0.6554 - val_recall_2: 0.7417\n",
      "Epoch 67/200\n",
      "62/62 [==============================] - 116s 2s/step - loss: 0.4884 - recall_2: 0.7891 - val_loss: 0.7078 - val_recall_2: 0.7654\n",
      "Epoch 68/200\n",
      "62/62 [==============================] - 113s 2s/step - loss: 0.4912 - recall_2: 0.7896 - val_loss: 0.7132 - val_recall_2: 0.7630\n",
      "Epoch 69/200\n",
      "62/62 [==============================] - 116s 2s/step - loss: 0.4759 - recall_2: 0.7942 - val_loss: 0.6981 - val_recall_2: 0.7133\n",
      "Epoch 70/200\n",
      "62/62 [==============================] - 112s 2s/step - loss: 0.4813 - recall_2: 0.7891 - val_loss: 0.6740 - val_recall_2: 0.7464\n",
      "Epoch 71/200\n",
      "62/62 [==============================] - 116s 2s/step - loss: 0.4748 - recall_2: 0.7907 - val_loss: 0.6752 - val_recall_2: 0.7464\n",
      "Epoch 72/200\n",
      "62/62 [==============================] - 112s 2s/step - loss: 0.4279 - recall_2: 0.8196 - val_loss: 0.6968 - val_recall_2: 0.7749\n",
      "Epoch 73/200\n",
      "62/62 [==============================] - 116s 2s/step - loss: 0.4550 - recall_2: 0.8039 - val_loss: 0.6628 - val_recall_2: 0.7417\n",
      "Epoch 74/200\n",
      "62/62 [==============================] - 113s 2s/step - loss: 0.4434 - recall_2: 0.8171 - val_loss: 0.7141 - val_recall_2: 0.7441\n",
      "Epoch 75/200\n",
      "62/62 [==============================] - 116s 2s/step - loss: 0.4668 - recall_2: 0.8130 - val_loss: 0.6963 - val_recall_2: 0.7417\n",
      "Epoch 76/200\n",
      "62/62 [==============================] - 112s 2s/step - loss: 0.4435 - recall_2: 0.8054 - val_loss: 0.6746 - val_recall_2: 0.7536\n",
      "Epoch 77/200\n",
      "62/62 [==============================] - 116s 2s/step - loss: 0.4301 - recall_2: 0.8115 - val_loss: 0.7220 - val_recall_2: 0.7251\n",
      "Epoch 78/200\n",
      "62/62 [==============================] - 112s 2s/step - loss: 0.4345 - recall_2: 0.8110 - val_loss: 0.7198 - val_recall_2: 0.7346\n",
      "Epoch 79/200\n",
      "62/62 [==============================] - 116s 2s/step - loss: 0.4438 - recall_2: 0.8166 - val_loss: 0.6985 - val_recall_2: 0.7749\n",
      "Epoch 80/200\n",
      "62/62 [==============================] - 112s 2s/step - loss: 0.4346 - recall_2: 0.8181 - val_loss: 0.7458 - val_recall_2: 0.7749\n",
      "Epoch 81/200\n",
      "62/62 [==============================] - 116s 2s/step - loss: 0.4375 - recall_2: 0.8166 - val_loss: 0.7241 - val_recall_2: 0.7559\n",
      "Epoch 82/200\n",
      "62/62 [==============================] - 112s 2s/step - loss: 0.4319 - recall_2: 0.8216 - val_loss: 0.8240 - val_recall_2: 0.7441\n",
      "Epoch 83/200\n",
      "62/62 [==============================] - 116s 2s/step - loss: 0.4407 - recall_2: 0.8277 - val_loss: 0.6593 - val_recall_2: 0.7678\n",
      "Epoch 84/200\n",
      "62/62 [==============================] - 112s 2s/step - loss: 0.4210 - recall_2: 0.8308 - val_loss: 0.6824 - val_recall_2: 0.7749\n"
     ]
    },
    {
     "name": "stdout",
     "output_type": "stream",
     "text": [
      "Epoch 85/200\n",
      "62/62 [==============================] - 116s 2s/step - loss: 0.4358 - recall_2: 0.8201 - val_loss: 0.7450 - val_recall_2: 0.7536\n",
      "Epoch 86/200\n",
      "62/62 [==============================] - 112s 2s/step - loss: 0.3939 - recall_2: 0.8364 - val_loss: 0.7020 - val_recall_2: 0.7678\n",
      "Epoch 87/200\n",
      "62/62 [==============================] - 116s 2s/step - loss: 0.3767 - recall_2: 0.8450 - val_loss: 0.7186 - val_recall_2: 0.7370\n",
      "Epoch 88/200\n",
      "62/62 [==============================] - 112s 2s/step - loss: 0.3957 - recall_2: 0.8450 - val_loss: 0.7478 - val_recall_2: 0.7701\n",
      "Epoch 89/200\n",
      "62/62 [==============================] - 116s 2s/step - loss: 0.4073 - recall_2: 0.8283 - val_loss: 0.7878 - val_recall_2: 0.7607\n",
      "Epoch 90/200\n",
      "62/62 [==============================] - 112s 2s/step - loss: 0.3913 - recall_2: 0.8354 - val_loss: 0.7388 - val_recall_2: 0.7796\n",
      "Epoch 91/200\n",
      "62/62 [==============================] - 116s 2s/step - loss: 0.3742 - recall_2: 0.8440 - val_loss: 0.7250 - val_recall_2: 0.7749\n",
      "Epoch 92/200\n",
      "62/62 [==============================] - 113s 2s/step - loss: 0.3873 - recall_2: 0.8364 - val_loss: 0.6989 - val_recall_2: 0.7441\n",
      "Epoch 93/200\n",
      "62/62 [==============================] - 116s 2s/step - loss: 0.3804 - recall_2: 0.8415 - val_loss: 0.8516 - val_recall_2: 0.7607\n",
      "Epoch 00093: early stopping\n"
     ]
    }
   ],
   "source": [
    "epochs=200\n",
    "history = model.fit(\n",
    "  train_generator,\n",
    "  validation_data=validation_generator,\n",
    "  epochs=epochs,\n",
    "    callbacks=[callbacks])"
   ]
  },
  {
   "cell_type": "code",
   "execution_count": 35,
   "metadata": {},
   "outputs": [],
   "source": [
    "mkdir graphs"
   ]
  },
  {
   "cell_type": "code",
   "execution_count": 37,
   "metadata": {},
   "outputs": [
    {
     "data": {
      "image/png": "[encoded data removed]",
      "text/plain": [
       "<Figure size 576x576 with 2 Axes>"
      ]
     },
     "metadata": {
      "needs_background": "light"
     },
     "output_type": "display_data"
    }
   ],
   "source": [
    "acc = history.history['recall_2']\n",
    "val_acc = history.history['val_recall_2']\n",
    "\n",
    "loss = history.history['loss']\n",
    "val_loss = history.history['val_loss']\n",
    "\n",
    "epochs_range = range(len(acc))\n",
    "\n",
    "plt.figure(figsize=(8, 8))\n",
    "plt.subplot(1, 2, 1)\n",
    "plt.plot(epochs_range, acc, label='Training Recall')\n",
    "plt.plot(epochs_range, val_acc, label='Validation Recall')\n",
    "plt.legend(loc='lower right')\n",
    "plt.title('Training and Validation Recall')\n",
    "\n",
    "\n",
    "plt.subplot(1, 2, 2)\n",
    "plt.plot(epochs_range, loss, label='Training Loss')\n",
    "plt.plot(epochs_range, val_loss, label='Validation Loss')\n",
    "plt.legend(loc='upper right')\n",
    "plt.title('Training and Validation Loss')\n",
    "plt.savefig('graphs/simplemodel128.png', bbox_inches='tight')\n",
    "plt.show()"
   ]
  },
  {
   "cell_type": "code",
   "execution_count": 38,
   "metadata": {},
   "outputs": [
    {
     "name": "stdout",
     "output_type": "stream",
     "text": [
      "Found 424 images belonging to 3 classes.\n"
     ]
    }
   ],
   "source": [
    "test_generator = test_datagen.flow_from_directory(\n",
    "        'plants/test',\n",
    "        target_size=(300, 200),\n",
    "        batch_size=16,\n",
    "        shuffle=False,\n",
    "        class_mode='categorical')"
   ]
  },
  {
   "cell_type": "code",
   "execution_count": 39,
   "metadata": {},
   "outputs": [],
   "source": [
    "ben_plants = os.listdir('plants/test/Benign_Plants')\n",
    "ivy=os.listdir('plants/test/Poison_Ivy/')\n",
    "oak=os.listdir('plants/test/Poison_Oak')"
   ]
  },
  {
   "cell_type": "code",
   "execution_count": 40,
   "metadata": {},
   "outputs": [],
   "source": [
    "y_true=pd.DataFrame()\n",
    "for i in range(len(ben_plants)):\n",
    "    num=pd.Series([1,0,0])\n",
    "    y_true= y_true.append(num, ignore_index=True)\n",
    "for j in range(len(ivy)):\n",
    "    num=pd.Series([0,1,0])\n",
    "    y_true= y_true.append(num, ignore_index=True)\n",
    "for k in range(len(oak)):\n",
    "    num=pd.Series([0,0,1])\n",
    "    y_true= y_true.append(num, ignore_index=True)"
   ]
  },
  {
   "cell_type": "code",
   "execution_count": 41,
   "metadata": {},
   "outputs": [
    {
     "name": "stdout",
     "output_type": "stream",
     "text": [
      "27/27 [==============================] - 6s 224ms/step\n"
     ]
    }
   ],
   "source": [
    "y_hat=(model.predict(test_generator, verbose=1))"
   ]
  },
  {
   "cell_type": "code",
   "execution_count": 42,
   "metadata": {},
   "outputs": [],
   "source": [
    "y_pred=np.argmax(y_hat, axis=1)\n",
    "y_s=np.argmax(np.array(y_true), axis=1)"
   ]
  },
  {
   "cell_type": "code",
   "execution_count": 43,
   "metadata": {},
   "outputs": [],
   "source": [
    "c_mat=confusion_matrix(y_s, y_pred)"
   ]
  },
  {
   "cell_type": "code",
   "execution_count": 46,
   "metadata": {},
   "outputs": [
    {
     "data": {
      "text/plain": [
       "<matplotlib.axes._subplots.AxesSubplot at 0x7fbff9983760>"
      ]
     },
     "execution_count": 46,
     "metadata": {},
     "output_type": "execute_result"
    },
    {
     "data": {
      "image/png": "[encoded data removed]",
      "text/plain": [
       "<Figure size 432x288 with 2 Axes>"
      ]
     },
     "metadata": {
      "needs_background": "light"
     },
     "output_type": "display_data"
    }
   ],
   "source": [
    "sns.heatmap(c_mat, annot=True)"
   ]
  },
  {
   "cell_type": "code",
   "execution_count": 47,
   "metadata": {},
   "outputs": [],
   "source": [
    "percent=(c_mat/(np.sum(c_mat, axis=1).reshape(3,-1))).reshape(3,3)"
   ]
  },
  {
   "cell_type": "code",
   "execution_count": 48,
   "metadata": {},
   "outputs": [
    {
     "data": {
      "text/plain": [
       "array([[0.93311037, 0.03344482, 0.03344482],\n",
       "       [0.53846154, 0.36923077, 0.09230769],\n",
       "       [0.25      , 0.13333333, 0.61666667]])"
      ]
     },
     "execution_count": 48,
     "metadata": {},
     "output_type": "execute_result"
    }
   ],
   "source": [
    "c_mat/(np.sum(c_mat, axis=1).reshape(3,-1))"
   ]
  },
  {
   "cell_type": "code",
   "execution_count": 55,
   "metadata": {},
   "outputs": [
    {
     "data": {
      "image/png": "[encoded data removed]",
      "text/plain": [
       "<Figure size 432x288 with 2 Axes>"
      ]
     },
     "metadata": {
      "needs_background": "light"
     },
     "output_type": "display_data"
    }
   ],
   "source": [
    "predicted_cat=['Predicted Benign', 'Predicted Poison Ivy', 'Predicted Poison Oak']\n",
    "real_cat=['Actual Benign', 'Actual Poison Ivy', 'Truly Poison Oak']\n",
    "sns.heatmap(percent, annot=percent, cmap='YlGn', \n",
    "            xticklabels=predicted_cat, \n",
    "            yticklabels=real_cat).set_title('Confusion Matrix -Percent Actual Plant Predicted');\n",
    "plt.savefig('graphs/simplemodel128.png', bbox_inches='tight')"
   ]
  },
  {
   "cell_type": "code",
   "execution_count": null,
   "metadata": {},
   "outputs": [],
   "source": []
  }
 ],
 "metadata": {
  "kernelspec": {
   "display_name": "Python 3",
   "language": "python",
   "name": "python3"
  },
  "language_info": {
   "codemirror_mode": {
    "name": "ipython",
    "version": 3
   },
   "file_extension": ".py",
   "mimetype": "text/x-python",
   "name": "python",
   "nbconvert_exporter": "python",
   "pygments_lexer": "ipython3",
   "version": "3.8.3"
  }
 },
 "nbformat": 4,
 "nbformat_minor": 4
}
