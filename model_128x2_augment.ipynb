{
 "cells": [
  {
   "cell_type": "code",
   "execution_count": 1,
   "metadata": {},
   "outputs": [],
   "source": [
    "import os\n",
    "from skimage import io\n",
    "import pandas as pd\n",
    "import numpy as np\n",
    "import scipy.stats as stats\n",
    "import matplotlib.pyplot as plt\n",
    "import shutil\n",
    "import PIL\n",
    "import tensorflow as tf\n",
    "from tensorflow import keras\n",
    "from tensorflow.keras import layers\n",
    "from tensorflow.keras.models import Sequential\n",
    "from sklearn.metrics import plot_confusion_matrix\n",
    "from sklearn.metrics import confusion_matrix\n",
    "import seaborn as sns"
   ]
  },
  {
   "cell_type": "code",
   "execution_count": 2,
   "metadata": {},
   "outputs": [],
   "source": [
    "batch_size = 32\n",
    "img_height = 300\n",
    "img_width = 200"
   ]
  },
  {
   "cell_type": "code",
   "execution_count": 3,
   "metadata": {},
   "outputs": [],
   "source": [
    "num_classes = 3\n",
    "model = Sequential([\n",
    "  layers.experimental.preprocessing.Rescaling(1./255, input_shape=(img_height, img_width, 3)),\n",
    "  layers.Conv2D(64, 7, padding='same', activation='relu'),\n",
    "  layers.MaxPooling2D(),\n",
    "  layers.Conv2D(64, 3, padding='same', activation='relu'),\n",
    "  layers.MaxPooling2D(),\n",
    "  layers.Conv2D(128, 3, padding='same', activation='relu'),\n",
    "  layers.MaxPooling2D(),\n",
    "  layers.Conv2D(128, 3, padding='same', activation='relu'),\n",
    "  layers.MaxPooling2D(),\n",
    "  layers.Flatten(),\n",
    "  layers.Dense(128, activation='relu'),\n",
    "  layers.Dense(num_classes, activation='softmax')\n",
    "])"
   ]
  },
  {
   "cell_type": "code",
   "execution_count": 4,
   "metadata": {},
   "outputs": [],
   "source": [
    "def get_model_name():\n",
    "    import time\n",
    "    run=time.strftime(\"run_%Y_%m_%d-%H_%M_%S\")\n",
    "    return run"
   ]
  },
  {
   "cell_type": "code",
   "execution_count": 5,
   "metadata": {},
   "outputs": [],
   "source": [
    "recall=tf.keras.metrics.Recall(class_id=None)"
   ]
  },
  {
   "cell_type": "code",
   "execution_count": 6,
   "metadata": {},
   "outputs": [],
   "source": [
    "root_logdir=os.path.join(os.curdir, 'my_logs')"
   ]
  },
  {
   "cell_type": "code",
   "execution_count": 7,
   "metadata": {},
   "outputs": [],
   "source": [
    "def get_run_logdir():\n",
    "    import time\n",
    "    run_id=time.strftime(\"run_%Y_%m_%d-%H_%M_%S\")\n",
    "    return os.path.join(root_logdir, run_id)"
   ]
  },
  {
   "cell_type": "code",
   "execution_count": 8,
   "metadata": {},
   "outputs": [],
   "source": [
    "run_logdir=get_run_logdir()\n",
    "model_name=get_model_name()"
   ]
  },
  {
   "cell_type": "code",
   "execution_count": 9,
   "metadata": {},
   "outputs": [],
   "source": [
    "callbacks = [\n",
    "    keras.callbacks.EarlyStopping(\n",
    "        # Stop training when `val_loss` is no longer improving\n",
    "        monitor=\"val_loss\",\n",
    "        # \"no longer improving\" being defined as \"no better than 1e-5 less\"\n",
    "        min_delta=1e-5,\n",
    "        # \"no longer improving\" being further defined as \"for at least 30 epochs\"\n",
    "        patience=30,\n",
    "        verbose=1,), \n",
    "    keras.callbacks.TensorBoard(run_logdir,\n",
    "                              histogram_freq=2,\n",
    "                              write_graph=True,\n",
    "                              write_images=True),\n",
    "    keras.callbacks.ModelCheckpoint(filepath='models/'+model_name ,save_best_only=True)]"
   ]
  },
  {
   "cell_type": "code",
   "execution_count": 10,
   "metadata": {},
   "outputs": [],
   "source": [
    "train_datagen=tf.keras.preprocessing.image.ImageDataGenerator(\n",
    "    zca_whitening=False, zca_epsilon=1e-06, rotation_range=30, width_shift_range=0.3,\n",
    "    height_shift_range=0.3, fill_mode='nearest', cval=0.0,\n",
    "    horizontal_flip=True, vertical_flip=False)\n",
    "test_datagen=tf.keras.preprocessing.image.ImageDataGenerator()"
   ]
  },
  {
   "cell_type": "code",
   "execution_count": 11,
   "metadata": {},
   "outputs": [
    {
     "name": "stdout",
     "output_type": "stream",
     "text": [
      "Found 1968 images belonging to 3 classes.\n",
      "Found 422 images belonging to 3 classes.\n"
     ]
    }
   ],
   "source": [
    "train_generator = train_datagen.flow_from_directory(\n",
    "        'plants/train',\n",
    "        target_size=(300, 200),\n",
    "        batch_size=32,\n",
    "        class_mode='categorical')\n",
    "validation_generator = test_datagen.flow_from_directory(\n",
    "        'plants/val',\n",
    "        target_size=(300, 200),\n",
    "        batch_size=32,\n",
    "        class_mode='categorical')"
   ]
  },
  {
   "cell_type": "code",
   "execution_count": 12,
   "metadata": {},
   "outputs": [],
   "source": [
    "model.compile(optimizer='adam',\n",
    "              loss=tf.keras.losses.CategoricalCrossentropy(),\n",
    "              metrics=[recall])"
   ]
  },
  {
   "cell_type": "code",
   "execution_count": 13,
   "metadata": {},
   "outputs": [
    {
     "name": "stdout",
     "output_type": "stream",
     "text": [
      "Epoch 1/300\n",
      " 1/62 [..............................] - ETA: 0s - loss: 1.1104 - recall: 0.0000e+00WARNING:tensorflow:From /Users/johnwilliams/opt/anaconda3/lib/python3.8/site-packages/tensorflow/python/ops/summary_ops_v2.py:1277: stop (from tensorflow.python.eager.profiler) is deprecated and will be removed after 2020-07-01.\n",
      "Instructions for updating:\n",
      "use `tf.profiler.experimental.stop` instead.\n",
      "62/62 [==============================] - ETA: 0s - loss: 0.8624 - recall: 0.6453WARNING:tensorflow:From /Users/johnwilliams/opt/anaconda3/lib/python3.8/site-packages/tensorflow/python/training/tracking/tracking.py:111: Model.state_updates (from tensorflow.python.keras.engine.training) is deprecated and will be removed in a future version.\n",
      "Instructions for updating:\n",
      "This property should not be used in TensorFlow 2.0, as updates are applied automatically.\n",
      "WARNING:tensorflow:From /Users/johnwilliams/opt/anaconda3/lib/python3.8/site-packages/tensorflow/python/training/tracking/tracking.py:111: Layer.updates (from tensorflow.python.keras.engine.base_layer) is deprecated and will be removed in a future version.\n",
      "Instructions for updating:\n",
      "This property should not be used in TensorFlow 2.0, as updates are applied automatically.\n",
      "INFO:tensorflow:Assets written to: models/run_2021_01_10-07_01_51/assets\n",
      "62/62 [==============================] - 169s 3s/step - loss: 0.8624 - recall: 0.6453 - val_loss: 0.7976 - val_recall: 0.7085\n",
      "Epoch 2/300\n",
      "62/62 [==============================] - 166s 3s/step - loss: 0.7925 - recall: 0.6819 - val_loss: 0.8091 - val_recall: 0.6991\n",
      "Epoch 3/300\n",
      "62/62 [==============================] - ETA: 0s - loss: 0.7833 - recall: 0.6682INFO:tensorflow:Assets written to: models/run_2021_01_10-07_01_51/assets\n",
      "62/62 [==============================] - 168s 3s/step - loss: 0.7833 - recall: 0.6682 - val_loss: 0.7751 - val_recall: 0.6872\n",
      "Epoch 4/300\n",
      "62/62 [==============================] - 166s 3s/step - loss: 0.7838 - recall: 0.6606 - val_loss: 0.7822 - val_recall: 0.6825\n",
      "Epoch 5/300\n",
      "62/62 [==============================] - ETA: 0s - loss: 0.7668 - recall: 0.6682INFO:tensorflow:Assets written to: models/run_2021_01_10-07_01_51/assets\n",
      "62/62 [==============================] - 167s 3s/step - loss: 0.7668 - recall: 0.6682 - val_loss: 0.7536 - val_recall: 0.6730\n",
      "Epoch 6/300\n",
      "62/62 [==============================] - 166s 3s/step - loss: 0.7735 - recall: 0.6540 - val_loss: 0.7599 - val_recall: 0.6682\n",
      "Epoch 7/300\n",
      "62/62 [==============================] - 166s 3s/step - loss: 0.7646 - recall: 0.6641 - val_loss: 0.7657 - val_recall: 0.6896\n",
      "Epoch 8/300\n",
      "62/62 [==============================] - 165s 3s/step - loss: 0.7691 - recall: 0.6585 - val_loss: 0.7612 - val_recall: 0.6872\n",
      "Epoch 9/300\n",
      "62/62 [==============================] - ETA: 0s - loss: 0.7557 - recall: 0.6565INFO:tensorflow:Assets written to: models/run_2021_01_10-07_01_51/assets\n",
      "62/62 [==============================] - 166s 3s/step - loss: 0.7557 - recall: 0.6565 - val_loss: 0.7505 - val_recall: 0.6517\n",
      "Epoch 10/300\n",
      "62/62 [==============================] - 164s 3s/step - loss: 0.7673 - recall: 0.6646 - val_loss: 0.7945 - val_recall: 0.6611\n",
      "Epoch 11/300\n",
      "62/62 [==============================] - ETA: 0s - loss: 0.7608 - recall: 0.6702INFO:tensorflow:Assets written to: models/run_2021_01_10-07_01_51/assets\n",
      "62/62 [==============================] - 165s 3s/step - loss: 0.7608 - recall: 0.6702 - val_loss: 0.7486 - val_recall: 0.6303\n",
      "Epoch 12/300\n",
      "62/62 [==============================] - 164s 3s/step - loss: 0.7491 - recall: 0.6540 - val_loss: 0.7498 - val_recall: 0.6422\n",
      "Epoch 13/300\n",
      "62/62 [==============================] - 165s 3s/step - loss: 0.7476 - recall: 0.6535 - val_loss: 0.7556 - val_recall: 0.6066\n",
      "Epoch 14/300\n",
      "62/62 [==============================] - ETA: 0s - loss: 0.7499 - recall: 0.6545INFO:tensorflow:Assets written to: models/run_2021_01_10-07_01_51/assets\n",
      "62/62 [==============================] - 165s 3s/step - loss: 0.7499 - recall: 0.6545 - val_loss: 0.7480 - val_recall: 0.6232\n",
      "Epoch 15/300\n",
      "62/62 [==============================] - ETA: 0s - loss: 0.7532 - recall: 0.6484INFO:tensorflow:Assets written to: models/run_2021_01_10-07_01_51/assets\n",
      "62/62 [==============================] - 165s 3s/step - loss: 0.7532 - recall: 0.6484 - val_loss: 0.7407 - val_recall: 0.6517\n",
      "Epoch 16/300\n",
      "62/62 [==============================] - 164s 3s/step - loss: 0.7497 - recall: 0.6657 - val_loss: 0.7465 - val_recall: 0.6777\n",
      "Epoch 17/300\n",
      "62/62 [==============================] - 167s 3s/step - loss: 0.7382 - recall: 0.6611 - val_loss: 0.7490 - val_recall: 0.6848\n",
      "Epoch 18/300\n",
      "62/62 [==============================] - 166s 3s/step - loss: 0.7414 - recall: 0.6733 - val_loss: 0.7883 - val_recall: 0.5829\n",
      "Epoch 19/300\n",
      "62/62 [==============================] - 167s 3s/step - loss: 0.7391 - recall: 0.6565 - val_loss: 0.7503 - val_recall: 0.6469\n",
      "Epoch 20/300\n",
      "62/62 [==============================] - 166s 3s/step - loss: 0.7376 - recall: 0.6489 - val_loss: 0.7484 - val_recall: 0.6730\n",
      "Epoch 21/300\n",
      "62/62 [==============================] - ETA: 0s - loss: 0.7396 - recall: 0.6519INFO:tensorflow:Assets written to: models/run_2021_01_10-07_01_51/assets\n",
      "62/62 [==============================] - 167s 3s/step - loss: 0.7396 - recall: 0.6519 - val_loss: 0.7297 - val_recall: 0.6232\n",
      "Epoch 22/300\n",
      "62/62 [==============================] - 165s 3s/step - loss: 0.7408 - recall: 0.6509 - val_loss: 0.7303 - val_recall: 0.6445\n",
      "Epoch 23/300\n",
      "62/62 [==============================] - ETA: 0s - loss: 0.7272 - recall: 0.6509INFO:tensorflow:Assets written to: models/run_2021_01_10-07_01_51/assets\n",
      "62/62 [==============================] - 167s 3s/step - loss: 0.7272 - recall: 0.6509 - val_loss: 0.7192 - val_recall: 0.6706\n",
      "Epoch 24/300\n",
      "62/62 [==============================] - 165s 3s/step - loss: 0.7305 - recall: 0.6611 - val_loss: 0.7354 - val_recall: 0.6611\n",
      "Epoch 25/300\n",
      "62/62 [==============================] - 165s 3s/step - loss: 0.7310 - recall: 0.6662 - val_loss: 0.7245 - val_recall: 0.6445\n",
      "Epoch 26/300\n",
      "62/62 [==============================] - ETA: 0s - loss: 0.7339 - recall: 0.6468INFO:tensorflow:Assets written to: models/run_2021_01_10-07_01_51/assets\n",
      "62/62 [==============================] - 165s 3s/step - loss: 0.7339 - recall: 0.6468 - val_loss: 0.7179 - val_recall: 0.6754\n",
      "Epoch 27/300\n",
      "62/62 [==============================] - 165s 3s/step - loss: 0.7336 - recall: 0.6555 - val_loss: 0.7392 - val_recall: 0.6161\n",
      "Epoch 28/300\n",
      "62/62 [==============================] - 164s 3s/step - loss: 0.7221 - recall: 0.6529 - val_loss: 0.7285 - val_recall: 0.6422\n",
      "Epoch 29/300\n",
      "62/62 [==============================] - 165s 3s/step - loss: 0.7302 - recall: 0.6596 - val_loss: 0.7228 - val_recall: 0.6517\n",
      "Epoch 30/300\n",
      "62/62 [==============================] - ETA: 0s - loss: 0.7217 - recall: 0.6621INFO:tensorflow:Assets written to: models/run_2021_01_10-07_01_51/assets\n",
      "62/62 [==============================] - 166s 3s/step - loss: 0.7217 - recall: 0.6621 - val_loss: 0.7026 - val_recall: 0.6611\n",
      "Epoch 31/300\n",
      "62/62 [==============================] - 168s 3s/step - loss: 0.7241 - recall: 0.6697 - val_loss: 0.7054 - val_recall: 0.6825\n",
      "Epoch 32/300\n",
      "62/62 [==============================] - 171s 3s/step - loss: 0.7207 - recall: 0.6738 - val_loss: 0.7310 - val_recall: 0.6635\n",
      "Epoch 33/300\n",
      "62/62 [==============================] - ETA: 0s - loss: 0.7078 - recall: 0.6621INFO:tensorflow:Assets written to: models/run_2021_01_10-07_01_51/assets\n",
      "62/62 [==============================] - 189s 3s/step - loss: 0.7078 - recall: 0.6621 - val_loss: 0.6973 - val_recall: 0.6588\n",
      "Epoch 34/300\n",
      "62/62 [==============================] - 174s 3s/step - loss: 0.7051 - recall: 0.6687 - val_loss: 0.7157 - val_recall: 0.6280\n",
      "Epoch 35/300\n",
      "62/62 [==============================] - ETA: 0s - loss: 0.6958 - recall: 0.6590INFO:tensorflow:Assets written to: models/run_2021_01_10-07_01_51/assets\n",
      "62/62 [==============================] - 177s 3s/step - loss: 0.6958 - recall: 0.6590 - val_loss: 0.6895 - val_recall: 0.6848\n",
      "Epoch 36/300\n",
      "62/62 [==============================] - 169s 3s/step - loss: 0.7097 - recall: 0.6631 - val_loss: 0.7086 - val_recall: 0.6682\n",
      "Epoch 37/300\n"
     ]
    },
    {
     "name": "stdout",
     "output_type": "stream",
     "text": [
      "62/62 [==============================] - 174s 3s/step - loss: 0.7056 - recall: 0.6768 - val_loss: 0.7068 - val_recall: 0.6043\n",
      "Epoch 38/300\n",
      "62/62 [==============================] - 170s 3s/step - loss: 0.6974 - recall: 0.6560 - val_loss: 0.6943 - val_recall: 0.6374\n",
      "Epoch 39/300\n",
      "62/62 [==============================] - 179s 3s/step - loss: 0.6886 - recall: 0.6682 - val_loss: 0.7121 - val_recall: 0.6730\n",
      "Epoch 40/300\n",
      "62/62 [==============================] - ETA: 0s - loss: 0.7086 - recall: 0.6601INFO:tensorflow:Assets written to: models/run_2021_01_10-07_01_51/assets\n",
      "62/62 [==============================] - 173s 3s/step - loss: 0.7086 - recall: 0.6601 - val_loss: 0.6773 - val_recall: 0.6540\n",
      "Epoch 41/300\n",
      "62/62 [==============================] - 169s 3s/step - loss: 0.6955 - recall: 0.6682 - val_loss: 0.6981 - val_recall: 0.6635\n",
      "Epoch 42/300\n",
      "62/62 [==============================] - 173s 3s/step - loss: 0.6851 - recall: 0.6789 - val_loss: 0.6966 - val_recall: 0.6991\n",
      "Epoch 43/300\n",
      "62/62 [==============================] - 173s 3s/step - loss: 0.6812 - recall: 0.6707 - val_loss: 0.6833 - val_recall: 0.6445\n",
      "Epoch 44/300\n",
      "62/62 [==============================] - 169s 3s/step - loss: 0.6985 - recall: 0.6692 - val_loss: 0.6865 - val_recall: 0.6919\n",
      "Epoch 45/300\n",
      "62/62 [==============================] - 171s 3s/step - loss: 0.6767 - recall: 0.6784 - val_loss: 0.6816 - val_recall: 0.6232\n",
      "Epoch 46/300\n",
      "62/62 [==============================] - 171s 3s/step - loss: 0.6882 - recall: 0.6748 - val_loss: 0.7202 - val_recall: 0.5972\n",
      "Epoch 47/300\n",
      "62/62 [==============================] - 173s 3s/step - loss: 0.6791 - recall: 0.6773 - val_loss: 0.6857 - val_recall: 0.7109\n",
      "Epoch 48/300\n",
      "62/62 [==============================] - 173s 3s/step - loss: 0.6887 - recall: 0.6641 - val_loss: 0.6797 - val_recall: 0.6209\n",
      "Epoch 49/300\n",
      "62/62 [==============================] - 173s 3s/step - loss: 0.6859 - recall: 0.6601 - val_loss: 0.6832 - val_recall: 0.5948\n",
      "Epoch 50/300\n",
      "62/62 [==============================] - ETA: 0s - loss: 0.6678 - recall: 0.6682INFO:tensorflow:Assets written to: models/run_2021_01_10-07_01_51/assets\n",
      "62/62 [==============================] - 171s 3s/step - loss: 0.6678 - recall: 0.6682 - val_loss: 0.6749 - val_recall: 0.7085\n",
      "Epoch 51/300\n",
      "62/62 [==============================] - 170s 3s/step - loss: 0.6629 - recall: 0.6773 - val_loss: 0.7049 - val_recall: 0.5972\n",
      "Epoch 52/300\n",
      "62/62 [==============================] - ETA: 0s - loss: 0.6694 - recall: 0.6743INFO:tensorflow:Assets written to: models/run_2021_01_10-07_01_51/assets\n",
      "62/62 [==============================] - 175s 3s/step - loss: 0.6694 - recall: 0.6743 - val_loss: 0.6747 - val_recall: 0.6564\n",
      "Epoch 53/300\n",
      "62/62 [==============================] - 177s 3s/step - loss: 0.6691 - recall: 0.6687 - val_loss: 0.6946 - val_recall: 0.6374\n",
      "Epoch 54/300\n",
      "62/62 [==============================] - 167s 3s/step - loss: 0.6526 - recall: 0.6845 - val_loss: 0.7040 - val_recall: 0.7133\n",
      "Epoch 55/300\n",
      "62/62 [==============================] - 174s 3s/step - loss: 0.6709 - recall: 0.6773 - val_loss: 0.6981 - val_recall: 0.6327\n",
      "Epoch 56/300\n",
      "62/62 [==============================] - ETA: 0s - loss: 0.6358 - recall: 0.6870INFO:tensorflow:Assets written to: models/run_2021_01_10-07_01_51/assets\n",
      "62/62 [==============================] - 166s 3s/step - loss: 0.6358 - recall: 0.6870 - val_loss: 0.6566 - val_recall: 0.6754\n",
      "Epoch 57/300\n",
      "62/62 [==============================] - 166s 3s/step - loss: 0.6453 - recall: 0.6834 - val_loss: 0.6903 - val_recall: 0.5877\n",
      "Epoch 58/300\n",
      "62/62 [==============================] - 165s 3s/step - loss: 0.6471 - recall: 0.6860 - val_loss: 0.6586 - val_recall: 0.7085\n",
      "Epoch 59/300\n",
      "62/62 [==============================] - 166s 3s/step - loss: 0.6380 - recall: 0.6931 - val_loss: 0.6999 - val_recall: 0.6445\n",
      "Epoch 60/300\n",
      "62/62 [==============================] - ETA: 0s - loss: 0.6371 - recall: 0.6839INFO:tensorflow:Assets written to: models/run_2021_01_10-07_01_51/assets\n",
      "62/62 [==============================] - 166s 3s/step - loss: 0.6371 - recall: 0.6839 - val_loss: 0.6328 - val_recall: 0.7014\n",
      "Epoch 61/300\n",
      "62/62 [==============================] - 165s 3s/step - loss: 0.6287 - recall: 0.6966 - val_loss: 0.6606 - val_recall: 0.6445\n",
      "Epoch 62/300\n",
      "62/62 [==============================] - 165s 3s/step - loss: 0.6433 - recall: 0.6814 - val_loss: 0.6760 - val_recall: 0.6754\n",
      "Epoch 63/300\n",
      "62/62 [==============================] - 165s 3s/step - loss: 0.6532 - recall: 0.6941 - val_loss: 0.7678 - val_recall: 0.5474\n",
      "Epoch 64/300\n",
      "62/62 [==============================] - 164s 3s/step - loss: 0.6316 - recall: 0.6916 - val_loss: 0.6343 - val_recall: 0.6682\n",
      "Epoch 65/300\n",
      "62/62 [==============================] - 164s 3s/step - loss: 0.6248 - recall: 0.6946 - val_loss: 0.6649 - val_recall: 0.6848\n",
      "Epoch 66/300\n",
      "62/62 [==============================] - 163s 3s/step - loss: 0.6268 - recall: 0.6966 - val_loss: 0.6680 - val_recall: 0.6872\n",
      "Epoch 67/300\n",
      "62/62 [==============================] - 164s 3s/step - loss: 0.6326 - recall: 0.6951 - val_loss: 0.6409 - val_recall: 0.6777\n",
      "Epoch 68/300\n",
      "62/62 [==============================] - 163s 3s/step - loss: 0.6160 - recall: 0.7043 - val_loss: 0.6676 - val_recall: 0.6374\n",
      "Epoch 69/300\n",
      "62/62 [==============================] - 164s 3s/step - loss: 0.6013 - recall: 0.7012 - val_loss: 0.6855 - val_recall: 0.6043\n",
      "Epoch 70/300\n",
      "62/62 [==============================] - 164s 3s/step - loss: 0.6247 - recall: 0.7104 - val_loss: 0.6408 - val_recall: 0.6445\n",
      "Epoch 71/300\n",
      "62/62 [==============================] - 164s 3s/step - loss: 0.6062 - recall: 0.7078 - val_loss: 0.6603 - val_recall: 0.6469\n",
      "Epoch 72/300\n",
      "62/62 [==============================] - ETA: 0s - loss: 0.6254 - recall: 0.6956INFO:tensorflow:Assets written to: models/run_2021_01_10-07_01_51/assets\n",
      "62/62 [==============================] - 165s 3s/step - loss: 0.6254 - recall: 0.6956 - val_loss: 0.6125 - val_recall: 0.7156\n",
      "Epoch 73/300\n",
      "62/62 [==============================] - 164s 3s/step - loss: 0.6156 - recall: 0.7068 - val_loss: 0.7294 - val_recall: 0.5569\n",
      "Epoch 74/300\n",
      "62/62 [==============================] - 163s 3s/step - loss: 0.6008 - recall: 0.7063 - val_loss: 0.6668 - val_recall: 0.6256\n",
      "Epoch 75/300\n",
      "62/62 [==============================] - ETA: 0s - loss: 0.6226 - recall: 0.6946INFO:tensorflow:Assets written to: models/run_2021_01_10-07_01_51/assets\n",
      "62/62 [==============================] - 165s 3s/step - loss: 0.6226 - recall: 0.6946 - val_loss: 0.5923 - val_recall: 0.7322\n",
      "Epoch 76/300\n",
      "62/62 [==============================] - 163s 3s/step - loss: 0.5989 - recall: 0.7139 - val_loss: 0.6224 - val_recall: 0.7109\n",
      "Epoch 77/300\n",
      "62/62 [==============================] - 164s 3s/step - loss: 0.5961 - recall: 0.7226 - val_loss: 0.6492 - val_recall: 0.6659\n",
      "Epoch 78/300\n",
      "62/62 [==============================] - 164s 3s/step - loss: 0.5903 - recall: 0.7119 - val_loss: 0.6149 - val_recall: 0.7062\n",
      "Epoch 79/300\n",
      "62/62 [==============================] - 164s 3s/step - loss: 0.5942 - recall: 0.7139 - val_loss: 0.6482 - val_recall: 0.6611\n",
      "Epoch 80/300\n",
      "62/62 [==============================] - 164s 3s/step - loss: 0.5795 - recall: 0.7175 - val_loss: 0.6527 - val_recall: 0.6635\n",
      "Epoch 81/300\n",
      "62/62 [==============================] - 164s 3s/step - loss: 0.5867 - recall: 0.7160 - val_loss: 0.6368 - val_recall: 0.7275\n",
      "Epoch 82/300\n",
      "62/62 [==============================] - 164s 3s/step - loss: 0.5896 - recall: 0.7190 - val_loss: 0.6302 - val_recall: 0.7251\n",
      "Epoch 83/300\n",
      "62/62 [==============================] - 164s 3s/step - loss: 0.5753 - recall: 0.7160 - val_loss: 0.6150 - val_recall: 0.7441\n",
      "Epoch 84/300\n",
      "62/62 [==============================] - 164s 3s/step - loss: 0.5701 - recall: 0.7353 - val_loss: 0.6184 - val_recall: 0.7370\n",
      "Epoch 85/300\n",
      "62/62 [==============================] - 165s 3s/step - loss: 0.5968 - recall: 0.7221 - val_loss: 0.6026 - val_recall: 0.7488\n",
      "Epoch 86/300\n",
      "62/62 [==============================] - 165s 3s/step - loss: 0.5633 - recall: 0.7378 - val_loss: 0.6352 - val_recall: 0.6730\n",
      "Epoch 87/300\n",
      "62/62 [==============================] - ETA: 0s - loss: 0.5812 - recall: 0.7221INFO:tensorflow:Assets written to: models/run_2021_01_10-07_01_51/assets\n",
      "62/62 [==============================] - 166s 3s/step - loss: 0.5812 - recall: 0.7221 - val_loss: 0.5874 - val_recall: 0.7251\n"
     ]
    },
    {
     "name": "stdout",
     "output_type": "stream",
     "text": [
      "Epoch 88/300\n",
      "62/62 [==============================] - ETA: 0s - loss: 0.5881 - recall: 0.7231INFO:tensorflow:Assets written to: models/run_2021_01_10-07_01_51/assets\n",
      "62/62 [==============================] - 165s 3s/step - loss: 0.5881 - recall: 0.7231 - val_loss: 0.5849 - val_recall: 0.7133\n",
      "Epoch 89/300\n",
      "62/62 [==============================] - 164s 3s/step - loss: 0.5714 - recall: 0.7287 - val_loss: 0.6006 - val_recall: 0.7346\n",
      "Epoch 90/300\n",
      "62/62 [==============================] - 164s 3s/step - loss: 0.5753 - recall: 0.7368 - val_loss: 0.6128 - val_recall: 0.6896\n",
      "Epoch 91/300\n",
      "62/62 [==============================] - 164s 3s/step - loss: 0.5581 - recall: 0.7292 - val_loss: 0.6196 - val_recall: 0.6919\n",
      "Epoch 92/300\n",
      "62/62 [==============================] - ETA: 0s - loss: 0.5387 - recall: 0.7398INFO:tensorflow:Assets written to: models/run_2021_01_10-07_01_51/assets\n",
      "62/62 [==============================] - 165s 3s/step - loss: 0.5387 - recall: 0.7398 - val_loss: 0.5810 - val_recall: 0.7536\n",
      "Epoch 93/300\n",
      "62/62 [==============================] - 164s 3s/step - loss: 0.5744 - recall: 0.7429 - val_loss: 0.5840 - val_recall: 0.7180\n",
      "Epoch 94/300\n",
      "62/62 [==============================] - 164s 3s/step - loss: 0.5354 - recall: 0.7353 - val_loss: 0.5929 - val_recall: 0.7109\n",
      "Epoch 95/300\n",
      "62/62 [==============================] - ETA: 0s - loss: 0.5558 - recall: 0.7368INFO:tensorflow:Assets written to: models/run_2021_01_10-07_01_51/assets\n",
      "62/62 [==============================] - 166s 3s/step - loss: 0.5558 - recall: 0.7368 - val_loss: 0.5781 - val_recall: 0.7085\n",
      "Epoch 96/300\n",
      "62/62 [==============================] - 164s 3s/step - loss: 0.5451 - recall: 0.7444 - val_loss: 0.6258 - val_recall: 0.6754\n",
      "Epoch 97/300\n",
      "62/62 [==============================] - 164s 3s/step - loss: 0.5563 - recall: 0.7312 - val_loss: 0.5916 - val_recall: 0.7038\n",
      "Epoch 98/300\n",
      "62/62 [==============================] - 164s 3s/step - loss: 0.5580 - recall: 0.7368 - val_loss: 0.6130 - val_recall: 0.7180\n",
      "Epoch 99/300\n",
      "62/62 [==============================] - 164s 3s/step - loss: 0.5308 - recall: 0.7515 - val_loss: 0.6507 - val_recall: 0.7085\n",
      "Epoch 100/300\n",
      "62/62 [==============================] - 163s 3s/step - loss: 0.5403 - recall: 0.7434 - val_loss: 0.6021 - val_recall: 0.7227\n",
      "Epoch 101/300\n",
      "62/62 [==============================] - 164s 3s/step - loss: 0.5359 - recall: 0.7520 - val_loss: 0.5894 - val_recall: 0.7299\n",
      "Epoch 102/300\n",
      "62/62 [==============================] - 164s 3s/step - loss: 0.5379 - recall: 0.7383 - val_loss: 0.6164 - val_recall: 0.7227\n",
      "Epoch 103/300\n",
      "62/62 [==============================] - 164s 3s/step - loss: 0.5458 - recall: 0.7398 - val_loss: 0.5924 - val_recall: 0.7251\n",
      "Epoch 104/300\n",
      "62/62 [==============================] - 163s 3s/step - loss: 0.5137 - recall: 0.7739 - val_loss: 0.5971 - val_recall: 0.7062\n",
      "Epoch 105/300\n",
      "62/62 [==============================] - 164s 3s/step - loss: 0.5396 - recall: 0.7475 - val_loss: 0.5870 - val_recall: 0.7370\n",
      "Epoch 106/300\n",
      "62/62 [==============================] - 164s 3s/step - loss: 0.5028 - recall: 0.7698 - val_loss: 0.6110 - val_recall: 0.7417\n",
      "Epoch 107/300\n",
      "62/62 [==============================] - 164s 3s/step - loss: 0.5387 - recall: 0.7510 - val_loss: 0.6054 - val_recall: 0.7109\n",
      "Epoch 108/300\n",
      "62/62 [==============================] - 164s 3s/step - loss: 0.5196 - recall: 0.7576 - val_loss: 0.5923 - val_recall: 0.7393\n",
      "Epoch 109/300\n",
      "62/62 [==============================] - 165s 3s/step - loss: 0.5141 - recall: 0.7607 - val_loss: 0.5810 - val_recall: 0.7725\n",
      "Epoch 110/300\n",
      "62/62 [==============================] - 163s 3s/step - loss: 0.4990 - recall: 0.7718 - val_loss: 0.6148 - val_recall: 0.6848\n",
      "Epoch 111/300\n",
      "62/62 [==============================] - ETA: 0s - loss: 0.4887 - recall: 0.7642INFO:tensorflow:Assets written to: models/run_2021_01_10-07_01_51/assets\n",
      "62/62 [==============================] - 165s 3s/step - loss: 0.4887 - recall: 0.7642 - val_loss: 0.5675 - val_recall: 0.7251\n",
      "Epoch 112/300\n",
      "62/62 [==============================] - ETA: 0s - loss: 0.4949 - recall: 0.7724INFO:tensorflow:Assets written to: models/run_2021_01_10-07_01_51/assets\n",
      "62/62 [==============================] - 165s 3s/step - loss: 0.4949 - recall: 0.7724 - val_loss: 0.5660 - val_recall: 0.7204\n",
      "Epoch 113/300\n",
      "62/62 [==============================] - ETA: 0s - loss: 0.5027 - recall: 0.7739INFO:tensorflow:Assets written to: models/run_2021_01_10-07_01_51/assets\n",
      "62/62 [==============================] - 165s 3s/step - loss: 0.5027 - recall: 0.7739 - val_loss: 0.5413 - val_recall: 0.7417\n",
      "Epoch 114/300\n",
      "62/62 [==============================] - 164s 3s/step - loss: 0.5051 - recall: 0.7683 - val_loss: 0.5767 - val_recall: 0.7488\n",
      "Epoch 115/300\n",
      "62/62 [==============================] - 164s 3s/step - loss: 0.4872 - recall: 0.7683 - val_loss: 0.5932 - val_recall: 0.7251\n",
      "Epoch 116/300\n",
      "62/62 [==============================] - 164s 3s/step - loss: 0.4897 - recall: 0.7617 - val_loss: 0.5908 - val_recall: 0.7299\n",
      "Epoch 117/300\n",
      "62/62 [==============================] - 164s 3s/step - loss: 0.4772 - recall: 0.7790 - val_loss: 0.6362 - val_recall: 0.6611\n",
      "Epoch 118/300\n",
      "62/62 [==============================] - 163s 3s/step - loss: 0.4874 - recall: 0.7851 - val_loss: 0.5850 - val_recall: 0.7133\n",
      "Epoch 119/300\n",
      "62/62 [==============================] - 164s 3s/step - loss: 0.4739 - recall: 0.7790 - val_loss: 0.5825 - val_recall: 0.7227\n",
      "Epoch 120/300\n",
      "62/62 [==============================] - 165s 3s/step - loss: 0.4772 - recall: 0.7779 - val_loss: 0.5954 - val_recall: 0.7251\n",
      "Epoch 121/300\n",
      "62/62 [==============================] - 164s 3s/step - loss: 0.4833 - recall: 0.7759 - val_loss: 0.5722 - val_recall: 0.7393\n",
      "Epoch 122/300\n",
      "62/62 [==============================] - 164s 3s/step - loss: 0.4707 - recall: 0.7856 - val_loss: 0.6191 - val_recall: 0.7133\n",
      "Epoch 123/300\n",
      "62/62 [==============================] - 165s 3s/step - loss: 0.4465 - recall: 0.7952 - val_loss: 0.7093 - val_recall: 0.6564\n",
      "Epoch 124/300\n",
      "62/62 [==============================] - 165s 3s/step - loss: 0.4695 - recall: 0.7912 - val_loss: 0.5802 - val_recall: 0.7417\n",
      "Epoch 125/300\n",
      "62/62 [==============================] - 164s 3s/step - loss: 0.4618 - recall: 0.7912 - val_loss: 0.5649 - val_recall: 0.7512\n",
      "Epoch 126/300\n",
      "62/62 [==============================] - 164s 3s/step - loss: 0.4490 - recall: 0.7891 - val_loss: 0.5551 - val_recall: 0.7346\n",
      "Epoch 127/300\n",
      "62/62 [==============================] - 164s 3s/step - loss: 0.4489 - recall: 0.7937 - val_loss: 0.5631 - val_recall: 0.7583\n",
      "Epoch 128/300\n",
      "62/62 [==============================] - 164s 3s/step - loss: 0.4640 - recall: 0.7937 - val_loss: 0.6757 - val_recall: 0.7725\n",
      "Epoch 129/300\n",
      "62/62 [==============================] - 165s 3s/step - loss: 0.4810 - recall: 0.7917 - val_loss: 0.6374 - val_recall: 0.7370\n",
      "Epoch 130/300\n",
      "62/62 [==============================] - 164s 3s/step - loss: 0.4640 - recall: 0.7907 - val_loss: 0.5854 - val_recall: 0.7464\n",
      "Epoch 131/300\n",
      "62/62 [==============================] - 164s 3s/step - loss: 0.4405 - recall: 0.8084 - val_loss: 0.6766 - val_recall: 0.7464\n",
      "Epoch 132/300\n",
      "62/62 [==============================] - 164s 3s/step - loss: 0.4707 - recall: 0.7917 - val_loss: 0.5971 - val_recall: 0.7583\n",
      "Epoch 133/300\n",
      "62/62 [==============================] - 164s 3s/step - loss: 0.4544 - recall: 0.7912 - val_loss: 0.5960 - val_recall: 0.7417\n",
      "Epoch 134/300\n",
      "62/62 [==============================] - 163s 3s/step - loss: 0.4430 - recall: 0.7932 - val_loss: 0.5853 - val_recall: 0.7654\n",
      "Epoch 135/300\n",
      "62/62 [==============================] - 165s 3s/step - loss: 0.4493 - recall: 0.7962 - val_loss: 0.5702 - val_recall: 0.7607\n",
      "Epoch 136/300\n",
      "62/62 [==============================] - 164s 3s/step - loss: 0.4392 - recall: 0.8049 - val_loss: 0.6776 - val_recall: 0.7559\n",
      "Epoch 137/300\n",
      "62/62 [==============================] - 164s 3s/step - loss: 0.4385 - recall: 0.8130 - val_loss: 0.6526 - val_recall: 0.7156\n",
      "Epoch 138/300\n",
      "62/62 [==============================] - 164s 3s/step - loss: 0.4212 - recall: 0.8130 - val_loss: 0.5864 - val_recall: 0.7559\n",
      "Epoch 139/300\n",
      "62/62 [==============================] - 164s 3s/step - loss: 0.4420 - recall: 0.8140 - val_loss: 0.6032 - val_recall: 0.7014\n",
      "Epoch 140/300\n"
     ]
    },
    {
     "name": "stdout",
     "output_type": "stream",
     "text": [
      "62/62 [==============================] - 164s 3s/step - loss: 0.4105 - recall: 0.8095 - val_loss: 0.6037 - val_recall: 0.7275\n",
      "Epoch 141/300\n",
      "62/62 [==============================] - 165s 3s/step - loss: 0.4382 - recall: 0.8074 - val_loss: 0.5763 - val_recall: 0.7630\n",
      "Epoch 142/300\n",
      "62/62 [==============================] - 163s 3s/step - loss: 0.4165 - recall: 0.8232 - val_loss: 0.6510 - val_recall: 0.7346\n",
      "Epoch 143/300\n",
      "62/62 [==============================] - 164s 3s/step - loss: 0.4230 - recall: 0.8125 - val_loss: 0.5951 - val_recall: 0.7393\n",
      "Epoch 00143: early stopping\n"
     ]
    }
   ],
   "source": [
    "epochs=300\n",
    "history = model.fit(\n",
    "  train_generator,\n",
    "  validation_data=validation_generator,\n",
    "  epochs=epochs,\n",
    "    callbacks=[callbacks])"
   ]
  },
  {
   "cell_type": "code",
   "execution_count": 23,
   "metadata": {},
   "outputs": [
    {
     "data": {
      "image/png": "[encoded data removed]",
      "text/plain": [
       "<Figure size 576x576 with 2 Axes>"
      ]
     },
     "metadata": {},
     "output_type": "display_data"
    }
   ],
   "source": [
    "plt.style.use('seaborn')\n",
    "acc = history.history['recall']\n",
    "val_acc = history.history['val_recall']\n",
    "\n",
    "loss = history.history['loss']\n",
    "val_loss = history.history['val_loss']\n",
    "\n",
    "epochs_range = range(len(acc))\n",
    "\n",
    "plt.figure(figsize=(8, 8))\n",
    "plt.subplot(1, 2, 1)\n",
    "plt.plot(epochs_range, acc, label='Training Recall')\n",
    "plt.plot(epochs_range, val_acc, label='Validation Recall')\n",
    "plt.legend(loc='lower right')\n",
    "plt.title('Training and Validation Recall')\n",
    "\n",
    "\n",
    "plt.subplot(1, 2, 2)\n",
    "plt.plot(epochs_range, loss, label='Training Loss')\n",
    "plt.plot(epochs_range, val_loss, label='Validation Loss')\n",
    "plt.legend(loc='upper right')\n",
    "plt.title('Training and Validation Loss')\n",
    "plt.savefig('graphs/simplemodel128x2aug.png', bbox_inches='tight')\n",
    "plt.show()"
   ]
  },
  {
   "cell_type": "code",
   "execution_count": 15,
   "metadata": {},
   "outputs": [
    {
     "name": "stdout",
     "output_type": "stream",
     "text": [
      "Found 424 images belonging to 3 classes.\n"
     ]
    }
   ],
   "source": [
    "test_generator = test_datagen.flow_from_directory(\n",
    "        'plants/test',\n",
    "        target_size=(300, 200),\n",
    "        batch_size=16,\n",
    "        shuffle=False,\n",
    "        class_mode='categorical')"
   ]
  },
  {
   "cell_type": "code",
   "execution_count": 16,
   "metadata": {},
   "outputs": [],
   "source": [
    "ben_plants = os.listdir('plants/test/Benign_Plants')\n",
    "ivy=os.listdir('plants/test/Poison_Ivy/')\n",
    "oak=os.listdir('plants/test/Poison_Oak')"
   ]
  },
  {
   "cell_type": "code",
   "execution_count": 17,
   "metadata": {},
   "outputs": [],
   "source": [
    "y_true=pd.DataFrame()\n",
    "for i in range(len(ben_plants)):\n",
    "    num=pd.Series([1,0,0])\n",
    "    y_true= y_true.append(num, ignore_index=True)\n",
    "for j in range(len(ivy)):\n",
    "    num=pd.Series([0,1,0])\n",
    "    y_true= y_true.append(num, ignore_index=True)\n",
    "for k in range(len(oak)):\n",
    "    num=pd.Series([0,0,1])\n",
    "    y_true= y_true.append(num, ignore_index=True)"
   ]
  },
  {
   "cell_type": "code",
   "execution_count": 18,
   "metadata": {},
   "outputs": [
    {
     "name": "stdout",
     "output_type": "stream",
     "text": [
      "27/27 [==============================] - 15s 558ms/step\n"
     ]
    }
   ],
   "source": [
    "y_hat=(model.predict(test_generator, verbose=1))"
   ]
  },
  {
   "cell_type": "code",
   "execution_count": 19,
   "metadata": {},
   "outputs": [],
   "source": [
    "y_pred=np.argmax(y_hat, axis=1)\n",
    "y_s=np.argmax(np.array(y_true), axis=1)\n",
    "c_mat=confusion_matrix(y_s, y_pred)\n",
    "percent=(c_mat/(np.sum(c_mat, axis=1).reshape(3,-1))).reshape(3,3)"
   ]
  },
  {
   "cell_type": "code",
   "execution_count": 22,
   "metadata": {},
   "outputs": [
    {
     "data": {
      "image/png": "[encoded data removed]",
      "text/plain": [
       "<Figure size 432x288 with 2 Axes>"
      ]
     },
     "metadata": {
      "needs_background": "light"
     },
     "output_type": "display_data"
    }
   ],
   "source": [
    "predicted_cat=['Predicted Benign', 'Predicted Poison Ivy', 'Predicted Poison Oak']\n",
    "real_cat=['Actual Benign', 'Actual Poison Ivy', 'Actual Poison Oak']\n",
    "sns.heatmap(percent, annot=percent, cmap='YlGn', \n",
    "            xticklabels=predicted_cat, \n",
    "            yticklabels=real_cat).set_title('Confusion Matrix -Percent Actual Plant Predicted \\n built model 128 filters augmented no weights');\n",
    "plt.savefig('graphs/simplemodel128x2_2aug.png', bbox_inches='tight')"
   ]
  },
  {
   "cell_type": "code",
   "execution_count": null,
   "metadata": {},
   "outputs": [],
   "source": []
  }
 ],
 "metadata": {
  "kernelspec": {
   "display_name": "Python 3",
   "language": "python",
   "name": "python3"
  },
  "language_info": {
   "codemirror_mode": {
    "name": "ipython",
    "version": 3
   },
   "file_extension": ".py",
   "mimetype": "text/x-python",
   "name": "python",
   "nbconvert_exporter": "python",
   "pygments_lexer": "ipython3",
   "version": "3.8.3"
  }
 },
 "nbformat": 4,
 "nbformat_minor": 4
}
