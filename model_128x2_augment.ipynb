{
 "cells": [
  {
   "cell_type": "code",
   "execution_count": 1,
   "metadata": {},
   "outputs": [],
   "source": [
    "import os\n",
    "from skimage import io\n",
    "import pandas as pd\n",
    "import numpy as np\n",
    "import scipy.stats as stats\n",
    "import matplotlib.pyplot as plt\n",
    "import shutil\n",
    "import PIL\n",
    "import tensorflow as tf\n",
    "from tensorflow import keras\n",
    "from tensorflow.keras import layers\n",
    "from tensorflow.keras.models import Sequential\n",
    "from sklearn.metrics import plot_confusion_matrix\n",
    "from sklearn.metrics import confusion_matrix\n",
    "import seaborn as sns"
   ]
  },
  {
   "cell_type": "code",
   "execution_count": 2,
   "metadata": {},
   "outputs": [],
   "source": [
    "batch_size = 32\n",
    "img_height = 300\n",
    "img_width = 200"
   ]
  },
  {
   "cell_type": "code",
   "execution_count": 3,
   "metadata": {},
   "outputs": [],
   "source": [
    "num_classes = 3\n",
    "model = Sequential([\n",
    "  layers.experimental.preprocessing.Rescaling(1./255, input_shape=(img_height, img_width, 3)),\n",
    "  layers.Conv2D(64, 7, padding='same', activation='relu'),\n",
    "  layers.MaxPooling2D(),\n",
    "  layers.Conv2D(64, 3, padding='same', activation='relu'),\n",
    "  layers.MaxPooling2D(),\n",
    "  layers.Conv2D(128, 3, padding='same', activation='relu'),\n",
    "  layers.MaxPooling2D(),\n",
    "  layers.Conv2D(128, 3, padding='same', activation='relu'),\n",
    "  layers.MaxPooling2D(),\n",
    "  layers.Flatten(),\n",
    "  layers.Dense(128, activation='relu'),\n",
    "  layers.Dense(num_classes, activation='softmax')\n",
    "])"
   ]
  },
  {
   "cell_type": "code",
   "execution_count": 4,
   "metadata": {},
   "outputs": [],
   "source": [
    "def get_model_name():\n",
    "    import time\n",
    "    run=time.strftime(\"run_%Y_%m_%d-%H_%M_%S\")\n",
    "    return run"
   ]
  },
  {
   "cell_type": "code",
   "execution_count": 5,
   "metadata": {},
   "outputs": [],
   "source": [
    "recall=tf.keras.metrics.Recall(class_id=None)"
   ]
  },
  {
   "cell_type": "code",
   "execution_count": 6,
   "metadata": {},
   "outputs": [],
   "source": [
    "root_logdir=os.path.join(os.curdir, 'my_logs')"
   ]
  },
  {
   "cell_type": "code",
   "execution_count": 7,
   "metadata": {},
   "outputs": [],
   "source": [
    "def get_run_logdir():\n",
    "    import time\n",
    "    run_id=time.strftime(\"run_%Y_%m_%d-%H_%M_%S\")\n",
    "    return os.path.join(root_logdir, run_id)"
   ]
  },
  {
   "cell_type": "code",
   "execution_count": 8,
   "metadata": {},
   "outputs": [],
   "source": [
    "run_logdir=get_run_logdir()\n",
    "model_name=get_model_name()"
   ]
  },
  {
   "cell_type": "code",
   "execution_count": 9,
   "metadata": {},
   "outputs": [],
   "source": [
    "callbacks = [\n",
    "    keras.callbacks.EarlyStopping(\n",
    "        # Stop training when `val_loss` is no longer improving\n",
    "        monitor=\"val_loss\",\n",
    "        # \"no longer improving\" being defined as \"no better than 1e-5 less\"\n",
    "        min_delta=1e-5,\n",
    "        # \"no longer improving\" being further defined as \"for at least 30 epochs\"\n",
    "        patience=30,\n",
    "        verbose=1,), \n",
    "    keras.callbacks.TensorBoard(run_logdir,\n",
    "                              histogram_freq=2,\n",
    "                              write_graph=True,\n",
    "                              write_images=True),\n",
    "    keras.callbacks.ModelCheckpoint(filepath='models/'+model_name ,save_best_only=True)]"
   ]
  },
  {
   "cell_type": "code",
   "execution_count": 10,
   "metadata": {},
   "outputs": [],
   "source": [
    "train_datagen=tf.keras.preprocessing.image.ImageDataGenerator(\n",
    "    zca_whitening=False, zca_epsilon=1e-06, rotation_range=30, width_shift_range=0.3,\n",
    "    height_shift_range=0.3, fill_mode='nearest', cval=0.0,\n",
    "    horizontal_flip=True, vertical_flip=False)\n",
    "test_datagen=tf.keras.preprocessing.image.ImageDataGenerator()"
   ]
  },
  {
   "cell_type": "code",
   "execution_count": 11,
   "metadata": {},
   "outputs": [
    {
     "name": "stdout",
     "output_type": "stream",
     "text": [
      "Found 1968 images belonging to 3 classes.\n",
      "Found 422 images belonging to 3 classes.\n"
     ]
    }
   ],
   "source": [
    "train_generator = train_datagen.flow_from_directory(\n",
    "        'plants/train',\n",
    "        target_size=(300, 200),\n",
    "        batch_size=32,\n",
    "        class_mode='categorical')\n",
    "validation_generator = test_datagen.flow_from_directory(\n",
    "        'plants/val',\n",
    "        target_size=(300, 200),\n",
    "        batch_size=32,\n",
    "        class_mode='categorical')"
   ]
  },
  {
   "cell_type": "code",
   "execution_count": 12,
   "metadata": {},
   "outputs": [],
   "source": [
    "model.compile(optimizer='adam',\n",
    "              loss=tf.keras.losses.CategoricalCrossentropy(),\n",
    "              metrics=[recall])"
   ]
  },
  {
   "cell_type": "code",
   "execution_count": null,
   "metadata": {},
   "outputs": [
    {
     "name": "stdout",
     "output_type": "stream",
     "text": [
      "Epoch 1/300\n",
      " 1/62 [..............................] - ETA: 0s - loss: 1.1104 - recall: 0.0000e+00WARNING:tensorflow:From /Users/johnwilliams/opt/anaconda3/lib/python3.8/site-packages/tensorflow/python/ops/summary_ops_v2.py:1277: stop (from tensorflow.python.eager.profiler) is deprecated and will be removed after 2020-07-01.\n",
      "Instructions for updating:\n",
      "use `tf.profiler.experimental.stop` instead.\n",
      "62/62 [==============================] - ETA: 0s - loss: 0.8624 - recall: 0.6453WARNING:tensorflow:From /Users/johnwilliams/opt/anaconda3/lib/python3.8/site-packages/tensorflow/python/training/tracking/tracking.py:111: Model.state_updates (from tensorflow.python.keras.engine.training) is deprecated and will be removed in a future version.\n",
      "Instructions for updating:\n",
      "This property should not be used in TensorFlow 2.0, as updates are applied automatically.\n",
      "WARNING:tensorflow:From /Users/johnwilliams/opt/anaconda3/lib/python3.8/site-packages/tensorflow/python/training/tracking/tracking.py:111: Layer.updates (from tensorflow.python.keras.engine.base_layer) is deprecated and will be removed in a future version.\n",
      "Instructions for updating:\n",
      "This property should not be used in TensorFlow 2.0, as updates are applied automatically.\n",
      "INFO:tensorflow:Assets written to: models/run_2021_01_10-07_01_51/assets\n",
      "62/62 [==============================] - 169s 3s/step - loss: 0.8624 - recall: 0.6453 - val_loss: 0.7976 - val_recall: 0.7085\n",
      "Epoch 2/300\n",
      "62/62 [==============================] - 166s 3s/step - loss: 0.7925 - recall: 0.6819 - val_loss: 0.8091 - val_recall: 0.6991\n",
      "Epoch 3/300\n",
      "62/62 [==============================] - ETA: 0s - loss: 0.7833 - recall: 0.6682INFO:tensorflow:Assets written to: models/run_2021_01_10-07_01_51/assets\n",
      "62/62 [==============================] - 168s 3s/step - loss: 0.7833 - recall: 0.6682 - val_loss: 0.7751 - val_recall: 0.6872\n",
      "Epoch 4/300\n",
      "62/62 [==============================] - 166s 3s/step - loss: 0.7838 - recall: 0.6606 - val_loss: 0.7822 - val_recall: 0.6825\n",
      "Epoch 5/300\n",
      "62/62 [==============================] - ETA: 0s - loss: 0.7668 - recall: 0.6682INFO:tensorflow:Assets written to: models/run_2021_01_10-07_01_51/assets\n",
      "62/62 [==============================] - 167s 3s/step - loss: 0.7668 - recall: 0.6682 - val_loss: 0.7536 - val_recall: 0.6730\n",
      "Epoch 6/300\n",
      "62/62 [==============================] - 166s 3s/step - loss: 0.7735 - recall: 0.6540 - val_loss: 0.7599 - val_recall: 0.6682\n",
      "Epoch 7/300\n",
      "62/62 [==============================] - 166s 3s/step - loss: 0.7646 - recall: 0.6641 - val_loss: 0.7657 - val_recall: 0.6896\n",
      "Epoch 8/300\n",
      "62/62 [==============================] - 165s 3s/step - loss: 0.7691 - recall: 0.6585 - val_loss: 0.7612 - val_recall: 0.6872\n",
      "Epoch 9/300\n",
      "62/62 [==============================] - ETA: 0s - loss: 0.7557 - recall: 0.6565INFO:tensorflow:Assets written to: models/run_2021_01_10-07_01_51/assets\n",
      "62/62 [==============================] - 166s 3s/step - loss: 0.7557 - recall: 0.6565 - val_loss: 0.7505 - val_recall: 0.6517\n",
      "Epoch 10/300\n",
      "62/62 [==============================] - 164s 3s/step - loss: 0.7673 - recall: 0.6646 - val_loss: 0.7945 - val_recall: 0.6611\n",
      "Epoch 11/300\n",
      "62/62 [==============================] - ETA: 0s - loss: 0.7608 - recall: 0.6702INFO:tensorflow:Assets written to: models/run_2021_01_10-07_01_51/assets\n",
      "62/62 [==============================] - 165s 3s/step - loss: 0.7608 - recall: 0.6702 - val_loss: 0.7486 - val_recall: 0.6303\n",
      "Epoch 12/300\n",
      "62/62 [==============================] - 164s 3s/step - loss: 0.7491 - recall: 0.6540 - val_loss: 0.7498 - val_recall: 0.6422\n",
      "Epoch 13/300\n",
      "62/62 [==============================] - 165s 3s/step - loss: 0.7476 - recall: 0.6535 - val_loss: 0.7556 - val_recall: 0.6066\n",
      "Epoch 14/300\n",
      "62/62 [==============================] - ETA: 0s - loss: 0.7499 - recall: 0.6545INFO:tensorflow:Assets written to: models/run_2021_01_10-07_01_51/assets\n",
      "62/62 [==============================] - 165s 3s/step - loss: 0.7499 - recall: 0.6545 - val_loss: 0.7480 - val_recall: 0.6232\n",
      "Epoch 15/300\n",
      "62/62 [==============================] - ETA: 0s - loss: 0.7532 - recall: 0.6484INFO:tensorflow:Assets written to: models/run_2021_01_10-07_01_51/assets\n",
      "62/62 [==============================] - 165s 3s/step - loss: 0.7532 - recall: 0.6484 - val_loss: 0.7407 - val_recall: 0.6517\n",
      "Epoch 16/300\n",
      "62/62 [==============================] - 164s 3s/step - loss: 0.7497 - recall: 0.6657 - val_loss: 0.7465 - val_recall: 0.6777\n",
      "Epoch 17/300\n",
      "62/62 [==============================] - 167s 3s/step - loss: 0.7382 - recall: 0.6611 - val_loss: 0.7490 - val_recall: 0.6848\n",
      "Epoch 18/300\n",
      "62/62 [==============================] - 166s 3s/step - loss: 0.7414 - recall: 0.6733 - val_loss: 0.7883 - val_recall: 0.5829\n",
      "Epoch 19/300\n",
      "62/62 [==============================] - 167s 3s/step - loss: 0.7391 - recall: 0.6565 - val_loss: 0.7503 - val_recall: 0.6469\n",
      "Epoch 20/300\n",
      "62/62 [==============================] - 166s 3s/step - loss: 0.7376 - recall: 0.6489 - val_loss: 0.7484 - val_recall: 0.6730\n",
      "Epoch 21/300\n",
      "62/62 [==============================] - ETA: 0s - loss: 0.7396 - recall: 0.6519INFO:tensorflow:Assets written to: models/run_2021_01_10-07_01_51/assets\n",
      "62/62 [==============================] - 167s 3s/step - loss: 0.7396 - recall: 0.6519 - val_loss: 0.7297 - val_recall: 0.6232\n",
      "Epoch 22/300\n",
      "62/62 [==============================] - 165s 3s/step - loss: 0.7408 - recall: 0.6509 - val_loss: 0.7303 - val_recall: 0.6445\n",
      "Epoch 23/300\n",
      "62/62 [==============================] - ETA: 0s - loss: 0.7272 - recall: 0.6509INFO:tensorflow:Assets written to: models/run_2021_01_10-07_01_51/assets\n",
      "62/62 [==============================] - 167s 3s/step - loss: 0.7272 - recall: 0.6509 - val_loss: 0.7192 - val_recall: 0.6706\n",
      "Epoch 24/300\n",
      "62/62 [==============================] - 165s 3s/step - loss: 0.7305 - recall: 0.6611 - val_loss: 0.7354 - val_recall: 0.6611\n",
      "Epoch 25/300\n",
      "62/62 [==============================] - 165s 3s/step - loss: 0.7310 - recall: 0.6662 - val_loss: 0.7245 - val_recall: 0.6445\n",
      "Epoch 26/300\n",
      "62/62 [==============================] - ETA: 0s - loss: 0.7339 - recall: 0.6468INFO:tensorflow:Assets written to: models/run_2021_01_10-07_01_51/assets\n",
      "62/62 [==============================] - 165s 3s/step - loss: 0.7339 - recall: 0.6468 - val_loss: 0.7179 - val_recall: 0.6754\n",
      "Epoch 27/300\n",
      "62/62 [==============================] - 165s 3s/step - loss: 0.7336 - recall: 0.6555 - val_loss: 0.7392 - val_recall: 0.6161\n",
      "Epoch 28/300\n",
      "62/62 [==============================] - 164s 3s/step - loss: 0.7221 - recall: 0.6529 - val_loss: 0.7285 - val_recall: 0.6422\n",
      "Epoch 29/300\n",
      "62/62 [==============================] - 165s 3s/step - loss: 0.7302 - recall: 0.6596 - val_loss: 0.7228 - val_recall: 0.6517\n",
      "Epoch 30/300\n",
      "62/62 [==============================] - ETA: 0s - loss: 0.7217 - recall: 0.6621INFO:tensorflow:Assets written to: models/run_2021_01_10-07_01_51/assets\n",
      "62/62 [==============================] - 166s 3s/step - loss: 0.7217 - recall: 0.6621 - val_loss: 0.7026 - val_recall: 0.6611\n",
      "Epoch 31/300\n",
      "62/62 [==============================] - 168s 3s/step - loss: 0.7241 - recall: 0.6697 - val_loss: 0.7054 - val_recall: 0.6825\n",
      "Epoch 32/300\n",
      "62/62 [==============================] - 171s 3s/step - loss: 0.7207 - recall: 0.6738 - val_loss: 0.7310 - val_recall: 0.6635\n",
      "Epoch 33/300\n",
      "62/62 [==============================] - ETA: 0s - loss: 0.7078 - recall: 0.6621INFO:tensorflow:Assets written to: models/run_2021_01_10-07_01_51/assets\n",
      "62/62 [==============================] - 189s 3s/step - loss: 0.7078 - recall: 0.6621 - val_loss: 0.6973 - val_recall: 0.6588\n",
      "Epoch 34/300\n",
      "62/62 [==============================] - 174s 3s/step - loss: 0.7051 - recall: 0.6687 - val_loss: 0.7157 - val_recall: 0.6280\n",
      "Epoch 35/300\n",
      "62/62 [==============================] - ETA: 0s - loss: 0.6958 - recall: 0.6590INFO:tensorflow:Assets written to: models/run_2021_01_10-07_01_51/assets\n",
      "62/62 [==============================] - 177s 3s/step - loss: 0.6958 - recall: 0.6590 - val_loss: 0.6895 - val_recall: 0.6848\n",
      "Epoch 36/300\n",
      "62/62 [==============================] - 169s 3s/step - loss: 0.7097 - recall: 0.6631 - val_loss: 0.7086 - val_recall: 0.6682\n",
      "Epoch 37/300\n"
     ]
    },
    {
     "name": "stdout",
     "output_type": "stream",
     "text": [
      "62/62 [==============================] - 174s 3s/step - loss: 0.7056 - recall: 0.6768 - val_loss: 0.7068 - val_recall: 0.6043\n",
      "Epoch 38/300\n",
      "62/62 [==============================] - 170s 3s/step - loss: 0.6974 - recall: 0.6560 - val_loss: 0.6943 - val_recall: 0.6374\n",
      "Epoch 39/300\n",
      "62/62 [==============================] - 179s 3s/step - loss: 0.6886 - recall: 0.6682 - val_loss: 0.7121 - val_recall: 0.6730\n",
      "Epoch 40/300\n",
      "62/62 [==============================] - ETA: 0s - loss: 0.7086 - recall: 0.6601INFO:tensorflow:Assets written to: models/run_2021_01_10-07_01_51/assets\n",
      "62/62 [==============================] - 173s 3s/step - loss: 0.7086 - recall: 0.6601 - val_loss: 0.6773 - val_recall: 0.6540\n",
      "Epoch 41/300\n",
      "62/62 [==============================] - 169s 3s/step - loss: 0.6955 - recall: 0.6682 - val_loss: 0.6981 - val_recall: 0.6635\n",
      "Epoch 42/300\n",
      "62/62 [==============================] - 173s 3s/step - loss: 0.6851 - recall: 0.6789 - val_loss: 0.6966 - val_recall: 0.6991\n",
      "Epoch 43/300\n",
      "62/62 [==============================] - 173s 3s/step - loss: 0.6812 - recall: 0.6707 - val_loss: 0.6833 - val_recall: 0.6445\n",
      "Epoch 44/300\n",
      "62/62 [==============================] - 169s 3s/step - loss: 0.6985 - recall: 0.6692 - val_loss: 0.6865 - val_recall: 0.6919\n",
      "Epoch 45/300\n",
      "62/62 [==============================] - 171s 3s/step - loss: 0.6767 - recall: 0.6784 - val_loss: 0.6816 - val_recall: 0.6232\n",
      "Epoch 46/300\n",
      "62/62 [==============================] - 171s 3s/step - loss: 0.6882 - recall: 0.6748 - val_loss: 0.7202 - val_recall: 0.5972\n",
      "Epoch 47/300\n",
      "62/62 [==============================] - 173s 3s/step - loss: 0.6791 - recall: 0.6773 - val_loss: 0.6857 - val_recall: 0.7109\n",
      "Epoch 48/300\n",
      "62/62 [==============================] - 173s 3s/step - loss: 0.6887 - recall: 0.6641 - val_loss: 0.6797 - val_recall: 0.6209\n",
      "Epoch 49/300\n",
      "62/62 [==============================] - 173s 3s/step - loss: 0.6859 - recall: 0.6601 - val_loss: 0.6832 - val_recall: 0.5948\n",
      "Epoch 50/300\n",
      "62/62 [==============================] - ETA: 0s - loss: 0.6678 - recall: 0.6682INFO:tensorflow:Assets written to: models/run_2021_01_10-07_01_51/assets\n",
      "62/62 [==============================] - 171s 3s/step - loss: 0.6678 - recall: 0.6682 - val_loss: 0.6749 - val_recall: 0.7085\n",
      "Epoch 51/300\n",
      "62/62 [==============================] - 170s 3s/step - loss: 0.6629 - recall: 0.6773 - val_loss: 0.7049 - val_recall: 0.5972\n",
      "Epoch 52/300\n",
      "62/62 [==============================] - ETA: 0s - loss: 0.6694 - recall: 0.6743INFO:tensorflow:Assets written to: models/run_2021_01_10-07_01_51/assets\n",
      "62/62 [==============================] - 175s 3s/step - loss: 0.6694 - recall: 0.6743 - val_loss: 0.6747 - val_recall: 0.6564\n",
      "Epoch 53/300\n",
      "62/62 [==============================] - 177s 3s/step - loss: 0.6691 - recall: 0.6687 - val_loss: 0.6946 - val_recall: 0.6374\n",
      "Epoch 54/300\n",
      "62/62 [==============================] - 167s 3s/step - loss: 0.6526 - recall: 0.6845 - val_loss: 0.7040 - val_recall: 0.7133\n",
      "Epoch 55/300\n",
      "37/62 [================>.............] - ETA: 1:05 - loss: 0.6650 - recall: 0.6935"
     ]
    }
   ],
   "source": [
    "epochs=300\n",
    "history = model.fit(\n",
    "  train_generator,\n",
    "  validation_data=validation_generator,\n",
    "  epochs=epochs,\n",
    "    callbacks=[callbacks])"
   ]
  },
  {
   "cell_type": "code",
   "execution_count": null,
   "metadata": {},
   "outputs": [],
   "source": []
  }
 ],
 "metadata": {
  "kernelspec": {
   "display_name": "Python 3",
   "language": "python",
   "name": "python3"
  },
  "language_info": {
   "codemirror_mode": {
    "name": "ipython",
    "version": 3
   },
   "file_extension": ".py",
   "mimetype": "text/x-python",
   "name": "python",
   "nbconvert_exporter": "python",
   "pygments_lexer": "ipython3",
   "version": "3.8.3"
  }
 },
 "nbformat": 4,
 "nbformat_minor": 4
}
