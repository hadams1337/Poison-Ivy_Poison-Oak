{
 "cells": [
  {
   "cell_type": "code",
   "execution_count": 1,
   "metadata": {},
   "outputs": [],
   "source": [
    "import os\n",
    "from skimage import io\n",
    "import pandas as pd\n",
    "import numpy as np\n",
    "import scipy.stats as stats\n",
    "import matplotlib.pyplot as plt\n",
    "import shutil\n",
    "import PIL\n",
    "import tensorflow as tf\n",
    "from tensorflow import keras\n",
    "from tensorflow.keras import layers\n",
    "from tensorflow.keras.models import Sequential\n",
    "from sklearn.metrics import plot_confusion_matrix\n",
    "from sklearn.metrics import confusion_matrix\n",
    "import seaborn as sns"
   ]
  },
  {
   "cell_type": "code",
   "execution_count": 108,
   "metadata": {},
   "outputs": [],
   "source": [
    "from sklearn.metrics import roc_auc_score"
   ]
  },
  {
   "cell_type": "code",
   "execution_count": 2,
   "metadata": {},
   "outputs": [],
   "source": [
    "batch_size = 32\n",
    "img_height = 300\n",
    "img_width = 200"
   ]
  },
  {
   "cell_type": "code",
   "execution_count": 3,
   "metadata": {},
   "outputs": [],
   "source": [
    "num_classes = 3\n",
    "model = Sequential([\n",
    "  layers.experimental.preprocessing.Rescaling(1./255, input_shape=(img_height, img_width, 3)),\n",
    "  layers.Conv2D(64, 7, padding='same', activation='relu'),\n",
    "  layers.MaxPooling2D(),\n",
    "  layers.Conv2D(64, 3, padding='same', activation='relu'),\n",
    "  layers.MaxPooling2D(),\n",
    "  layers.Conv2D(128, 3, padding='same', activation='relu'),\n",
    "  layers.MaxPooling2D(),\n",
    "  layers.Conv2D(128, 3, padding='same', activation='relu'),\n",
    "  layers.MaxPooling2D(),\n",
    "  layers.Flatten(),\n",
    "  layers.Dense(128, activation='relu'),\n",
    "  layers.Dense(num_classes, activation='softmax')\n",
    "])"
   ]
  },
  {
   "cell_type": "code",
   "execution_count": 144,
   "metadata": {},
   "outputs": [
    {
     "name": "stdout",
     "output_type": "stream",
     "text": [
      "Model: \"sequential\"\n",
      "_________________________________________________________________\n",
      "Layer (type)                 Output Shape              Param #   \n",
      "=================================================================\n",
      "rescaling (Rescaling)        (None, 300, 200, 3)       0         \n",
      "_________________________________________________________________\n",
      "conv2d (Conv2D)              (None, 300, 200, 64)      9472      \n",
      "_________________________________________________________________\n",
      "max_pooling2d (MaxPooling2D) (None, 150, 100, 64)      0         \n",
      "_________________________________________________________________\n",
      "conv2d_1 (Conv2D)            (None, 150, 100, 64)      36928     \n",
      "_________________________________________________________________\n",
      "max_pooling2d_1 (MaxPooling2 (None, 75, 50, 64)        0         \n",
      "_________________________________________________________________\n",
      "conv2d_2 (Conv2D)            (None, 75, 50, 128)       73856     \n",
      "_________________________________________________________________\n",
      "max_pooling2d_2 (MaxPooling2 (None, 37, 25, 128)       0         \n",
      "_________________________________________________________________\n",
      "conv2d_3 (Conv2D)            (None, 37, 25, 128)       147584    \n",
      "_________________________________________________________________\n",
      "max_pooling2d_3 (MaxPooling2 (None, 18, 12, 128)       0         \n",
      "_________________________________________________________________\n",
      "flatten (Flatten)            (None, 27648)             0         \n",
      "_________________________________________________________________\n",
      "dense (Dense)                (None, 128)               3539072   \n",
      "_________________________________________________________________\n",
      "dense_1 (Dense)              (None, 3)                 387       \n",
      "=================================================================\n",
      "Total params: 3,807,299\n",
      "Trainable params: 3,807,299\n",
      "Non-trainable params: 0\n",
      "_________________________________________________________________\n"
     ]
    }
   ],
   "source": [
    "model.summary()"
   ]
  },
  {
   "cell_type": "code",
   "execution_count": 4,
   "metadata": {},
   "outputs": [],
   "source": [
    "def get_model_name():\n",
    "    import time\n",
    "    run=time.strftime(\"run_%Y_%m_%d-%H_%M_%S\")\n",
    "    return run"
   ]
  },
  {
   "cell_type": "code",
   "execution_count": 5,
   "metadata": {},
   "outputs": [],
   "source": [
    "recall=tf.keras.metrics.Recall(class_id=None)"
   ]
  },
  {
   "cell_type": "code",
   "execution_count": 6,
   "metadata": {},
   "outputs": [],
   "source": [
    "root_logdir=os.path.join(os.curdir, 'my_logs')"
   ]
  },
  {
   "cell_type": "code",
   "execution_count": 7,
   "metadata": {},
   "outputs": [],
   "source": [
    "def get_run_logdir():\n",
    "    import time\n",
    "    run_id=time.strftime(\"run_%Y_%m_%d-%H_%M_%S\")\n",
    "    return os.path.join(root_logdir, run_id)"
   ]
  },
  {
   "cell_type": "code",
   "execution_count": 8,
   "metadata": {},
   "outputs": [],
   "source": [
    "run_logdir=get_run_logdir()\n",
    "model_name=get_model_name()"
   ]
  },
  {
   "cell_type": "code",
   "execution_count": 9,
   "metadata": {},
   "outputs": [],
   "source": [
    "callbacks = [\n",
    "    keras.callbacks.EarlyStopping(\n",
    "        # Stop training when `val_loss` is no longer improving\n",
    "        monitor=\"val_loss\",\n",
    "        # \"no longer improving\" being defined as \"no better than 1e-5 less\"\n",
    "        min_delta=1e-5,\n",
    "        # \"no longer improving\" being further defined as \"for at least 30 epochs\"\n",
    "        patience=45,\n",
    "        verbose=1,), \n",
    "    keras.callbacks.TensorBoard(run_logdir,\n",
    "                              histogram_freq=2,\n",
    "                              write_graph=True,\n",
    "                              write_images=True),\n",
    "    keras.callbacks.ModelCheckpoint(filepath='models/'+model_name ,save_best_only=True)]"
   ]
  },
  {
   "cell_type": "code",
   "execution_count": 10,
   "metadata": {},
   "outputs": [],
   "source": [
    "train_datagen=tf.keras.preprocessing.image.ImageDataGenerator(\n",
    "    zca_whitening=False, zca_epsilon=1e-06, rotation_range=30, width_shift_range=0.3,\n",
    "    height_shift_range=0.3, fill_mode='nearest', cval=0.0,\n",
    "    horizontal_flip=True, vertical_flip=False, zoom_range=0.25, brightness_range=(0.75, 1.25))\n",
    "test_datagen=tf.keras.preprocessing.image.ImageDataGenerator()"
   ]
  },
  {
   "cell_type": "code",
   "execution_count": 11,
   "metadata": {},
   "outputs": [
    {
     "name": "stdout",
     "output_type": "stream",
     "text": [
      "Found 1968 images belonging to 3 classes.\n",
      "Found 422 images belonging to 3 classes.\n"
     ]
    }
   ],
   "source": [
    "train_generator = train_datagen.flow_from_directory(\n",
    "        'plants/train',\n",
    "        target_size=(300, 200),\n",
    "        batch_size=32,\n",
    "        class_mode='categorical')\n",
    "validation_generator = test_datagen.flow_from_directory(\n",
    "        'plants/val',\n",
    "        target_size=(300, 200),\n",
    "        batch_size=32,\n",
    "        class_mode='categorical')"
   ]
  },
  {
   "cell_type": "code",
   "execution_count": null,
   "metadata": {},
   "outputs": [],
   "source": [
    "optimizer=tf.keras.optimizers.Adam(\n",
    "    learning_rate=0.001, beta_1=0.9, beta_2=0.999, epsilon=1e-07, amsgrad=False)"
   ]
  },
  {
   "cell_type": "code",
   "execution_count": 12,
   "metadata": {},
   "outputs": [],
   "source": [
    "model.compile(optimizer='adam',\n",
    "              loss=tf.keras.losses.CategoricalCrossentropy(),\n",
    "              metrics=[recall])"
   ]
  },
  {
   "cell_type": "code",
   "execution_count": 13,
   "metadata": {},
   "outputs": [
    {
     "name": "stdout",
     "output_type": "stream",
     "text": [
      "Epoch 1/400\n",
      " 1/62 [..............................] - ETA: 0s - loss: 1.0997 - recall: 0.0000e+00WARNING:tensorflow:From /Users/johnwilliams/opt/anaconda3/lib/python3.8/site-packages/tensorflow/python/ops/summary_ops_v2.py:1277: stop (from tensorflow.python.eager.profiler) is deprecated and will be removed after 2020-07-01.\n",
      "Instructions for updating:\n",
      "use `tf.profiler.experimental.stop` instead.\n",
      "62/62 [==============================] - ETA: 0s - loss: 0.8320 - recall: 0.6306WARNING:tensorflow:From /Users/johnwilliams/opt/anaconda3/lib/python3.8/site-packages/tensorflow/python/training/tracking/tracking.py:111: Model.state_updates (from tensorflow.python.keras.engine.training) is deprecated and will be removed in a future version.\n",
      "Instructions for updating:\n",
      "This property should not be used in TensorFlow 2.0, as updates are applied automatically.\n",
      "WARNING:tensorflow:From /Users/johnwilliams/opt/anaconda3/lib/python3.8/site-packages/tensorflow/python/training/tracking/tracking.py:111: Layer.updates (from tensorflow.python.keras.engine.base_layer) is deprecated and will be removed in a future version.\n",
      "Instructions for updating:\n",
      "This property should not be used in TensorFlow 2.0, as updates are applied automatically.\n",
      "INFO:tensorflow:Assets written to: models/run_2021_01_10-15_03_58/assets\n",
      "62/62 [==============================] - 186s 3s/step - loss: 0.8320 - recall: 0.6306 - val_loss: 0.7975 - val_recall: 0.6564\n",
      "Epoch 2/400\n",
      "62/62 [==============================] - 178s 3s/step - loss: 0.7996 - recall: 0.6900 - val_loss: 0.8976 - val_recall: 0.7038\n",
      "Epoch 3/400\n",
      "62/62 [==============================] - ETA: 0s - loss: 0.8030 - recall: 0.6682INFO:tensorflow:Assets written to: models/run_2021_01_10-15_03_58/assets\n",
      "62/62 [==============================] - 195s 3s/step - loss: 0.8030 - recall: 0.6682 - val_loss: 0.7937 - val_recall: 0.7038\n",
      "Epoch 4/400\n",
      "62/62 [==============================] - ETA: 0s - loss: 0.7874 - recall: 0.6428INFO:tensorflow:Assets written to: models/run_2021_01_10-15_03_58/assets\n",
      "62/62 [==============================] - 178s 3s/step - loss: 0.7874 - recall: 0.6428 - val_loss: 0.7650 - val_recall: 0.6730\n",
      "Epoch 5/400\n",
      "62/62 [==============================] - ETA: 0s - loss: 0.7661 - recall: 0.6489INFO:tensorflow:Assets written to: models/run_2021_01_10-15_03_58/assets\n",
      "62/62 [==============================] - 186s 3s/step - loss: 0.7661 - recall: 0.6489 - val_loss: 0.7482 - val_recall: 0.6706\n",
      "Epoch 6/400\n",
      "62/62 [==============================] - 179s 3s/step - loss: 0.7973 - recall: 0.6194 - val_loss: 0.7568 - val_recall: 0.6754\n",
      "Epoch 7/400\n",
      "62/62 [==============================] - 175s 3s/step - loss: 0.7730 - recall: 0.6758 - val_loss: 0.7558 - val_recall: 0.6777\n",
      "Epoch 8/400\n",
      "62/62 [==============================] - 172s 3s/step - loss: 0.7676 - recall: 0.6702 - val_loss: 0.7615 - val_recall: 0.6872\n",
      "Epoch 9/400\n",
      "62/62 [==============================] - 175s 3s/step - loss: 0.7674 - recall: 0.6529 - val_loss: 0.7534 - val_recall: 0.6896\n",
      "Epoch 10/400\n",
      "62/62 [==============================] - 179s 3s/step - loss: 0.7584 - recall: 0.6626 - val_loss: 0.7657 - val_recall: 0.6825\n",
      "Epoch 11/400\n",
      "62/62 [==============================] - 177s 3s/step - loss: 0.7576 - recall: 0.6667 - val_loss: 0.7510 - val_recall: 0.6896\n",
      "Epoch 12/400\n",
      "62/62 [==============================] - 173s 3s/step - loss: 0.7550 - recall: 0.6565 - val_loss: 0.7547 - val_recall: 0.6280\n",
      "Epoch 13/400\n",
      "62/62 [==============================] - ETA: 0s - loss: 0.7578 - recall: 0.6651INFO:tensorflow:Assets written to: models/run_2021_01_10-15_03_58/assets\n",
      "62/62 [==============================] - 178s 3s/step - loss: 0.7578 - recall: 0.6651 - val_loss: 0.7388 - val_recall: 0.6730\n",
      "Epoch 14/400\n",
      "62/62 [==============================] - 174s 3s/step - loss: 0.7652 - recall: 0.6585 - val_loss: 0.7474 - val_recall: 0.6801\n",
      "Epoch 15/400\n",
      "62/62 [==============================] - 182s 3s/step - loss: 0.7600 - recall: 0.6570 - val_loss: 0.7491 - val_recall: 0.6872\n",
      "Epoch 16/400\n",
      "62/62 [==============================] - 175s 3s/step - loss: 0.7492 - recall: 0.6702 - val_loss: 0.7511 - val_recall: 0.6327\n",
      "Epoch 17/400\n",
      "62/62 [==============================] - 180s 3s/step - loss: 0.7539 - recall: 0.6570 - val_loss: 0.7654 - val_recall: 0.6351\n",
      "Epoch 18/400\n",
      "62/62 [==============================] - 175s 3s/step - loss: 0.7590 - recall: 0.6560 - val_loss: 0.7496 - val_recall: 0.6872\n",
      "Epoch 19/400\n",
      "62/62 [==============================] - ETA: 0s - loss: 0.7495 - recall: 0.6646INFO:tensorflow:Assets written to: models/run_2021_01_10-15_03_58/assets\n",
      "62/62 [==============================] - 226s 4s/step - loss: 0.7495 - recall: 0.6646 - val_loss: 0.7376 - val_recall: 0.6825\n",
      "Epoch 20/400\n",
      "62/62 [==============================] - 177s 3s/step - loss: 0.7466 - recall: 0.6646 - val_loss: 0.7577 - val_recall: 0.6967\n",
      "Epoch 21/400\n",
      "62/62 [==============================] - 173s 3s/step - loss: 0.7476 - recall: 0.6631 - val_loss: 0.7529 - val_recall: 0.6019\n",
      "Epoch 22/400\n",
      "62/62 [==============================] - ETA: 0s - loss: 0.7384 - recall: 0.6636INFO:tensorflow:Assets written to: models/run_2021_01_10-15_03_58/assets\n",
      "62/62 [==============================] - 173s 3s/step - loss: 0.7384 - recall: 0.6636 - val_loss: 0.7349 - val_recall: 0.6801\n",
      "Epoch 23/400\n",
      "62/62 [==============================] - 173s 3s/step - loss: 0.7512 - recall: 0.6657 - val_loss: 0.7549 - val_recall: 0.6611\n",
      "Epoch 24/400\n",
      "62/62 [==============================] - 172s 3s/step - loss: 0.7324 - recall: 0.6687 - val_loss: 0.7367 - val_recall: 0.6635\n",
      "Epoch 25/400\n",
      "62/62 [==============================] - 177s 3s/step - loss: 0.7349 - recall: 0.6596 - val_loss: 0.7458 - val_recall: 0.6137\n",
      "Epoch 26/400\n",
      "62/62 [==============================] - 179s 3s/step - loss: 0.7316 - recall: 0.6672 - val_loss: 0.7470 - val_recall: 0.6540\n",
      "Epoch 27/400\n",
      "62/62 [==============================] - 178s 3s/step - loss: 0.7375 - recall: 0.6717 - val_loss: 0.7384 - val_recall: 0.6872\n",
      "Epoch 28/400\n",
      "62/62 [==============================] - ETA: 0s - loss: 0.7256 - recall: 0.6626INFO:tensorflow:Assets written to: models/run_2021_01_10-15_03_58/assets\n",
      "62/62 [==============================] - 191s 3s/step - loss: 0.7256 - recall: 0.6626 - val_loss: 0.7282 - val_recall: 0.6848\n",
      "Epoch 29/400\n",
      "62/62 [==============================] - ETA: 0s - loss: 0.7227 - recall: 0.6596INFO:tensorflow:Assets written to: models/run_2021_01_10-15_03_58/assets\n",
      "62/62 [==============================] - 175s 3s/step - loss: 0.7227 - recall: 0.6596 - val_loss: 0.7201 - val_recall: 0.6730\n",
      "Epoch 30/400\n",
      "62/62 [==============================] - 173s 3s/step - loss: 0.7083 - recall: 0.6773 - val_loss: 0.7417 - val_recall: 0.6469\n",
      "Epoch 31/400\n",
      "62/62 [==============================] - 177s 3s/step - loss: 0.7316 - recall: 0.6667 - val_loss: 0.7450 - val_recall: 0.6256\n",
      "Epoch 32/400\n",
      "62/62 [==============================] - 171s 3s/step - loss: 0.7291 - recall: 0.6743 - val_loss: 0.7407 - val_recall: 0.6967\n",
      "Epoch 33/400\n",
      "62/62 [==============================] - 177s 3s/step - loss: 0.7206 - recall: 0.6845 - val_loss: 0.7325 - val_recall: 0.6991\n",
      "Epoch 34/400\n",
      "62/62 [==============================] - ETA: 0s - loss: 0.7127 - recall: 0.6819INFO:tensorflow:Assets written to: models/run_2021_01_10-15_03_58/assets\n",
      "62/62 [==============================] - 174s 3s/step - loss: 0.7127 - recall: 0.6819 - val_loss: 0.7191 - val_recall: 0.6588\n",
      "Epoch 35/400\n",
      "62/62 [==============================] - 179s 3s/step - loss: 0.7181 - recall: 0.6707 - val_loss: 0.7202 - val_recall: 0.6540\n",
      "Epoch 36/400\n",
      "62/62 [==============================] - ETA: 0s - loss: 0.7119 - recall: 0.6657INFO:tensorflow:Assets written to: models/run_2021_01_10-15_03_58/assets\n",
      "62/62 [==============================] - 173s 3s/step - loss: 0.7119 - recall: 0.6657 - val_loss: 0.6972 - val_recall: 0.6848\n",
      "Epoch 37/400\n",
      "62/62 [==============================] - 169s 3s/step - loss: 0.7005 - recall: 0.6748 - val_loss: 0.7136 - val_recall: 0.6256\n",
      "Epoch 38/400\n",
      "62/62 [==============================] - 173s 3s/step - loss: 0.6999 - recall: 0.6824 - val_loss: 0.7230 - val_recall: 0.7133\n",
      "Epoch 39/400\n",
      "62/62 [==============================] - ETA: 0s - loss: 0.6946 - recall: 0.6753INFO:tensorflow:Assets written to: models/run_2021_01_10-15_03_58/assets\n"
     ]
    },
    {
     "name": "stdout",
     "output_type": "stream",
     "text": [
      "62/62 [==============================] - 168s 3s/step - loss: 0.6946 - recall: 0.6753 - val_loss: 0.6910 - val_recall: 0.6801\n",
      "Epoch 40/400\n",
      "62/62 [==============================] - 165s 3s/step - loss: 0.6927 - recall: 0.6870 - val_loss: 0.7338 - val_recall: 0.6137\n",
      "Epoch 41/400\n",
      "62/62 [==============================] - 165s 3s/step - loss: 0.7066 - recall: 0.6758 - val_loss: 0.7038 - val_recall: 0.6706\n",
      "Epoch 42/400\n",
      "62/62 [==============================] - 165s 3s/step - loss: 0.6916 - recall: 0.6738 - val_loss: 0.6971 - val_recall: 0.6706\n",
      "Epoch 43/400\n",
      "62/62 [==============================] - 165s 3s/step - loss: 0.6860 - recall: 0.6738 - val_loss: 0.7420 - val_recall: 0.5332\n",
      "Epoch 44/400\n",
      "62/62 [==============================] - 165s 3s/step - loss: 0.6831 - recall: 0.6733 - val_loss: 0.7086 - val_recall: 0.6422\n",
      "Epoch 45/400\n",
      "62/62 [==============================] - ETA: 0s - loss: 0.6902 - recall: 0.6850INFO:tensorflow:Assets written to: models/run_2021_01_10-15_03_58/assets\n",
      "62/62 [==============================] - 167s 3s/step - loss: 0.6902 - recall: 0.6850 - val_loss: 0.6693 - val_recall: 0.7062\n",
      "Epoch 46/400\n",
      "62/62 [==============================] - 165s 3s/step - loss: 0.6871 - recall: 0.6860 - val_loss: 0.6710 - val_recall: 0.6682\n",
      "Epoch 47/400\n",
      "62/62 [==============================] - 165s 3s/step - loss: 0.6840 - recall: 0.6753 - val_loss: 0.6760 - val_recall: 0.6754\n",
      "Epoch 48/400\n",
      "62/62 [==============================] - 164s 3s/step - loss: 0.6803 - recall: 0.6895 - val_loss: 0.6956 - val_recall: 0.6493\n",
      "Epoch 49/400\n",
      "62/62 [==============================] - 165s 3s/step - loss: 0.6798 - recall: 0.6763 - val_loss: 0.7715 - val_recall: 0.5024\n",
      "Epoch 50/400\n",
      "62/62 [==============================] - 164s 3s/step - loss: 0.6921 - recall: 0.6839 - val_loss: 0.6750 - val_recall: 0.6469\n",
      "Epoch 51/400\n",
      "62/62 [==============================] - ETA: 0s - loss: 0.6723 - recall: 0.6875INFO:tensorflow:Assets written to: models/run_2021_01_10-15_03_58/assets\n",
      "62/62 [==============================] - 166s 3s/step - loss: 0.6723 - recall: 0.6875 - val_loss: 0.6576 - val_recall: 0.6943\n",
      "Epoch 52/400\n",
      "62/62 [==============================] - 165s 3s/step - loss: 0.6625 - recall: 0.6926 - val_loss: 0.6674 - val_recall: 0.7062\n",
      "Epoch 53/400\n",
      "62/62 [==============================] - 166s 3s/step - loss: 0.6693 - recall: 0.6946 - val_loss: 0.6706 - val_recall: 0.7014\n",
      "Epoch 54/400\n",
      "62/62 [==============================] - 165s 3s/step - loss: 0.6820 - recall: 0.6773 - val_loss: 0.6617 - val_recall: 0.6967\n",
      "Epoch 55/400\n",
      "62/62 [==============================] - 165s 3s/step - loss: 0.6597 - recall: 0.6758 - val_loss: 0.6645 - val_recall: 0.6825\n",
      "Epoch 56/400\n",
      "62/62 [==============================] - 164s 3s/step - loss: 0.6808 - recall: 0.6936 - val_loss: 0.6808 - val_recall: 0.6327\n",
      "Epoch 57/400\n",
      "62/62 [==============================] - 166s 3s/step - loss: 0.6695 - recall: 0.6733 - val_loss: 0.6731 - val_recall: 0.6659\n",
      "Epoch 58/400\n",
      "62/62 [==============================] - 164s 3s/step - loss: 0.6603 - recall: 0.6763 - val_loss: 0.6942 - val_recall: 0.6232\n",
      "Epoch 59/400\n",
      "62/62 [==============================] - ETA: 0s - loss: 0.6680 - recall: 0.6921INFO:tensorflow:Assets written to: models/run_2021_01_10-15_03_58/assets\n",
      "62/62 [==============================] - 166s 3s/step - loss: 0.6680 - recall: 0.6921 - val_loss: 0.6575 - val_recall: 0.6872\n",
      "Epoch 60/400\n",
      "62/62 [==============================] - 164s 3s/step - loss: 0.6555 - recall: 0.6824 - val_loss: 0.6695 - val_recall: 0.6611\n",
      "Epoch 61/400\n",
      "62/62 [==============================] - 165s 3s/step - loss: 0.6442 - recall: 0.6992 - val_loss: 0.6632 - val_recall: 0.6706\n",
      "Epoch 62/400\n",
      "62/62 [==============================] - 165s 3s/step - loss: 0.6497 - recall: 0.6880 - val_loss: 0.6661 - val_recall: 0.6919\n",
      "Epoch 63/400\n",
      "62/62 [==============================] - ETA: 0s - loss: 0.6525 - recall: 0.6865INFO:tensorflow:Assets written to: models/run_2021_01_10-15_03_58/assets\n",
      "62/62 [==============================] - 166s 3s/step - loss: 0.6525 - recall: 0.6865 - val_loss: 0.6186 - val_recall: 0.7156\n",
      "Epoch 64/400\n",
      "62/62 [==============================] - 164s 3s/step - loss: 0.6487 - recall: 0.6946 - val_loss: 0.6791 - val_recall: 0.6374\n",
      "Epoch 65/400\n",
      "62/62 [==============================] - 166s 3s/step - loss: 0.6621 - recall: 0.6905 - val_loss: 0.6690 - val_recall: 0.6588\n",
      "Epoch 66/400\n",
      "62/62 [==============================] - 165s 3s/step - loss: 0.6508 - recall: 0.6865 - val_loss: 0.6735 - val_recall: 0.6493\n",
      "Epoch 67/400\n",
      "62/62 [==============================] - 165s 3s/step - loss: 0.6533 - recall: 0.6778 - val_loss: 0.6311 - val_recall: 0.6848\n",
      "Epoch 68/400\n",
      "62/62 [==============================] - 164s 3s/step - loss: 0.6342 - recall: 0.6987 - val_loss: 0.6641 - val_recall: 0.6611\n",
      "Epoch 69/400\n",
      "62/62 [==============================] - 164s 3s/step - loss: 0.6524 - recall: 0.6905 - val_loss: 0.6335 - val_recall: 0.6872\n",
      "Epoch 70/400\n",
      "62/62 [==============================] - 164s 3s/step - loss: 0.6460 - recall: 0.6926 - val_loss: 0.6630 - val_recall: 0.6659\n",
      "Epoch 71/400\n",
      "62/62 [==============================] - 165s 3s/step - loss: 0.6273 - recall: 0.6956 - val_loss: 0.7116 - val_recall: 0.6682\n",
      "Epoch 72/400\n",
      "62/62 [==============================] - 164s 3s/step - loss: 0.6354 - recall: 0.6987 - val_loss: 0.6550 - val_recall: 0.6588\n",
      "Epoch 73/400\n",
      "62/62 [==============================] - ETA: 0s - loss: 0.6112 - recall: 0.7048INFO:tensorflow:Assets written to: models/run_2021_01_10-15_03_58/assets\n",
      "62/62 [==============================] - 166s 3s/step - loss: 0.6112 - recall: 0.7048 - val_loss: 0.6045 - val_recall: 0.7156\n",
      "Epoch 74/400\n",
      "62/62 [==============================] - 164s 3s/step - loss: 0.6197 - recall: 0.6916 - val_loss: 0.6173 - val_recall: 0.7062\n",
      "Epoch 75/400\n",
      "62/62 [==============================] - 165s 3s/step - loss: 0.6152 - recall: 0.7012 - val_loss: 0.6432 - val_recall: 0.7204\n",
      "Epoch 76/400\n",
      "62/62 [==============================] - 164s 3s/step - loss: 0.6484 - recall: 0.6850 - val_loss: 0.6734 - val_recall: 0.6611\n",
      "Epoch 77/400\n",
      "62/62 [==============================] - 165s 3s/step - loss: 0.6188 - recall: 0.7002 - val_loss: 0.6785 - val_recall: 0.6540\n",
      "Epoch 78/400\n",
      "62/62 [==============================] - 165s 3s/step - loss: 0.6342 - recall: 0.7068 - val_loss: 0.6375 - val_recall: 0.6635\n",
      "Epoch 79/400\n",
      "62/62 [==============================] - 165s 3s/step - loss: 0.6005 - recall: 0.7144 - val_loss: 0.6170 - val_recall: 0.6825\n",
      "Epoch 80/400\n",
      "62/62 [==============================] - 164s 3s/step - loss: 0.6003 - recall: 0.7119 - val_loss: 0.6407 - val_recall: 0.6919\n",
      "Epoch 81/400\n",
      "62/62 [==============================] - 165s 3s/step - loss: 0.5972 - recall: 0.7134 - val_loss: 0.6453 - val_recall: 0.7251\n",
      "Epoch 82/400\n",
      "62/62 [==============================] - 165s 3s/step - loss: 0.6292 - recall: 0.7068 - val_loss: 0.6233 - val_recall: 0.6967\n",
      "Epoch 83/400\n",
      "62/62 [==============================] - 165s 3s/step - loss: 0.6145 - recall: 0.6972 - val_loss: 0.6404 - val_recall: 0.6943\n",
      "Epoch 84/400\n",
      "62/62 [==============================] - 165s 3s/step - loss: 0.6035 - recall: 0.7200 - val_loss: 0.6239 - val_recall: 0.6991\n",
      "Epoch 85/400\n",
      "62/62 [==============================] - 165s 3s/step - loss: 0.6182 - recall: 0.7088 - val_loss: 0.6191 - val_recall: 0.7180\n",
      "Epoch 86/400\n",
      "62/62 [==============================] - 164s 3s/step - loss: 0.6097 - recall: 0.7205 - val_loss: 0.6787 - val_recall: 0.6351\n",
      "Epoch 87/400\n",
      "62/62 [==============================] - 164s 3s/step - loss: 0.6041 - recall: 0.7160 - val_loss: 0.6231 - val_recall: 0.7441\n",
      "Epoch 88/400\n",
      "62/62 [==============================] - 165s 3s/step - loss: 0.5874 - recall: 0.7261 - val_loss: 0.6271 - val_recall: 0.6848\n",
      "Epoch 89/400\n",
      "62/62 [==============================] - 165s 3s/step - loss: 0.5826 - recall: 0.7205 - val_loss: 0.6258 - val_recall: 0.7275\n",
      "Epoch 90/400\n",
      "62/62 [==============================] - 164s 3s/step - loss: 0.5843 - recall: 0.7292 - val_loss: 0.6058 - val_recall: 0.7299\n",
      "Epoch 91/400\n",
      "62/62 [==============================] - 165s 3s/step - loss: 0.5988 - recall: 0.7149 - val_loss: 0.6125 - val_recall: 0.7109\n",
      "Epoch 92/400\n"
     ]
    },
    {
     "name": "stdout",
     "output_type": "stream",
     "text": [
      "62/62 [==============================] - 165s 3s/step - loss: 0.5704 - recall: 0.7149 - val_loss: 0.6076 - val_recall: 0.7227\n",
      "Epoch 93/400\n",
      "62/62 [==============================] - 165s 3s/step - loss: 0.6093 - recall: 0.7109 - val_loss: 0.6151 - val_recall: 0.7370\n",
      "Epoch 94/400\n",
      "62/62 [==============================] - ETA: 0s - loss: 0.5851 - recall: 0.7256INFO:tensorflow:Assets written to: models/run_2021_01_10-15_03_58/assets\n",
      "62/62 [==============================] - 166s 3s/step - loss: 0.5851 - recall: 0.7256 - val_loss: 0.5943 - val_recall: 0.6991\n",
      "Epoch 95/400\n",
      "62/62 [==============================] - 165s 3s/step - loss: 0.5679 - recall: 0.7414 - val_loss: 0.6234 - val_recall: 0.7014\n",
      "Epoch 96/400\n",
      "62/62 [==============================] - 164s 3s/step - loss: 0.5827 - recall: 0.7276 - val_loss: 0.6097 - val_recall: 0.7299\n",
      "Epoch 97/400\n",
      "62/62 [==============================] - 165s 3s/step - loss: 0.5715 - recall: 0.7256 - val_loss: 0.6280 - val_recall: 0.7464\n",
      "Epoch 98/400\n",
      "62/62 [==============================] - 165s 3s/step - loss: 0.5691 - recall: 0.7403 - val_loss: 0.6175 - val_recall: 0.7393\n",
      "Epoch 99/400\n",
      "62/62 [==============================] - 165s 3s/step - loss: 0.5740 - recall: 0.7271 - val_loss: 0.6458 - val_recall: 0.7275\n",
      "Epoch 100/400\n",
      "62/62 [==============================] - 164s 3s/step - loss: 0.5571 - recall: 0.7297 - val_loss: 0.6166 - val_recall: 0.7014\n",
      "Epoch 101/400\n",
      "62/62 [==============================] - 165s 3s/step - loss: 0.5756 - recall: 0.7302 - val_loss: 0.6166 - val_recall: 0.7156\n",
      "Epoch 102/400\n",
      "62/62 [==============================] - 164s 3s/step - loss: 0.5421 - recall: 0.7510 - val_loss: 0.6393 - val_recall: 0.7227\n",
      "Epoch 103/400\n",
      "62/62 [==============================] - 165s 3s/step - loss: 0.5614 - recall: 0.7332 - val_loss: 0.6144 - val_recall: 0.7014\n",
      "Epoch 104/400\n",
      "62/62 [==============================] - ETA: 0s - loss: 0.5549 - recall: 0.7388INFO:tensorflow:Assets written to: models/run_2021_01_10-15_03_58/assets\n",
      "62/62 [==============================] - 166s 3s/step - loss: 0.5549 - recall: 0.7388 - val_loss: 0.5929 - val_recall: 0.7393\n",
      "Epoch 105/400\n",
      "62/62 [==============================] - 165s 3s/step - loss: 0.5553 - recall: 0.7312 - val_loss: 0.5985 - val_recall: 0.7393\n",
      "Epoch 106/400\n",
      "62/62 [==============================] - 165s 3s/step - loss: 0.5637 - recall: 0.7393 - val_loss: 0.6171 - val_recall: 0.7441\n",
      "Epoch 107/400\n",
      "62/62 [==============================] - 164s 3s/step - loss: 0.5575 - recall: 0.7429 - val_loss: 0.6269 - val_recall: 0.7251\n",
      "Epoch 108/400\n",
      "62/62 [==============================] - 165s 3s/step - loss: 0.5346 - recall: 0.7439 - val_loss: 0.6381 - val_recall: 0.7085\n",
      "Epoch 109/400\n",
      "62/62 [==============================] - 165s 3s/step - loss: 0.5400 - recall: 0.7475 - val_loss: 0.6008 - val_recall: 0.7536\n",
      "Epoch 110/400\n",
      "62/62 [==============================] - 165s 3s/step - loss: 0.5534 - recall: 0.7505 - val_loss: 0.5930 - val_recall: 0.7227\n",
      "Epoch 111/400\n",
      "62/62 [==============================] - 165s 3s/step - loss: 0.5364 - recall: 0.7449 - val_loss: 0.5949 - val_recall: 0.7133\n",
      "Epoch 112/400\n",
      "62/62 [==============================] - 164s 3s/step - loss: 0.5567 - recall: 0.7464 - val_loss: 0.6223 - val_recall: 0.7062\n",
      "Epoch 113/400\n",
      "62/62 [==============================] - 165s 3s/step - loss: 0.5348 - recall: 0.7571 - val_loss: 0.6123 - val_recall: 0.7322\n",
      "Epoch 114/400\n",
      "62/62 [==============================] - 165s 3s/step - loss: 0.5365 - recall: 0.7414 - val_loss: 0.5967 - val_recall: 0.7227\n",
      "Epoch 115/400\n",
      "62/62 [==============================] - 165s 3s/step - loss: 0.5246 - recall: 0.7546 - val_loss: 0.6571 - val_recall: 0.6825\n",
      "Epoch 116/400\n",
      "62/62 [==============================] - 165s 3s/step - loss: 0.5318 - recall: 0.7607 - val_loss: 0.6165 - val_recall: 0.7488\n",
      "Epoch 117/400\n",
      "62/62 [==============================] - 165s 3s/step - loss: 0.5233 - recall: 0.7607 - val_loss: 0.7298 - val_recall: 0.6232\n",
      "Epoch 118/400\n",
      "62/62 [==============================] - 167s 3s/step - loss: 0.5125 - recall: 0.7551 - val_loss: 0.6089 - val_recall: 0.7488\n",
      "Epoch 119/400\n",
      "62/62 [==============================] - ETA: 0s - loss: 0.4962 - recall: 0.7764INFO:tensorflow:Assets written to: models/run_2021_01_10-15_03_58/assets\n",
      "62/62 [==============================] - 183s 3s/step - loss: 0.4962 - recall: 0.7764 - val_loss: 0.5681 - val_recall: 0.7441\n",
      "Epoch 120/400\n",
      "62/62 [==============================] - 179s 3s/step - loss: 0.5296 - recall: 0.7612 - val_loss: 0.5916 - val_recall: 0.7275\n",
      "Epoch 121/400\n",
      "62/62 [==============================] - 172s 3s/step - loss: 0.5290 - recall: 0.7683 - val_loss: 0.6364 - val_recall: 0.7773\n",
      "Epoch 122/400\n",
      "62/62 [==============================] - 173s 3s/step - loss: 0.5286 - recall: 0.7556 - val_loss: 0.5954 - val_recall: 0.7796\n",
      "Epoch 123/400\n",
      "62/62 [==============================] - 175s 3s/step - loss: 0.5171 - recall: 0.7581 - val_loss: 0.5910 - val_recall: 0.7773\n",
      "Epoch 124/400\n",
      "62/62 [==============================] - 174s 3s/step - loss: 0.5026 - recall: 0.7668 - val_loss: 0.5872 - val_recall: 0.7370\n",
      "Epoch 125/400\n",
      "62/62 [==============================] - 175s 3s/step - loss: 0.5026 - recall: 0.7708 - val_loss: 0.6418 - val_recall: 0.7299\n",
      "Epoch 126/400\n",
      "62/62 [==============================] - 175s 3s/step - loss: 0.5162 - recall: 0.7673 - val_loss: 0.5768 - val_recall: 0.7370\n",
      "Epoch 127/400\n",
      "62/62 [==============================] - 178s 3s/step - loss: 0.5083 - recall: 0.7718 - val_loss: 0.6187 - val_recall: 0.7512\n",
      "Epoch 128/400\n",
      "62/62 [==============================] - 176s 3s/step - loss: 0.5113 - recall: 0.7729 - val_loss: 0.6557 - val_recall: 0.7512\n",
      "Epoch 129/400\n",
      "62/62 [==============================] - 175s 3s/step - loss: 0.4974 - recall: 0.7718 - val_loss: 0.5905 - val_recall: 0.7536\n",
      "Epoch 130/400\n",
      "62/62 [==============================] - 175s 3s/step - loss: 0.4980 - recall: 0.7678 - val_loss: 0.5831 - val_recall: 0.7654\n",
      "Epoch 131/400\n",
      "62/62 [==============================] - 181s 3s/step - loss: 0.4949 - recall: 0.7713 - val_loss: 0.6067 - val_recall: 0.7630\n",
      "Epoch 132/400\n",
      "62/62 [==============================] - 171s 3s/step - loss: 0.4833 - recall: 0.7749 - val_loss: 0.6275 - val_recall: 0.7322\n",
      "Epoch 133/400\n",
      "62/62 [==============================] - 169s 3s/step - loss: 0.5008 - recall: 0.7744 - val_loss: 0.5893 - val_recall: 0.7512\n",
      "Epoch 134/400\n",
      "62/62 [==============================] - 174s 3s/step - loss: 0.4924 - recall: 0.7749 - val_loss: 0.5821 - val_recall: 0.7464\n",
      "Epoch 135/400\n",
      "62/62 [==============================] - 175s 3s/step - loss: 0.4801 - recall: 0.7713 - val_loss: 0.5953 - val_recall: 0.7441\n",
      "Epoch 136/400\n",
      "62/62 [==============================] - 165s 3s/step - loss: 0.4680 - recall: 0.7932 - val_loss: 0.6008 - val_recall: 0.7275\n",
      "Epoch 137/400\n",
      "62/62 [==============================] - 166s 3s/step - loss: 0.4746 - recall: 0.7825 - val_loss: 0.5851 - val_recall: 0.7109\n",
      "Epoch 138/400\n",
      "62/62 [==============================] - 166s 3s/step - loss: 0.4770 - recall: 0.7840 - val_loss: 0.6297 - val_recall: 0.7370\n",
      "Epoch 139/400\n",
      "62/62 [==============================] - 166s 3s/step - loss: 0.4876 - recall: 0.7851 - val_loss: 0.6124 - val_recall: 0.7441\n",
      "Epoch 140/400\n",
      "62/62 [==============================] - 166s 3s/step - loss: 0.4920 - recall: 0.7734 - val_loss: 0.5785 - val_recall: 0.7322\n",
      "Epoch 141/400\n",
      "62/62 [==============================] - 166s 3s/step - loss: 0.5014 - recall: 0.7729 - val_loss: 0.6026 - val_recall: 0.7299\n",
      "Epoch 142/400\n",
      "62/62 [==============================] - 165s 3s/step - loss: 0.4916 - recall: 0.7739 - val_loss: 0.5998 - val_recall: 0.7370\n",
      "Epoch 143/400\n",
      "62/62 [==============================] - 165s 3s/step - loss: 0.4790 - recall: 0.7703 - val_loss: 0.6243 - val_recall: 0.7701\n",
      "Epoch 144/400\n",
      "62/62 [==============================] - 165s 3s/step - loss: 0.4590 - recall: 0.7912 - val_loss: 0.5846 - val_recall: 0.7583\n",
      "Epoch 145/400\n",
      "62/62 [==============================] - 164s 3s/step - loss: 0.4706 - recall: 0.7937 - val_loss: 0.6009 - val_recall: 0.7464\n",
      "Epoch 146/400\n",
      "62/62 [==============================] - 165s 3s/step - loss: 0.4754 - recall: 0.7876 - val_loss: 0.6297 - val_recall: 0.7488\n",
      "Epoch 147/400\n"
     ]
    },
    {
     "name": "stdout",
     "output_type": "stream",
     "text": [
      "62/62 [==============================] - ETA: 0s - loss: 0.4709 - recall: 0.7947INFO:tensorflow:Assets written to: models/run_2021_01_10-15_03_58/assets\n",
      "62/62 [==============================] - 166s 3s/step - loss: 0.4709 - recall: 0.7947 - val_loss: 0.5673 - val_recall: 0.7536\n",
      "Epoch 148/400\n",
      "62/62 [==============================] - 164s 3s/step - loss: 0.4582 - recall: 0.8089 - val_loss: 0.6001 - val_recall: 0.7607\n",
      "Epoch 149/400\n",
      "62/62 [==============================] - 165s 3s/step - loss: 0.4643 - recall: 0.7917 - val_loss: 0.6250 - val_recall: 0.7559\n",
      "Epoch 150/400\n",
      "62/62 [==============================] - 164s 3s/step - loss: 0.4676 - recall: 0.7835 - val_loss: 0.6068 - val_recall: 0.7346\n",
      "Epoch 151/400\n",
      "62/62 [==============================] - 165s 3s/step - loss: 0.4849 - recall: 0.7861 - val_loss: 0.5835 - val_recall: 0.7559\n",
      "Epoch 152/400\n",
      "62/62 [==============================] - 164s 3s/step - loss: 0.4653 - recall: 0.7861 - val_loss: 0.5999 - val_recall: 0.7583\n",
      "Epoch 153/400\n",
      "62/62 [==============================] - 165s 3s/step - loss: 0.4564 - recall: 0.7983 - val_loss: 0.5996 - val_recall: 0.7512\n",
      "Epoch 154/400\n",
      "62/62 [==============================] - 164s 3s/step - loss: 0.4485 - recall: 0.7998 - val_loss: 0.6156 - val_recall: 0.7630\n",
      "Epoch 155/400\n",
      "62/62 [==============================] - 165s 3s/step - loss: 0.4647 - recall: 0.7912 - val_loss: 0.5873 - val_recall: 0.7583\n",
      "Epoch 156/400\n",
      "62/62 [==============================] - ETA: 0s - loss: 0.4454 - recall: 0.8044INFO:tensorflow:Assets written to: models/run_2021_01_10-15_03_58/assets\n",
      "62/62 [==============================] - 165s 3s/step - loss: 0.4454 - recall: 0.8044 - val_loss: 0.5611 - val_recall: 0.7701\n",
      "Epoch 157/400\n",
      "62/62 [==============================] - 165s 3s/step - loss: 0.4391 - recall: 0.8034 - val_loss: 0.6995 - val_recall: 0.7133\n",
      "Epoch 158/400\n",
      "62/62 [==============================] - 164s 3s/step - loss: 0.4642 - recall: 0.7988 - val_loss: 0.6146 - val_recall: 0.7701\n",
      "Epoch 159/400\n",
      "62/62 [==============================] - 165s 3s/step - loss: 0.4291 - recall: 0.8155 - val_loss: 0.6214 - val_recall: 0.7678\n",
      "Epoch 160/400\n",
      "62/62 [==============================] - 165s 3s/step - loss: 0.4471 - recall: 0.8120 - val_loss: 0.6424 - val_recall: 0.7536\n",
      "Epoch 161/400\n",
      "62/62 [==============================] - 164s 3s/step - loss: 0.4479 - recall: 0.8028 - val_loss: 0.5739 - val_recall: 0.7607\n",
      "Epoch 162/400\n",
      "62/62 [==============================] - 164s 3s/step - loss: 0.4529 - recall: 0.7973 - val_loss: 0.6050 - val_recall: 0.7393\n",
      "Epoch 163/400\n",
      "62/62 [==============================] - 165s 3s/step - loss: 0.4304 - recall: 0.8044 - val_loss: 0.6260 - val_recall: 0.7536\n",
      "Epoch 164/400\n",
      "62/62 [==============================] - 164s 3s/step - loss: 0.4349 - recall: 0.8084 - val_loss: 0.5636 - val_recall: 0.7607\n",
      "Epoch 165/400\n",
      "62/62 [==============================] - 166s 3s/step - loss: 0.4337 - recall: 0.8074 - val_loss: 0.6299 - val_recall: 0.7393\n",
      "Epoch 166/400\n",
      "62/62 [==============================] - 164s 3s/step - loss: 0.4311 - recall: 0.8155 - val_loss: 0.6115 - val_recall: 0.7512\n",
      "Epoch 167/400\n",
      "62/62 [==============================] - 165s 3s/step - loss: 0.4547 - recall: 0.7947 - val_loss: 0.6138 - val_recall: 0.7370\n",
      "Epoch 168/400\n",
      "62/62 [==============================] - 164s 3s/step - loss: 0.4194 - recall: 0.8186 - val_loss: 0.6057 - val_recall: 0.7464\n",
      "Epoch 169/400\n",
      "62/62 [==============================] - 165s 3s/step - loss: 0.4196 - recall: 0.8100 - val_loss: 0.5867 - val_recall: 0.7796\n",
      "Epoch 170/400\n",
      "62/62 [==============================] - 164s 3s/step - loss: 0.4184 - recall: 0.8135 - val_loss: 0.6354 - val_recall: 0.6943\n",
      "Epoch 171/400\n",
      "62/62 [==============================] - 165s 3s/step - loss: 0.4363 - recall: 0.8110 - val_loss: 0.5863 - val_recall: 0.7678\n",
      "Epoch 172/400\n",
      "62/62 [==============================] - 164s 3s/step - loss: 0.4297 - recall: 0.8064 - val_loss: 0.6099 - val_recall: 0.7417\n",
      "Epoch 173/400\n",
      "62/62 [==============================] - 164s 3s/step - loss: 0.4030 - recall: 0.8216 - val_loss: 0.5881 - val_recall: 0.7654\n",
      "Epoch 174/400\n",
      "62/62 [==============================] - 164s 3s/step - loss: 0.4112 - recall: 0.8150 - val_loss: 0.5735 - val_recall: 0.7630\n",
      "Epoch 175/400\n",
      "62/62 [==============================] - 165s 3s/step - loss: 0.4458 - recall: 0.7967 - val_loss: 0.6190 - val_recall: 0.7227\n",
      "Epoch 176/400\n",
      "62/62 [==============================] - 164s 3s/step - loss: 0.4225 - recall: 0.8064 - val_loss: 0.5976 - val_recall: 0.7678\n",
      "Epoch 177/400\n",
      "62/62 [==============================] - 166s 3s/step - loss: 0.3911 - recall: 0.8237 - val_loss: 0.6027 - val_recall: 0.7559\n",
      "Epoch 178/400\n",
      "62/62 [==============================] - 164s 3s/step - loss: 0.4002 - recall: 0.8267 - val_loss: 0.6150 - val_recall: 0.7678\n",
      "Epoch 179/400\n",
      "62/62 [==============================] - 164s 3s/step - loss: 0.4163 - recall: 0.8171 - val_loss: 0.6558 - val_recall: 0.7583\n",
      "Epoch 180/400\n",
      "62/62 [==============================] - 164s 3s/step - loss: 0.4338 - recall: 0.8034 - val_loss: 0.6133 - val_recall: 0.7773\n",
      "Epoch 181/400\n",
      "62/62 [==============================] - 165s 3s/step - loss: 0.3869 - recall: 0.8298 - val_loss: 0.6500 - val_recall: 0.7867\n",
      "Epoch 182/400\n",
      "62/62 [==============================] - 163s 3s/step - loss: 0.4067 - recall: 0.8262 - val_loss: 0.6506 - val_recall: 0.7488\n",
      "Epoch 183/400\n",
      "62/62 [==============================] - 164s 3s/step - loss: 0.4010 - recall: 0.8227 - val_loss: 0.6814 - val_recall: 0.7678\n",
      "Epoch 184/400\n",
      "62/62 [==============================] - 164s 3s/step - loss: 0.4254 - recall: 0.8216 - val_loss: 0.6690 - val_recall: 0.7512\n",
      "Epoch 185/400\n",
      "62/62 [==============================] - 165s 3s/step - loss: 0.4210 - recall: 0.8130 - val_loss: 0.6058 - val_recall: 0.7536\n",
      "Epoch 186/400\n",
      "62/62 [==============================] - 164s 3s/step - loss: 0.3957 - recall: 0.8298 - val_loss: 0.6576 - val_recall: 0.7891\n",
      "Epoch 187/400\n",
      "62/62 [==============================] - 164s 3s/step - loss: 0.4205 - recall: 0.8130 - val_loss: 0.6171 - val_recall: 0.7512\n",
      "Epoch 188/400\n",
      "62/62 [==============================] - 164s 3s/step - loss: 0.3993 - recall: 0.8247 - val_loss: 0.6217 - val_recall: 0.7607\n",
      "Epoch 189/400\n",
      "62/62 [==============================] - 165s 3s/step - loss: 0.3998 - recall: 0.8252 - val_loss: 0.6779 - val_recall: 0.7583\n",
      "Epoch 190/400\n",
      "62/62 [==============================] - 164s 3s/step - loss: 0.4016 - recall: 0.8242 - val_loss: 0.6477 - val_recall: 0.7322\n",
      "Epoch 191/400\n",
      "62/62 [==============================] - 165s 3s/step - loss: 0.3792 - recall: 0.8374 - val_loss: 0.6996 - val_recall: 0.7109\n",
      "Epoch 192/400\n",
      "62/62 [==============================] - 164s 3s/step - loss: 0.3831 - recall: 0.8303 - val_loss: 0.6337 - val_recall: 0.7796\n",
      "Epoch 193/400\n",
      "62/62 [==============================] - 164s 3s/step - loss: 0.4035 - recall: 0.8186 - val_loss: 0.6313 - val_recall: 0.7630\n",
      "Epoch 194/400\n",
      "62/62 [==============================] - 164s 3s/step - loss: 0.4094 - recall: 0.8206 - val_loss: 0.6191 - val_recall: 0.7749\n",
      "Epoch 195/400\n",
      "62/62 [==============================] - 164s 3s/step - loss: 0.3904 - recall: 0.8262 - val_loss: 0.6051 - val_recall: 0.7773\n",
      "Epoch 196/400\n",
      "62/62 [==============================] - 164s 3s/step - loss: 0.3869 - recall: 0.8211 - val_loss: 0.6764 - val_recall: 0.7583\n",
      "Epoch 197/400\n",
      "62/62 [==============================] - 165s 3s/step - loss: 0.3729 - recall: 0.8328 - val_loss: 0.6886 - val_recall: 0.7701\n",
      "Epoch 198/400\n",
      "62/62 [==============================] - 165s 3s/step - loss: 0.3992 - recall: 0.8272 - val_loss: 0.6671 - val_recall: 0.7370\n",
      "Epoch 199/400\n",
      "62/62 [==============================] - 165s 3s/step - loss: 0.3770 - recall: 0.8343 - val_loss: 0.7323 - val_recall: 0.7867\n",
      "Epoch 200/400\n",
      "62/62 [==============================] - 164s 3s/step - loss: 0.3870 - recall: 0.8328 - val_loss: 0.6832 - val_recall: 0.7701\n",
      "Epoch 201/400\n",
      "62/62 [==============================] - 165s 3s/step - loss: 0.3798 - recall: 0.8389 - val_loss: 0.7164 - val_recall: 0.7393\n",
      "Epoch 00201: early stopping\n"
     ]
    }
   ],
   "source": [
    "epochs=400\n",
    "history = model.fit(\n",
    "  train_generator,\n",
    "  validation_data=validation_generator,\n",
    "  epochs=epochs,\n",
    "    callbacks=[callbacks])"
   ]
  },
  {
   "cell_type": "code",
   "execution_count": 14,
   "metadata": {},
   "outputs": [
    {
     "data": {
      "image/png": "[encoded data removed]",
      "text/plain": [
       "<Figure size 576x576 with 2 Axes>"
      ]
     },
     "metadata": {},
     "output_type": "display_data"
    }
   ],
   "source": [
    "plt.style.use('seaborn')\n",
    "acc = history.history['recall']\n",
    "val_acc = history.history['val_recall']\n",
    "\n",
    "loss = history.history['loss']\n",
    "val_loss = history.history['val_loss']\n",
    "\n",
    "epochs_range = range(len(acc))\n",
    "\n",
    "plt.figure(figsize=(8, 8))\n",
    "plt.subplot(1, 2, 1)\n",
    "plt.plot(epochs_range, acc, label='Training Recall')\n",
    "plt.plot(epochs_range, val_acc, label='Validation Recall')\n",
    "plt.legend(loc='lower right')\n",
    "plt.title('Training and Validation Recall')\n",
    "\n",
    "\n",
    "plt.subplot(1, 2, 2)\n",
    "plt.plot(epochs_range, loss, label='Training Loss')\n",
    "plt.plot(epochs_range, val_loss, label='Validation Loss')\n",
    "plt.legend(loc='upper right')\n",
    "plt.title('Training and Validation Loss')\n",
    "plt.savefig('graphs/simplemodel128x2aug_zoom.png', bbox_inches='tight')\n",
    "plt.show()"
   ]
  },
  {
   "cell_type": "code",
   "execution_count": 15,
   "metadata": {},
   "outputs": [
    {
     "name": "stdout",
     "output_type": "stream",
     "text": [
      "Found 424 images belonging to 3 classes.\n"
     ]
    }
   ],
   "source": [
    "test_generator = test_datagen.flow_from_directory(\n",
    "        'plants/test',\n",
    "        target_size=(300, 200),\n",
    "        batch_size=16,\n",
    "        shuffle=False,\n",
    "        class_mode='categorical')"
   ]
  },
  {
   "cell_type": "code",
   "execution_count": 16,
   "metadata": {},
   "outputs": [],
   "source": [
    "ben_plants = os.listdir('plants/test/Benign_Plants')\n",
    "ivy=os.listdir('plants/test/Poison_Ivy/')\n",
    "oak=os.listdir('plants/test/Poison_Oak')"
   ]
  },
  {
   "cell_type": "code",
   "execution_count": 17,
   "metadata": {},
   "outputs": [],
   "source": [
    "y_true=pd.DataFrame()\n",
    "for i in range(len(ben_plants)):\n",
    "    num=pd.Series([1,0,0])\n",
    "    y_true= y_true.append(num, ignore_index=True)\n",
    "for j in range(len(ivy)):\n",
    "    num=pd.Series([0,1,0])\n",
    "    y_true= y_true.append(num, ignore_index=True)\n",
    "for k in range(len(oak)):\n",
    "    num=pd.Series([0,0,1])\n",
    "    y_true= y_true.append(num, ignore_index=True)"
   ]
  },
  {
   "cell_type": "code",
   "execution_count": 18,
   "metadata": {},
   "outputs": [
    {
     "name": "stdout",
     "output_type": "stream",
     "text": [
      "27/27 [==============================] - 10s 354ms/step\n"
     ]
    }
   ],
   "source": [
    "y_hat=(model.predict(test_generator, verbose=1))"
   ]
  },
  {
   "cell_type": "code",
   "execution_count": 19,
   "metadata": {},
   "outputs": [],
   "source": [
    "y_pred=np.argmax(y_hat, axis=1)\n",
    "y_s=np.argmax(np.array(y_true), axis=1)\n",
    "c_mat=confusion_matrix(y_s, y_pred)\n",
    "percent=(c_mat/(np.sum(c_mat, axis=1).reshape(3,-1))).reshape(3,3)"
   ]
  },
  {
   "cell_type": "code",
   "execution_count": 126,
   "metadata": {},
   "outputs": [
    {
     "data": {
      "text/plain": [
       "0.8729096989966555"
      ]
     },
     "execution_count": 126,
     "metadata": {},
     "output_type": "execute_result"
    }
   ],
   "source": [
    "percent[0,0]"
   ]
  },
  {
   "cell_type": "code",
   "execution_count": 20,
   "metadata": {},
   "outputs": [
    {
     "data": {
      "image/png": "[encoded data removed]",
      "text/plain": [
       "<Figure size 576x396 with 2 Axes>"
      ]
     },
     "metadata": {},
     "output_type": "display_data"
    }
   ],
   "source": [
    "predicted_cat=['Predicted Benign', 'Predicted Poison Ivy', 'Predicted Poison Oak']\n",
    "real_cat=['Actual Benign', 'Actual Poison Ivy', 'Actual Poison Oak']\n",
    "sns.heatmap(percent, annot=percent, cmap='YlGn', \n",
    "            xticklabels=predicted_cat, \n",
    "            yticklabels=real_cat).set_title('Confusion Matrix -Percent Actual Plant Predicted \\n built model 128 filters augmented with no weights');\n",
    "plt.savefig('graphs/simplemodel128x2_2aug_zoom.png', bbox_inches='tight')"
   ]
  },
  {
   "cell_type": "code",
   "execution_count": 109,
   "metadata": {},
   "outputs": [],
   "source": [
    "roc_benign_true=pd.Series(y_true[0])\n",
    "roc_poison_true=pd.Series(y_true[1]+y_true[2])\n",
    "roc_benign_hat=pd.Series(y_hat[:,0])\n",
    "roc_poison_hat=pd.Series(y_hat[:,1]+y_hat[:,2])\n",
    "roc_true=pd.DataFrame({'benign':roc_benign_true, 'poison':roc_poison_true})\n",
    "roc_pred=pd.DataFrame({'benign':roc_benign_hat, 'poison':roc_poison_hat})"
   ]
  },
  {
   "cell_type": "code",
   "execution_count": 148,
   "metadata": {},
   "outputs": [
    {
     "data": {
      "text/plain": [
       "array([1, 0, 0, 0, 1, 2, 0, 0, 0, 0, 2, 1, 0, 1, 1, 0, 0, 0, 0, 0, 0, 0,\n",
       "       0, 0, 0, 0, 0, 0, 0, 0, 0, 0, 0, 0, 0, 2, 2, 0, 1, 0, 0, 2, 0, 0,\n",
       "       0, 1, 0, 0, 0, 0, 0, 0, 0, 0, 0, 0, 2, 2, 0, 0, 0, 0, 0, 1, 0, 0,\n",
       "       0, 0, 0, 1, 0, 0, 0, 0, 0, 0, 0, 0, 0, 0, 0, 0, 0, 0, 0, 0, 2, 0,\n",
       "       0, 0, 0, 0, 1, 0, 0, 2, 0, 0, 0, 0, 0, 0, 0, 0, 0, 0, 1, 0, 0, 0,\n",
       "       0, 0, 0, 0, 0, 2, 0, 0, 0, 0, 0, 0, 0, 0, 0, 0, 0, 0, 0, 0, 0, 0,\n",
       "       0, 0, 0, 0, 0, 0, 0, 2, 0, 0, 0, 0, 0, 0, 0, 0, 0, 0, 0, 0, 0, 0,\n",
       "       1, 0, 0, 1, 0, 0, 0, 0, 0, 0, 0, 0, 0, 0, 2, 1, 0, 0, 1, 0, 0, 0,\n",
       "       0, 0, 0, 0, 0, 0, 0, 1, 0, 0, 0, 0, 0, 0, 0, 0, 0, 2, 0, 0, 0, 0,\n",
       "       0, 0, 0, 0, 0, 0, 0, 0, 0, 0, 0, 0, 0, 0, 0, 0, 2, 0, 0, 0, 0, 0,\n",
       "       0, 0, 0, 0, 0, 0, 1, 0, 0, 0, 0, 1, 0, 0, 1, 0, 2, 0, 0, 0, 0, 0,\n",
       "       0, 0, 0, 0, 0, 0, 0, 0, 0, 0, 0, 0, 1, 0, 0, 0, 0, 0, 0, 0, 0, 0,\n",
       "       0, 0, 0, 0, 0, 0, 0, 0, 0, 0, 0, 0, 0, 0, 0, 0, 0, 0, 0, 0, 0, 0,\n",
       "       0, 0, 0, 0, 0, 0, 0, 0, 0, 0, 0, 0, 2, 2, 1, 0, 0, 2, 0, 1, 1, 0,\n",
       "       0, 1, 0, 1, 2, 1, 1, 1, 0, 0, 1, 1, 1, 1, 0, 2, 0, 1, 2, 2, 1, 1,\n",
       "       0, 1, 0, 0, 1, 1, 2, 1, 0, 1, 2, 0, 0, 0, 1, 0, 1, 2, 1, 1, 2, 1,\n",
       "       0, 1, 1, 1, 1, 1, 1, 0, 1, 1, 2, 0, 1, 0, 2, 1, 0, 2, 2, 2, 2, 2,\n",
       "       0, 2, 2, 2, 2, 1, 1, 2, 2, 0, 0, 2, 0, 0, 0, 0, 2, 2, 2, 2, 1, 2,\n",
       "       2, 2, 2, 1, 2, 2, 2, 0, 2, 2, 0, 2, 2, 2, 0, 2, 2, 0, 2, 0, 1, 2,\n",
       "       2, 0, 0, 0, 2, 2])"
      ]
     },
     "execution_count": 148,
     "metadata": {},
     "output_type": "execute_result"
    }
   ],
   "source": [
    "y_=pd.DataFrame(y_hat)\n",
    "y_[0]=y_[0].apply(lambda x: x + 0.03)\n",
    "y_\n",
    "np.argmax(np.array(y_), axis=1)"
   ]
  },
  {
   "cell_type": "code",
   "execution_count": 197,
   "metadata": {},
   "outputs": [],
   "source": [
    "threshold_range=np.arange(-0.99, -0.33, 0.03)"
   ]
  },
  {
   "cell_type": "code",
   "execution_count": 163,
   "metadata": {},
   "outputs": [
    {
     "data": {
      "text/html": [
       "<div>\n",
       "<style scoped>\n",
       "    .dataframe tbody tr th:only-of-type {\n",
       "        vertical-align: middle;\n",
       "    }\n",
       "\n",
       "    .dataframe tbody tr th {\n",
       "        vertical-align: top;\n",
       "    }\n",
       "\n",
       "    .dataframe thead th {\n",
       "        text-align: right;\n",
       "    }\n",
       "</style>\n",
       "<table border=\"1\" class=\"dataframe\">\n",
       "  <thead>\n",
       "    <tr style=\"text-align: right;\">\n",
       "      <th></th>\n",
       "      <th>0</th>\n",
       "      <th>1</th>\n",
       "      <th>2</th>\n",
       "    </tr>\n",
       "  </thead>\n",
       "  <tbody>\n",
       "    <tr>\n",
       "      <th>0</th>\n",
       "      <td>1.0</td>\n",
       "      <td>0.0</td>\n",
       "      <td>0.0</td>\n",
       "    </tr>\n",
       "    <tr>\n",
       "      <th>1</th>\n",
       "      <td>1.0</td>\n",
       "      <td>0.0</td>\n",
       "      <td>0.0</td>\n",
       "    </tr>\n",
       "    <tr>\n",
       "      <th>2</th>\n",
       "      <td>1.0</td>\n",
       "      <td>0.0</td>\n",
       "      <td>0.0</td>\n",
       "    </tr>\n",
       "    <tr>\n",
       "      <th>3</th>\n",
       "      <td>1.0</td>\n",
       "      <td>0.0</td>\n",
       "      <td>0.0</td>\n",
       "    </tr>\n",
       "    <tr>\n",
       "      <th>4</th>\n",
       "      <td>1.0</td>\n",
       "      <td>0.0</td>\n",
       "      <td>0.0</td>\n",
       "    </tr>\n",
       "    <tr>\n",
       "      <th>...</th>\n",
       "      <td>...</td>\n",
       "      <td>...</td>\n",
       "      <td>...</td>\n",
       "    </tr>\n",
       "    <tr>\n",
       "      <th>419</th>\n",
       "      <td>0.0</td>\n",
       "      <td>0.0</td>\n",
       "      <td>1.0</td>\n",
       "    </tr>\n",
       "    <tr>\n",
       "      <th>420</th>\n",
       "      <td>0.0</td>\n",
       "      <td>0.0</td>\n",
       "      <td>1.0</td>\n",
       "    </tr>\n",
       "    <tr>\n",
       "      <th>421</th>\n",
       "      <td>0.0</td>\n",
       "      <td>0.0</td>\n",
       "      <td>1.0</td>\n",
       "    </tr>\n",
       "    <tr>\n",
       "      <th>422</th>\n",
       "      <td>0.0</td>\n",
       "      <td>0.0</td>\n",
       "      <td>1.0</td>\n",
       "    </tr>\n",
       "    <tr>\n",
       "      <th>423</th>\n",
       "      <td>0.0</td>\n",
       "      <td>0.0</td>\n",
       "      <td>1.0</td>\n",
       "    </tr>\n",
       "  </tbody>\n",
       "</table>\n",
       "<p>424 rows × 3 columns</p>\n",
       "</div>"
      ],
      "text/plain": [
       "       0    1    2\n",
       "0    1.0  0.0  0.0\n",
       "1    1.0  0.0  0.0\n",
       "2    1.0  0.0  0.0\n",
       "3    1.0  0.0  0.0\n",
       "4    1.0  0.0  0.0\n",
       "..   ...  ...  ...\n",
       "419  0.0  0.0  1.0\n",
       "420  0.0  0.0  1.0\n",
       "421  0.0  0.0  1.0\n",
       "422  0.0  0.0  1.0\n",
       "423  0.0  0.0  1.0\n",
       "\n",
       "[424 rows x 3 columns]"
      ]
     },
     "execution_count": 163,
     "metadata": {},
     "output_type": "execute_result"
    }
   ],
   "source": [
    "y_true"
   ]
  },
  {
   "cell_type": "code",
   "execution_count": 121,
   "metadata": {},
   "outputs": [],
   "source": []
  },
  {
   "cell_type": "code",
   "execution_count": 193,
   "metadata": {},
   "outputs": [],
   "source": [
    "def percent_change(y_true_, y_hat_, thresh):\n",
    "    benign_percent=[]\n",
    "    ivy_percent=[]\n",
    "    oak_percent=[]\n",
    "    y_true=y_true_\n",
    "    for num in thresh:\n",
    "        y_hat=pd.DataFrame(y_hat_)\n",
    "        y_hat[0]=y_hat[0].apply(lambda x: x + num)\n",
    "        y_pred=np.argmax(y_hat.values, axis=1)\n",
    "        y_s=np.argmax(np.array(y_true), axis=1)\n",
    "        c_mat=confusion_matrix(y_s, y_pred)\n",
    "        percent=(c_mat/(np.sum(c_mat, axis=1).reshape(3,-1))).reshape(3,3)\n",
    "        benign_percent.append(percent[0,0])\n",
    "        ivy_percent.append(percent[1,1]+percent[1,2])\n",
    "        oak_percent.append(percent[2,1]+percent[2,2])\n",
    "    return benign_percent, ivy_percent, oak_percent"
   ]
  },
  {
   "cell_type": "code",
   "execution_count": 198,
   "metadata": {},
   "outputs": [],
   "source": [
    "benign_percent, ivy_percent, oak_percent=percent_change(y_true, y_hat, threshold_range)"
   ]
  },
  {
   "cell_type": "code",
   "execution_count": 199,
   "metadata": {},
   "outputs": [
    {
     "data": {
      "text/plain": [
       "[<matplotlib.lines.Line2D at 0x7fbb3dc4b100>]"
      ]
     },
     "execution_count": 199,
     "metadata": {},
     "output_type": "execute_result"
    },
    {
     "data": {
      "image/png": "[encoded data removed]",
      "text/plain": [
       "<Figure size 576x396 with 1 Axes>"
      ]
     },
     "metadata": {},
     "output_type": "display_data"
    }
   ],
   "source": [
    "plt.plot(threshold_range, benign_percent)\n",
    "plt.plot(threshold_range, ivy_percent)\n",
    "plt.plot(threshold_range, oak_percent)"
   ]
  },
  {
   "cell_type": "code",
   "execution_count": 191,
   "metadata": {},
   "outputs": [
    {
     "data": {
      "text/plain": [
       "[0.0,\n",
       " 0.431438127090301,\n",
       " 0.5518394648829431,\n",
       " 0.6287625418060201,\n",
       " 0.6822742474916388,\n",
       " 0.7157190635451505,\n",
       " 0.7658862876254181,\n",
       " 0.7959866220735786,\n",
       " 0.8093645484949833,\n",
       " 0.8394648829431438,\n",
       " 0.8729096989966555,\n",
       " 0.8896321070234113,\n",
       " 0.903010033444816,\n",
       " 0.919732441471572,\n",
       " 0.9264214046822743,\n",
       " 0.939799331103679,\n",
       " 0.959866220735786,\n",
       " 0.9632107023411371,\n",
       " 0.9632107023411371,\n",
       " 0.9732441471571907]"
      ]
     },
     "execution_count": 191,
     "metadata": {},
     "output_type": "execute_result"
    }
   ],
   "source": [
    "benign_percent"
   ]
  },
  {
   "cell_type": "code",
   "execution_count": 105,
   "metadata": {},
   "outputs": [
    {
     "data": {
      "text/plain": [
       "(424,)"
      ]
     },
     "execution_count": 105,
     "metadata": {},
     "output_type": "execute_result"
    }
   ],
   "source": [
    "np.array(roc_pred.poison).shape"
   ]
  },
  {
   "cell_type": "code",
   "execution_count": null,
   "metadata": {},
   "outputs": [],
   "source": []
  },
  {
   "cell_type": "code",
   "execution_count": 23,
   "metadata": {},
   "outputs": [],
   "source": [
    "loss=tf.keras.losses.CategoricalCrossentropy()"
   ]
  },
  {
   "cell_type": "code",
   "execution_count": null,
   "metadata": {},
   "outputs": [],
   "source": [
    "plot_roc(\"Train Baseline\", train_labels, train_predictions_baseline, color=colors[0])\n",
    "plot_roc(\"Test Baseline\", test_labels, test_predictions_baseline, color=colors[0], linestyle='--')\n",
    "plt.legend(loc='lower right')"
   ]
  },
  {
   "cell_type": "code",
   "execution_count": 201,
   "metadata": {},
   "outputs": [
    {
     "name": "stdout",
     "output_type": "stream",
     "text": [
      "Model: \"sequential\"\n",
      "_________________________________________________________________\n",
      "Layer (type)                 Output Shape              Param #   \n",
      "=================================================================\n",
      "rescaling (Rescaling)        (None, 300, 200, 3)       0         \n",
      "_________________________________________________________________\n",
      "conv2d (Conv2D)              (None, 300, 200, 64)      9472      \n",
      "_________________________________________________________________\n",
      "max_pooling2d (MaxPooling2D) (None, 150, 100, 64)      0         \n",
      "_________________________________________________________________\n",
      "conv2d_1 (Conv2D)            (None, 150, 100, 64)      36928     \n",
      "_________________________________________________________________\n",
      "max_pooling2d_1 (MaxPooling2 (None, 75, 50, 64)        0         \n",
      "_________________________________________________________________\n",
      "conv2d_2 (Conv2D)            (None, 75, 50, 128)       73856     \n",
      "_________________________________________________________________\n",
      "max_pooling2d_2 (MaxPooling2 (None, 37, 25, 128)       0         \n",
      "_________________________________________________________________\n",
      "conv2d_3 (Conv2D)            (None, 37, 25, 128)       147584    \n",
      "_________________________________________________________________\n",
      "max_pooling2d_3 (MaxPooling2 (None, 18, 12, 128)       0         \n",
      "_________________________________________________________________\n",
      "flatten (Flatten)            (None, 27648)             0         \n",
      "_________________________________________________________________\n",
      "dense (Dense)                (None, 128)               3539072   \n",
      "_________________________________________________________________\n",
      "dense_1 (Dense)              (None, 3)                 387       \n",
      "=================================================================\n",
      "Total params: 3,807,299\n",
      "Trainable params: 3,807,299\n",
      "Non-trainable params: 0\n",
      "_________________________________________________________________\n"
     ]
    }
   ],
   "source": [
    "model.summary()"
   ]
  },
  {
   "cell_type": "code",
   "execution_count": null,
   "metadata": {},
   "outputs": [],
   "source": [
    "model = Sequential([\n",
    "  layers.experimental.preprocessing.Rescaling(1./255, input_shape=(img_height, img_width, 3)),\n",
    "  layers.Conv2D(64, 7, padding='same', activation='relu'),\n",
    "  layers.MaxPooling2D(),\n",
    "  layers.Conv2D(64, 3, padding='same', activation='relu'),\n",
    "  layers.MaxPooling2D(),\n",
    "  layers.Conv2D(128, 3, padding='same', activation='relu'),\n",
    "  layers.MaxPooling2D(),\n",
    "  layers.Conv2D(128, 3, padding='same', activation='relu'),\n",
    "  layers.MaxPooling2D(),\n",
    "  layers.Flatten(),\n",
    "  layers.Dense(128, activation='relu'),\n",
    "  layers.Dense(num_classes, activation='softmax')\n",
    "])"
   ]
  },
  {
   "cell_type": "code",
   "execution_count": 207,
   "metadata": {},
   "outputs": [],
   "source": [
    "variable=model.pop()"
   ]
  },
  {
   "cell_type": "code",
   "execution_count": 211,
   "metadata": {},
   "outputs": [],
   "source": [
    "model.pop()"
   ]
  },
  {
   "cell_type": "code",
   "execution_count": 215,
   "metadata": {},
   "outputs": [],
   "source": [
    "model.add(layers.Dropout(0.3)) \n",
    "model.add(layers.Dense(128, activation='relu'))\n",
    "model.add(layers.Dense(num_classes, activation='softmax'))"
   ]
  },
  {
   "cell_type": "code",
   "execution_count": 219,
   "metadata": {},
   "outputs": [
    {
     "data": {
      "text/plain": [
       "13"
      ]
     },
     "execution_count": 219,
     "metadata": {},
     "output_type": "execute_result"
    }
   ],
   "source": [
    "len(model.layers)"
   ]
  },
  {
   "cell_type": "code",
   "execution_count": 220,
   "metadata": {},
   "outputs": [
    {
     "ename": "NameError",
     "evalue": "name 'change_trainable_layers' is not defined",
     "output_type": "error",
     "traceback": [
      "\u001b[0;31m---------------------------------------------------------------------------\u001b[0m",
      "\u001b[0;31mNameError\u001b[0m                                 Traceback (most recent call last)",
      "\u001b[0;32m<ipython-input-220-83c747de4661>\u001b[0m in \u001b[0;36m<module>\u001b[0;34m\u001b[0m\n\u001b[0;32m----> 1\u001b[0;31m \u001b[0mchange_trainable_layers\u001b[0m\u001b[0;34m(\u001b[0m\u001b[0mmodel\u001b[0m\u001b[0;34m,\u001b[0m \u001b[0;36m11\u001b[0m\u001b[0;34m)\u001b[0m\u001b[0;34m\u001b[0m\u001b[0;34m\u001b[0m\u001b[0m\n\u001b[0m",
      "\u001b[0;31mNameError\u001b[0m: name 'change_trainable_layers' is not defined"
     ]
    }
   ],
   "source": []
  },
  {
   "cell_type": "code",
   "execution_count": 221,
   "metadata": {},
   "outputs": [],
   "source": [
    "def change_trainable_layers(model, trainable_index):\n",
    "    for layer in model.layers[:trainable_index]:\n",
    "        layer.trainable = False\n",
    "    for layer in model.layers[trainable_index:]:\n",
    "        layer.trainable = True"
   ]
  },
  {
   "cell_type": "code",
   "execution_count": 225,
   "metadata": {},
   "outputs": [],
   "source": [
    "change_trainable_layers(model, 10)"
   ]
  },
  {
   "cell_type": "code",
   "execution_count": 226,
   "metadata": {},
   "outputs": [],
   "source": [
    "def print_model_properties(model, indices = 0):\n",
    "     for i, layer in enumerate(model.layers[indices:]):\n",
    "        print(\"Layer {} | Name: {} | Trainable: {}\".format(i+indices, layer.name, layer.trainable))"
   ]
  },
  {
   "cell_type": "code",
   "execution_count": 227,
   "metadata": {},
   "outputs": [
    {
     "name": "stdout",
     "output_type": "stream",
     "text": [
      "Layer 0 | Name: rescaling | Trainable: False\n",
      "Layer 1 | Name: conv2d | Trainable: False\n",
      "Layer 2 | Name: max_pooling2d | Trainable: False\n",
      "Layer 3 | Name: conv2d_1 | Trainable: False\n",
      "Layer 4 | Name: max_pooling2d_1 | Trainable: False\n",
      "Layer 5 | Name: conv2d_2 | Trainable: False\n",
      "Layer 6 | Name: max_pooling2d_2 | Trainable: False\n",
      "Layer 7 | Name: conv2d_3 | Trainable: False\n",
      "Layer 8 | Name: max_pooling2d_3 | Trainable: False\n",
      "Layer 9 | Name: flatten | Trainable: False\n",
      "Layer 10 | Name: dropout_1 | Trainable: True\n",
      "Layer 11 | Name: dense_4 | Trainable: True\n",
      "Layer 12 | Name: dense_5 | Trainable: True\n"
     ]
    }
   ],
   "source": [
    "print_model_properties(model, indices=0)"
   ]
  },
  {
   "cell_type": "code",
   "execution_count": null,
   "metadata": {},
   "outputs": [],
   "source": [
    "predicted_cat=['Predicted Benign', 'Predicted Poison Ivy', 'Predicted Poison Oak']\n",
    "real_cat=['Actual Benign', 'Actual Poison Ivy', 'Actual Poison Oak']\n",
    "sns.heatmap(percent, annot=percent, cmap='YlGn', \n",
    "            xticklabels=predicted_cat, \n",
    "            yticklabels=real_cat).set_title('Confusion Matrix -Percent Actual Plant Predicted \\n How my Brain Decides');\n",
    "plt.savefig('graphs/my_brain_matrix.png', bbox_inches='tight')"
   ]
  }
 ],
 "metadata": {
  "kernelspec": {
   "display_name": "Python 3",
   "language": "python",
   "name": "python3"
  },
  "language_info": {
   "codemirror_mode": {
    "name": "ipython",
    "version": 3
   },
   "file_extension": ".py",
   "mimetype": "text/x-python",
   "name": "python",
   "nbconvert_exporter": "python",
   "pygments_lexer": "ipython3",
   "version": "3.8.3"
  }
 },
 "nbformat": 4,
 "nbformat_minor": 4
}
