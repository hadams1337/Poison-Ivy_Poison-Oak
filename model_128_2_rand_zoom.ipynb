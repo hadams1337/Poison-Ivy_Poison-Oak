{
 "cells": [
  {
   "cell_type": "code",
   "execution_count": 1,
   "metadata": {},
   "outputs": [],
   "source": [
    "import os\n",
    "from skimage import io\n",
    "import pandas as pd\n",
    "import numpy as np\n",
    "import scipy.stats as stats\n",
    "import matplotlib.pyplot as plt\n",
    "import shutil\n",
    "import PIL\n",
    "import tensorflow as tf\n",
    "from tensorflow import keras\n",
    "from tensorflow.keras import layers\n",
    "from tensorflow.keras.models import Sequential\n",
    "from sklearn.metrics import plot_confusion_matrix\n",
    "from sklearn.metrics import confusion_matrix\n",
    "import seaborn as sns"
   ]
  },
  {
   "cell_type": "code",
   "execution_count": 2,
   "metadata": {},
   "outputs": [],
   "source": [
    "batch_size = 32\n",
    "img_height = 300\n",
    "img_width = 200"
   ]
  },
  {
   "cell_type": "code",
   "execution_count": 3,
   "metadata": {},
   "outputs": [],
   "source": [
    "num_classes = 3\n",
    "model = Sequential([\n",
    "  layers.experimental.preprocessing.Rescaling(1./255, input_shape=(img_height, img_width, 3)),\n",
    "  layers.Conv2D(64, 7, padding='same', activation='relu'),\n",
    "  layers.MaxPooling2D(),\n",
    "  layers.Conv2D(64, 3, padding='same', activation='relu'),\n",
    "  layers.MaxPooling2D(),\n",
    "  layers.Conv2D(128, 3, padding='same', activation='relu'),\n",
    "  layers.MaxPooling2D(),\n",
    "  layers.Conv2D(128, 3, padding='same', activation='relu'),\n",
    "  layers.MaxPooling2D(),\n",
    "  layers.Flatten(),\n",
    "  layers.Dense(128, activation='relu'),\n",
    "  layers.Dense(num_classes, activation='softmax')\n",
    "])"
   ]
  },
  {
   "cell_type": "code",
   "execution_count": 4,
   "metadata": {},
   "outputs": [],
   "source": [
    "def get_model_name():\n",
    "    import time\n",
    "    run=time.strftime(\"run_%Y_%m_%d-%H_%M_%S\")\n",
    "    return run"
   ]
  },
  {
   "cell_type": "code",
   "execution_count": 5,
   "metadata": {},
   "outputs": [],
   "source": [
    "recall=tf.keras.metrics.Recall(class_id=None)"
   ]
  },
  {
   "cell_type": "code",
   "execution_count": 6,
   "metadata": {},
   "outputs": [],
   "source": [
    "root_logdir=os.path.join(os.curdir, 'my_logs')"
   ]
  },
  {
   "cell_type": "code",
   "execution_count": 7,
   "metadata": {},
   "outputs": [],
   "source": [
    "def get_run_logdir():\n",
    "    import time\n",
    "    run_id=time.strftime(\"run_%Y_%m_%d-%H_%M_%S\")\n",
    "    return os.path.join(root_logdir, run_id)"
   ]
  },
  {
   "cell_type": "code",
   "execution_count": 8,
   "metadata": {},
   "outputs": [],
   "source": [
    "run_logdir=get_run_logdir()\n",
    "model_name=get_model_name()"
   ]
  },
  {
   "cell_type": "code",
   "execution_count": 9,
   "metadata": {},
   "outputs": [],
   "source": [
    "callbacks = [\n",
    "    keras.callbacks.EarlyStopping(\n",
    "        # Stop training when `val_loss` is no longer improving\n",
    "        monitor=\"val_loss\",\n",
    "        # \"no longer improving\" being defined as \"no better than 1e-5 less\"\n",
    "        min_delta=1e-5,\n",
    "        # \"no longer improving\" being further defined as \"for at least 30 epochs\"\n",
    "        patience=45,\n",
    "        verbose=1,), \n",
    "    keras.callbacks.TensorBoard(run_logdir,\n",
    "                              histogram_freq=2,\n",
    "                              write_graph=True,\n",
    "                              write_images=True),\n",
    "    keras.callbacks.ModelCheckpoint(filepath='models/'+model_name ,save_best_only=True)]"
   ]
  },
  {
   "cell_type": "code",
   "execution_count": 10,
   "metadata": {},
   "outputs": [],
   "source": [
    "train_datagen=tf.keras.preprocessing.image.ImageDataGenerator(\n",
    "    zca_whitening=False, zca_epsilon=1e-06, rotation_range=30, width_shift_range=0.3,\n",
    "    height_shift_range=0.3, fill_mode='nearest', cval=0.0,\n",
    "    horizontal_flip=True, vertical_flip=False, zoom_range=0.25, brightness_range=(0.75, 1.25))\n",
    "test_datagen=tf.keras.preprocessing.image.ImageDataGenerator()"
   ]
  },
  {
   "cell_type": "code",
   "execution_count": 11,
   "metadata": {},
   "outputs": [
    {
     "name": "stdout",
     "output_type": "stream",
     "text": [
      "Found 1968 images belonging to 3 classes.\n",
      "Found 422 images belonging to 3 classes.\n"
     ]
    }
   ],
   "source": [
    "train_generator = train_datagen.flow_from_directory(\n",
    "        'plants/train',\n",
    "        target_size=(300, 200),\n",
    "        batch_size=32,\n",
    "        class_mode='categorical')\n",
    "validation_generator = test_datagen.flow_from_directory(\n",
    "        'plants/val',\n",
    "        target_size=(300, 200),\n",
    "        batch_size=32,\n",
    "        class_mode='categorical')"
   ]
  },
  {
   "cell_type": "code",
   "execution_count": 12,
   "metadata": {},
   "outputs": [],
   "source": [
    "model.compile(optimizer='adam',\n",
    "              loss=tf.keras.losses.CategoricalCrossentropy(),\n",
    "              metrics=[recall])"
   ]
  },
  {
   "cell_type": "code",
   "execution_count": null,
   "metadata": {},
   "outputs": [
    {
     "name": "stdout",
     "output_type": "stream",
     "text": [
      "Epoch 1/400\n",
      " 1/62 [..............................] - ETA: 0s - loss: 1.0997 - recall: 0.0000e+00WARNING:tensorflow:From /Users/johnwilliams/opt/anaconda3/lib/python3.8/site-packages/tensorflow/python/ops/summary_ops_v2.py:1277: stop (from tensorflow.python.eager.profiler) is deprecated and will be removed after 2020-07-01.\n",
      "Instructions for updating:\n",
      "use `tf.profiler.experimental.stop` instead.\n",
      "62/62 [==============================] - ETA: 0s - loss: 0.8320 - recall: 0.6306WARNING:tensorflow:From /Users/johnwilliams/opt/anaconda3/lib/python3.8/site-packages/tensorflow/python/training/tracking/tracking.py:111: Model.state_updates (from tensorflow.python.keras.engine.training) is deprecated and will be removed in a future version.\n",
      "Instructions for updating:\n",
      "This property should not be used in TensorFlow 2.0, as updates are applied automatically.\n",
      "WARNING:tensorflow:From /Users/johnwilliams/opt/anaconda3/lib/python3.8/site-packages/tensorflow/python/training/tracking/tracking.py:111: Layer.updates (from tensorflow.python.keras.engine.base_layer) is deprecated and will be removed in a future version.\n",
      "Instructions for updating:\n",
      "This property should not be used in TensorFlow 2.0, as updates are applied automatically.\n",
      "INFO:tensorflow:Assets written to: models/run_2021_01_10-15_03_58/assets\n",
      "62/62 [==============================] - 186s 3s/step - loss: 0.8320 - recall: 0.6306 - val_loss: 0.7975 - val_recall: 0.6564\n",
      "Epoch 2/400\n",
      "62/62 [==============================] - 178s 3s/step - loss: 0.7996 - recall: 0.6900 - val_loss: 0.8976 - val_recall: 0.7038\n",
      "Epoch 3/400\n",
      "62/62 [==============================] - ETA: 0s - loss: 0.8030 - recall: 0.6682INFO:tensorflow:Assets written to: models/run_2021_01_10-15_03_58/assets\n",
      "62/62 [==============================] - 195s 3s/step - loss: 0.8030 - recall: 0.6682 - val_loss: 0.7937 - val_recall: 0.7038\n",
      "Epoch 4/400\n",
      "62/62 [==============================] - ETA: 0s - loss: 0.7874 - recall: 0.6428INFO:tensorflow:Assets written to: models/run_2021_01_10-15_03_58/assets\n",
      "62/62 [==============================] - 178s 3s/step - loss: 0.7874 - recall: 0.6428 - val_loss: 0.7650 - val_recall: 0.6730\n",
      "Epoch 5/400\n",
      "62/62 [==============================] - ETA: 0s - loss: 0.7661 - recall: 0.6489INFO:tensorflow:Assets written to: models/run_2021_01_10-15_03_58/assets\n",
      "62/62 [==============================] - 186s 3s/step - loss: 0.7661 - recall: 0.6489 - val_loss: 0.7482 - val_recall: 0.6706\n",
      "Epoch 6/400\n",
      "62/62 [==============================] - 179s 3s/step - loss: 0.7973 - recall: 0.6194 - val_loss: 0.7568 - val_recall: 0.6754\n",
      "Epoch 7/400\n",
      "62/62 [==============================] - 175s 3s/step - loss: 0.7730 - recall: 0.6758 - val_loss: 0.7558 - val_recall: 0.6777\n",
      "Epoch 8/400\n",
      "62/62 [==============================] - 172s 3s/step - loss: 0.7676 - recall: 0.6702 - val_loss: 0.7615 - val_recall: 0.6872\n",
      "Epoch 9/400\n",
      "62/62 [==============================] - 175s 3s/step - loss: 0.7674 - recall: 0.6529 - val_loss: 0.7534 - val_recall: 0.6896\n",
      "Epoch 10/400\n",
      "62/62 [==============================] - 179s 3s/step - loss: 0.7584 - recall: 0.6626 - val_loss: 0.7657 - val_recall: 0.6825\n",
      "Epoch 11/400\n",
      "62/62 [==============================] - 177s 3s/step - loss: 0.7576 - recall: 0.6667 - val_loss: 0.7510 - val_recall: 0.6896\n",
      "Epoch 12/400\n",
      "62/62 [==============================] - 173s 3s/step - loss: 0.7550 - recall: 0.6565 - val_loss: 0.7547 - val_recall: 0.6280\n",
      "Epoch 13/400\n",
      "62/62 [==============================] - ETA: 0s - loss: 0.7578 - recall: 0.6651INFO:tensorflow:Assets written to: models/run_2021_01_10-15_03_58/assets\n",
      "62/62 [==============================] - 178s 3s/step - loss: 0.7578 - recall: 0.6651 - val_loss: 0.7388 - val_recall: 0.6730\n",
      "Epoch 14/400\n",
      "62/62 [==============================] - 174s 3s/step - loss: 0.7652 - recall: 0.6585 - val_loss: 0.7474 - val_recall: 0.6801\n",
      "Epoch 15/400\n",
      "62/62 [==============================] - 182s 3s/step - loss: 0.7600 - recall: 0.6570 - val_loss: 0.7491 - val_recall: 0.6872\n",
      "Epoch 16/400\n",
      "62/62 [==============================] - 175s 3s/step - loss: 0.7492 - recall: 0.6702 - val_loss: 0.7511 - val_recall: 0.6327\n",
      "Epoch 17/400\n",
      "62/62 [==============================] - 180s 3s/step - loss: 0.7539 - recall: 0.6570 - val_loss: 0.7654 - val_recall: 0.6351\n",
      "Epoch 18/400\n",
      "62/62 [==============================] - 175s 3s/step - loss: 0.7590 - recall: 0.6560 - val_loss: 0.7496 - val_recall: 0.6872\n",
      "Epoch 19/400\n",
      "62/62 [==============================] - ETA: 0s - loss: 0.7495 - recall: 0.6646INFO:tensorflow:Assets written to: models/run_2021_01_10-15_03_58/assets\n",
      "62/62 [==============================] - 226s 4s/step - loss: 0.7495 - recall: 0.6646 - val_loss: 0.7376 - val_recall: 0.6825\n",
      "Epoch 20/400\n",
      "62/62 [==============================] - 177s 3s/step - loss: 0.7466 - recall: 0.6646 - val_loss: 0.7577 - val_recall: 0.6967\n",
      "Epoch 21/400\n",
      "62/62 [==============================] - 173s 3s/step - loss: 0.7476 - recall: 0.6631 - val_loss: 0.7529 - val_recall: 0.6019\n",
      "Epoch 22/400\n",
      "62/62 [==============================] - ETA: 0s - loss: 0.7384 - recall: 0.6636INFO:tensorflow:Assets written to: models/run_2021_01_10-15_03_58/assets\n",
      "62/62 [==============================] - 173s 3s/step - loss: 0.7384 - recall: 0.6636 - val_loss: 0.7349 - val_recall: 0.6801\n",
      "Epoch 23/400\n",
      "62/62 [==============================] - 173s 3s/step - loss: 0.7512 - recall: 0.6657 - val_loss: 0.7549 - val_recall: 0.6611\n",
      "Epoch 24/400\n",
      "62/62 [==============================] - 172s 3s/step - loss: 0.7324 - recall: 0.6687 - val_loss: 0.7367 - val_recall: 0.6635\n",
      "Epoch 25/400\n",
      "62/62 [==============================] - 177s 3s/step - loss: 0.7349 - recall: 0.6596 - val_loss: 0.7458 - val_recall: 0.6137\n",
      "Epoch 26/400\n",
      "62/62 [==============================] - 179s 3s/step - loss: 0.7316 - recall: 0.6672 - val_loss: 0.7470 - val_recall: 0.6540\n",
      "Epoch 27/400\n",
      "62/62 [==============================] - 178s 3s/step - loss: 0.7375 - recall: 0.6717 - val_loss: 0.7384 - val_recall: 0.6872\n",
      "Epoch 28/400\n",
      "62/62 [==============================] - ETA: 0s - loss: 0.7256 - recall: 0.6626INFO:tensorflow:Assets written to: models/run_2021_01_10-15_03_58/assets\n",
      "62/62 [==============================] - 191s 3s/step - loss: 0.7256 - recall: 0.6626 - val_loss: 0.7282 - val_recall: 0.6848\n",
      "Epoch 29/400\n",
      "62/62 [==============================] - ETA: 0s - loss: 0.7227 - recall: 0.6596INFO:tensorflow:Assets written to: models/run_2021_01_10-15_03_58/assets\n",
      "62/62 [==============================] - 175s 3s/step - loss: 0.7227 - recall: 0.6596 - val_loss: 0.7201 - val_recall: 0.6730\n",
      "Epoch 30/400\n",
      "62/62 [==============================] - 173s 3s/step - loss: 0.7083 - recall: 0.6773 - val_loss: 0.7417 - val_recall: 0.6469\n",
      "Epoch 31/400\n",
      "62/62 [==============================] - 177s 3s/step - loss: 0.7316 - recall: 0.6667 - val_loss: 0.7450 - val_recall: 0.6256\n",
      "Epoch 32/400\n",
      "62/62 [==============================] - 171s 3s/step - loss: 0.7291 - recall: 0.6743 - val_loss: 0.7407 - val_recall: 0.6967\n",
      "Epoch 33/400\n",
      "62/62 [==============================] - 177s 3s/step - loss: 0.7206 - recall: 0.6845 - val_loss: 0.7325 - val_recall: 0.6991\n",
      "Epoch 34/400\n",
      "62/62 [==============================] - ETA: 0s - loss: 0.7127 - recall: 0.6819INFO:tensorflow:Assets written to: models/run_2021_01_10-15_03_58/assets\n",
      "62/62 [==============================] - 174s 3s/step - loss: 0.7127 - recall: 0.6819 - val_loss: 0.7191 - val_recall: 0.6588\n",
      "Epoch 35/400\n",
      "62/62 [==============================] - 179s 3s/step - loss: 0.7181 - recall: 0.6707 - val_loss: 0.7202 - val_recall: 0.6540\n",
      "Epoch 36/400\n",
      "62/62 [==============================] - ETA: 0s - loss: 0.7119 - recall: 0.6657INFO:tensorflow:Assets written to: models/run_2021_01_10-15_03_58/assets\n",
      "62/62 [==============================] - 173s 3s/step - loss: 0.7119 - recall: 0.6657 - val_loss: 0.6972 - val_recall: 0.6848\n",
      "Epoch 37/400\n",
      "24/62 [==========>...................] - ETA: 1:37 - loss: 0.6705 - recall: 0.6888"
     ]
    }
   ],
   "source": [
    "epochs=400\n",
    "history = model.fit(\n",
    "  train_generator,\n",
    "  validation_data=validation_generator,\n",
    "  epochs=epochs,\n",
    "    callbacks=[callbacks])"
   ]
  },
  {
   "cell_type": "code",
   "execution_count": null,
   "metadata": {},
   "outputs": [],
   "source": []
  }
 ],
 "metadata": {
  "kernelspec": {
   "display_name": "Python 3",
   "language": "python",
   "name": "python3"
  },
  "language_info": {
   "codemirror_mode": {
    "name": "ipython",
    "version": 3
   },
   "file_extension": ".py",
   "mimetype": "text/x-python",
   "name": "python",
   "nbconvert_exporter": "python",
   "pygments_lexer": "ipython3",
   "version": "3.8.3"
  }
 },
 "nbformat": 4,
 "nbformat_minor": 4
}
