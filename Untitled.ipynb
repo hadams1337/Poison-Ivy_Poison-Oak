{
 "cells": [
  {
   "cell_type": "code",
   "execution_count": 17,
   "metadata": {},
   "outputs": [],
   "source": [
    "import os\n",
    "from skimage import io\n",
    "import pandas as pd\n",
    "import numpy as np\n",
    "import scipy.stats as stats\n",
    "import matplotlib.pyplot as plt\n",
    "import shutil\n",
    "import PIL\n",
    "import tensorflow as tf\n",
    "from tensorflow import keras\n",
    "from tensorflow.keras import layers\n",
    "from tensorflow.keras.models import Sequential\n",
    "from sklearn.metrics import plot_confusion_matrix\n",
    "from sklearn.metrics import confusion_matrix\n",
    "from sklearn.utils.class_weight import compute_sample_weight\n",
    "import seaborn as sns"
   ]
  },
  {
   "cell_type": "code",
   "execution_count": 19,
   "metadata": {},
   "outputs": [],
   "source": [
    "batch_size = 32\n",
    "img_height = 300\n",
    "img_width = 200\n"
   ]
  },
  {
   "cell_type": "code",
   "execution_count": null,
   "metadata": {},
   "outputs": [],
   "source": [
    "classes_weights = tf.constant([0.1, 1.0])\n",
    "cross_entropy = tf.nn.weighted_cross_entropy_with_logits(logits=logits, targets=labels, pos_weight=classes_weights)"
   ]
  },
  {
   "cell_type": "code",
   "execution_count": 3,
   "metadata": {},
   "outputs": [],
   "source": [
    "num_classes = 3\n",
    "model = Sequential([\n",
    "  layers.experimental.preprocessing.Rescaling(1./255, input_shape=(img_height, img_width, 3)),\n",
    "  layers.Conv2D(64, 7, padding='same', activation='relu'),\n",
    "  layers.MaxPooling2D(),\n",
    "  layers.Conv2D(64, 3, padding='same', activation='relu'),\n",
    "  layers.MaxPooling2D(),\n",
    "  layers.Conv2D(128, 3, padding='same', activation='relu'),\n",
    "  layers.MaxPooling2D(),\n",
    "  layers.Conv2D(128, 3, padding='same', activation='relu'),\n",
    "  layers.MaxPooling2D(),\n",
    "  layers.Flatten(),\n",
    "  layers.Dense(128, activation='relu'),\n",
    "  layers.Dense(num_classes, activation='softmax')\n",
    "])"
   ]
  },
  {
   "cell_type": "code",
   "execution_count": 4,
   "metadata": {},
   "outputs": [],
   "source": [
    "def get_model_name():\n",
    "    import time\n",
    "    run=time.strftime(\"run_%Y_%m_%d-%H_%M_%S\")\n",
    "    return run"
   ]
  },
  {
   "cell_type": "code",
   "execution_count": 5,
   "metadata": {},
   "outputs": [],
   "source": [
    "recall=tf.keras.metrics.Recall(class_id=None)"
   ]
  },
  {
   "cell_type": "code",
   "execution_count": 6,
   "metadata": {},
   "outputs": [],
   "source": [
    "root_logdir=os.path.join(os.curdir, 'my_logs')"
   ]
  },
  {
   "cell_type": "code",
   "execution_count": 7,
   "metadata": {},
   "outputs": [],
   "source": [
    "def get_run_logdir():\n",
    "    import time\n",
    "    run_id=time.strftime(\"run_%Y_%m_%d-%H_%M_%S\")\n",
    "    return os.path.join(root_logdir, run_id)"
   ]
  },
  {
   "cell_type": "code",
   "execution_count": 8,
   "metadata": {},
   "outputs": [],
   "source": [
    "run_logdir=get_run_logdir()\n",
    "model_name=get_model_name()"
   ]
  },
  {
   "cell_type": "code",
   "execution_count": 15,
   "metadata": {},
   "outputs": [],
   "source": [
    "callbacks = [\n",
    "    keras.callbacks.EarlyStopping(\n",
    "        # Stop training when `val_loss` is no longer improving\n",
    "        monitor=\"val_loss\",\n",
    "        # \"no longer improving\" being defined as \"no better than 1e-5 less\"\n",
    "        min_delta=1e-5,\n",
    "        # \"no longer improving\" being further defined as \"for at least 30 epochs\"\n",
    "        patience=45,\n",
    "        verbose=1,), \n",
    "    keras.callbacks.TensorBoard(run_logdir,\n",
    "                              histogram_freq=2,\n",
    "                              write_graph=True,\n",
    "                              write_images=True),\n",
    "    keras.callbacks.ModelCheckpoint(filepath='models/'+model_name ,save_best_only=True)]"
   ]
  },
  {
   "cell_type": "code",
   "execution_count": 20,
   "metadata": {},
   "outputs": [],
   "source": [
    "train_datagen=tf.keras.preprocessing.image.ImageDataGenerator(\n",
    "    zca_whitening=False, zca_epsilon=1e-06, rotation_range=30, width_shift_range=0.3,\n",
    "    height_shift_range=0.3, fill_mode='nearest', cval=0.0,\n",
    "    horizontal_flip=True, vertical_flip=False, zoom_range=0.25, brightness_range=(0.6, 1.4))\n",
    "test_datagen=tf.keras.preprocessing.image.ImageDataGenerator()"
   ]
  },
  {
   "cell_type": "code",
   "execution_count": 21,
   "metadata": {},
   "outputs": [
    {
     "name": "stdout",
     "output_type": "stream",
     "text": [
      "Found 1968 images belonging to 3 classes.\n",
      "Found 422 images belonging to 3 classes.\n"
     ]
    }
   ],
   "source": [
    "train_generator = train_datagen.flow_from_directory(\n",
    "        'plants/train',\n",
    "        target_size=(300, 200),\n",
    "        batch_size=32,\n",
    "        class_mode='categorical')\n",
    "validation_generator = test_datagen.flow_from_directory(\n",
    "        'plants/val',\n",
    "        target_size=(300, 200),\n",
    "        batch_size=32,\n",
    "        class_mode='categorical')"
   ]
  },
  {
   "cell_type": "code",
   "execution_count": 23,
   "metadata": {},
   "outputs": [],
   "source": [
    "model.compile(optimizer='adam',\n",
    "              loss=tf.keras.losses.CategoricalCrossentropy(),\n",
    "              metrics=[recall])"
   ]
  },
  {
   "cell_type": "code",
   "execution_count": null,
   "metadata": {},
   "outputs": [
    {
     "name": "stdout",
     "output_type": "stream",
     "text": [
      "Epoch 1/400\n",
      " 1/62 [..............................] - ETA: 0s - loss: 1.1037 - recall: 0.0000e+00WARNING:tensorflow:From /Users/johnwilliams/opt/anaconda3/lib/python3.8/site-packages/tensorflow/python/ops/summary_ops_v2.py:1277: stop (from tensorflow.python.eager.profiler) is deprecated and will be removed after 2020-07-01.\n",
      "Instructions for updating:\n",
      "use `tf.profiler.experimental.stop` instead.\n",
      "62/62 [==============================] - ETA: 0s - loss: 0.8582 - recall: 0.6286WARNING:tensorflow:From /Users/johnwilliams/opt/anaconda3/lib/python3.8/site-packages/tensorflow/python/training/tracking/tracking.py:111: Model.state_updates (from tensorflow.python.keras.engine.training) is deprecated and will be removed in a future version.\n",
      "Instructions for updating:\n",
      "This property should not be used in TensorFlow 2.0, as updates are applied automatically.\n",
      "WARNING:tensorflow:From /Users/johnwilliams/opt/anaconda3/lib/python3.8/site-packages/tensorflow/python/training/tracking/tracking.py:111: Layer.updates (from tensorflow.python.keras.engine.base_layer) is deprecated and will be removed in a future version.\n",
      "Instructions for updating:\n",
      "This property should not be used in TensorFlow 2.0, as updates are applied automatically.\n",
      "INFO:tensorflow:Assets written to: models/run_2021_01_11-07_40_45/assets\n",
      "62/62 [==============================] - 168s 3s/step - loss: 0.8582 - recall: 0.6286 - val_loss: 0.8059 - val_recall: 0.7085\n",
      "Epoch 2/400\n",
      "62/62 [==============================] - 166s 3s/step - loss: 0.8086 - recall: 0.6768 - val_loss: 0.8142 - val_recall: 0.7038\n",
      "Epoch 3/400\n",
      "62/62 [==============================] - ETA: 0s - loss: 0.7917 - recall: 0.6829INFO:tensorflow:Assets written to: models/run_2021_01_11-07_40_45/assets\n",
      "62/62 [==============================] - 167s 3s/step - loss: 0.7917 - recall: 0.6829 - val_loss: 0.7853 - val_recall: 0.6943\n",
      "Epoch 4/400\n",
      "62/62 [==============================] - ETA: 0s - loss: 0.7760 - recall: 0.6763INFO:tensorflow:Assets written to: models/run_2021_01_11-07_40_45/assets\n",
      "62/62 [==============================] - 167s 3s/step - loss: 0.7760 - recall: 0.6763 - val_loss: 0.7552 - val_recall: 0.6754\n",
      "Epoch 5/400\n",
      "62/62 [==============================] - ETA: 0s - loss: 0.7689 - recall: 0.6657INFO:tensorflow:Assets written to: models/run_2021_01_11-07_40_45/assets\n",
      "62/62 [==============================] - 168s 3s/step - loss: 0.7689 - recall: 0.6657 - val_loss: 0.7473 - val_recall: 0.6517\n",
      "Epoch 6/400\n",
      "62/62 [==============================] - 165s 3s/step - loss: 0.7738 - recall: 0.6458 - val_loss: 0.7582 - val_recall: 0.6730\n",
      "Epoch 7/400\n",
      "62/62 [==============================] - 167s 3s/step - loss: 0.7672 - recall: 0.6590 - val_loss: 0.7509 - val_recall: 0.6635\n",
      "Epoch 8/400\n",
      "62/62 [==============================] - 165s 3s/step - loss: 0.7611 - recall: 0.6621 - val_loss: 0.7635 - val_recall: 0.6967\n",
      "Epoch 9/400\n",
      "62/62 [==============================] - ETA: 0s - loss: 0.7598 - recall: 0.6580INFO:tensorflow:Assets written to: models/run_2021_01_11-07_40_45/assets\n",
      "62/62 [==============================] - 166s 3s/step - loss: 0.7598 - recall: 0.6580 - val_loss: 0.7420 - val_recall: 0.6611\n",
      "Epoch 10/400\n",
      "62/62 [==============================] - 165s 3s/step - loss: 0.7516 - recall: 0.6468 - val_loss: 0.7501 - val_recall: 0.6493\n",
      "Epoch 11/400\n",
      "62/62 [==============================] - 167s 3s/step - loss: 0.7485 - recall: 0.6651 - val_loss: 0.7542 - val_recall: 0.6517\n",
      "Epoch 12/400\n",
      "62/62 [==============================] - ETA: 0s - loss: 0.7517 - recall: 0.6606INFO:tensorflow:Assets written to: models/run_2021_01_11-07_40_45/assets\n",
      "62/62 [==============================] - 177s 3s/step - loss: 0.7517 - recall: 0.6606 - val_loss: 0.7417 - val_recall: 0.6801\n",
      "Epoch 13/400\n",
      "62/62 [==============================] - 170s 3s/step - loss: 0.7483 - recall: 0.6662 - val_loss: 0.7480 - val_recall: 0.6588\n",
      "Epoch 14/400\n",
      "62/62 [==============================] - ETA: 0s - loss: 0.7423 - recall: 0.6626INFO:tensorflow:Assets written to: models/run_2021_01_11-07_40_45/assets\n",
      "62/62 [==============================] - 169s 3s/step - loss: 0.7423 - recall: 0.6626 - val_loss: 0.7325 - val_recall: 0.6351\n",
      "Epoch 15/400\n",
      "50/62 [=======================>......] - ETA: 31s - loss: 0.7424 - recall: 0.6656"
     ]
    }
   ],
   "source": [
    "epochs=400\n",
    "history = model.fit(\n",
    "  train_generator,\n",
    "  validation_data=validation_generator,\n",
    "  epochs=epochs,\n",
    "    callbacks=[callbacks])"
   ]
  },
  {
   "cell_type": "code",
   "execution_count": null,
   "metadata": {},
   "outputs": [],
   "source": []
  }
 ],
 "metadata": {
  "kernelspec": {
   "display_name": "Python 3",
   "language": "python",
   "name": "python3"
  },
  "language_info": {
   "codemirror_mode": {
    "name": "ipython",
    "version": 3
   },
   "file_extension": ".py",
   "mimetype": "text/x-python",
   "name": "python",
   "nbconvert_exporter": "python",
   "pygments_lexer": "ipython3",
   "version": "3.8.3"
  }
 },
 "nbformat": 4,
 "nbformat_minor": 4
}
