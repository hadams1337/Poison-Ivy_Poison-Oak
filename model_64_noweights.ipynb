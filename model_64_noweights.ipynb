{
 "cells": [
  {
   "cell_type": "code",
   "execution_count": 1,
   "metadata": {},
   "outputs": [],
   "source": [
    "import os\n",
    "from skimage import io\n",
    "import pandas as pd\n",
    "import numpy as np\n",
    "import scipy.stats as stats\n",
    "import matplotlib.pyplot as plt\n",
    "import shutil\n",
    "import PIL\n",
    "import tensorflow as tf\n",
    "from tensorflow import keras\n",
    "from tensorflow.keras import layers\n",
    "from tensorflow.keras.models import Sequential\n",
    "from sklearn.metrics import plot_confusion_matrix\n",
    "from sklearn.metrics import confusion_matrix\n",
    "import seaborn as sns"
   ]
  },
  {
   "cell_type": "code",
   "execution_count": 2,
   "metadata": {},
   "outputs": [],
   "source": [
    "batch_size = 32\n",
    "img_height = 300\n",
    "img_width = 200"
   ]
  },
  {
   "cell_type": "code",
   "execution_count": 3,
   "metadata": {},
   "outputs": [],
   "source": [
    "num_classes = 3\n",
    "model = Sequential([\n",
    "  layers.experimental.preprocessing.Rescaling(1./255, input_shape=(img_height, img_width, 3)),\n",
    "  layers.Conv2D(32, 7, padding='same', activation='relu'),\n",
    "  layers.MaxPooling2D(),\n",
    "  layers.Conv2D(32, 3, padding='same', activation='relu'),\n",
    "  layers.MaxPooling2D(),\n",
    "  layers.Conv2D(64, 3, padding='same', activation='relu'),\n",
    "  layers.MaxPooling2D(),\n",
    "  layers.Flatten(),\n",
    "  layers.Dense(128, activation='relu'),\n",
    "  layers.Dense(num_classes, activation='softmax')\n",
    "])"
   ]
  },
  {
   "cell_type": "code",
   "execution_count": 4,
   "metadata": {},
   "outputs": [],
   "source": [
    "def get_model_name():\n",
    "    import time\n",
    "    run=time.strftime(\"run_%Y_%m_%d-%H_%M_%S\")\n",
    "    return run"
   ]
  },
  {
   "cell_type": "code",
   "execution_count": 5,
   "metadata": {},
   "outputs": [],
   "source": [
    "recall=tf.keras.metrics.Recall(class_id=None)"
   ]
  },
  {
   "cell_type": "code",
   "execution_count": 6,
   "metadata": {},
   "outputs": [],
   "source": [
    "root_logdir=os.path.join(os.curdir, 'my_logs')"
   ]
  },
  {
   "cell_type": "code",
   "execution_count": 7,
   "metadata": {},
   "outputs": [],
   "source": [
    "def get_run_logdir():\n",
    "    import time\n",
    "    run_id=time.strftime(\"run_%Y_%m_%d-%H_%M_%S\")\n",
    "    return os.path.join(root_logdir, run_id)"
   ]
  },
  {
   "cell_type": "code",
   "execution_count": 8,
   "metadata": {},
   "outputs": [],
   "source": [
    "run_logdir=get_run_logdir()"
   ]
  },
  {
   "cell_type": "code",
   "execution_count": 9,
   "metadata": {},
   "outputs": [],
   "source": [
    "model_name=get_model_name()"
   ]
  },
  {
   "cell_type": "code",
   "execution_count": 10,
   "metadata": {},
   "outputs": [
    {
     "data": {
      "text/plain": [
       "'run_2021_01_09-18_43_19'"
      ]
     },
     "execution_count": 10,
     "metadata": {},
     "output_type": "execute_result"
    }
   ],
   "source": [
    "model_name"
   ]
  },
  {
   "cell_type": "code",
   "execution_count": 11,
   "metadata": {},
   "outputs": [],
   "source": [
    "callbacks = [\n",
    "    keras.callbacks.EarlyStopping(\n",
    "        # Stop training when `val_loss` is no longer improving\n",
    "        monitor=\"val_loss\",\n",
    "        # \"no longer improving\" being defined as \"no better than 1e-5 less\"\n",
    "        min_delta=1e-5,\n",
    "        # \"no longer improving\" being further defined as \"for at least 30 epochs\"\n",
    "        patience=30,\n",
    "        verbose=1,), \n",
    "    keras.callbacks.TensorBoard(run_logdir,\n",
    "                              histogram_freq=2,\n",
    "                              write_graph=True,\n",
    "                              write_images=True),\n",
    "    keras.callbacks.ModelCheckpoint(filepath='models/'+model_name ,save_best_only=True)]"
   ]
  },
  {
   "cell_type": "code",
   "execution_count": 12,
   "metadata": {},
   "outputs": [],
   "source": [
    "train_datagen=tf.keras.preprocessing.image.ImageDataGenerator(\n",
    "    zca_whitening=False, zca_epsilon=1e-06, rotation_range=20, width_shift_range=0.1,\n",
    "    height_shift_range=0.1, fill_mode='nearest', cval=0.0,\n",
    "    horizontal_flip=True, vertical_flip=False)\n",
    "test_datagen=tf.keras.preprocessing.image.ImageDataGenerator()"
   ]
  },
  {
   "cell_type": "code",
   "execution_count": 13,
   "metadata": {},
   "outputs": [
    {
     "name": "stdout",
     "output_type": "stream",
     "text": [
      "Found 1968 images belonging to 3 classes.\n",
      "Found 422 images belonging to 3 classes.\n"
     ]
    }
   ],
   "source": [
    "train_generator = train_datagen.flow_from_directory(\n",
    "        'plants/train',\n",
    "        target_size=(300, 200),\n",
    "        batch_size=32,\n",
    "        class_mode='categorical')\n",
    "validation_generator = test_datagen.flow_from_directory(\n",
    "        'plants/val',\n",
    "        target_size=(300, 200),\n",
    "        batch_size=32,\n",
    "        class_mode='categorical')"
   ]
  },
  {
   "cell_type": "code",
   "execution_count": 14,
   "metadata": {},
   "outputs": [],
   "source": [
    "model.compile(optimizer='adam',\n",
    "              loss=tf.keras.losses.CategoricalCrossentropy(),\n",
    "              metrics=[recall])"
   ]
  },
  {
   "cell_type": "code",
   "execution_count": null,
   "metadata": {},
   "outputs": [
    {
     "name": "stdout",
     "output_type": "stream",
     "text": [
      "Epoch 1/200\n",
      " 1/62 [..............................] - ETA: 0s - loss: 1.1446 - recall: 0.0000e+00WARNING:tensorflow:From /Users/johnwilliams/opt/anaconda3/lib/python3.8/site-packages/tensorflow/python/ops/summary_ops_v2.py:1277: stop (from tensorflow.python.eager.profiler) is deprecated and will be removed after 2020-07-01.\n",
      "Instructions for updating:\n",
      "use `tf.profiler.experimental.stop` instead.\n",
      "62/62 [==============================] - ETA: 0s - loss: 0.8328 - recall: 0.6717WARNING:tensorflow:From /Users/johnwilliams/opt/anaconda3/lib/python3.8/site-packages/tensorflow/python/training/tracking/tracking.py:111: Model.state_updates (from tensorflow.python.keras.engine.training) is deprecated and will be removed in a future version.\n",
      "Instructions for updating:\n",
      "This property should not be used in TensorFlow 2.0, as updates are applied automatically.\n",
      "WARNING:tensorflow:From /Users/johnwilliams/opt/anaconda3/lib/python3.8/site-packages/tensorflow/python/training/tracking/tracking.py:111: Layer.updates (from tensorflow.python.keras.engine.base_layer) is deprecated and will be removed in a future version.\n",
      "Instructions for updating:\n",
      "This property should not be used in TensorFlow 2.0, as updates are applied automatically.\n",
      "INFO:tensorflow:Assets written to: models/run_2021_01_09-18_43_19/assets\n",
      "62/62 [==============================] - 98s 2s/step - loss: 0.8328 - recall: 0.6717 - val_loss: 0.8121 - val_recall: 0.6374\n",
      "Epoch 2/200\n",
      "62/62 [==============================] - ETA: 0s - loss: 0.7985 - recall: 0.6941INFO:tensorflow:Assets written to: models/run_2021_01_09-18_43_19/assets\n",
      "62/62 [==============================] - 93s 1s/step - loss: 0.7985 - recall: 0.6941 - val_loss: 0.7946 - val_recall: 0.7014\n",
      "Epoch 3/200\n",
      "62/62 [==============================] - ETA: 0s - loss: 0.7827 - recall: 0.6895INFO:tensorflow:Assets written to: models/run_2021_01_09-18_43_19/assets\n",
      "62/62 [==============================] - 93s 2s/step - loss: 0.7827 - recall: 0.6895 - val_loss: 0.7896 - val_recall: 0.6919\n",
      "Epoch 4/200\n",
      "62/62 [==============================] - ETA: 0s - loss: 0.7743 - recall: 0.6778INFO:tensorflow:Assets written to: models/run_2021_01_09-18_43_19/assets\n",
      "62/62 [==============================] - 93s 1s/step - loss: 0.7743 - recall: 0.6778 - val_loss: 0.7649 - val_recall: 0.6943\n",
      "Epoch 5/200\n",
      "62/62 [==============================] - 92s 1s/step - loss: 0.7590 - recall: 0.6885 - val_loss: 0.8049 - val_recall: 0.7038\n",
      "Epoch 6/200\n",
      "62/62 [==============================] - 91s 1s/step - loss: 0.7675 - recall: 0.6885 - val_loss: 0.7748 - val_recall: 0.6398\n",
      "Epoch 7/200\n",
      "51/62 [=======================>......] - ETA: 15s - loss: 0.7554 - recall: 0.6702"
     ]
    }
   ],
   "source": [
    "epochs=200\n",
    "history = model.fit(\n",
    "  train_generator,\n",
    "  validation_data=validation_generator,\n",
    "  epochs=epochs,\n",
    "    callbacks=[callbacks])"
   ]
  },
  {
   "cell_type": "code",
   "execution_count": null,
   "metadata": {},
   "outputs": [],
   "source": [
    "naon"
   ]
  }
 ],
 "metadata": {
  "kernelspec": {
   "display_name": "Python 3",
   "language": "python",
   "name": "python3"
  },
  "language_info": {
   "codemirror_mode": {
    "name": "ipython",
    "version": 3
   },
   "file_extension": ".py",
   "mimetype": "text/x-python",
   "name": "python",
   "nbconvert_exporter": "python",
   "pygments_lexer": "ipython3",
   "version": "3.8.3"
  }
 },
 "nbformat": 4,
 "nbformat_minor": 4
}
