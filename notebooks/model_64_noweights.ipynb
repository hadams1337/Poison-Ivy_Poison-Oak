{
 "cells": [
  {
   "cell_type": "code",
   "execution_count": 1,
   "metadata": {},
   "outputs": [],
   "source": [
    "import os\n",
    "from skimage import io\n",
    "import pandas as pd\n",
    "import numpy as np\n",
    "import scipy.stats as stats\n",
    "import matplotlib.pyplot as plt\n",
    "import shutil\n",
    "import PIL\n",
    "import tensorflow as tf\n",
    "from tensorflow import keras\n",
    "from tensorflow.keras import layers\n",
    "from tensorflow.keras.models import Sequential\n",
    "from sklearn.metrics import plot_confusion_matrix\n",
    "from sklearn.metrics import confusion_matrix\n",
    "import seaborn as sns"
   ]
  },
  {
   "cell_type": "code",
   "execution_count": 2,
   "metadata": {},
   "outputs": [],
   "source": [
    "batch_size = 32\n",
    "img_height = 300\n",
    "img_width = 200"
   ]
  },
  {
   "cell_type": "code",
   "execution_count": 3,
   "metadata": {},
   "outputs": [],
   "source": [
    "num_classes = 3\n",
    "model = Sequential([\n",
    "  layers.experimental.preprocessing.Rescaling(1./255, input_shape=(img_height, img_width, 3)),\n",
    "  layers.Conv2D(32, 7, padding='same', activation='relu'),\n",
    "  layers.MaxPooling2D(),\n",
    "  layers.Conv2D(32, 3, padding='same', activation='relu'),\n",
    "  layers.MaxPooling2D(),\n",
    "  layers.Conv2D(64, 3, padding='same', activation='relu'),\n",
    "  layers.MaxPooling2D(),\n",
    "  layers.Flatten(),\n",
    "  layers.Dense(128, activation='relu'),\n",
    "  layers.Dense(num_classes, activation='softmax')\n",
    "])"
   ]
  },
  {
   "cell_type": "code",
   "execution_count": 4,
   "metadata": {},
   "outputs": [],
   "source": [
    "def get_model_name():\n",
    "    import time\n",
    "    run=time.strftime(\"run_%Y_%m_%d-%H_%M_%S\")\n",
    "    return run"
   ]
  },
  {
   "cell_type": "code",
   "execution_count": 5,
   "metadata": {},
   "outputs": [],
   "source": [
    "recall=tf.keras.metrics.Recall(class_id=None)"
   ]
  },
  {
   "cell_type": "code",
   "execution_count": 6,
   "metadata": {},
   "outputs": [],
   "source": [
    "root_logdir=os.path.join(os.curdir, 'my_logs')"
   ]
  },
  {
   "cell_type": "code",
   "execution_count": 7,
   "metadata": {},
   "outputs": [],
   "source": [
    "def get_run_logdir():\n",
    "    import time\n",
    "    run_id=time.strftime(\"run_%Y_%m_%d-%H_%M_%S\")\n",
    "    return os.path.join(root_logdir, run_id)"
   ]
  },
  {
   "cell_type": "code",
   "execution_count": 8,
   "metadata": {},
   "outputs": [],
   "source": [
    "run_logdir=get_run_logdir()"
   ]
  },
  {
   "cell_type": "code",
   "execution_count": 9,
   "metadata": {},
   "outputs": [],
   "source": [
    "model_name=get_model_name()"
   ]
  },
  {
   "cell_type": "code",
   "execution_count": 10,
   "metadata": {},
   "outputs": [
    {
     "data": {
      "text/plain": [
       "'run_2021_01_09-18_43_19'"
      ]
     },
     "execution_count": 10,
     "metadata": {},
     "output_type": "execute_result"
    }
   ],
   "source": [
    "model_name"
   ]
  },
  {
   "cell_type": "code",
   "execution_count": 11,
   "metadata": {},
   "outputs": [],
   "source": [
    "callbacks = [\n",
    "    keras.callbacks.EarlyStopping(\n",
    "        # Stop training when `val_loss` is no longer improving\n",
    "        monitor=\"val_loss\",\n",
    "        # \"no longer improving\" being defined as \"no better than 1e-5 less\"\n",
    "        min_delta=1e-5,\n",
    "        # \"no longer improving\" being further defined as \"for at least 30 epochs\"\n",
    "        patience=30,\n",
    "        verbose=1,), \n",
    "    keras.callbacks.TensorBoard(run_logdir,\n",
    "                              histogram_freq=2,\n",
    "                              write_graph=True,\n",
    "                              write_images=True),\n",
    "    keras.callbacks.ModelCheckpoint(filepath='models/'+model_name ,save_best_only=True)]"
   ]
  },
  {
   "cell_type": "code",
   "execution_count": 12,
   "metadata": {},
   "outputs": [],
   "source": [
    "train_datagen=tf.keras.preprocessing.image.ImageDataGenerator(\n",
    "    zca_whitening=False, zca_epsilon=1e-06, rotation_range=20, width_shift_range=0.1,\n",
    "    height_shift_range=0.1, fill_mode='nearest', cval=0.0,\n",
    "    horizontal_flip=True, vertical_flip=False)\n",
    "test_datagen=tf.keras.preprocessing.image.ImageDataGenerator()"
   ]
  },
  {
   "cell_type": "code",
   "execution_count": 13,
   "metadata": {},
   "outputs": [
    {
     "name": "stdout",
     "output_type": "stream",
     "text": [
      "Found 1968 images belonging to 3 classes.\n",
      "Found 422 images belonging to 3 classes.\n"
     ]
    }
   ],
   "source": [
    "train_generator = train_datagen.flow_from_directory(\n",
    "        'plants/train',\n",
    "        target_size=(300, 200),\n",
    "        batch_size=32,\n",
    "        class_mode='categorical')\n",
    "validation_generator = test_datagen.flow_from_directory(\n",
    "        'plants/val',\n",
    "        target_size=(300, 200),\n",
    "        batch_size=32,\n",
    "        class_mode='categorical')"
   ]
  },
  {
   "cell_type": "code",
   "execution_count": 14,
   "metadata": {},
   "outputs": [],
   "source": [
    "model.compile(optimizer='adam',\n",
    "              loss=tf.keras.losses.CategoricalCrossentropy(),\n",
    "              metrics=[recall])"
   ]
  },
  {
   "cell_type": "code",
   "execution_count": 15,
   "metadata": {},
   "outputs": [
    {
     "name": "stdout",
     "output_type": "stream",
     "text": [
      "Epoch 1/200\n",
      " 1/62 [..............................] - ETA: 0s - loss: 1.1446 - recall: 0.0000e+00WARNING:tensorflow:From /Users/johnwilliams/opt/anaconda3/lib/python3.8/site-packages/tensorflow/python/ops/summary_ops_v2.py:1277: stop (from tensorflow.python.eager.profiler) is deprecated and will be removed after 2020-07-01.\n",
      "Instructions for updating:\n",
      "use `tf.profiler.experimental.stop` instead.\n",
      "62/62 [==============================] - ETA: 0s - loss: 0.8328 - recall: 0.6717WARNING:tensorflow:From /Users/johnwilliams/opt/anaconda3/lib/python3.8/site-packages/tensorflow/python/training/tracking/tracking.py:111: Model.state_updates (from tensorflow.python.keras.engine.training) is deprecated and will be removed in a future version.\n",
      "Instructions for updating:\n",
      "This property should not be used in TensorFlow 2.0, as updates are applied automatically.\n",
      "WARNING:tensorflow:From /Users/johnwilliams/opt/anaconda3/lib/python3.8/site-packages/tensorflow/python/training/tracking/tracking.py:111: Layer.updates (from tensorflow.python.keras.engine.base_layer) is deprecated and will be removed in a future version.\n",
      "Instructions for updating:\n",
      "This property should not be used in TensorFlow 2.0, as updates are applied automatically.\n",
      "INFO:tensorflow:Assets written to: models/run_2021_01_09-18_43_19/assets\n",
      "62/62 [==============================] - 98s 2s/step - loss: 0.8328 - recall: 0.6717 - val_loss: 0.8121 - val_recall: 0.6374\n",
      "Epoch 2/200\n",
      "62/62 [==============================] - ETA: 0s - loss: 0.7985 - recall: 0.6941INFO:tensorflow:Assets written to: models/run_2021_01_09-18_43_19/assets\n",
      "62/62 [==============================] - 93s 1s/step - loss: 0.7985 - recall: 0.6941 - val_loss: 0.7946 - val_recall: 0.7014\n",
      "Epoch 3/200\n",
      "62/62 [==============================] - ETA: 0s - loss: 0.7827 - recall: 0.6895INFO:tensorflow:Assets written to: models/run_2021_01_09-18_43_19/assets\n",
      "62/62 [==============================] - 93s 2s/step - loss: 0.7827 - recall: 0.6895 - val_loss: 0.7896 - val_recall: 0.6919\n",
      "Epoch 4/200\n",
      "62/62 [==============================] - ETA: 0s - loss: 0.7743 - recall: 0.6778INFO:tensorflow:Assets written to: models/run_2021_01_09-18_43_19/assets\n",
      "62/62 [==============================] - 93s 1s/step - loss: 0.7743 - recall: 0.6778 - val_loss: 0.7649 - val_recall: 0.6943\n",
      "Epoch 5/200\n",
      "62/62 [==============================] - 92s 1s/step - loss: 0.7590 - recall: 0.6885 - val_loss: 0.8049 - val_recall: 0.7038\n",
      "Epoch 6/200\n",
      "62/62 [==============================] - 91s 1s/step - loss: 0.7675 - recall: 0.6885 - val_loss: 0.7748 - val_recall: 0.6398\n",
      "Epoch 7/200\n",
      "62/62 [==============================] - 93s 2s/step - loss: 0.7495 - recall: 0.6753 - val_loss: 0.8463 - val_recall: 0.6943\n",
      "Epoch 8/200\n",
      "62/62 [==============================] - ETA: 0s - loss: 0.7591 - recall: 0.6773INFO:tensorflow:Assets written to: models/run_2021_01_09-18_43_19/assets\n",
      "62/62 [==============================] - 93s 1s/step - loss: 0.7591 - recall: 0.6773 - val_loss: 0.7302 - val_recall: 0.6754\n",
      "Epoch 9/200\n",
      "62/62 [==============================] - 92s 1s/step - loss: 0.7416 - recall: 0.6784 - val_loss: 0.7393 - val_recall: 0.6777\n",
      "Epoch 10/200\n",
      "62/62 [==============================] - 91s 1s/step - loss: 0.7401 - recall: 0.6819 - val_loss: 0.7386 - val_recall: 0.6991\n",
      "Epoch 11/200\n",
      "62/62 [==============================] - 92s 1s/step - loss: 0.7298 - recall: 0.6768 - val_loss: 0.7330 - val_recall: 0.6919\n",
      "Epoch 12/200\n",
      "62/62 [==============================] - 91s 1s/step - loss: 0.7358 - recall: 0.6824 - val_loss: 0.7419 - val_recall: 0.6896\n",
      "Epoch 13/200\n",
      "62/62 [==============================] - 93s 1s/step - loss: 0.7225 - recall: 0.6839 - val_loss: 0.7409 - val_recall: 0.6848\n",
      "Epoch 14/200\n",
      "62/62 [==============================] - 91s 1s/step - loss: 0.7142 - recall: 0.6682 - val_loss: 0.7501 - val_recall: 0.6730\n",
      "Epoch 15/200\n",
      "62/62 [==============================] - ETA: 0s - loss: 0.7084 - recall: 0.6646INFO:tensorflow:Assets written to: models/run_2021_01_09-18_43_19/assets\n",
      "62/62 [==============================] - 93s 1s/step - loss: 0.7084 - recall: 0.6646 - val_loss: 0.7144 - val_recall: 0.6588\n",
      "Epoch 16/200\n",
      "62/62 [==============================] - 91s 1s/step - loss: 0.7096 - recall: 0.6723 - val_loss: 0.7288 - val_recall: 0.6943\n",
      "Epoch 17/200\n",
      "62/62 [==============================] - ETA: 0s - loss: 0.7025 - recall: 0.6778INFO:tensorflow:Assets written to: models/run_2021_01_09-18_43_19/assets\n",
      "62/62 [==============================] - 93s 1s/step - loss: 0.7025 - recall: 0.6778 - val_loss: 0.7042 - val_recall: 0.6919\n",
      "Epoch 18/200\n",
      "62/62 [==============================] - ETA: 0s - loss: 0.6943 - recall: 0.6763INFO:tensorflow:Assets written to: models/run_2021_01_09-18_43_19/assets\n",
      "62/62 [==============================] - 91s 1s/step - loss: 0.6943 - recall: 0.6763 - val_loss: 0.7001 - val_recall: 0.6825\n",
      "Epoch 19/200\n",
      "62/62 [==============================] - 92s 1s/step - loss: 0.7028 - recall: 0.6758 - val_loss: 0.7285 - val_recall: 0.6422\n",
      "Epoch 20/200\n",
      "62/62 [==============================] - 91s 1s/step - loss: 0.6885 - recall: 0.6723 - val_loss: 0.7178 - val_recall: 0.6943\n",
      "Epoch 21/200\n",
      "62/62 [==============================] - 92s 1s/step - loss: 0.6809 - recall: 0.6900 - val_loss: 0.8822 - val_recall: 0.3507\n",
      "Epoch 22/200\n",
      "62/62 [==============================] - ETA: 0s - loss: 0.6740 - recall: 0.6784INFO:tensorflow:Assets written to: models/run_2021_01_09-18_43_19/assets\n",
      "62/62 [==============================] - 92s 1s/step - loss: 0.6740 - recall: 0.6784 - val_loss: 0.6918 - val_recall: 0.7085\n",
      "Epoch 23/200\n",
      "62/62 [==============================] - 91s 1s/step - loss: 0.6619 - recall: 0.6850 - val_loss: 0.7079 - val_recall: 0.7299\n",
      "Epoch 24/200\n",
      "62/62 [==============================] - ETA: 0s - loss: 0.6549 - recall: 0.6926INFO:tensorflow:Assets written to: models/run_2021_01_09-18_43_19/assets\n",
      "62/62 [==============================] - 91s 1s/step - loss: 0.6549 - recall: 0.6926 - val_loss: 0.6879 - val_recall: 0.6540\n",
      "Epoch 25/200\n",
      "62/62 [==============================] - 91s 1s/step - loss: 0.6629 - recall: 0.6758 - val_loss: 0.7031 - val_recall: 0.6493\n",
      "Epoch 26/200\n",
      "62/62 [==============================] - 90s 1s/step - loss: 0.6695 - recall: 0.6824 - val_loss: 0.7184 - val_recall: 0.6754\n",
      "Epoch 27/200\n",
      "62/62 [==============================] - 91s 1s/step - loss: 0.6591 - recall: 0.6885 - val_loss: 0.6903 - val_recall: 0.6943\n",
      "Epoch 28/200\n",
      "62/62 [==============================] - ETA: 0s - loss: 0.6487 - recall: 0.6860INFO:tensorflow:Assets written to: models/run_2021_01_09-18_43_19/assets\n",
      "62/62 [==============================] - 90s 1s/step - loss: 0.6487 - recall: 0.6860 - val_loss: 0.6767 - val_recall: 0.6896\n",
      "Epoch 29/200\n",
      "62/62 [==============================] - 91s 1s/step - loss: 0.6458 - recall: 0.6900 - val_loss: 0.7380 - val_recall: 0.6825\n",
      "Epoch 30/200\n",
      "62/62 [==============================] - 89s 1s/step - loss: 0.6423 - recall: 0.6921 - val_loss: 0.6811 - val_recall: 0.7441\n",
      "Epoch 31/200\n",
      "62/62 [==============================] - ETA: 0s - loss: 0.6228 - recall: 0.7119INFO:tensorflow:Assets written to: models/run_2021_01_09-18_43_19/assets\n",
      "62/62 [==============================] - 92s 1s/step - loss: 0.6228 - recall: 0.7119 - val_loss: 0.6706 - val_recall: 0.7251\n",
      "Epoch 32/200\n",
      "62/62 [==============================] - ETA: 0s - loss: 0.6247 - recall: 0.7170INFO:tensorflow:Assets written to: models/run_2021_01_09-18_43_19/assets\n",
      "62/62 [==============================] - 90s 1s/step - loss: 0.6247 - recall: 0.7170 - val_loss: 0.6676 - val_recall: 0.6943\n",
      "Epoch 33/200\n",
      "62/62 [==============================] - 91s 1s/step - loss: 0.6139 - recall: 0.7221 - val_loss: 0.6700 - val_recall: 0.6919\n",
      "Epoch 34/200\n",
      "62/62 [==============================] - 90s 1s/step - loss: 0.6209 - recall: 0.7073 - val_loss: 0.6684 - val_recall: 0.6943\n",
      "Epoch 35/200\n",
      "62/62 [==============================] - ETA: 0s - loss: 0.6246 - recall: 0.7215INFO:tensorflow:Assets written to: models/run_2021_01_09-18_43_19/assets\n",
      "62/62 [==============================] - 92s 1s/step - loss: 0.6246 - recall: 0.7215 - val_loss: 0.6606 - val_recall: 0.7133\n",
      "Epoch 36/200\n"
     ]
    },
    {
     "name": "stdout",
     "output_type": "stream",
     "text": [
      "62/62 [==============================] - 89s 1s/step - loss: 0.6068 - recall: 0.7170 - val_loss: 0.6678 - val_recall: 0.7085\n",
      "Epoch 37/200\n",
      "62/62 [==============================] - 90s 1s/step - loss: 0.6179 - recall: 0.7180 - val_loss: 0.6746 - val_recall: 0.6872\n",
      "Epoch 38/200\n",
      "62/62 [==============================] - ETA: 0s - loss: 0.5926 - recall: 0.7287INFO:tensorflow:Assets written to: models/run_2021_01_09-18_43_19/assets\n",
      "62/62 [==============================] - 91s 1s/step - loss: 0.5926 - recall: 0.7287 - val_loss: 0.6518 - val_recall: 0.7038\n",
      "Epoch 39/200\n",
      "62/62 [==============================] - 91s 1s/step - loss: 0.5964 - recall: 0.7185 - val_loss: 0.6634 - val_recall: 0.7133\n",
      "Epoch 40/200\n",
      "62/62 [==============================] - ETA: 0s - loss: 0.5878 - recall: 0.7241INFO:tensorflow:Assets written to: models/run_2021_01_09-18_43_19/assets\n",
      "62/62 [==============================] - 91s 1s/step - loss: 0.5878 - recall: 0.7241 - val_loss: 0.6415 - val_recall: 0.7133\n",
      "Epoch 41/200\n",
      "62/62 [==============================] - 91s 1s/step - loss: 0.5883 - recall: 0.7337 - val_loss: 0.6524 - val_recall: 0.7251\n",
      "Epoch 42/200\n",
      "62/62 [==============================] - 90s 1s/step - loss: 0.5880 - recall: 0.7368 - val_loss: 0.6776 - val_recall: 0.7417\n",
      "Epoch 43/200\n",
      "62/62 [==============================] - 91s 1s/step - loss: 0.5721 - recall: 0.7429 - val_loss: 0.6820 - val_recall: 0.7227\n",
      "Epoch 44/200\n",
      "62/62 [==============================] - ETA: 0s - loss: 0.5949 - recall: 0.7297INFO:tensorflow:Assets written to: models/run_2021_01_09-18_43_19/assets\n",
      "62/62 [==============================] - 91s 1s/step - loss: 0.5949 - recall: 0.7297 - val_loss: 0.6369 - val_recall: 0.7346\n",
      "Epoch 45/200\n",
      "62/62 [==============================] - 91s 1s/step - loss: 0.5769 - recall: 0.7373 - val_loss: 0.6554 - val_recall: 0.7393\n",
      "Epoch 46/200\n",
      "62/62 [==============================] - 90s 1s/step - loss: 0.5632 - recall: 0.7571 - val_loss: 0.6745 - val_recall: 0.7227\n",
      "Epoch 47/200\n",
      "62/62 [==============================] - 91s 1s/step - loss: 0.5617 - recall: 0.7510 - val_loss: 0.6480 - val_recall: 0.7156\n",
      "Epoch 48/200\n",
      "62/62 [==============================] - 89s 1s/step - loss: 0.5584 - recall: 0.7561 - val_loss: 0.6464 - val_recall: 0.7204\n",
      "Epoch 49/200\n",
      "62/62 [==============================] - 91s 1s/step - loss: 0.5563 - recall: 0.7546 - val_loss: 0.6955 - val_recall: 0.6919\n",
      "Epoch 50/200\n",
      "62/62 [==============================] - 89s 1s/step - loss: 0.5657 - recall: 0.7464 - val_loss: 0.6668 - val_recall: 0.7322\n",
      "Epoch 51/200\n",
      "62/62 [==============================] - 91s 1s/step - loss: 0.5569 - recall: 0.7490 - val_loss: 0.6607 - val_recall: 0.7014\n",
      "Epoch 52/200\n",
      "62/62 [==============================] - 90s 1s/step - loss: 0.5306 - recall: 0.7658 - val_loss: 0.6915 - val_recall: 0.7678\n",
      "Epoch 53/200\n",
      "62/62 [==============================] - 91s 1s/step - loss: 0.5582 - recall: 0.7556 - val_loss: 0.6778 - val_recall: 0.7393\n",
      "Epoch 54/200\n",
      "62/62 [==============================] - 89s 1s/step - loss: 0.5337 - recall: 0.7652 - val_loss: 0.6390 - val_recall: 0.7370\n",
      "Epoch 55/200\n",
      "62/62 [==============================] - ETA: 0s - loss: 0.5430 - recall: 0.7566INFO:tensorflow:Assets written to: models/run_2021_01_09-18_43_19/assets\n",
      "62/62 [==============================] - 93s 1s/step - loss: 0.5430 - recall: 0.7566 - val_loss: 0.6203 - val_recall: 0.7370\n",
      "Epoch 56/200\n",
      "62/62 [==============================] - ETA: 0s - loss: 0.5200 - recall: 0.7764INFO:tensorflow:Assets written to: models/run_2021_01_09-18_43_19/assets\n",
      "62/62 [==============================] - 91s 1s/step - loss: 0.5200 - recall: 0.7764 - val_loss: 0.6108 - val_recall: 0.7464\n",
      "Epoch 57/200\n",
      "62/62 [==============================] - 91s 1s/step - loss: 0.5166 - recall: 0.7749 - val_loss: 0.6338 - val_recall: 0.7393\n",
      "Epoch 58/200\n",
      "62/62 [==============================] - 90s 1s/step - loss: 0.5095 - recall: 0.7724 - val_loss: 0.6848 - val_recall: 0.6517\n",
      "Epoch 59/200\n",
      "62/62 [==============================] - 91s 1s/step - loss: 0.4933 - recall: 0.7846 - val_loss: 0.6743 - val_recall: 0.7393\n",
      "Epoch 60/200\n",
      "62/62 [==============================] - 90s 1s/step - loss: 0.4852 - recall: 0.7886 - val_loss: 0.6270 - val_recall: 0.7488\n",
      "Epoch 61/200\n",
      "62/62 [==============================] - 91s 1s/step - loss: 0.4892 - recall: 0.7932 - val_loss: 0.6666 - val_recall: 0.7227\n",
      "Epoch 62/200\n",
      "62/62 [==============================] - 89s 1s/step - loss: 0.4971 - recall: 0.7835 - val_loss: 0.6429 - val_recall: 0.7180\n",
      "Epoch 63/200\n",
      "62/62 [==============================] - 91s 1s/step - loss: 0.5074 - recall: 0.7815 - val_loss: 0.6249 - val_recall: 0.7488\n",
      "Epoch 64/200\n",
      "62/62 [==============================] - 90s 1s/step - loss: 0.4625 - recall: 0.7967 - val_loss: 0.6652 - val_recall: 0.7820\n",
      "Epoch 65/200\n",
      "62/62 [==============================] - 92s 1s/step - loss: 0.4791 - recall: 0.7937 - val_loss: 0.6707 - val_recall: 0.7630\n",
      "Epoch 66/200\n",
      "62/62 [==============================] - 90s 1s/step - loss: 0.4554 - recall: 0.8028 - val_loss: 0.6558 - val_recall: 0.7322\n",
      "Epoch 67/200\n",
      "62/62 [==============================] - 92s 1s/step - loss: 0.4584 - recall: 0.7896 - val_loss: 0.6750 - val_recall: 0.7488\n",
      "Epoch 68/200\n",
      "62/62 [==============================] - 96s 2s/step - loss: 0.4559 - recall: 0.8069 - val_loss: 0.6487 - val_recall: 0.7773\n",
      "Epoch 69/200\n",
      "62/62 [==============================] - 94s 2s/step - loss: 0.4786 - recall: 0.7998 - val_loss: 0.6315 - val_recall: 0.7464\n",
      "Epoch 70/200\n",
      "62/62 [==============================] - 91s 1s/step - loss: 0.4502 - recall: 0.8023 - val_loss: 0.6897 - val_recall: 0.7251\n",
      "Epoch 71/200\n",
      "62/62 [==============================] - 92s 1s/step - loss: 0.4428 - recall: 0.8074 - val_loss: 0.6594 - val_recall: 0.7630\n",
      "Epoch 72/200\n",
      "62/62 [==============================] - 90s 1s/step - loss: 0.4700 - recall: 0.8079 - val_loss: 0.6892 - val_recall: 0.7275\n",
      "Epoch 73/200\n",
      "62/62 [==============================] - 92s 1s/step - loss: 0.4665 - recall: 0.8064 - val_loss: 0.6490 - val_recall: 0.7417\n",
      "Epoch 74/200\n",
      "62/62 [==============================] - 90s 1s/step - loss: 0.4458 - recall: 0.8089 - val_loss: 0.6830 - val_recall: 0.7607\n",
      "Epoch 75/200\n",
      "62/62 [==============================] - 92s 1s/step - loss: 0.4291 - recall: 0.8211 - val_loss: 0.6997 - val_recall: 0.7796\n",
      "Epoch 76/200\n",
      "62/62 [==============================] - 90s 1s/step - loss: 0.4218 - recall: 0.8166 - val_loss: 0.6906 - val_recall: 0.7796\n",
      "Epoch 77/200\n",
      "62/62 [==============================] - 92s 1s/step - loss: 0.4188 - recall: 0.8247 - val_loss: 0.6620 - val_recall: 0.7630\n",
      "Epoch 78/200\n",
      "62/62 [==============================] - 90s 1s/step - loss: 0.4269 - recall: 0.8232 - val_loss: 0.6469 - val_recall: 0.7725\n",
      "Epoch 79/200\n",
      "62/62 [==============================] - 92s 1s/step - loss: 0.4391 - recall: 0.8237 - val_loss: 0.7089 - val_recall: 0.7796\n",
      "Epoch 80/200\n",
      "62/62 [==============================] - 90s 1s/step - loss: 0.4224 - recall: 0.8206 - val_loss: 0.6589 - val_recall: 0.7867\n",
      "Epoch 81/200\n",
      "62/62 [==============================] - 92s 1s/step - loss: 0.4152 - recall: 0.8257 - val_loss: 0.6875 - val_recall: 0.7559\n",
      "Epoch 82/200\n",
      "62/62 [==============================] - 90s 1s/step - loss: 0.3954 - recall: 0.8328 - val_loss: 0.7773 - val_recall: 0.7773\n",
      "Epoch 83/200\n",
      "62/62 [==============================] - 91s 1s/step - loss: 0.3900 - recall: 0.8308 - val_loss: 0.7222 - val_recall: 0.7867\n",
      "Epoch 84/200\n",
      "62/62 [==============================] - 90s 1s/step - loss: 0.4030 - recall: 0.8328 - val_loss: 0.7662 - val_recall: 0.7630\n",
      "Epoch 85/200\n",
      "62/62 [==============================] - 92s 1s/step - loss: 0.4030 - recall: 0.8252 - val_loss: 0.7486 - val_recall: 0.7654\n",
      "Epoch 86/200\n",
      "62/62 [==============================] - 89s 1s/step - loss: 0.3901 - recall: 0.8394 - val_loss: 0.6902 - val_recall: 0.7630\n",
      "Epoch 00086: early stopping\n"
     ]
    }
   ],
   "source": [
    "epochs=200\n",
    "history = model.fit(\n",
    "  train_generator,\n",
    "  validation_data=validation_generator,\n",
    "  epochs=epochs,\n",
    "    callbacks=[callbacks])"
   ]
  },
  {
   "cell_type": "code",
   "execution_count": 29,
   "metadata": {},
   "outputs": [
    {
     "data": {
      "image/png": "[encoded data removed]",
      "text/plain": [
       "<Figure size 576x576 with 2 Axes>"
      ]
     },
     "metadata": {},
     "output_type": "display_data"
    }
   ],
   "source": [
    "plt.style.use('seaborn')\n",
    "acc = history.history['recall']\n",
    "val_acc = history.history['val_recall']\n",
    "\n",
    "loss = history.history['loss']\n",
    "val_loss = history.history['val_loss']\n",
    "\n",
    "epochs_range = range(len(acc))\n",
    "\n",
    "plt.figure(figsize=(8, 8))\n",
    "plt.subplot(1, 2, 1)\n",
    "plt.plot(epochs_range, acc, label='Training Recall')\n",
    "plt.plot(epochs_range, val_acc, label='Validation Recall')\n",
    "plt.legend(loc='lower right')\n",
    "plt.title('Training and Validation Recall')\n",
    "\n",
    "\n",
    "plt.subplot(1, 2, 2)\n",
    "plt.plot(epochs_range, loss, label='Training Loss')\n",
    "plt.plot(epochs_range, val_loss, label='Validation Loss')\n",
    "plt.legend(loc='upper right')\n",
    "plt.title('Training and Validation Loss')\n",
    "plt.savefig('graphs/simplemodel64.png', bbox_inches='tight')\n",
    "plt.show()"
   ]
  },
  {
   "cell_type": "code",
   "execution_count": 18,
   "metadata": {},
   "outputs": [
    {
     "name": "stdout",
     "output_type": "stream",
     "text": [
      "Found 424 images belonging to 3 classes.\n"
     ]
    }
   ],
   "source": [
    "test_generator = test_datagen.flow_from_directory(\n",
    "        'plants/test',\n",
    "        target_size=(300, 200),\n",
    "        batch_size=16,\n",
    "        shuffle=False,\n",
    "        class_mode='categorical')"
   ]
  },
  {
   "cell_type": "code",
   "execution_count": 19,
   "metadata": {},
   "outputs": [],
   "source": [
    "ben_plants = os.listdir('plants/test/Benign_Plants')\n",
    "ivy=os.listdir('plants/test/Poison_Ivy/')\n",
    "oak=os.listdir('plants/test/Poison_Oak')"
   ]
  },
  {
   "cell_type": "code",
   "execution_count": 20,
   "metadata": {},
   "outputs": [],
   "source": [
    "y_true=pd.DataFrame()\n",
    "for i in range(len(ben_plants)):\n",
    "    num=pd.Series([1,0,0])\n",
    "    y_true= y_true.append(num, ignore_index=True)\n",
    "for j in range(len(ivy)):\n",
    "    num=pd.Series([0,1,0])\n",
    "    y_true= y_true.append(num, ignore_index=True)\n",
    "for k in range(len(oak)):\n",
    "    num=pd.Series([0,0,1])\n",
    "    y_true= y_true.append(num, ignore_index=True)"
   ]
  },
  {
   "cell_type": "code",
   "execution_count": 21,
   "metadata": {},
   "outputs": [
    {
     "name": "stdout",
     "output_type": "stream",
     "text": [
      "27/27 [==============================] - 5s 174ms/step\n"
     ]
    }
   ],
   "source": [
    "y_hat=(model.predict(test_generator, verbose=1))"
   ]
  },
  {
   "cell_type": "code",
   "execution_count": 22,
   "metadata": {},
   "outputs": [],
   "source": [
    "y_pred=np.argmax(y_hat, axis=1)\n",
    "y_s=np.argmax(np.array(y_true), axis=1)"
   ]
  },
  {
   "cell_type": "code",
   "execution_count": 23,
   "metadata": {},
   "outputs": [],
   "source": [
    "c_mat=confusion_matrix(y_s, y_pred)"
   ]
  },
  {
   "cell_type": "code",
   "execution_count": 24,
   "metadata": {},
   "outputs": [],
   "source": [
    "percent=(c_mat/(np.sum(c_mat, axis=1).reshape(3,-1))).reshape(3,3)"
   ]
  },
  {
   "cell_type": "code",
   "execution_count": 27,
   "metadata": {},
   "outputs": [
    {
     "data": {
      "image/png": "[encoded data removed]",
      "text/plain": [
       "<Figure size 432x288 with 2 Axes>"
      ]
     },
     "metadata": {
      "needs_background": "light"
     },
     "output_type": "display_data"
    }
   ],
   "source": [
    "predicted_cat=['Predicted Benign', 'Predicted Poison Ivy', 'Predicted Poison Oak']\n",
    "real_cat=['Actual Benign', 'Actual Poison Ivy', 'Actual Poison Oak']\n",
    "sns.heatmap(percent, annot=percent, cmap='YlGn', \n",
    "            xticklabels=predicted_cat, \n",
    "            yticklabels=real_cat).set_title('Confusion Matrix -Percent Actual Plant Predicted \\n built model 64 filters no weights');\n",
    "plt.savefig('graphs/simplemodel64_2.png', bbox_inches='tight')"
   ]
  },
  {
   "cell_type": "code",
   "execution_count": null,
   "metadata": {},
   "outputs": [],
   "source": []
  }
 ],
 "metadata": {
  "kernelspec": {
   "display_name": "Python 3",
   "language": "python",
   "name": "python3"
  },
  "language_info": {
   "codemirror_mode": {
    "name": "ipython",
    "version": 3
   },
   "file_extension": ".py",
   "mimetype": "text/x-python",
   "name": "python",
   "nbconvert_exporter": "python",
   "pygments_lexer": "ipython3",
   "version": "3.8.3"
  }
 },
 "nbformat": 4,
 "nbformat_minor": 4
}
