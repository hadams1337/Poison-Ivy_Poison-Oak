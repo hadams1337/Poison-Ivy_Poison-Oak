{
 "cells": [
  {
   "cell_type": "code",
   "execution_count": 70,
   "metadata": {},
   "outputs": [],
   "source": [
    "import os\n",
    "from skimage import io\n",
    "import pandas as pd\n",
    "import numpy as np\n",
    "import scipy.stats as stats\n",
    "import matplotlib.pyplot as plt\n",
    "import shutil\n",
    "import PIL\n",
    "import tensorflow as tf\n",
    "from tensorflow import keras\n",
    "from tensorflow.keras import layers\n",
    "from tensorflow.keras.models import Sequential\n",
    "from sklearn.metrics import plot_confusion_matrix\n",
    "from sklearn.metrics import confusion_matrix\n",
    "import seaborn as sns"
   ]
  },
  {
   "cell_type": "code",
   "execution_count": 71,
   "metadata": {},
   "outputs": [],
   "source": [
    "batch_size = 32\n",
    "img_height = 300\n",
    "img_width = 200"
   ]
  },
  {
   "cell_type": "code",
   "execution_count": 106,
   "metadata": {},
   "outputs": [],
   "source": [
    "num_classes = 3\n",
    "model = Sequential([\n",
    "  layers.experimental.preprocessing.Rescaling(1./255, input_shape=(img_height, img_width, 3)),\n",
    "  layers.Conv2D(32, 7, padding='same', activation='relu'),\n",
    "  layers.MaxPooling2D(),\n",
    "  layers.Conv2D(64, 3, padding='same', activation='relu'),\n",
    "  layers.MaxPooling2D(),\n",
    "  layers.Conv2D(128, 3, padding='same', activation='relu'),\n",
    "  layers.MaxPooling2D(),\n",
    "  layers.Flatten(),\n",
    "  layers.Dense(128, activation='relu'),\n",
    "  layers.Dense(num_classes, activation='softmax')\n",
    "])"
   ]
  },
  {
   "cell_type": "code",
   "execution_count": 107,
   "metadata": {},
   "outputs": [
    {
     "name": "stdout",
     "output_type": "stream",
     "text": [
      "Model: \"sequential_13\"\n",
      "_________________________________________________________________\n",
      "Layer (type)                 Output Shape              Param #   \n",
      "=================================================================\n",
      "rescaling_10 (Rescaling)     (None, 300, 200, 3)       0         \n",
      "_________________________________________________________________\n",
      "conv2d_39 (Conv2D)           (None, 300, 200, 32)      4736      \n",
      "_________________________________________________________________\n",
      "max_pooling2d_39 (MaxPooling (None, 150, 100, 32)      0         \n",
      "_________________________________________________________________\n",
      "conv2d_40 (Conv2D)           (None, 150, 100, 64)      18496     \n",
      "_________________________________________________________________\n",
      "max_pooling2d_40 (MaxPooling (None, 75, 50, 64)        0         \n",
      "_________________________________________________________________\n",
      "conv2d_41 (Conv2D)           (None, 75, 50, 128)       73856     \n",
      "_________________________________________________________________\n",
      "max_pooling2d_41 (MaxPooling (None, 37, 25, 128)       0         \n",
      "_________________________________________________________________\n",
      "flatten_13 (Flatten)         (None, 118400)            0         \n",
      "_________________________________________________________________\n",
      "dense_26 (Dense)             (None, 128)               15155328  \n",
      "_________________________________________________________________\n",
      "dense_27 (Dense)             (None, 3)                 387       \n",
      "=================================================================\n",
      "Total params: 15,252,803\n",
      "Trainable params: 15,252,803\n",
      "Non-trainable params: 0\n",
      "_________________________________________________________________\n"
     ]
    }
   ],
   "source": [
    "new_model = tf.keras.models.load_model('../Capstone3/mymodel_25/')\n",
    "\n",
    "# Check its architecture\n",
    "new_model.summary()"
   ]
  },
  {
   "cell_type": "code",
   "execution_count": null,
   "metadata": {},
   "outputs": [],
   "source": []
  },
  {
   "cell_type": "code",
   "execution_count": 93,
   "metadata": {},
   "outputs": [],
   "source": [
    "def get_model_name():\n",
    "    import time\n",
    "    run=time.strftime(\"run_%Y_%m_%d-%H_%M_%S\")\n",
    "    return run"
   ]
  },
  {
   "cell_type": "code",
   "execution_count": 108,
   "metadata": {},
   "outputs": [],
   "source": [
    "recall=tf.keras.metrics.Recall(class_id=None)"
   ]
  },
  {
   "cell_type": "code",
   "execution_count": 109,
   "metadata": {},
   "outputs": [],
   "source": [
    "root_logdir=os.path.join(os.curdir, 'my_logs')"
   ]
  },
  {
   "cell_type": "code",
   "execution_count": 110,
   "metadata": {},
   "outputs": [],
   "source": [
    "def get_run_logdir():\n",
    "    import time\n",
    "    run_id=time.strftime(\"run_%Y_%m_%d-%H_%M_%S\")\n",
    "    return os.path.join(root_logdir, run_id)"
   ]
  },
  {
   "cell_type": "code",
   "execution_count": 111,
   "metadata": {},
   "outputs": [],
   "source": [
    "run_logdir=get_run_logdir()"
   ]
  },
  {
   "cell_type": "code",
   "execution_count": 112,
   "metadata": {},
   "outputs": [],
   "source": [
    "model_name=get_model_name()"
   ]
  },
  {
   "cell_type": "code",
   "execution_count": 113,
   "metadata": {},
   "outputs": [
    {
     "data": {
      "text/plain": [
       "'run_2021_01_09-14_04_58'"
      ]
     },
     "execution_count": 113,
     "metadata": {},
     "output_type": "execute_result"
    }
   ],
   "source": [
    "model_name"
   ]
  },
  {
   "cell_type": "code",
   "execution_count": 114,
   "metadata": {},
   "outputs": [],
   "source": [
    "callbacks = [\n",
    "    keras.callbacks.EarlyStopping(\n",
    "        # Stop training when `val_loss` is no longer improving\n",
    "        monitor=\"val_loss\",\n",
    "        # \"no longer improving\" being defined as \"no better than 1e-5 less\"\n",
    "        min_delta=1e-5,\n",
    "        # \"no longer improving\" being further defined as \"for at least 30 epochs\"\n",
    "        patience=30,\n",
    "        verbose=1,), \n",
    "    keras.callbacks.TensorBoard(run_logdir,\n",
    "                              histogram_freq=2,\n",
    "                              write_graph=True,\n",
    "                              write_images=True),\n",
    "    keras.callbacks.ModelCheckpoint(filepath='models/'+model_name ,save_best_only=True)]"
   ]
  },
  {
   "cell_type": "code",
   "execution_count": null,
   "metadata": {},
   "outputs": [],
   "source": []
  },
  {
   "cell_type": "code",
   "execution_count": 115,
   "metadata": {},
   "outputs": [],
   "source": [
    "train_datagen=tf.keras.preprocessing.image.ImageDataGenerator(\n",
    "    zca_whitening=False, zca_epsilon=1e-06, rotation_range=20, width_shift_range=0.1,\n",
    "    height_shift_range=0.1, fill_mode='nearest', cval=0.0,\n",
    "    horizontal_flip=True, vertical_flip=False)\n",
    "test_datagen=tf.keras.preprocessing.image.ImageDataGenerator()"
   ]
  },
  {
   "cell_type": "code",
   "execution_count": 116,
   "metadata": {},
   "outputs": [
    {
     "name": "stdout",
     "output_type": "stream",
     "text": [
      "Found 1968 images belonging to 3 classes.\n",
      "Found 422 images belonging to 3 classes.\n"
     ]
    }
   ],
   "source": [
    "train_generator = train_datagen.flow_from_directory(\n",
    "        'plants/train',\n",
    "        target_size=(300, 200),\n",
    "        batch_size=32,\n",
    "        class_mode='categorical')\n",
    "validation_generator = test_datagen.flow_from_directory(\n",
    "        'plants/val',\n",
    "        target_size=(300, 200),\n",
    "        batch_size=32,\n",
    "        class_mode='categorical')"
   ]
  },
  {
   "cell_type": "code",
   "execution_count": 117,
   "metadata": {},
   "outputs": [],
   "source": [
    "model.compile(optimizer='adam',\n",
    "              loss=tf.keras.losses.CategoricalCrossentropy(),\n",
    "              metrics=[recall])"
   ]
  },
  {
   "cell_type": "code",
   "execution_count": 118,
   "metadata": {},
   "outputs": [
    {
     "name": "stdout",
     "output_type": "stream",
     "text": [
      "Epoch 1/200\n",
      "62/62 [==============================] - ETA: 0s - loss: 0.9139 - recall_5: 0.6260INFO:tensorflow:Assets written to: models/run_2021_01_09-14_04_58/assets\n",
      "62/62 [==============================] - 118s 2s/step - loss: 0.9139 - recall_5: 0.6260 - val_loss: 0.7930 - val_recall_5: 0.7085\n",
      "Epoch 2/200\n",
      "62/62 [==============================] - 113s 2s/step - loss: 0.7956 - recall_5: 0.6982 - val_loss: 0.8036 - val_recall_5: 0.6896\n",
      "Epoch 3/200\n",
      "62/62 [==============================] - ETA: 0s - loss: 0.8006 - recall_5: 0.6865INFO:tensorflow:Assets written to: models/run_2021_01_09-14_04_58/assets\n",
      "62/62 [==============================] - 117s 2s/step - loss: 0.8006 - recall_5: 0.6865 - val_loss: 0.7899 - val_recall_5: 0.6943\n",
      "Epoch 4/200\n",
      "62/62 [==============================] - 113s 2s/step - loss: 0.7739 - recall_5: 0.6738 - val_loss: 0.7963 - val_recall_5: 0.6991\n",
      "Epoch 5/200\n",
      "62/62 [==============================] - ETA: 0s - loss: 0.7652 - recall_5: 0.6733INFO:tensorflow:Assets written to: models/run_2021_01_09-14_04_58/assets\n",
      "62/62 [==============================] - 116s 2s/step - loss: 0.7652 - recall_5: 0.6733 - val_loss: 0.7533 - val_recall_5: 0.6848\n",
      "Epoch 6/200\n",
      "62/62 [==============================] - 113s 2s/step - loss: 0.7471 - recall_5: 0.6728 - val_loss: 0.7821 - val_recall_5: 0.6398\n",
      "Epoch 7/200\n",
      "62/62 [==============================] - ETA: 0s - loss: 0.7505 - recall_5: 0.6575INFO:tensorflow:Assets written to: models/run_2021_01_09-14_04_58/assets\n",
      "62/62 [==============================] - 116s 2s/step - loss: 0.7505 - recall_5: 0.6575 - val_loss: 0.7306 - val_recall_5: 0.6801\n",
      "Epoch 8/200\n",
      "62/62 [==============================] - 123s 2s/step - loss: 0.7495 - recall_5: 0.6697 - val_loss: 0.7419 - val_recall_5: 0.6967\n",
      "Epoch 9/200\n",
      "62/62 [==============================] - 155s 2s/step - loss: 0.7353 - recall_5: 0.6758 - val_loss: 0.7371 - val_recall_5: 0.6209\n",
      "Epoch 10/200\n",
      "62/62 [==============================] - 148s 2s/step - loss: 0.7346 - recall_5: 0.6672 - val_loss: 0.7372 - val_recall_5: 0.6659\n",
      "Epoch 11/200\n",
      "62/62 [==============================] - 170s 3s/step - loss: 0.7382 - recall_5: 0.6707 - val_loss: 0.7907 - val_recall_5: 0.5640\n",
      "Epoch 12/200\n",
      "62/62 [==============================] - ETA: 0s - loss: 0.7423 - recall_5: 0.6555INFO:tensorflow:Assets written to: models/run_2021_01_09-14_04_58/assets\n",
      "62/62 [==============================] - 169s 3s/step - loss: 0.7423 - recall_5: 0.6555 - val_loss: 0.7233 - val_recall_5: 0.6754\n",
      "Epoch 13/200\n",
      "62/62 [==============================] - 175s 3s/step - loss: 0.7271 - recall_5: 0.6667 - val_loss: 0.7754 - val_recall_5: 0.6564\n",
      "Epoch 14/200\n",
      "62/62 [==============================] - 152s 2s/step - loss: 0.7190 - recall_5: 0.6545 - val_loss: 0.7314 - val_recall_5: 0.6825\n",
      "Epoch 15/200\n",
      "62/62 [==============================] - 156s 3s/step - loss: 0.7163 - recall_5: 0.6616 - val_loss: 0.7253 - val_recall_5: 0.6872\n",
      "Epoch 16/200\n",
      "62/62 [==============================] - 169s 3s/step - loss: 0.7201 - recall_5: 0.6641 - val_loss: 0.7252 - val_recall_5: 0.6730\n",
      "Epoch 17/200\n",
      "62/62 [==============================] - 170s 3s/step - loss: 0.7049 - recall_5: 0.6712 - val_loss: 0.7448 - val_recall_5: 0.6943\n",
      "Epoch 18/200\n",
      "62/62 [==============================] - ETA: 0s - loss: 0.7003 - recall_5: 0.6748INFO:tensorflow:Assets written to: models/run_2021_01_09-14_04_58/assets\n",
      "62/62 [==============================] - 166s 3s/step - loss: 0.7003 - recall_5: 0.6748 - val_loss: 0.7163 - val_recall_5: 0.6848\n",
      "Epoch 19/200\n",
      "62/62 [==============================] - 157s 3s/step - loss: 0.6982 - recall_5: 0.6687 - val_loss: 0.7205 - val_recall_5: 0.6777\n",
      "Epoch 20/200\n",
      "62/62 [==============================] - ETA: 0s - loss: 0.6952 - recall_5: 0.6738INFO:tensorflow:Assets written to: models/run_2021_01_09-14_04_58/assets\n",
      "62/62 [==============================] - 163s 3s/step - loss: 0.6952 - recall_5: 0.6738 - val_loss: 0.7012 - val_recall_5: 0.6801\n",
      "Epoch 21/200\n",
      "62/62 [==============================] - ETA: 0s - loss: 0.6872 - recall_5: 0.6839INFO:tensorflow:Assets written to: models/run_2021_01_09-14_04_58/assets\n",
      "62/62 [==============================] - 171s 3s/step - loss: 0.6872 - recall_5: 0.6839 - val_loss: 0.6994 - val_recall_5: 0.6848\n",
      "Epoch 22/200\n",
      "62/62 [==============================] - ETA: 0s - loss: 0.6869 - recall_5: 0.6743INFO:tensorflow:Assets written to: models/run_2021_01_09-14_04_58/assets\n",
      "62/62 [==============================] - 157s 3s/step - loss: 0.6869 - recall_5: 0.6743 - val_loss: 0.6951 - val_recall_5: 0.6801\n",
      "Epoch 23/200\n",
      "62/62 [==============================] - ETA: 0s - loss: 0.6739 - recall_5: 0.6865INFO:tensorflow:Assets written to: models/run_2021_01_09-14_04_58/assets\n",
      "62/62 [==============================] - 161s 3s/step - loss: 0.6739 - recall_5: 0.6865 - val_loss: 0.6847 - val_recall_5: 0.6777\n",
      "Epoch 24/200\n",
      "62/62 [==============================] - 149s 2s/step - loss: 0.6633 - recall_5: 0.6905 - val_loss: 0.6880 - val_recall_5: 0.6730\n",
      "Epoch 25/200\n",
      "62/62 [==============================] - ETA: 0s - loss: 0.6649 - recall_5: 0.6870INFO:tensorflow:Assets written to: models/run_2021_01_09-14_04_58/assets\n",
      "62/62 [==============================] - 155s 2s/step - loss: 0.6649 - recall_5: 0.6870 - val_loss: 0.6641 - val_recall_5: 0.6754\n",
      "Epoch 26/200\n",
      "62/62 [==============================] - 177s 3s/step - loss: 0.6598 - recall_5: 0.6972 - val_loss: 0.7644 - val_recall_5: 0.5166\n",
      "Epoch 27/200\n",
      "62/62 [==============================] - 160s 3s/step - loss: 0.6514 - recall_5: 0.6905 - val_loss: 0.6694 - val_recall_5: 0.6801\n",
      "Epoch 28/200\n",
      "62/62 [==============================] - 156s 3s/step - loss: 0.6462 - recall_5: 0.6961 - val_loss: 0.6646 - val_recall_5: 0.6943\n",
      "Epoch 29/200\n",
      "62/62 [==============================] - 160s 3s/step - loss: 0.6230 - recall_5: 0.7022 - val_loss: 0.6933 - val_recall_5: 0.6991\n",
      "Epoch 30/200\n",
      "62/62 [==============================] - ETA: 0s - loss: 0.6309 - recall_5: 0.6987INFO:tensorflow:Assets written to: models/run_2021_01_09-14_04_58/assets\n",
      "62/62 [==============================] - 162s 3s/step - loss: 0.6309 - recall_5: 0.6987 - val_loss: 0.6621 - val_recall_5: 0.6943\n",
      "Epoch 31/200\n",
      "62/62 [==============================] - ETA: 0s - loss: 0.6042 - recall_5: 0.7190INFO:tensorflow:Assets written to: models/run_2021_01_09-14_04_58/assets\n",
      "62/62 [==============================] - 173s 3s/step - loss: 0.6042 - recall_5: 0.7190 - val_loss: 0.6341 - val_recall_5: 0.7156\n",
      "Epoch 32/200\n",
      "62/62 [==============================] - 180s 3s/step - loss: 0.6127 - recall_5: 0.7160 - val_loss: 0.6986 - val_recall_5: 0.6493\n",
      "Epoch 33/200\n",
      "62/62 [==============================] - 174s 3s/step - loss: 0.6149 - recall_5: 0.7063 - val_loss: 0.6743 - val_recall_5: 0.7180\n",
      "Epoch 34/200\n",
      "62/62 [==============================] - 158s 3s/step - loss: 0.6171 - recall_5: 0.7185 - val_loss: 0.6433 - val_recall_5: 0.6991\n",
      "Epoch 35/200\n",
      "62/62 [==============================] - 162s 3s/step - loss: 0.5987 - recall_5: 0.7327 - val_loss: 0.6606 - val_recall_5: 0.6777\n",
      "Epoch 36/200\n",
      "62/62 [==============================] - 158s 3s/step - loss: 0.6084 - recall_5: 0.7297 - val_loss: 0.6874 - val_recall_5: 0.6754\n",
      "Epoch 37/200\n",
      "62/62 [==============================] - 167s 3s/step - loss: 0.5801 - recall_5: 0.7358 - val_loss: 0.6474 - val_recall_5: 0.7346\n",
      "Epoch 38/200\n",
      "62/62 [==============================] - 168s 3s/step - loss: 0.5714 - recall_5: 0.7393 - val_loss: 0.6347 - val_recall_5: 0.7322\n",
      "Epoch 39/200\n",
      "62/62 [==============================] - ETA: 0s - loss: 0.5651 - recall_5: 0.7500INFO:tensorflow:Assets written to: models/run_2021_01_09-14_04_58/assets\n",
      "62/62 [==============================] - 170s 3s/step - loss: 0.5651 - recall_5: 0.7500 - val_loss: 0.6256 - val_recall_5: 0.7393\n",
      "Epoch 40/200\n",
      "62/62 [==============================] - 169s 3s/step - loss: 0.5682 - recall_5: 0.7464 - val_loss: 0.6342 - val_recall_5: 0.7156\n",
      "Epoch 41/200\n",
      "62/62 [==============================] - 181s 3s/step - loss: 0.5637 - recall_5: 0.7515 - val_loss: 0.6451 - val_recall_5: 0.7322\n",
      "Epoch 42/200\n",
      "62/62 [==============================] - ETA: 0s - loss: 0.5706 - recall_5: 0.7561INFO:tensorflow:Assets written to: models/run_2021_01_09-14_04_58/assets\n",
      "62/62 [==============================] - 166s 3s/step - loss: 0.5706 - recall_5: 0.7561 - val_loss: 0.5880 - val_recall_5: 0.7536\n"
     ]
    },
    {
     "name": "stdout",
     "output_type": "stream",
     "text": [
      "Epoch 43/200\n",
      "62/62 [==============================] - 159s 3s/step - loss: 0.5373 - recall_5: 0.7647 - val_loss: 0.6023 - val_recall_5: 0.7393\n",
      "Epoch 44/200\n",
      "62/62 [==============================] - 156s 3s/step - loss: 0.5265 - recall_5: 0.7693 - val_loss: 0.5980 - val_recall_5: 0.7536\n",
      "Epoch 45/200\n",
      "62/62 [==============================] - 173s 3s/step - loss: 0.5288 - recall_5: 0.7693 - val_loss: 0.6291 - val_recall_5: 0.7156\n",
      "Epoch 46/200\n",
      "62/62 [==============================] - ETA: 0s - loss: 0.5333 - recall_5: 0.7607INFO:tensorflow:Assets written to: models/run_2021_01_09-14_04_58/assets\n",
      "62/62 [==============================] - 176s 3s/step - loss: 0.5333 - recall_5: 0.7607 - val_loss: 0.5600 - val_recall_5: 0.7654\n",
      "Epoch 47/200\n",
      "62/62 [==============================] - 165s 3s/step - loss: 0.5324 - recall_5: 0.7698 - val_loss: 0.5735 - val_recall_5: 0.7559\n",
      "Epoch 48/200\n",
      "62/62 [==============================] - 173s 3s/step - loss: 0.5137 - recall_5: 0.7678 - val_loss: 0.6279 - val_recall_5: 0.7654\n",
      "Epoch 49/200\n",
      "62/62 [==============================] - 151s 2s/step - loss: 0.5150 - recall_5: 0.7708 - val_loss: 0.5804 - val_recall_5: 0.7370\n",
      "Epoch 50/200\n",
      "62/62 [==============================] - 143s 2s/step - loss: 0.4854 - recall_5: 0.7856 - val_loss: 0.5770 - val_recall_5: 0.7607\n",
      "Epoch 51/200\n",
      "62/62 [==============================] - 148s 2s/step - loss: 0.4877 - recall_5: 0.7886 - val_loss: 0.6207 - val_recall_5: 0.7630\n",
      "Epoch 52/200\n",
      "62/62 [==============================] - 144s 2s/step - loss: 0.4976 - recall_5: 0.7774 - val_loss: 0.5905 - val_recall_5: 0.7630\n",
      "Epoch 53/200\n",
      "62/62 [==============================] - 153s 2s/step - loss: 0.4939 - recall_5: 0.7800 - val_loss: 0.6174 - val_recall_5: 0.7512\n",
      "Epoch 54/200\n",
      "62/62 [==============================] - 150s 2s/step - loss: 0.4905 - recall_5: 0.7754 - val_loss: 0.6814 - val_recall_5: 0.7536\n",
      "Epoch 55/200\n",
      "62/62 [==============================] - 148s 2s/step - loss: 0.4740 - recall_5: 0.7912 - val_loss: 0.6343 - val_recall_5: 0.7678\n",
      "Epoch 56/200\n",
      "62/62 [==============================] - 156s 3s/step - loss: 0.4521 - recall_5: 0.8034 - val_loss: 0.6234 - val_recall_5: 0.7204\n",
      "Epoch 57/200\n",
      "62/62 [==============================] - 159s 3s/step - loss: 0.4660 - recall_5: 0.7942 - val_loss: 0.5978 - val_recall_5: 0.7583\n",
      "Epoch 58/200\n",
      "62/62 [==============================] - 149s 2s/step - loss: 0.4379 - recall_5: 0.8069 - val_loss: 0.5914 - val_recall_5: 0.7322\n",
      "Epoch 59/200\n",
      "62/62 [==============================] - 152s 2s/step - loss: 0.4525 - recall_5: 0.8049 - val_loss: 0.6010 - val_recall_5: 0.7488\n",
      "Epoch 60/200\n",
      "62/62 [==============================] - 156s 3s/step - loss: 0.4335 - recall_5: 0.8155 - val_loss: 0.6490 - val_recall_5: 0.7512\n",
      "Epoch 61/200\n",
      "62/62 [==============================] - 157s 3s/step - loss: 0.4379 - recall_5: 0.8125 - val_loss: 0.6291 - val_recall_5: 0.7820\n",
      "Epoch 62/200\n",
      "62/62 [==============================] - 148s 2s/step - loss: 0.3996 - recall_5: 0.8283 - val_loss: 0.6283 - val_recall_5: 0.7654\n",
      "Epoch 63/200\n",
      "62/62 [==============================] - 151s 2s/step - loss: 0.4431 - recall_5: 0.8115 - val_loss: 0.6241 - val_recall_5: 0.7891\n",
      "Epoch 64/200\n",
      "62/62 [==============================] - 154s 2s/step - loss: 0.4070 - recall_5: 0.8262 - val_loss: 0.6626 - val_recall_5: 0.7630\n",
      "Epoch 65/200\n",
      "62/62 [==============================] - 153s 2s/step - loss: 0.4190 - recall_5: 0.8257 - val_loss: 0.6114 - val_recall_5: 0.7749\n",
      "Epoch 66/200\n",
      "62/62 [==============================] - 147s 2s/step - loss: 0.4092 - recall_5: 0.8242 - val_loss: 0.5885 - val_recall_5: 0.7820\n",
      "Epoch 67/200\n",
      "62/62 [==============================] - 149s 2s/step - loss: 0.4055 - recall_5: 0.8379 - val_loss: 0.6216 - val_recall_5: 0.7701\n",
      "Epoch 68/200\n",
      "62/62 [==============================] - 146s 2s/step - loss: 0.4031 - recall_5: 0.8303 - val_loss: 0.6261 - val_recall_5: 0.7844\n",
      "Epoch 69/200\n",
      "62/62 [==============================] - 160s 3s/step - loss: 0.4005 - recall_5: 0.8399 - val_loss: 0.6353 - val_recall_5: 0.7701\n",
      "Epoch 70/200\n",
      "62/62 [==============================] - 147s 2s/step - loss: 0.3927 - recall_5: 0.8262 - val_loss: 0.6671 - val_recall_5: 0.7488\n",
      "Epoch 71/200\n",
      "62/62 [==============================] - 155s 3s/step - loss: 0.3733 - recall_5: 0.8425 - val_loss: 0.6548 - val_recall_5: 0.7844\n",
      "Epoch 72/200\n",
      "62/62 [==============================] - 163s 3s/step - loss: 0.3583 - recall_5: 0.8537 - val_loss: 0.6189 - val_recall_5: 0.7938\n",
      "Epoch 73/200\n",
      "62/62 [==============================] - 159s 3s/step - loss: 0.3469 - recall_5: 0.8557 - val_loss: 0.7385 - val_recall_5: 0.7583\n",
      "Epoch 74/200\n",
      "62/62 [==============================] - 155s 3s/step - loss: 0.3658 - recall_5: 0.8460 - val_loss: 0.6360 - val_recall_5: 0.7844\n",
      "Epoch 75/200\n",
      "62/62 [==============================] - 154s 2s/step - loss: 0.3355 - recall_5: 0.8638 - val_loss: 0.6803 - val_recall_5: 0.7915\n",
      "Epoch 76/200\n",
      "62/62 [==============================] - 152s 2s/step - loss: 0.3476 - recall_5: 0.8572 - val_loss: 0.7333 - val_recall_5: 0.7630\n",
      "Epoch 00076: early stopping\n"
     ]
    }
   ],
   "source": [
    "epochs=200\n",
    "history = model.fit(\n",
    "  train_generator,\n",
    "  validation_data=validation_generator,\n",
    "  epochs=epochs,\n",
    "    callbacks=[callbacks])"
   ]
  },
  {
   "cell_type": "code",
   "execution_count": 35,
   "metadata": {},
   "outputs": [],
   "source": [
    "mkdir graphs"
   ]
  },
  {
   "cell_type": "code",
   "execution_count": 120,
   "metadata": {},
   "outputs": [
    {
     "data": {
      "image/png": "[encoded data removed]",
      "text/plain": [
       "<Figure size 576x576 with 2 Axes>"
      ]
     },
     "metadata": {
      "needs_background": "light"
     },
     "output_type": "display_data"
    }
   ],
   "source": [
    "acc = history.history['recall_5']\n",
    "val_acc = history.history['val_recall_5']\n",
    "\n",
    "loss = history.history['loss']\n",
    "val_loss = history.history['val_loss']\n",
    "\n",
    "epochs_range = range(len(acc))\n",
    "\n",
    "plt.figure(figsize=(8, 8))\n",
    "plt.subplot(1, 2, 1)\n",
    "plt.plot(epochs_range, acc, label='Training Recall')\n",
    "plt.plot(epochs_range, val_acc, label='Validation Recall')\n",
    "plt.legend(loc='lower right')\n",
    "plt.title('Training and Validation Recall')\n",
    "\n",
    "\n",
    "plt.subplot(1, 2, 2)\n",
    "plt.plot(epochs_range, loss, label='Training Loss')\n",
    "plt.plot(epochs_range, val_loss, label='Validation Loss')\n",
    "plt.legend(loc='upper right')\n",
    "plt.title('Training and Validation Loss')\n",
    "plt.savefig('graphs/simplemodel128.png', bbox_inches='tight')\n",
    "plt.show()"
   ]
  },
  {
   "cell_type": "code",
   "execution_count": 121,
   "metadata": {},
   "outputs": [
    {
     "name": "stdout",
     "output_type": "stream",
     "text": [
      "Found 424 images belonging to 3 classes.\n"
     ]
    }
   ],
   "source": [
    "test_generator = test_datagen.flow_from_directory(\n",
    "        'plants/test',\n",
    "        target_size=(300, 200),\n",
    "        batch_size=16,\n",
    "        shuffle=False,\n",
    "        class_mode='categorical')"
   ]
  },
  {
   "cell_type": "code",
   "execution_count": 122,
   "metadata": {},
   "outputs": [],
   "source": [
    "ben_plants = os.listdir('plants/test/Benign_Plants')\n",
    "ivy=os.listdir('plants/test/Poison_Ivy/')\n",
    "oak=os.listdir('plants/test/Poison_Oak')"
   ]
  },
  {
   "cell_type": "code",
   "execution_count": 123,
   "metadata": {},
   "outputs": [],
   "source": [
    "y_true=pd.DataFrame()\n",
    "for i in range(len(ben_plants)):\n",
    "    num=pd.Series([1,0,0])\n",
    "    y_true= y_true.append(num, ignore_index=True)\n",
    "for j in range(len(ivy)):\n",
    "    num=pd.Series([0,1,0])\n",
    "    y_true= y_true.append(num, ignore_index=True)\n",
    "for k in range(len(oak)):\n",
    "    num=pd.Series([0,0,1])\n",
    "    y_true= y_true.append(num, ignore_index=True)"
   ]
  },
  {
   "cell_type": "code",
   "execution_count": 124,
   "metadata": {},
   "outputs": [
    {
     "name": "stdout",
     "output_type": "stream",
     "text": [
      "WARNING:tensorflow:7 out of the last 36 calls to <function Model.make_predict_function.<locals>.predict_function at 0x7fbfad1c8af0> triggered tf.function retracing. Tracing is expensive and the excessive number of tracings could be due to (1) creating @tf.function repeatedly in a loop, (2) passing tensors with different shapes, (3) passing Python objects instead of tensors. For (1), please define your @tf.function outside of the loop. For (2), @tf.function has experimental_relax_shapes=True option that relaxes argument shapes that can avoid unnecessary retracing. For (3), please refer to https://www.tensorflow.org/tutorials/customization/performance#python_or_tensor_args and https://www.tensorflow.org/api_docs/python/tf/function for  more details.\n",
      "27/27 [==============================] - 9s 317ms/step\n"
     ]
    }
   ],
   "source": [
    "y_hat=(model.predict(test_generator, verbose=1))"
   ]
  },
  {
   "cell_type": "code",
   "execution_count": 125,
   "metadata": {},
   "outputs": [
    {
     "data": {
      "text/plain": [
       "array([[0.04921537, 0.94257885, 0.00820571],\n",
       "       [0.66351944, 0.29141128, 0.04506928],\n",
       "       [0.92237586, 0.04769613, 0.02992795],\n",
       "       ...,\n",
       "       [0.0023873 , 0.8816462 , 0.11596654],\n",
       "       [0.25065768, 0.20012851, 0.54921377],\n",
       "       [0.46000773, 0.34097964, 0.19901265]], dtype=float32)"
      ]
     },
     "execution_count": 125,
     "metadata": {},
     "output_type": "execute_result"
    }
   ],
   "source": [
    "y_hat"
   ]
  },
  {
   "cell_type": "code",
   "execution_count": 126,
   "metadata": {},
   "outputs": [],
   "source": [
    "y_pred=np.argmax(y_hat, axis=1)\n",
    "y_s=np.argmax(np.array(y_true), axis=1)"
   ]
  },
  {
   "cell_type": "code",
   "execution_count": 127,
   "metadata": {},
   "outputs": [],
   "source": [
    "c_mat=confusion_matrix(y_s, y_pred)"
   ]
  },
  {
   "cell_type": "code",
   "execution_count": 128,
   "metadata": {},
   "outputs": [
    {
     "data": {
      "text/plain": [
       "<matplotlib.axes._subplots.AxesSubplot at 0x7fbfae4dc3d0>"
      ]
     },
     "execution_count": 128,
     "metadata": {},
     "output_type": "execute_result"
    },
    {
     "data": {
      "image/png": "[encoded data removed]",
      "text/plain": [
       "<Figure size 432x288 with 2 Axes>"
      ]
     },
     "metadata": {
      "needs_background": "light"
     },
     "output_type": "display_data"
    }
   ],
   "source": [
    "sns.heatmap(c_mat, annot=True)"
   ]
  },
  {
   "cell_type": "code",
   "execution_count": 129,
   "metadata": {},
   "outputs": [],
   "source": [
    "percent=(c_mat/(np.sum(c_mat, axis=1).reshape(3,-1))).reshape(3,3)"
   ]
  },
  {
   "cell_type": "code",
   "execution_count": 130,
   "metadata": {},
   "outputs": [
    {
     "data": {
      "text/plain": [
       "array([[0.87625418, 0.08026756, 0.04347826],\n",
       "       [0.35384615, 0.52307692, 0.12307692],\n",
       "       [0.26666667, 0.15      , 0.58333333]])"
      ]
     },
     "execution_count": 130,
     "metadata": {},
     "output_type": "execute_result"
    }
   ],
   "source": [
    "c_mat/(np.sum(c_mat, axis=1).reshape(3,-1))"
   ]
  },
  {
   "cell_type": "code",
   "execution_count": 131,
   "metadata": {},
   "outputs": [
    {
     "data": {
      "image/png": "[encoded data removed]",
      "text/plain": [
       "<Figure size 432x288 with 2 Axes>"
      ]
     },
     "metadata": {
      "needs_background": "light"
     },
     "output_type": "display_data"
    }
   ],
   "source": [
    "predicted_cat=['Predicted Benign', 'Predicted Poison Ivy', 'Predicted Poison Oak']\n",
    "real_cat=['Actual Benign', 'Actual Poison Ivy', 'Truly Poison Oak']\n",
    "sns.heatmap(percent, annot=percent, cmap='YlGn', \n",
    "            xticklabels=predicted_cat, \n",
    "            yticklabels=real_cat).set_title('Confusion Matrix -Percent Actual Plant Predicted \\n built model 128 no weights');\n",
    "plt.savefig('graphs/simplemodel128_2.png', bbox_inches='tight')"
   ]
  },
  {
   "cell_type": "code",
   "execution_count": 61,
   "metadata": {},
   "outputs": [],
   "source": [
    "from skimage.transform import resize, rotate"
   ]
  },
  {
   "cell_type": "code",
   "execution_count": 88,
   "metadata": {},
   "outputs": [
    {
     "name": "stdout",
     "output_type": "stream",
     "text": [
      "WARNING:tensorflow:5 out of the last 32 calls to <function Model.make_predict_function.<locals>.predict_function at 0x7fbfabce05e0> triggered tf.function retracing. Tracing is expensive and the excessive number of tracings could be due to (1) creating @tf.function repeatedly in a loop, (2) passing tensors with different shapes, (3) passing Python objects instead of tensors. For (1), please define your @tf.function outside of the loop. For (2), @tf.function has experimental_relax_shapes=True option that relaxes argument shapes that can avoid unnecessary retracing. For (3), please refer to https://www.tensorflow.org/tutorials/customization/performance#python_or_tensor_args and https://www.tensorflow.org/api_docs/python/tf/function for  more details.\n"
     ]
    }
   ],
   "source": [
    "test_data = io.imread('flask/static/uploads/'+'79.jpeg')\n",
    "test_data=resize(test_data,(300,200,3))\n",
    "# Load model\n",
    "#new_model = tf.keras.models.load_model('models/run_2021_01_09-11_39_31epoch_18/')\n",
    "# Predict on user input\n",
    "prediction =  model.predict(np.array(test_data).reshape(1,300,200,3)).flatten()"
   ]
  },
  {
   "cell_type": "code",
   "execution_count": null,
   "metadata": {},
   "outputs": [],
   "source": [
    "prediction="
   ]
  },
  {
   "cell_type": "code",
   "execution_count": 89,
   "metadata": {},
   "outputs": [
    {
     "data": {
      "text/plain": [
       "array([9.5870060e-01, 1.4188782e-04, 4.1157473e-02], dtype=float32)"
      ]
     },
     "execution_count": 89,
     "metadata": {},
     "output_type": "execute_result"
    }
   ],
   "source": [
    "prediction"
   ]
  },
  {
   "cell_type": "code",
   "execution_count": 86,
   "metadata": {},
   "outputs": [],
   "source": [
    "test_data = io.imread('flask/static/uploads/'+'79.jpeg')\n",
    "test_data=resize(test_data,(300,200,3))\n",
    "# Load model\n",
    "new_model = tf.keras.models.load_model('models/run_2021_01_09-11_39_31epoch_18/')\n",
    "# Predict on user input\n",
    "prediction = new_model.predict(np.array(test_data).reshape(1,300,200,3)).flatten()"
   ]
  },
  {
   "cell_type": "code",
   "execution_count": 87,
   "metadata": {},
   "outputs": [
    {
     "data": {
      "text/plain": [
       "array([9.463033e-01, 5.845858e-04, 5.311215e-02], dtype=float32)"
      ]
     },
     "execution_count": 87,
     "metadata": {},
     "output_type": "execute_result"
    }
   ],
   "source": [
    "prediction"
   ]
  },
  {
   "cell_type": "code",
   "execution_count": 105,
   "metadata": {},
   "outputs": [
    {
     "name": "stdout",
     "output_type": "stream",
     "text": [
      "This image most likely belongs to Predicted Poison Ivy with a 33.83 percent confidence.\n"
     ]
    }
   ],
   "source": [
    "# predicting on new picitures\n",
    "img = keras.preprocessing.image.load_img(\n",
    "    'flask/static/uploads/'+'11.jpeg', target_size=(300, 200))\n",
    "img_array = keras.preprocessing.image.img_to_array(img)\n",
    "img_array = tf.expand_dims(img_array, 0) # Create a batch\n",
    "predictions = model.predict(img_array)\n",
    "score = tf.nn.softmax(predictions[0])\n",
    "print(\n",
    "    \"This image most likely belongs to {} with a {:.2f} percent confidence.\"\n",
    "    .format(predicted_cat[np.argmax(score)], 100 * np.max(score))\n",
    ")"
   ]
  },
  {
   "cell_type": "code",
   "execution_count": null,
   "metadata": {},
   "outputs": [],
   "source": []
  }
 ],
 "metadata": {
  "kernelspec": {
   "display_name": "Python 3",
   "language": "python",
   "name": "python3"
  },
  "language_info": {
   "codemirror_mode": {
    "name": "ipython",
    "version": 3
   },
   "file_extension": ".py",
   "mimetype": "text/x-python",
   "name": "python",
   "nbconvert_exporter": "python",
   "pygments_lexer": "ipython3",
   "version": "3.8.3"
  }
 },
 "nbformat": 4,
 "nbformat_minor": 4
}
