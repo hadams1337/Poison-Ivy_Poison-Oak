{
 "cells": [
  {
   "cell_type": "code",
   "execution_count": 20,
   "metadata": {},
   "outputs": [],
   "source": [
    "import os\n",
    "from skimage import io\n",
    "import pandas as pd\n",
    "import numpy as np\n",
    "import scipy.stats as stats\n",
    "import matplotlib.pyplot as plt\n",
    "import shutil\n",
    "import PIL\n",
    "import tensorflow as tf\n",
    "from tensorflow import keras\n",
    "from tensorflow.keras import layers\n",
    "from tensorflow.keras.models import Sequential\n",
    "from sklearn.metrics import plot_confusion_matrix\n",
    "from sklearn.metrics import confusion_matrix\n",
    "from sklearn.utils.class_weight import compute_sample_weight\n",
    "from tensorflow.keras.callbacks import LearningRateScheduler\n",
    "import seaborn as sns"
   ]
  },
  {
   "cell_type": "code",
   "execution_count": 2,
   "metadata": {},
   "outputs": [],
   "source": [
    "batch_size = 32\n",
    "img_height = 300\n",
    "img_width = 200"
   ]
  },
  {
   "cell_type": "code",
   "execution_count": 38,
   "metadata": {},
   "outputs": [],
   "source": [
    "num_classes = 3\n",
    "model = Sequential([\n",
    "  layers.experimental.preprocessing.Rescaling(1./255, input_shape=(img_height, img_width, 3)),\n",
    "  layers.Conv2D(64, 7, padding='same', activation='relu'),\n",
    "  layers.MaxPooling2D(),\n",
    "  layers.Conv2D(64, 3, padding='same', activation='relu'),\n",
    "  layers.MaxPooling2D(),\n",
    "  layers.Conv2D(128, 3, padding='same', activation='relu'),\n",
    "  layers.MaxPooling2D(),\n",
    "  layers.Conv2D(128, 3, padding='same', activation='relu'),\n",
    "  layers.MaxPooling2D(),\n",
    "  layers.Flatten(),\n",
    "  layers.Dense(128, activation='relu'),\n",
    "  layers.Dense(num_classes, activation='softmax')\n",
    "])"
   ]
  },
  {
   "cell_type": "code",
   "execution_count": 5,
   "metadata": {},
   "outputs": [],
   "source": [
    "def get_model_name():\n",
    "    import time\n",
    "    run=time.strftime(\"run_%Y_%m_%d-%H_%M_%S\")\n",
    "    return run"
   ]
  },
  {
   "cell_type": "code",
   "execution_count": 6,
   "metadata": {},
   "outputs": [],
   "source": [
    "recall=tf.keras.metrics.Recall(class_id=None)"
   ]
  },
  {
   "cell_type": "code",
   "execution_count": 7,
   "metadata": {},
   "outputs": [],
   "source": [
    "root_logdir=os.path.join(os.curdir, 'my_logs')"
   ]
  },
  {
   "cell_type": "code",
   "execution_count": 8,
   "metadata": {},
   "outputs": [],
   "source": [
    "def get_run_logdir():\n",
    "    import time\n",
    "    run_id=time.strftime(\"run_%Y_%m_%d-%H_%M_%S\")\n",
    "    return os.path.join(root_logdir, run_id)"
   ]
  },
  {
   "cell_type": "code",
   "execution_count": 27,
   "metadata": {},
   "outputs": [],
   "source": [
    "run_logdir=get_run_logdir()\n",
    "model_name=get_model_name()"
   ]
  },
  {
   "cell_type": "code",
   "execution_count": 44,
   "metadata": {},
   "outputs": [],
   "source": [
    "def scheduler(epoch, lr):\n",
    "  if epoch < 200:\n",
    "    return lr\n",
    "  else:\n",
    "    return lr * tf.math.exp(-0.05)"
   ]
  },
  {
   "cell_type": "code",
   "execution_count": 45,
   "metadata": {},
   "outputs": [],
   "source": [
    "callbacks = [\n",
    "    keras.callbacks.EarlyStopping(\n",
    "        # Stop training when `val_loss` is no longer improving\n",
    "        monitor=\"val_loss\",\n",
    "        # \"no longer improving\" being defined as \"no better than 1e-5 less\"\n",
    "        min_delta=1e-7,\n",
    "        # \"no longer improving\" being further defined as \"for at least 30 epochs\"\n",
    "        patience=45,\n",
    "        verbose=1,), \n",
    "    keras.callbacks.TensorBoard(run_logdir,\n",
    "                              histogram_freq=2,\n",
    "                              write_graph=True,\n",
    "                              write_images=True),\n",
    "    keras.callbacks.ModelCheckpoint(filepath='models/'+model_name ,save_best_only=True), \n",
    "    keras.callbacks.LearningRateScheduler(scheduler)]"
   ]
  },
  {
   "cell_type": "code",
   "execution_count": 46,
   "metadata": {},
   "outputs": [],
   "source": [
    "train_datagen=tf.keras.preprocessing.image.ImageDataGenerator(\n",
    "    zca_whitening=False, zca_epsilon=1e-06, rotation_range=30, width_shift_range=0.3,\n",
    "    height_shift_range=0.3, fill_mode='nearest', cval=0.0,\n",
    "    horizontal_flip=True, vertical_flip=False, zoom_range=0.25, brightness_range=(0.75, 1.25))\n",
    "test_datagen=tf.keras.preprocessing.image.ImageDataGenerator()"
   ]
  },
  {
   "cell_type": "code",
   "execution_count": 47,
   "metadata": {},
   "outputs": [
    {
     "name": "stdout",
     "output_type": "stream",
     "text": [
      "Found 1968 images belonging to 3 classes.\n",
      "Found 422 images belonging to 3 classes.\n"
     ]
    }
   ],
   "source": [
    "train_generator = train_datagen.flow_from_directory(\n",
    "        'plants/train',\n",
    "        target_size=(300, 200),\n",
    "        batch_size=32,\n",
    "        class_mode='categorical')\n",
    "validation_generator = test_datagen.flow_from_directory(\n",
    "        'plants/val',\n",
    "        target_size=(300, 200),\n",
    "        batch_size=32,\n",
    "        class_mode='categorical')"
   ]
  },
  {
   "cell_type": "code",
   "execution_count": 24,
   "metadata": {},
   "outputs": [],
   "source": [
    "optimizer = tf.keras.optimizers.Adam(0.0001, beta_1=0.9, beta_2=0.98, \n",
    "                                     epsilon=1e-9)"
   ]
  },
  {
   "cell_type": "code",
   "execution_count": 40,
   "metadata": {},
   "outputs": [],
   "source": [
    "model.compile(optimizer=optimizer,\n",
    "              loss=tf.keras.losses.CategoricalCrossentropy(),\n",
    "              metrics=[recall])"
   ]
  },
  {
   "cell_type": "code",
   "execution_count": 28,
   "metadata": {},
   "outputs": [
    {
     "name": "stdout",
     "output_type": "stream",
     "text": [
      "Model: \"sequential\"\n",
      "_________________________________________________________________\n",
      "Layer (type)                 Output Shape              Param #   \n",
      "=================================================================\n",
      "rescaling (Rescaling)        (None, 300, 200, 3)       0         \n",
      "_________________________________________________________________\n",
      "conv2d (Conv2D)              (None, 300, 200, 64)      9472      \n",
      "_________________________________________________________________\n",
      "max_pooling2d (MaxPooling2D) (None, 150, 100, 64)      0         \n",
      "_________________________________________________________________\n",
      "conv2d_1 (Conv2D)            (None, 150, 100, 64)      36928     \n",
      "_________________________________________________________________\n",
      "max_pooling2d_1 (MaxPooling2 (None, 75, 50, 64)        0         \n",
      "_________________________________________________________________\n",
      "conv2d_2 (Conv2D)            (None, 75, 50, 128)       73856     \n",
      "_________________________________________________________________\n",
      "max_pooling2d_2 (MaxPooling2 (None, 37, 25, 128)       0         \n",
      "_________________________________________________________________\n",
      "conv2d_3 (Conv2D)            (None, 37, 25, 128)       147584    \n",
      "_________________________________________________________________\n",
      "max_pooling2d_3 (MaxPooling2 (None, 18, 12, 128)       0         \n",
      "_________________________________________________________________\n",
      "flatten (Flatten)            (None, 27648)             0         \n",
      "_________________________________________________________________\n",
      "dense (Dense)                (None, 128)               3539072   \n",
      "_________________________________________________________________\n",
      "dense_1 (Dense)              (None, 3)                 387       \n",
      "=================================================================\n",
      "Total params: 3,807,299\n",
      "Trainable params: 3,807,299\n",
      "Non-trainable params: 0\n",
      "_________________________________________________________________\n"
     ]
    }
   ],
   "source": [
    "model.summary()"
   ]
  },
  {
   "cell_type": "code",
   "execution_count": 30,
   "metadata": {},
   "outputs": [],
   "source": [
    "weight_for_0 = (1 / 1800)*(2200)/2.0 \n",
    "weight_for_1 = (1 / 400)*(2200)/2.0\n",
    "weight_for_2 = (1/400)*(2200)/2.0\n",
    "class_weight = {0: weight_for_0, 1: weight_for_1, 2: weight_for_2}"
   ]
  },
  {
   "cell_type": "code",
   "execution_count": 31,
   "metadata": {},
   "outputs": [
    {
     "name": "stdout",
     "output_type": "stream",
     "text": [
      "Epoch 1/600\n",
      "62/62 [==============================] - ETA: 0s - loss: 1.3573 - recall: 0.0478WARNING:tensorflow:From /Users/johnwilliams/opt/anaconda3/lib/python3.8/site-packages/tensorflow/python/training/tracking/tracking.py:111: Model.state_updates (from tensorflow.python.keras.engine.training) is deprecated and will be removed in a future version.\n",
      "Instructions for updating:\n",
      "This property should not be used in TensorFlow 2.0, as updates are applied automatically.\n",
      "WARNING:tensorflow:From /Users/johnwilliams/opt/anaconda3/lib/python3.8/site-packages/tensorflow/python/training/tracking/tracking.py:111: Layer.updates (from tensorflow.python.keras.engine.base_layer) is deprecated and will be removed in a future version.\n",
      "Instructions for updating:\n",
      "This property should not be used in TensorFlow 2.0, as updates are applied automatically.\n",
      "INFO:tensorflow:Assets written to: models/run_2021_01_12-07_24_38/assets\n",
      "62/62 [==============================] - 171s 3s/step - loss: 1.3573 - recall: 0.0478 - val_loss: 1.1012 - val_recall: 0.0000e+00\n",
      "Epoch 2/600\n",
      "62/62 [==============================] - 167s 3s/step - loss: 1.3345 - recall: 0.0025 - val_loss: 1.1413 - val_recall: 0.0355\n",
      "Epoch 3/600\n",
      "62/62 [==============================] - ETA: 0s - loss: 1.3128 - recall: 0.0635INFO:tensorflow:Assets written to: models/run_2021_01_12-07_24_38/assets\n",
      "62/62 [==============================] - 169s 3s/step - loss: 1.3128 - recall: 0.0635 - val_loss: 1.0676 - val_recall: 0.0237\n",
      "Epoch 4/600\n",
      "62/62 [==============================] - ETA: 0s - loss: 1.3074 - recall: 0.0229INFO:tensorflow:Assets written to: models/run_2021_01_12-07_24_38/assets\n",
      "62/62 [==============================] - 168s 3s/step - loss: 1.3074 - recall: 0.0229 - val_loss: 1.0562 - val_recall: 0.0995\n",
      "Epoch 5/600\n",
      "62/62 [==============================] - ETA: 0s - loss: 1.2957 - recall: 0.1280INFO:tensorflow:Assets written to: models/run_2021_01_12-07_24_38/assets\n",
      "62/62 [==============================] - 168s 3s/step - loss: 1.2957 - recall: 0.1280 - val_loss: 1.0165 - val_recall: 0.0190\n",
      "Epoch 6/600\n",
      "62/62 [==============================] - ETA: 0s - loss: 1.2930 - recall: 0.0910INFO:tensorflow:Assets written to: models/run_2021_01_12-07_24_38/assets\n",
      "62/62 [==============================] - 168s 3s/step - loss: 1.2930 - recall: 0.0910 - val_loss: 1.0119 - val_recall: 0.0498\n",
      "Epoch 7/600\n",
      "62/62 [==============================] - 168s 3s/step - loss: 1.2680 - recall: 0.1296 - val_loss: 1.1391 - val_recall: 0.1659\n",
      "Epoch 8/600\n",
      "62/62 [==============================] - ETA: 0s - loss: 1.2863 - recall: 0.1316INFO:tensorflow:Assets written to: models/run_2021_01_12-07_24_38/assets\n",
      "62/62 [==============================] - 169s 3s/step - loss: 1.2863 - recall: 0.1316 - val_loss: 0.9185 - val_recall: 0.3152\n",
      "Epoch 9/600\n",
      "62/62 [==============================] - 167s 3s/step - loss: 1.2699 - recall: 0.1626 - val_loss: 1.0153 - val_recall: 0.0592\n",
      "Epoch 10/600\n",
      "62/62 [==============================] - 167s 3s/step - loss: 1.2635 - recall: 0.1484 - val_loss: 1.0417 - val_recall: 0.1730\n",
      "Epoch 11/600\n",
      "62/62 [==============================] - 167s 3s/step - loss: 1.2573 - recall: 0.1977 - val_loss: 0.9677 - val_recall: 0.1422\n",
      "Epoch 12/600\n",
      "62/62 [==============================] - 167s 3s/step - loss: 1.2651 - recall: 0.1804 - val_loss: 1.0345 - val_recall: 0.1967\n",
      "Epoch 13/600\n",
      "62/62 [==============================] - 167s 3s/step - loss: 1.2534 - recall: 0.2027 - val_loss: 0.9857 - val_recall: 0.1398\n",
      "Epoch 14/600\n",
      "62/62 [==============================] - ETA: 0s - loss: 1.2525 - recall: 0.1834INFO:tensorflow:Assets written to: models/run_2021_01_12-07_24_38/assets\n",
      "62/62 [==============================] - 168s 3s/step - loss: 1.2525 - recall: 0.1834 - val_loss: 0.8375 - val_recall: 0.4787\n",
      "Epoch 15/600\n",
      "62/62 [==============================] - 167s 3s/step - loss: 1.2526 - recall: 0.2561 - val_loss: 0.9890 - val_recall: 0.1706\n",
      "Epoch 16/600\n",
      "62/62 [==============================] - 167s 3s/step - loss: 1.2289 - recall: 0.2652 - val_loss: 0.9844 - val_recall: 0.2133\n",
      "Epoch 17/600\n",
      "62/62 [==============================] - ETA: 0s - loss: 1.2183 - recall: 0.2703INFO:tensorflow:Assets written to: models/run_2021_01_12-07_24_38/assets\n",
      "62/62 [==============================] - 168s 3s/step - loss: 1.2183 - recall: 0.2703 - val_loss: 0.8357 - val_recall: 0.4573\n",
      "Epoch 18/600\n",
      "62/62 [==============================] - 166s 3s/step - loss: 1.2315 - recall: 0.2825 - val_loss: 0.8972 - val_recall: 0.3673\n",
      "Epoch 19/600\n",
      "62/62 [==============================] - 168s 3s/step - loss: 1.2230 - recall: 0.2937 - val_loss: 0.9040 - val_recall: 0.3863\n",
      "Epoch 20/600\n",
      "62/62 [==============================] - 166s 3s/step - loss: 1.2195 - recall: 0.2967 - val_loss: 0.8939 - val_recall: 0.2844\n",
      "Epoch 21/600\n",
      "62/62 [==============================] - 167s 3s/step - loss: 1.2093 - recall: 0.2754 - val_loss: 0.9226 - val_recall: 0.3318\n",
      "Epoch 22/600\n",
      "62/62 [==============================] - 167s 3s/step - loss: 1.1881 - recall: 0.3491 - val_loss: 0.9403 - val_recall: 0.3223\n",
      "Epoch 23/600\n",
      "62/62 [==============================] - ETA: 0s - loss: 1.1827 - recall: 0.3608INFO:tensorflow:Assets written to: models/run_2021_01_12-07_24_38/assets\n",
      "62/62 [==============================] - 167s 3s/step - loss: 1.1827 - recall: 0.3608 - val_loss: 0.8309 - val_recall: 0.4455\n",
      "Epoch 24/600\n",
      "62/62 [==============================] - 167s 3s/step - loss: 1.1731 - recall: 0.3552 - val_loss: 0.9470 - val_recall: 0.3246\n",
      "Epoch 25/600\n",
      "62/62 [==============================] - 166s 3s/step - loss: 1.1448 - recall: 0.3664 - val_loss: 0.8777 - val_recall: 0.3460\n",
      "Epoch 26/600\n",
      "62/62 [==============================] - ETA: 0s - loss: 1.1797 - recall: 0.3455INFO:tensorflow:Assets written to: models/run_2021_01_12-07_24_38/assets\n",
      "62/62 [==============================] - 168s 3s/step - loss: 1.1797 - recall: 0.3455 - val_loss: 0.8041 - val_recall: 0.5118\n",
      "Epoch 27/600\n",
      "62/62 [==============================] - 167s 3s/step - loss: 1.1588 - recall: 0.3968 - val_loss: 0.9398 - val_recall: 0.3412\n",
      "Epoch 28/600\n",
      "62/62 [==============================] - ETA: 0s - loss: 1.1429 - recall: 0.3877INFO:tensorflow:Assets written to: models/run_2021_01_12-07_24_38/assets\n",
      "62/62 [==============================] - 168s 3s/step - loss: 1.1429 - recall: 0.3877 - val_loss: 0.8036 - val_recall: 0.4976\n",
      "Epoch 29/600\n",
      "62/62 [==============================] - 167s 3s/step - loss: 1.1334 - recall: 0.4273 - val_loss: 0.8614 - val_recall: 0.4242\n",
      "Epoch 30/600\n",
      "62/62 [==============================] - 167s 3s/step - loss: 1.1343 - recall: 0.4151 - val_loss: 0.8836 - val_recall: 0.4194\n",
      "Epoch 31/600\n",
      "62/62 [==============================] - 175s 3s/step - loss: 1.1193 - recall: 0.4202 - val_loss: 0.8543 - val_recall: 0.4360\n",
      "Epoch 32/600\n",
      "62/62 [==============================] - 178s 3s/step - loss: 1.1315 - recall: 0.4238 - val_loss: 0.8954 - val_recall: 0.3957\n",
      "Epoch 33/600\n",
      "62/62 [==============================] - 177s 3s/step - loss: 1.1242 - recall: 0.4202 - val_loss: 0.9923 - val_recall: 0.3602\n",
      "Epoch 34/600\n",
      "62/62 [==============================] - 181s 3s/step - loss: 1.1270 - recall: 0.4141 - val_loss: 0.8235 - val_recall: 0.4573\n",
      "Epoch 35/600\n",
      "62/62 [==============================] - 175s 3s/step - loss: 1.0994 - recall: 0.4278 - val_loss: 0.8100 - val_recall: 0.4905\n",
      "Epoch 36/600\n",
      "62/62 [==============================] - 174s 3s/step - loss: 1.1305 - recall: 0.4268 - val_loss: 0.8814 - val_recall: 0.4147\n",
      "Epoch 37/600\n",
      "62/62 [==============================] - 171s 3s/step - loss: 1.1099 - recall: 0.4157 - val_loss: 0.8386 - val_recall: 0.4336\n",
      "Epoch 38/600\n",
      "62/62 [==============================] - 179s 3s/step - loss: 1.1022 - recall: 0.4395 - val_loss: 0.8552 - val_recall: 0.4408\n",
      "Epoch 39/600\n",
      "62/62 [==============================] - 181s 3s/step - loss: 1.1191 - recall: 0.4345 - val_loss: 0.9076 - val_recall: 0.3910\n",
      "Epoch 40/600\n",
      "62/62 [==============================] - 180s 3s/step - loss: 1.0985 - recall: 0.4426 - val_loss: 0.8637 - val_recall: 0.4479\n",
      "Epoch 41/600\n",
      "62/62 [==============================] - 174s 3s/step - loss: 1.0990 - recall: 0.4441 - val_loss: 0.8935 - val_recall: 0.4005\n",
      "Epoch 42/600\n"
     ]
    },
    {
     "name": "stdout",
     "output_type": "stream",
     "text": [
      "62/62 [==============================] - 168s 3s/step - loss: 1.0932 - recall: 0.4609 - val_loss: 0.8055 - val_recall: 0.5000\n",
      "Epoch 43/600\n",
      "62/62 [==============================] - 167s 3s/step - loss: 1.0974 - recall: 0.4390 - val_loss: 0.9199 - val_recall: 0.3886\n",
      "Epoch 44/600\n",
      "62/62 [==============================] - 175s 3s/step - loss: 1.0968 - recall: 0.4273 - val_loss: 0.8128 - val_recall: 0.4787\n",
      "Epoch 45/600\n",
      "62/62 [==============================] - 172s 3s/step - loss: 1.0835 - recall: 0.4842 - val_loss: 0.8927 - val_recall: 0.4147\n",
      "Epoch 46/600\n",
      "62/62 [==============================] - 173s 3s/step - loss: 1.0905 - recall: 0.4416 - val_loss: 0.8389 - val_recall: 0.4645\n",
      "Epoch 47/600\n",
      "62/62 [==============================] - 173s 3s/step - loss: 1.0995 - recall: 0.4360 - val_loss: 0.8438 - val_recall: 0.4550\n",
      "Epoch 48/600\n",
      "62/62 [==============================] - 173s 3s/step - loss: 1.0962 - recall: 0.4345 - val_loss: 0.8254 - val_recall: 0.4716\n",
      "Epoch 49/600\n",
      "62/62 [==============================] - 176s 3s/step - loss: 1.0809 - recall: 0.4654 - val_loss: 0.8195 - val_recall: 0.4739\n",
      "Epoch 50/600\n",
      "62/62 [==============================] - 180s 3s/step - loss: 1.0931 - recall: 0.4380 - val_loss: 0.8309 - val_recall: 0.4645\n",
      "Epoch 51/600\n",
      "62/62 [==============================] - 176s 3s/step - loss: 1.0824 - recall: 0.4533 - val_loss: 0.8292 - val_recall: 0.4716\n",
      "Epoch 52/600\n",
      "62/62 [==============================] - 174s 3s/step - loss: 1.0712 - recall: 0.4583 - val_loss: 0.8312 - val_recall: 0.4739\n",
      "Epoch 53/600\n",
      "62/62 [==============================] - 173s 3s/step - loss: 1.0932 - recall: 0.4599 - val_loss: 0.8450 - val_recall: 0.4597\n",
      "Epoch 54/600\n",
      "62/62 [==============================] - 256s 4s/step - loss: 1.0825 - recall: 0.4533 - val_loss: 0.8301 - val_recall: 0.4716\n",
      "Epoch 55/600\n",
      "62/62 [==============================] - 272s 4s/step - loss: 1.0778 - recall: 0.4451 - val_loss: 0.8394 - val_recall: 0.4597\n",
      "Epoch 56/600\n",
      "62/62 [==============================] - 270s 4s/step - loss: 1.0785 - recall: 0.4675 - val_loss: 0.8290 - val_recall: 0.4668\n",
      "Epoch 57/600\n",
      "62/62 [==============================] - 251s 4s/step - loss: 1.0802 - recall: 0.4609 - val_loss: 0.8493 - val_recall: 0.4621\n",
      "Epoch 58/600\n",
      "62/62 [==============================] - 248s 4s/step - loss: 1.0929 - recall: 0.4390 - val_loss: 0.8315 - val_recall: 0.4597\n",
      "Epoch 59/600\n",
      "62/62 [==============================] - 252s 4s/step - loss: 1.0887 - recall: 0.4675 - val_loss: 0.8386 - val_recall: 0.4621\n",
      "Epoch 60/600\n",
      "62/62 [==============================] - 257s 4s/step - loss: 1.0775 - recall: 0.4466 - val_loss: 0.8377 - val_recall: 0.4668\n",
      "Epoch 61/600\n",
      "62/62 [==============================] - 255s 4s/step - loss: 1.0789 - recall: 0.4563 - val_loss: 0.8315 - val_recall: 0.4645\n",
      "Epoch 62/600\n",
      "62/62 [==============================] - 263s 4s/step - loss: 1.0838 - recall: 0.4482 - val_loss: 0.8405 - val_recall: 0.4645\n",
      "Epoch 63/600\n",
      "62/62 [==============================] - 257s 4s/step - loss: 1.0778 - recall: 0.4649 - val_loss: 0.8323 - val_recall: 0.4692\n",
      "Epoch 64/600\n",
      "62/62 [==============================] - 260s 4s/step - loss: 1.0840 - recall: 0.4527 - val_loss: 0.8411 - val_recall: 0.4668\n",
      "Epoch 65/600\n",
      "62/62 [==============================] - 259s 4s/step - loss: 1.0577 - recall: 0.4726 - val_loss: 0.8294 - val_recall: 0.4645\n",
      "Epoch 66/600\n",
      "62/62 [==============================] - 248s 4s/step - loss: 1.0873 - recall: 0.4533 - val_loss: 0.8346 - val_recall: 0.4645\n",
      "Epoch 67/600\n",
      "62/62 [==============================] - 251s 4s/step - loss: 1.0781 - recall: 0.4599 - val_loss: 0.8315 - val_recall: 0.4668\n",
      "Epoch 68/600\n",
      "62/62 [==============================] - 239s 4s/step - loss: 1.0874 - recall: 0.4533 - val_loss: 0.8305 - val_recall: 0.4692\n",
      "Epoch 69/600\n",
      "62/62 [==============================] - 256s 4s/step - loss: 1.0836 - recall: 0.4517 - val_loss: 0.8368 - val_recall: 0.4645\n",
      "Epoch 70/600\n",
      "62/62 [==============================] - 258s 4s/step - loss: 1.0661 - recall: 0.4700 - val_loss: 0.8292 - val_recall: 0.4668\n",
      "Epoch 71/600\n",
      "62/62 [==============================] - 257s 4s/step - loss: 1.0822 - recall: 0.4578 - val_loss: 0.8287 - val_recall: 0.4692\n",
      "Epoch 00071: early stopping\n"
     ]
    }
   ],
   "source": [
    "epochs=600\n",
    "history = model.fit(\n",
    "  train_generator,\n",
    "  validation_data=validation_generator,\n",
    "  epochs=epochs,\n",
    "    callbacks=[callbacks], class_weight=class_weight)"
   ]
  },
  {
   "cell_type": "code",
   "execution_count": 34,
   "metadata": {},
   "outputs": [
    {
     "data": {
      "image/png": "[encoded data removed]",
      "text/plain": [
       "<Figure size 576x576 with 2 Axes>"
      ]
     },
     "metadata": {},
     "output_type": "display_data"
    }
   ],
   "source": [
    "plt.style.use('seaborn')\n",
    "acc = history.history['recall']\n",
    "val_acc = history.history['val_recall']\n",
    "\n",
    "loss = history.history['loss']\n",
    "val_loss = history.history['val_loss']\n",
    "\n",
    "epochs_range = range(len(acc))\n",
    "\n",
    "plt.figure(figsize=(8, 8))\n",
    "plt.subplot(1, 2, 1)\n",
    "plt.plot(epochs_range, acc, label='Training Recall')\n",
    "plt.plot(epochs_range, val_acc, label='Validation Recall')\n",
    "plt.legend(loc='lower right')\n",
    "plt.title('Training and Validation Recall')\n",
    "\n",
    "\n",
    "plt.subplot(1, 2, 2)\n",
    "plt.plot(epochs_range, loss, label='Training Loss')\n",
    "plt.plot(epochs_range, val_loss, label='Validation Loss')\n",
    "plt.legend(loc='upper right')\n",
    "plt.title('Training and Validation Loss')\n",
    "plt.savefig('graphs/simplemodel128x2weight_slow1.png', bbox_inches='tight')\n",
    "plt.show()"
   ]
  },
  {
   "cell_type": "code",
   "execution_count": 48,
   "metadata": {},
   "outputs": [
    {
     "name": "stdout",
     "output_type": "stream",
     "text": [
      "Epoch 1/600\n",
      "62/62 [==============================] - ETA: 0s - loss: 1.3498 - recall: 0.0000e+00INFO:tensorflow:Assets written to: models/run_2021_01_12-07_55_59/assets\n",
      "62/62 [==============================] - 179s 3s/step - loss: 1.3498 - recall: 0.0000e+00 - val_loss: 1.0414 - val_recall: 0.0000e+00\n",
      "Epoch 2/600\n",
      "62/62 [==============================] - 176s 3s/step - loss: 1.3496 - recall: 0.0000e+00 - val_loss: 1.0464 - val_recall: 0.0000e+00\n",
      "Epoch 3/600\n",
      "62/62 [==============================] - 182s 3s/step - loss: 1.3476 - recall: 0.0000e+00 - val_loss: 1.0455 - val_recall: 0.0000e+00\n",
      "Epoch 4/600\n",
      "62/62 [==============================] - ETA: 0s - loss: 1.3480 - recall: 0.0000e+00INFO:tensorflow:Assets written to: models/run_2021_01_12-07_55_59/assets\n",
      "62/62 [==============================] - 178s 3s/step - loss: 1.3480 - recall: 0.0000e+00 - val_loss: 1.0413 - val_recall: 0.0000e+00\n",
      "Epoch 5/600\n",
      "62/62 [==============================] - 179s 3s/step - loss: 1.3480 - recall: 0.0000e+00 - val_loss: 1.0450 - val_recall: 0.0000e+00\n",
      "Epoch 6/600\n",
      "62/62 [==============================] - 177s 3s/step - loss: 1.3466 - recall: 0.0000e+00 - val_loss: 1.0439 - val_recall: 0.0000e+00\n",
      "Epoch 7/600\n",
      "62/62 [==============================] - 177s 3s/step - loss: 1.3481 - recall: 0.0000e+00 - val_loss: 1.0442 - val_recall: 0.0000e+00\n",
      "Epoch 8/600\n",
      "62/62 [==============================] - ETA: 0s - loss: 1.3456 - recall: 0.0000e+00INFO:tensorflow:Assets written to: models/run_2021_01_12-07_55_59/assets\n",
      "62/62 [==============================] - 173s 3s/step - loss: 1.3456 - recall: 0.0000e+00 - val_loss: 1.0398 - val_recall: 0.0000e+00\n",
      "Epoch 9/600\n",
      "46/62 [=====================>........] - ETA: 54s - loss: 1.3206 - recall: 0.0000e+00"
     ]
    },
    {
     "ename": "KeyboardInterrupt",
     "evalue": "",
     "output_type": "error",
     "traceback": [
      "\u001b[0;31m---------------------------------------------------------------------------\u001b[0m",
      "\u001b[0;31mKeyboardInterrupt\u001b[0m                         Traceback (most recent call last)",
      "\u001b[0;32m<ipython-input-48-5056287213d0>\u001b[0m in \u001b[0;36m<module>\u001b[0;34m\u001b[0m\n\u001b[1;32m      1\u001b[0m \u001b[0mepochs\u001b[0m\u001b[0;34m=\u001b[0m\u001b[0;36m600\u001b[0m\u001b[0;34m\u001b[0m\u001b[0;34m\u001b[0m\u001b[0m\n\u001b[0;32m----> 2\u001b[0;31m history = model.fit(\n\u001b[0m\u001b[1;32m      3\u001b[0m   \u001b[0mtrain_generator\u001b[0m\u001b[0;34m,\u001b[0m\u001b[0;34m\u001b[0m\u001b[0;34m\u001b[0m\u001b[0m\n\u001b[1;32m      4\u001b[0m   \u001b[0mvalidation_data\u001b[0m\u001b[0;34m=\u001b[0m\u001b[0mvalidation_generator\u001b[0m\u001b[0;34m,\u001b[0m\u001b[0;34m\u001b[0m\u001b[0;34m\u001b[0m\u001b[0m\n\u001b[1;32m      5\u001b[0m   \u001b[0mepochs\u001b[0m\u001b[0;34m=\u001b[0m\u001b[0mepochs\u001b[0m\u001b[0;34m,\u001b[0m\u001b[0;34m\u001b[0m\u001b[0;34m\u001b[0m\u001b[0m\n",
      "\u001b[0;32m~/opt/anaconda3/lib/python3.8/site-packages/tensorflow/python/keras/engine/training.py\u001b[0m in \u001b[0;36m_method_wrapper\u001b[0;34m(self, *args, **kwargs)\u001b[0m\n\u001b[1;32m    106\u001b[0m   \u001b[0;32mdef\u001b[0m \u001b[0m_method_wrapper\u001b[0m\u001b[0;34m(\u001b[0m\u001b[0mself\u001b[0m\u001b[0;34m,\u001b[0m \u001b[0;34m*\u001b[0m\u001b[0margs\u001b[0m\u001b[0;34m,\u001b[0m \u001b[0;34m**\u001b[0m\u001b[0mkwargs\u001b[0m\u001b[0;34m)\u001b[0m\u001b[0;34m:\u001b[0m\u001b[0;34m\u001b[0m\u001b[0;34m\u001b[0m\u001b[0m\n\u001b[1;32m    107\u001b[0m     \u001b[0;32mif\u001b[0m \u001b[0;32mnot\u001b[0m \u001b[0mself\u001b[0m\u001b[0;34m.\u001b[0m\u001b[0m_in_multi_worker_mode\u001b[0m\u001b[0;34m(\u001b[0m\u001b[0;34m)\u001b[0m\u001b[0;34m:\u001b[0m  \u001b[0;31m# pylint: disable=protected-access\u001b[0m\u001b[0;34m\u001b[0m\u001b[0;34m\u001b[0m\u001b[0m\n\u001b[0;32m--> 108\u001b[0;31m       \u001b[0;32mreturn\u001b[0m \u001b[0mmethod\u001b[0m\u001b[0;34m(\u001b[0m\u001b[0mself\u001b[0m\u001b[0;34m,\u001b[0m \u001b[0;34m*\u001b[0m\u001b[0margs\u001b[0m\u001b[0;34m,\u001b[0m \u001b[0;34m**\u001b[0m\u001b[0mkwargs\u001b[0m\u001b[0;34m)\u001b[0m\u001b[0;34m\u001b[0m\u001b[0;34m\u001b[0m\u001b[0m\n\u001b[0m\u001b[1;32m    109\u001b[0m \u001b[0;34m\u001b[0m\u001b[0m\n\u001b[1;32m    110\u001b[0m     \u001b[0;31m# Running inside `run_distribute_coordinator` already.\u001b[0m\u001b[0;34m\u001b[0m\u001b[0;34m\u001b[0m\u001b[0;34m\u001b[0m\u001b[0m\n",
      "\u001b[0;32m~/opt/anaconda3/lib/python3.8/site-packages/tensorflow/python/keras/engine/training.py\u001b[0m in \u001b[0;36mfit\u001b[0;34m(self, x, y, batch_size, epochs, verbose, callbacks, validation_split, validation_data, shuffle, class_weight, sample_weight, initial_epoch, steps_per_epoch, validation_steps, validation_batch_size, validation_freq, max_queue_size, workers, use_multiprocessing)\u001b[0m\n\u001b[1;32m   1096\u001b[0m                 batch_size=batch_size):\n\u001b[1;32m   1097\u001b[0m               \u001b[0mcallbacks\u001b[0m\u001b[0;34m.\u001b[0m\u001b[0mon_train_batch_begin\u001b[0m\u001b[0;34m(\u001b[0m\u001b[0mstep\u001b[0m\u001b[0;34m)\u001b[0m\u001b[0;34m\u001b[0m\u001b[0;34m\u001b[0m\u001b[0m\n\u001b[0;32m-> 1098\u001b[0;31m               \u001b[0mtmp_logs\u001b[0m \u001b[0;34m=\u001b[0m \u001b[0mtrain_function\u001b[0m\u001b[0;34m(\u001b[0m\u001b[0miterator\u001b[0m\u001b[0;34m)\u001b[0m\u001b[0;34m\u001b[0m\u001b[0;34m\u001b[0m\u001b[0m\n\u001b[0m\u001b[1;32m   1099\u001b[0m               \u001b[0;32mif\u001b[0m \u001b[0mdata_handler\u001b[0m\u001b[0;34m.\u001b[0m\u001b[0mshould_sync\u001b[0m\u001b[0;34m:\u001b[0m\u001b[0;34m\u001b[0m\u001b[0;34m\u001b[0m\u001b[0m\n\u001b[1;32m   1100\u001b[0m                 \u001b[0mcontext\u001b[0m\u001b[0;34m.\u001b[0m\u001b[0masync_wait\u001b[0m\u001b[0;34m(\u001b[0m\u001b[0;34m)\u001b[0m\u001b[0;34m\u001b[0m\u001b[0;34m\u001b[0m\u001b[0m\n",
      "\u001b[0;32m~/opt/anaconda3/lib/python3.8/site-packages/tensorflow/python/eager/def_function.py\u001b[0m in \u001b[0;36m__call__\u001b[0;34m(self, *args, **kwds)\u001b[0m\n\u001b[1;32m    778\u001b[0m       \u001b[0;32melse\u001b[0m\u001b[0;34m:\u001b[0m\u001b[0;34m\u001b[0m\u001b[0;34m\u001b[0m\u001b[0m\n\u001b[1;32m    779\u001b[0m         \u001b[0mcompiler\u001b[0m \u001b[0;34m=\u001b[0m \u001b[0;34m\"nonXla\"\u001b[0m\u001b[0;34m\u001b[0m\u001b[0;34m\u001b[0m\u001b[0m\n\u001b[0;32m--> 780\u001b[0;31m         \u001b[0mresult\u001b[0m \u001b[0;34m=\u001b[0m \u001b[0mself\u001b[0m\u001b[0;34m.\u001b[0m\u001b[0m_call\u001b[0m\u001b[0;34m(\u001b[0m\u001b[0;34m*\u001b[0m\u001b[0margs\u001b[0m\u001b[0;34m,\u001b[0m \u001b[0;34m**\u001b[0m\u001b[0mkwds\u001b[0m\u001b[0;34m)\u001b[0m\u001b[0;34m\u001b[0m\u001b[0;34m\u001b[0m\u001b[0m\n\u001b[0m\u001b[1;32m    781\u001b[0m \u001b[0;34m\u001b[0m\u001b[0m\n\u001b[1;32m    782\u001b[0m       \u001b[0mnew_tracing_count\u001b[0m \u001b[0;34m=\u001b[0m \u001b[0mself\u001b[0m\u001b[0;34m.\u001b[0m\u001b[0m_get_tracing_count\u001b[0m\u001b[0;34m(\u001b[0m\u001b[0;34m)\u001b[0m\u001b[0;34m\u001b[0m\u001b[0;34m\u001b[0m\u001b[0m\n",
      "\u001b[0;32m~/opt/anaconda3/lib/python3.8/site-packages/tensorflow/python/eager/def_function.py\u001b[0m in \u001b[0;36m_call\u001b[0;34m(self, *args, **kwds)\u001b[0m\n\u001b[1;32m    805\u001b[0m       \u001b[0;31m# In this case we have created variables on the first call, so we run the\u001b[0m\u001b[0;34m\u001b[0m\u001b[0;34m\u001b[0m\u001b[0;34m\u001b[0m\u001b[0m\n\u001b[1;32m    806\u001b[0m       \u001b[0;31m# defunned version which is guaranteed to never create variables.\u001b[0m\u001b[0;34m\u001b[0m\u001b[0;34m\u001b[0m\u001b[0;34m\u001b[0m\u001b[0m\n\u001b[0;32m--> 807\u001b[0;31m       \u001b[0;32mreturn\u001b[0m \u001b[0mself\u001b[0m\u001b[0;34m.\u001b[0m\u001b[0m_stateless_fn\u001b[0m\u001b[0;34m(\u001b[0m\u001b[0;34m*\u001b[0m\u001b[0margs\u001b[0m\u001b[0;34m,\u001b[0m \u001b[0;34m**\u001b[0m\u001b[0mkwds\u001b[0m\u001b[0;34m)\u001b[0m  \u001b[0;31m# pylint: disable=not-callable\u001b[0m\u001b[0;34m\u001b[0m\u001b[0;34m\u001b[0m\u001b[0m\n\u001b[0m\u001b[1;32m    808\u001b[0m     \u001b[0;32melif\u001b[0m \u001b[0mself\u001b[0m\u001b[0;34m.\u001b[0m\u001b[0m_stateful_fn\u001b[0m \u001b[0;32mis\u001b[0m \u001b[0;32mnot\u001b[0m \u001b[0;32mNone\u001b[0m\u001b[0;34m:\u001b[0m\u001b[0;34m\u001b[0m\u001b[0;34m\u001b[0m\u001b[0m\n\u001b[1;32m    809\u001b[0m       \u001b[0;31m# Release the lock early so that multiple threads can perform the call\u001b[0m\u001b[0;34m\u001b[0m\u001b[0;34m\u001b[0m\u001b[0;34m\u001b[0m\u001b[0m\n",
      "\u001b[0;32m~/opt/anaconda3/lib/python3.8/site-packages/tensorflow/python/eager/function.py\u001b[0m in \u001b[0;36m__call__\u001b[0;34m(self, *args, **kwargs)\u001b[0m\n\u001b[1;32m   2827\u001b[0m     \u001b[0;32mwith\u001b[0m \u001b[0mself\u001b[0m\u001b[0;34m.\u001b[0m\u001b[0m_lock\u001b[0m\u001b[0;34m:\u001b[0m\u001b[0;34m\u001b[0m\u001b[0;34m\u001b[0m\u001b[0m\n\u001b[1;32m   2828\u001b[0m       \u001b[0mgraph_function\u001b[0m\u001b[0;34m,\u001b[0m \u001b[0margs\u001b[0m\u001b[0;34m,\u001b[0m \u001b[0mkwargs\u001b[0m \u001b[0;34m=\u001b[0m \u001b[0mself\u001b[0m\u001b[0;34m.\u001b[0m\u001b[0m_maybe_define_function\u001b[0m\u001b[0;34m(\u001b[0m\u001b[0margs\u001b[0m\u001b[0;34m,\u001b[0m \u001b[0mkwargs\u001b[0m\u001b[0;34m)\u001b[0m\u001b[0;34m\u001b[0m\u001b[0;34m\u001b[0m\u001b[0m\n\u001b[0;32m-> 2829\u001b[0;31m     \u001b[0;32mreturn\u001b[0m \u001b[0mgraph_function\u001b[0m\u001b[0;34m.\u001b[0m\u001b[0m_filtered_call\u001b[0m\u001b[0;34m(\u001b[0m\u001b[0margs\u001b[0m\u001b[0;34m,\u001b[0m \u001b[0mkwargs\u001b[0m\u001b[0;34m)\u001b[0m  \u001b[0;31m# pylint: disable=protected-access\u001b[0m\u001b[0;34m\u001b[0m\u001b[0;34m\u001b[0m\u001b[0m\n\u001b[0m\u001b[1;32m   2830\u001b[0m \u001b[0;34m\u001b[0m\u001b[0m\n\u001b[1;32m   2831\u001b[0m   \u001b[0;34m@\u001b[0m\u001b[0mproperty\u001b[0m\u001b[0;34m\u001b[0m\u001b[0;34m\u001b[0m\u001b[0m\n",
      "\u001b[0;32m~/opt/anaconda3/lib/python3.8/site-packages/tensorflow/python/eager/function.py\u001b[0m in \u001b[0;36m_filtered_call\u001b[0;34m(self, args, kwargs, cancellation_manager)\u001b[0m\n\u001b[1;32m   1841\u001b[0m       \u001b[0;31m`\u001b[0m\u001b[0margs\u001b[0m\u001b[0;31m`\u001b[0m \u001b[0;32mand\u001b[0m\u001b[0;31m \u001b[0m\u001b[0;31m`\u001b[0m\u001b[0mkwargs\u001b[0m\u001b[0;31m`\u001b[0m\u001b[0;34m.\u001b[0m\u001b[0;34m\u001b[0m\u001b[0;34m\u001b[0m\u001b[0m\n\u001b[1;32m   1842\u001b[0m     \"\"\"\n\u001b[0;32m-> 1843\u001b[0;31m     return self._call_flat(\n\u001b[0m\u001b[1;32m   1844\u001b[0m         [t for t in nest.flatten((args, kwargs), expand_composites=True)\n\u001b[1;32m   1845\u001b[0m          if isinstance(t, (ops.Tensor,\n",
      "\u001b[0;32m~/opt/anaconda3/lib/python3.8/site-packages/tensorflow/python/eager/function.py\u001b[0m in \u001b[0;36m_call_flat\u001b[0;34m(self, args, captured_inputs, cancellation_manager)\u001b[0m\n\u001b[1;32m   1921\u001b[0m         and executing_eagerly):\n\u001b[1;32m   1922\u001b[0m       \u001b[0;31m# No tape is watching; skip to running the function.\u001b[0m\u001b[0;34m\u001b[0m\u001b[0;34m\u001b[0m\u001b[0;34m\u001b[0m\u001b[0m\n\u001b[0;32m-> 1923\u001b[0;31m       return self._build_call_outputs(self._inference_function.call(\n\u001b[0m\u001b[1;32m   1924\u001b[0m           ctx, args, cancellation_manager=cancellation_manager))\n\u001b[1;32m   1925\u001b[0m     forward_backward = self._select_forward_and_backward_functions(\n",
      "\u001b[0;32m~/opt/anaconda3/lib/python3.8/site-packages/tensorflow/python/eager/function.py\u001b[0m in \u001b[0;36mcall\u001b[0;34m(self, ctx, args, cancellation_manager)\u001b[0m\n\u001b[1;32m    543\u001b[0m       \u001b[0;32mwith\u001b[0m \u001b[0m_InterpolateFunctionError\u001b[0m\u001b[0;34m(\u001b[0m\u001b[0mself\u001b[0m\u001b[0;34m)\u001b[0m\u001b[0;34m:\u001b[0m\u001b[0;34m\u001b[0m\u001b[0;34m\u001b[0m\u001b[0m\n\u001b[1;32m    544\u001b[0m         \u001b[0;32mif\u001b[0m \u001b[0mcancellation_manager\u001b[0m \u001b[0;32mis\u001b[0m \u001b[0;32mNone\u001b[0m\u001b[0;34m:\u001b[0m\u001b[0;34m\u001b[0m\u001b[0;34m\u001b[0m\u001b[0m\n\u001b[0;32m--> 545\u001b[0;31m           outputs = execute.execute(\n\u001b[0m\u001b[1;32m    546\u001b[0m               \u001b[0mstr\u001b[0m\u001b[0;34m(\u001b[0m\u001b[0mself\u001b[0m\u001b[0;34m.\u001b[0m\u001b[0msignature\u001b[0m\u001b[0;34m.\u001b[0m\u001b[0mname\u001b[0m\u001b[0;34m)\u001b[0m\u001b[0;34m,\u001b[0m\u001b[0;34m\u001b[0m\u001b[0;34m\u001b[0m\u001b[0m\n\u001b[1;32m    547\u001b[0m               \u001b[0mnum_outputs\u001b[0m\u001b[0;34m=\u001b[0m\u001b[0mself\u001b[0m\u001b[0;34m.\u001b[0m\u001b[0m_num_outputs\u001b[0m\u001b[0;34m,\u001b[0m\u001b[0;34m\u001b[0m\u001b[0;34m\u001b[0m\u001b[0m\n",
      "\u001b[0;32m~/opt/anaconda3/lib/python3.8/site-packages/tensorflow/python/eager/execute.py\u001b[0m in \u001b[0;36mquick_execute\u001b[0;34m(op_name, num_outputs, inputs, attrs, ctx, name)\u001b[0m\n\u001b[1;32m     57\u001b[0m   \u001b[0;32mtry\u001b[0m\u001b[0;34m:\u001b[0m\u001b[0;34m\u001b[0m\u001b[0;34m\u001b[0m\u001b[0m\n\u001b[1;32m     58\u001b[0m     \u001b[0mctx\u001b[0m\u001b[0;34m.\u001b[0m\u001b[0mensure_initialized\u001b[0m\u001b[0;34m(\u001b[0m\u001b[0;34m)\u001b[0m\u001b[0;34m\u001b[0m\u001b[0;34m\u001b[0m\u001b[0m\n\u001b[0;32m---> 59\u001b[0;31m     tensors = pywrap_tfe.TFE_Py_Execute(ctx._handle, device_name, op_name,\n\u001b[0m\u001b[1;32m     60\u001b[0m                                         inputs, attrs, num_outputs)\n\u001b[1;32m     61\u001b[0m   \u001b[0;32mexcept\u001b[0m \u001b[0mcore\u001b[0m\u001b[0;34m.\u001b[0m\u001b[0m_NotOkStatusException\u001b[0m \u001b[0;32mas\u001b[0m \u001b[0me\u001b[0m\u001b[0;34m:\u001b[0m\u001b[0;34m\u001b[0m\u001b[0;34m\u001b[0m\u001b[0m\n",
      "\u001b[0;31mKeyboardInterrupt\u001b[0m: "
     ]
    }
   ],
   "source": [
    "epochs=600\n",
    "history = model.fit(\n",
    "  train_generator,\n",
    "  validation_data=validation_generator,\n",
    "  epochs=epochs,\n",
    "    callbacks=[callbacks], class_weight=class_weight)"
   ]
  },
  {
   "cell_type": "code",
   "execution_count": 64,
   "metadata": {},
   "outputs": [],
   "source": [
    "poison_ivy_benign=[46,17,51,25]\n",
    "poison_oak_benign=[27,15,12,12]\n",
    "benign_benign=[87,69,91,79]\n",
    "labels=[\" \",'no augment',\" \", 'augment',\" \", 'too much augment',\" \", 'augment with weighted classes']\n",
    "x=[1,2,3,4]"
   ]
  },
  {
   "cell_type": "code",
   "execution_count": 69,
   "metadata": {},
   "outputs": [
    {
     "ename": "SyntaxError",
     "evalue": "invalid syntax (<ipython-input-69-be4ea996ed04>, line 9)",
     "output_type": "error",
     "traceback": [
      "\u001b[0;36m  File \u001b[0;32m\"<ipython-input-69-be4ea996ed04>\"\u001b[0;36m, line \u001b[0;32m9\u001b[0m\n\u001b[0;31m    ax.set_title(\"Impact of Augment and Weight\");\u001b[0m\n\u001b[0m    ^\u001b[0m\n\u001b[0;31mSyntaxError\u001b[0m\u001b[0;31m:\u001b[0m invalid syntax\n"
     ]
    }
   ],
   "source": [
    "fig, ax=plt.subplots()\n",
    "ax.plot(x, poison_ivy_benign, label=\"% Poison Ivy id'd as Benign\")\n",
    "ax.plot(x, poison_oak_benign,label=\"% Poison Oak id'd as Benign\")\n",
    "ax.plot(x, benign_benign, label=\"% Benign id'd as Benign\")\n",
    "ax.set_ylabel('Percent Labeled')\n",
    "ax.set_xticklabels(labels)\n",
    "ax.set_xlim(0.9,4.1)\n",
    "ax.legend(loc=(0.75, 0.75)\n",
    "ax.set_title(\"Impact of Augment and Weight\");"
   ]
  },
  {
   "cell_type": "code",
   "execution_count": null,
   "metadata": {},
   "outputs": [],
   "source": []
  }
 ],
 "metadata": {
  "kernelspec": {
   "display_name": "Python 3",
   "language": "python",
   "name": "python3"
  },
  "language_info": {
   "codemirror_mode": {
    "name": "ipython",
    "version": 3
   },
   "file_extension": ".py",
   "mimetype": "text/x-python",
   "name": "python",
   "nbconvert_exporter": "python",
   "pygments_lexer": "ipython3",
   "version": "3.8.3"
  }
 },
 "nbformat": 4,
 "nbformat_minor": 4
}
