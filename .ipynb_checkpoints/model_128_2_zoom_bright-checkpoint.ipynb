{
 "cells": [
  {
   "cell_type": "code",
   "execution_count": 17,
   "metadata": {},
   "outputs": [],
   "source": [
    "import os\n",
    "from skimage import io\n",
    "import pandas as pd\n",
    "import numpy as np\n",
    "import scipy.stats as stats\n",
    "import matplotlib.pyplot as plt\n",
    "import shutil\n",
    "import PIL\n",
    "import tensorflow as tf\n",
    "from tensorflow import keras\n",
    "from tensorflow.keras import layers\n",
    "from tensorflow.keras.models import Sequential\n",
    "from sklearn.metrics import plot_confusion_matrix\n",
    "from sklearn.metrics import confusion_matrix\n",
    "from sklearn.utils.class_weight import compute_sample_weight\n",
    "import seaborn as sns"
   ]
  },
  {
   "cell_type": "code",
   "execution_count": 19,
   "metadata": {},
   "outputs": [],
   "source": [
    "batch_size = 32\n",
    "img_height = 300\n",
    "img_width = 200\n"
   ]
  },
  {
   "cell_type": "code",
   "execution_count": null,
   "metadata": {},
   "outputs": [],
   "source": [
    "classes_weights = tf.constant([0.1, 1.0])\n",
    "cross_entropy = tf.nn.weighted_cross_entropy_with_logits(logits=logits, targets=labels, pos_weight=classes_weights)"
   ]
  },
  {
   "cell_type": "code",
   "execution_count": 3,
   "metadata": {},
   "outputs": [],
   "source": [
    "num_classes = 3\n",
    "model = Sequential([\n",
    "  layers.experimental.preprocessing.Rescaling(1./255, input_shape=(img_height, img_width, 3)),\n",
    "  layers.Conv2D(64, 7, padding='same', activation='relu'),\n",
    "  layers.MaxPooling2D(),\n",
    "  layers.Conv2D(64, 3, padding='same', activation='relu'),\n",
    "  layers.MaxPooling2D(),\n",
    "  layers.Conv2D(128, 3, padding='same', activation='relu'),\n",
    "  layers.MaxPooling2D(),\n",
    "  layers.Conv2D(128, 3, padding='same', activation='relu'),\n",
    "  layers.MaxPooling2D(),\n",
    "  layers.Flatten(),\n",
    "  layers.Dense(128, activation='relu'),\n",
    "  layers.Dense(num_classes, activation='softmax')\n",
    "])"
   ]
  },
  {
   "cell_type": "code",
   "execution_count": null,
   "metadata": {},
   "outputs": [],
   "source": []
  },
  {
   "cell_type": "code",
   "execution_count": 4,
   "metadata": {},
   "outputs": [],
   "source": [
    "def get_model_name():\n",
    "    import time\n",
    "    run=time.strftime(\"run_%Y_%m_%d-%H_%M_%S\")\n",
    "    return run"
   ]
  },
  {
   "cell_type": "code",
   "execution_count": 5,
   "metadata": {},
   "outputs": [],
   "source": [
    "recall=tf.keras.metrics.Recall(class_id=None)"
   ]
  },
  {
   "cell_type": "code",
   "execution_count": 6,
   "metadata": {},
   "outputs": [],
   "source": [
    "root_logdir=os.path.join(os.curdir, 'my_logs')"
   ]
  },
  {
   "cell_type": "code",
   "execution_count": 7,
   "metadata": {},
   "outputs": [],
   "source": [
    "def get_run_logdir():\n",
    "    import time\n",
    "    run_id=time.strftime(\"run_%Y_%m_%d-%H_%M_%S\")\n",
    "    return os.path.join(root_logdir, run_id)"
   ]
  },
  {
   "cell_type": "code",
   "execution_count": 72,
   "metadata": {},
   "outputs": [],
   "source": [
    "run_logdir=get_run_logdir()\n",
    "model_name=get_model_name()"
   ]
  },
  {
   "cell_type": "code",
   "execution_count": 15,
   "metadata": {},
   "outputs": [],
   "source": [
    "callbacks = [\n",
    "    keras.callbacks.EarlyStopping(\n",
    "        # Stop training when `val_loss` is no longer improving\n",
    "        monitor=\"val_loss\",\n",
    "        # \"no longer improving\" being defined as \"no better than 1e-5 less\"\n",
    "        min_delta=1e-5,\n",
    "        # \"no longer improving\" being further defined as \"for at least 30 epochs\"\n",
    "        patience=45,\n",
    "        verbose=1,), \n",
    "    keras.callbacks.TensorBoard(run_logdir,\n",
    "                              histogram_freq=2,\n",
    "                              write_graph=True,\n",
    "                              write_images=True),\n",
    "    keras.callbacks.ModelCheckpoint(filepath='models/'+model_name ,save_best_only=True)]"
   ]
  },
  {
   "cell_type": "code",
   "execution_count": 20,
   "metadata": {},
   "outputs": [],
   "source": [
    "train_datagen=tf.keras.preprocessing.image.ImageDataGenerator(\n",
    "    zca_whitening=False, zca_epsilon=1e-06, rotation_range=30, width_shift_range=0.3,\n",
    "    height_shift_range=0.3, fill_mode='nearest', cval=0.0,\n",
    "    horizontal_flip=True, vertical_flip=False, zoom_range=0.25, brightness_range=(0.6, 1.4))\n",
    "test_datagen=tf.keras.preprocessing.image.ImageDataGenerator()"
   ]
  },
  {
   "cell_type": "code",
   "execution_count": 56,
   "metadata": {},
   "outputs": [
    {
     "name": "stdout",
     "output_type": "stream",
     "text": [
      "Found 1968 images belonging to 3 classes.\n",
      "Found 422 images belonging to 3 classes.\n"
     ]
    }
   ],
   "source": [
    "train_generator = train_datagen.flow_from_directory(\n",
    "        'plants/train',\n",
    "        target_size=(300, 200),\n",
    "        batch_size=32,\n",
    "        class_mode='categorical')\n",
    "validation_generator = test_datagen.flow_from_directory(\n",
    "        'plants/val',\n",
    "        target_size=(300, 200),\n",
    "        batch_size=32,\n",
    "        class_mode='categorical')"
   ]
  },
  {
   "cell_type": "code",
   "execution_count": 23,
   "metadata": {},
   "outputs": [],
   "source": [
    "model.compile(optimizer='adam',\n",
    "              loss=tf.keras.losses.CategoricalCrossentropy(),\n",
    "              metrics=[recall])"
   ]
  },
  {
   "cell_type": "code",
   "execution_count": 24,
   "metadata": {},
   "outputs": [
    {
     "name": "stdout",
     "output_type": "stream",
     "text": [
      "Epoch 1/400\n",
      " 1/62 [..............................] - ETA: 0s - loss: 1.1037 - recall: 0.0000e+00WARNING:tensorflow:From /Users/johnwilliams/opt/anaconda3/lib/python3.8/site-packages/tensorflow/python/ops/summary_ops_v2.py:1277: stop (from tensorflow.python.eager.profiler) is deprecated and will be removed after 2020-07-01.\n",
      "Instructions for updating:\n",
      "use `tf.profiler.experimental.stop` instead.\n",
      "62/62 [==============================] - ETA: 0s - loss: 0.8582 - recall: 0.6286WARNING:tensorflow:From /Users/johnwilliams/opt/anaconda3/lib/python3.8/site-packages/tensorflow/python/training/tracking/tracking.py:111: Model.state_updates (from tensorflow.python.keras.engine.training) is deprecated and will be removed in a future version.\n",
      "Instructions for updating:\n",
      "This property should not be used in TensorFlow 2.0, as updates are applied automatically.\n",
      "WARNING:tensorflow:From /Users/johnwilliams/opt/anaconda3/lib/python3.8/site-packages/tensorflow/python/training/tracking/tracking.py:111: Layer.updates (from tensorflow.python.keras.engine.base_layer) is deprecated and will be removed in a future version.\n",
      "Instructions for updating:\n",
      "This property should not be used in TensorFlow 2.0, as updates are applied automatically.\n",
      "INFO:tensorflow:Assets written to: models/run_2021_01_11-07_40_45/assets\n",
      "62/62 [==============================] - 168s 3s/step - loss: 0.8582 - recall: 0.6286 - val_loss: 0.8059 - val_recall: 0.7085\n",
      "Epoch 2/400\n",
      "62/62 [==============================] - 166s 3s/step - loss: 0.8086 - recall: 0.6768 - val_loss: 0.8142 - val_recall: 0.7038\n",
      "Epoch 3/400\n",
      "62/62 [==============================] - ETA: 0s - loss: 0.7917 - recall: 0.6829INFO:tensorflow:Assets written to: models/run_2021_01_11-07_40_45/assets\n",
      "62/62 [==============================] - 167s 3s/step - loss: 0.7917 - recall: 0.6829 - val_loss: 0.7853 - val_recall: 0.6943\n",
      "Epoch 4/400\n",
      "62/62 [==============================] - ETA: 0s - loss: 0.7760 - recall: 0.6763INFO:tensorflow:Assets written to: models/run_2021_01_11-07_40_45/assets\n",
      "62/62 [==============================] - 167s 3s/step - loss: 0.7760 - recall: 0.6763 - val_loss: 0.7552 - val_recall: 0.6754\n",
      "Epoch 5/400\n",
      "62/62 [==============================] - ETA: 0s - loss: 0.7689 - recall: 0.6657INFO:tensorflow:Assets written to: models/run_2021_01_11-07_40_45/assets\n",
      "62/62 [==============================] - 168s 3s/step - loss: 0.7689 - recall: 0.6657 - val_loss: 0.7473 - val_recall: 0.6517\n",
      "Epoch 6/400\n",
      "62/62 [==============================] - 165s 3s/step - loss: 0.7738 - recall: 0.6458 - val_loss: 0.7582 - val_recall: 0.6730\n",
      "Epoch 7/400\n",
      "62/62 [==============================] - 167s 3s/step - loss: 0.7672 - recall: 0.6590 - val_loss: 0.7509 - val_recall: 0.6635\n",
      "Epoch 8/400\n",
      "62/62 [==============================] - 165s 3s/step - loss: 0.7611 - recall: 0.6621 - val_loss: 0.7635 - val_recall: 0.6967\n",
      "Epoch 9/400\n",
      "62/62 [==============================] - ETA: 0s - loss: 0.7598 - recall: 0.6580INFO:tensorflow:Assets written to: models/run_2021_01_11-07_40_45/assets\n",
      "62/62 [==============================] - 166s 3s/step - loss: 0.7598 - recall: 0.6580 - val_loss: 0.7420 - val_recall: 0.6611\n",
      "Epoch 10/400\n",
      "62/62 [==============================] - 165s 3s/step - loss: 0.7516 - recall: 0.6468 - val_loss: 0.7501 - val_recall: 0.6493\n",
      "Epoch 11/400\n",
      "62/62 [==============================] - 167s 3s/step - loss: 0.7485 - recall: 0.6651 - val_loss: 0.7542 - val_recall: 0.6517\n",
      "Epoch 12/400\n",
      "62/62 [==============================] - ETA: 0s - loss: 0.7517 - recall: 0.6606INFO:tensorflow:Assets written to: models/run_2021_01_11-07_40_45/assets\n",
      "62/62 [==============================] - 177s 3s/step - loss: 0.7517 - recall: 0.6606 - val_loss: 0.7417 - val_recall: 0.6801\n",
      "Epoch 13/400\n",
      "62/62 [==============================] - 170s 3s/step - loss: 0.7483 - recall: 0.6662 - val_loss: 0.7480 - val_recall: 0.6588\n",
      "Epoch 14/400\n",
      "62/62 [==============================] - ETA: 0s - loss: 0.7423 - recall: 0.6626INFO:tensorflow:Assets written to: models/run_2021_01_11-07_40_45/assets\n",
      "62/62 [==============================] - 169s 3s/step - loss: 0.7423 - recall: 0.6626 - val_loss: 0.7325 - val_recall: 0.6351\n",
      "Epoch 15/400\n",
      "62/62 [==============================] - ETA: 0s - loss: 0.7364 - recall: 0.6646INFO:tensorflow:Assets written to: models/run_2021_01_11-07_40_45/assets\n",
      "62/62 [==============================] - 170s 3s/step - loss: 0.7364 - recall: 0.6646 - val_loss: 0.7312 - val_recall: 0.6801\n",
      "Epoch 16/400\n",
      "62/62 [==============================] - 169s 3s/step - loss: 0.7403 - recall: 0.6494 - val_loss: 0.7582 - val_recall: 0.5877\n",
      "Epoch 17/400\n",
      "62/62 [==============================] - 166s 3s/step - loss: 0.7310 - recall: 0.6590 - val_loss: 0.7524 - val_recall: 0.6256\n",
      "Epoch 18/400\n",
      "62/62 [==============================] - ETA: 0s - loss: 0.7373 - recall: 0.6616INFO:tensorflow:Assets written to: models/run_2021_01_11-07_40_45/assets\n",
      "62/62 [==============================] - 167s 3s/step - loss: 0.7373 - recall: 0.6616 - val_loss: 0.7221 - val_recall: 0.6706\n",
      "Epoch 19/400\n",
      "62/62 [==============================] - 166s 3s/step - loss: 0.7311 - recall: 0.6636 - val_loss: 0.7248 - val_recall: 0.6754\n",
      "Epoch 20/400\n",
      "62/62 [==============================] - 166s 3s/step - loss: 0.7288 - recall: 0.6590 - val_loss: 0.7321 - val_recall: 0.6209\n",
      "Epoch 21/400\n",
      "62/62 [==============================] - ETA: 0s - loss: 0.7257 - recall: 0.6509INFO:tensorflow:Assets written to: models/run_2021_01_11-07_40_45/assets\n",
      "62/62 [==============================] - 174s 3s/step - loss: 0.7257 - recall: 0.6509 - val_loss: 0.7217 - val_recall: 0.6445\n",
      "Epoch 22/400\n",
      "62/62 [==============================] - 178s 3s/step - loss: 0.7318 - recall: 0.6565 - val_loss: 0.8136 - val_recall: 0.4668\n",
      "Epoch 23/400\n",
      "62/62 [==============================] - ETA: 0s - loss: 0.7387 - recall: 0.6646INFO:tensorflow:Assets written to: models/run_2021_01_11-07_40_45/assets\n",
      "62/62 [==============================] - 187s 3s/step - loss: 0.7387 - recall: 0.6646 - val_loss: 0.7154 - val_recall: 0.6706\n",
      "Epoch 24/400\n",
      "62/62 [==============================] - 182s 3s/step - loss: 0.7289 - recall: 0.6763 - val_loss: 0.7459 - val_recall: 0.6848\n",
      "Epoch 25/400\n",
      "62/62 [==============================] - 172s 3s/step - loss: 0.7311 - recall: 0.6707 - val_loss: 0.7446 - val_recall: 0.5758\n",
      "Epoch 26/400\n",
      "62/62 [==============================] - ETA: 0s - loss: 0.7171 - recall: 0.6560INFO:tensorflow:Assets written to: models/run_2021_01_11-07_40_45/assets\n",
      "62/62 [==============================] - 171s 3s/step - loss: 0.7171 - recall: 0.6560 - val_loss: 0.7149 - val_recall: 0.6469\n",
      "Epoch 27/400\n",
      "62/62 [==============================] - 170s 3s/step - loss: 0.7216 - recall: 0.6585 - val_loss: 0.7313 - val_recall: 0.6114\n",
      "Epoch 28/400\n",
      "62/62 [==============================] - ETA: 0s - loss: 0.7108 - recall: 0.6575INFO:tensorflow:Assets written to: models/run_2021_01_11-07_40_45/assets\n",
      "62/62 [==============================] - 175s 3s/step - loss: 0.7108 - recall: 0.6575 - val_loss: 0.7018 - val_recall: 0.6635\n",
      "Epoch 29/400\n",
      "62/62 [==============================] - 172s 3s/step - loss: 0.7192 - recall: 0.6646 - val_loss: 0.7178 - val_recall: 0.6209\n",
      "Epoch 30/400\n",
      "62/62 [==============================] - 168s 3s/step - loss: 0.7147 - recall: 0.6494 - val_loss: 0.7159 - val_recall: 0.6303\n",
      "Epoch 31/400\n",
      "62/62 [==============================] - 170s 3s/step - loss: 0.7146 - recall: 0.6626 - val_loss: 0.7460 - val_recall: 0.5521\n",
      "Epoch 32/400\n",
      "62/62 [==============================] - 170s 3s/step - loss: 0.7145 - recall: 0.6545 - val_loss: 0.7197 - val_recall: 0.6872\n",
      "Epoch 33/400\n",
      "62/62 [==============================] - ETA: 0s - loss: 0.7098 - recall: 0.6611INFO:tensorflow:Assets written to: models/run_2021_01_11-07_40_45/assets\n",
      "62/62 [==============================] - 167s 3s/step - loss: 0.7098 - recall: 0.6611 - val_loss: 0.7011 - val_recall: 0.6706\n",
      "Epoch 34/400\n",
      "62/62 [==============================] - 166s 3s/step - loss: 0.6975 - recall: 0.6702 - val_loss: 0.7110 - val_recall: 0.6493\n",
      "Epoch 35/400\n",
      "62/62 [==============================] - 167s 3s/step - loss: 0.7137 - recall: 0.6509 - val_loss: 0.7035 - val_recall: 0.6564\n",
      "Epoch 36/400\n"
     ]
    },
    {
     "name": "stdout",
     "output_type": "stream",
     "text": [
      "62/62 [==============================] - ETA: 0s - loss: 0.7095 - recall: 0.6723INFO:tensorflow:Assets written to: models/run_2021_01_11-07_40_45/assets\n",
      "62/62 [==============================] - 166s 3s/step - loss: 0.7095 - recall: 0.6723 - val_loss: 0.6955 - val_recall: 0.6706\n",
      "Epoch 37/400\n",
      "62/62 [==============================] - 166s 3s/step - loss: 0.7051 - recall: 0.6570 - val_loss: 0.7272 - val_recall: 0.5427\n",
      "Epoch 38/400\n",
      "62/62 [==============================] - 166s 3s/step - loss: 0.7038 - recall: 0.6621 - val_loss: 0.7135 - val_recall: 0.6754\n",
      "Epoch 39/400\n",
      "62/62 [==============================] - 166s 3s/step - loss: 0.7022 - recall: 0.6728 - val_loss: 0.6998 - val_recall: 0.6066\n",
      "Epoch 40/400\n",
      "62/62 [==============================] - 166s 3s/step - loss: 0.7002 - recall: 0.6657 - val_loss: 0.7019 - val_recall: 0.6943\n",
      "Epoch 41/400\n",
      "62/62 [==============================] - 166s 3s/step - loss: 0.7095 - recall: 0.6768 - val_loss: 0.7035 - val_recall: 0.6090\n",
      "Epoch 42/400\n",
      "62/62 [==============================] - 188s 3s/step - loss: 0.6917 - recall: 0.6606 - val_loss: 0.7143 - val_recall: 0.6185\n",
      "Epoch 43/400\n",
      "62/62 [==============================] - 240s 4s/step - loss: 0.6977 - recall: 0.6707 - val_loss: 0.7283 - val_recall: 0.6517\n",
      "Epoch 44/400\n",
      "62/62 [==============================] - 232s 4s/step - loss: 0.6988 - recall: 0.6489 - val_loss: 0.7035 - val_recall: 0.6493\n",
      "Epoch 45/400\n",
      "62/62 [==============================] - ETA: 0s - loss: 0.6869 - recall: 0.6707INFO:tensorflow:Assets written to: models/run_2021_01_11-07_40_45/assets\n",
      "62/62 [==============================] - 238s 4s/step - loss: 0.6869 - recall: 0.6707 - val_loss: 0.6866 - val_recall: 0.6351\n",
      "Epoch 46/400\n",
      "62/62 [==============================] - 239s 4s/step - loss: 0.6975 - recall: 0.6667 - val_loss: 0.7122 - val_recall: 0.6327\n",
      "Epoch 47/400\n",
      "62/62 [==============================] - 249s 4s/step - loss: 0.6921 - recall: 0.6707 - val_loss: 0.6933 - val_recall: 0.6564\n",
      "Epoch 48/400\n",
      "62/62 [==============================] - 243s 4s/step - loss: 0.6799 - recall: 0.6763 - val_loss: 0.6940 - val_recall: 0.6825\n",
      "Epoch 49/400\n",
      "62/62 [==============================] - ETA: 0s - loss: 0.7002 - recall: 0.6651INFO:tensorflow:Assets written to: models/run_2021_01_11-07_40_45/assets\n",
      "62/62 [==============================] - 240s 4s/step - loss: 0.7002 - recall: 0.6651 - val_loss: 0.6740 - val_recall: 0.6730\n",
      "Epoch 50/400\n",
      "62/62 [==============================] - 239s 4s/step - loss: 0.6791 - recall: 0.6738 - val_loss: 0.6990 - val_recall: 0.6517\n",
      "Epoch 51/400\n",
      "62/62 [==============================] - 232s 4s/step - loss: 0.6810 - recall: 0.6692 - val_loss: 0.7019 - val_recall: 0.5948\n",
      "Epoch 52/400\n",
      "62/62 [==============================] - 225s 4s/step - loss: 0.6734 - recall: 0.6753 - val_loss: 0.6915 - val_recall: 0.6185\n",
      "Epoch 53/400\n",
      "62/62 [==============================] - 247s 4s/step - loss: 0.6858 - recall: 0.6707 - val_loss: 0.6801 - val_recall: 0.6682\n",
      "Epoch 54/400\n",
      "62/62 [==============================] - 266s 4s/step - loss: 0.6819 - recall: 0.6814 - val_loss: 0.7004 - val_recall: 0.6659\n",
      "Epoch 55/400\n",
      "62/62 [==============================] - 259s 4s/step - loss: 0.6868 - recall: 0.6839 - val_loss: 0.6870 - val_recall: 0.6540\n",
      "Epoch 56/400\n",
      "62/62 [==============================] - 253s 4s/step - loss: 0.6798 - recall: 0.6794 - val_loss: 0.6778 - val_recall: 0.6967\n",
      "Epoch 57/400\n",
      "62/62 [==============================] - 234s 4s/step - loss: 0.6855 - recall: 0.6839 - val_loss: 0.6964 - val_recall: 0.6777\n",
      "Epoch 58/400\n",
      "62/62 [==============================] - 236s 4s/step - loss: 0.6774 - recall: 0.6966 - val_loss: 0.7506 - val_recall: 0.6919\n",
      "Epoch 59/400\n",
      "62/62 [==============================] - 244s 4s/step - loss: 0.6882 - recall: 0.6778 - val_loss: 0.6850 - val_recall: 0.6919\n",
      "Epoch 60/400\n",
      "62/62 [==============================] - ETA: 0s - loss: 0.6810 - recall: 0.6809INFO:tensorflow:Assets written to: models/run_2021_01_11-07_40_45/assets\n",
      "62/62 [==============================] - 240s 4s/step - loss: 0.6810 - recall: 0.6809 - val_loss: 0.6668 - val_recall: 0.6919\n",
      "Epoch 61/400\n",
      "62/62 [==============================] - ETA: 0s - loss: 0.6541 - recall: 0.6936INFO:tensorflow:Assets written to: models/run_2021_01_11-07_40_45/assets\n",
      "62/62 [==============================] - 235s 4s/step - loss: 0.6541 - recall: 0.6936 - val_loss: 0.6536 - val_recall: 0.6991\n",
      "Epoch 62/400\n",
      "62/62 [==============================] - 239s 4s/step - loss: 0.6744 - recall: 0.6905 - val_loss: 0.7139 - val_recall: 0.6659\n",
      "Epoch 63/400\n",
      "62/62 [==============================] - 258s 4s/step - loss: 0.6690 - recall: 0.6921 - val_loss: 0.6918 - val_recall: 0.6611\n",
      "Epoch 64/400\n",
      "62/62 [==============================] - 235s 4s/step - loss: 0.6593 - recall: 0.6946 - val_loss: 0.6947 - val_recall: 0.6564\n",
      "Epoch 65/400\n",
      "62/62 [==============================] - 232s 4s/step - loss: 0.6608 - recall: 0.6916 - val_loss: 0.6806 - val_recall: 0.6682\n",
      "Epoch 66/400\n",
      "62/62 [==============================] - 221s 4s/step - loss: 0.6604 - recall: 0.6845 - val_loss: 0.6711 - val_recall: 0.7014\n",
      "Epoch 67/400\n",
      "62/62 [==============================] - 222s 4s/step - loss: 0.6617 - recall: 0.7017 - val_loss: 0.6694 - val_recall: 0.6706\n",
      "Epoch 68/400\n",
      "62/62 [==============================] - 247s 4s/step - loss: 0.6574 - recall: 0.6997 - val_loss: 0.6643 - val_recall: 0.6825\n",
      "Epoch 69/400\n",
      "62/62 [==============================] - 255s 4s/step - loss: 0.6680 - recall: 0.6911 - val_loss: 0.6911 - val_recall: 0.6351\n",
      "Epoch 70/400\n",
      "62/62 [==============================] - 243s 4s/step - loss: 0.6598 - recall: 0.7012 - val_loss: 0.6644 - val_recall: 0.7038\n",
      "Epoch 71/400\n",
      "62/62 [==============================] - 248s 4s/step - loss: 0.6480 - recall: 0.7109 - val_loss: 0.6756 - val_recall: 0.6517\n",
      "Epoch 72/400\n",
      "62/62 [==============================] - 246s 4s/step - loss: 0.6513 - recall: 0.7017 - val_loss: 0.6834 - val_recall: 0.6730\n",
      "Epoch 73/400\n",
      "62/62 [==============================] - 241s 4s/step - loss: 0.6552 - recall: 0.6911 - val_loss: 0.6629 - val_recall: 0.6635\n",
      "Epoch 74/400\n",
      "62/62 [==============================] - 242s 4s/step - loss: 0.6503 - recall: 0.6972 - val_loss: 0.6760 - val_recall: 0.6564\n",
      "Epoch 75/400\n",
      "62/62 [==============================] - 255s 4s/step - loss: 0.6390 - recall: 0.6951 - val_loss: 0.6682 - val_recall: 0.7062\n",
      "Epoch 76/400\n",
      "62/62 [==============================] - 284s 5s/step - loss: 0.6537 - recall: 0.6992 - val_loss: 0.6944 - val_recall: 0.6351\n",
      "Epoch 77/400\n",
      "62/62 [==============================] - 273s 4s/step - loss: 0.6405 - recall: 0.6900 - val_loss: 0.6679 - val_recall: 0.6754\n",
      "Epoch 78/400\n",
      "62/62 [==============================] - 260s 4s/step - loss: 0.6541 - recall: 0.6946 - val_loss: 0.7062 - val_recall: 0.6469\n",
      "Epoch 79/400\n",
      "62/62 [==============================] - 241s 4s/step - loss: 0.6480 - recall: 0.7002 - val_loss: 0.6750 - val_recall: 0.7062\n",
      "Epoch 80/400\n",
      "62/62 [==============================] - ETA: 0s - loss: 0.6458 - recall: 0.6987INFO:tensorflow:Assets written to: models/run_2021_01_11-07_40_45/assets\n",
      "62/62 [==============================] - 239s 4s/step - loss: 0.6458 - recall: 0.6987 - val_loss: 0.6414 - val_recall: 0.6991\n",
      "Epoch 81/400\n",
      "62/62 [==============================] - 244s 4s/step - loss: 0.6426 - recall: 0.7058 - val_loss: 0.6593 - val_recall: 0.7062\n",
      "Epoch 82/400\n",
      "62/62 [==============================] - 250s 4s/step - loss: 0.6468 - recall: 0.7088 - val_loss: 0.6761 - val_recall: 0.6730\n",
      "Epoch 83/400\n",
      "62/62 [==============================] - 260s 4s/step - loss: 0.6416 - recall: 0.6982 - val_loss: 0.6627 - val_recall: 0.6517\n",
      "Epoch 84/400\n",
      "62/62 [==============================] - 247s 4s/step - loss: 0.6422 - recall: 0.7038 - val_loss: 0.6457 - val_recall: 0.7156\n",
      "Epoch 85/400\n",
      "62/62 [==============================] - 250s 4s/step - loss: 0.6328 - recall: 0.7063 - val_loss: 0.6458 - val_recall: 0.6611\n",
      "Epoch 86/400\n",
      "62/62 [==============================] - 237s 4s/step - loss: 0.6361 - recall: 0.7022 - val_loss: 0.6700 - val_recall: 0.6611\n",
      "Epoch 87/400\n",
      "62/62 [==============================] - 223s 4s/step - loss: 0.6138 - recall: 0.7205 - val_loss: 0.7297 - val_recall: 0.6374\n",
      "Epoch 88/400\n"
     ]
    },
    {
     "name": "stdout",
     "output_type": "stream",
     "text": [
      "62/62 [==============================] - 232s 4s/step - loss: 0.6516 - recall: 0.7093 - val_loss: 0.7045 - val_recall: 0.6445\n",
      "Epoch 89/400\n",
      "62/62 [==============================] - 241s 4s/step - loss: 0.6519 - recall: 0.6972 - val_loss: 0.6820 - val_recall: 0.6730\n",
      "Epoch 90/400\n",
      "62/62 [==============================] - 243s 4s/step - loss: 0.6267 - recall: 0.7200 - val_loss: 0.6677 - val_recall: 0.6564\n",
      "Epoch 91/400\n",
      "62/62 [==============================] - ETA: 0s - loss: 0.6142 - recall: 0.7149INFO:tensorflow:Assets written to: models/run_2021_01_11-07_40_45/assets\n",
      "62/62 [==============================] - 247s 4s/step - loss: 0.6142 - recall: 0.7149 - val_loss: 0.6334 - val_recall: 0.7156\n",
      "Epoch 92/400\n",
      "62/62 [==============================] - ETA: 0s - loss: 0.6170 - recall: 0.7236INFO:tensorflow:Assets written to: models/run_2021_01_11-07_40_45/assets\n",
      "62/62 [==============================] - 248s 4s/step - loss: 0.6170 - recall: 0.7236 - val_loss: 0.6286 - val_recall: 0.7370\n",
      "Epoch 93/400\n",
      "62/62 [==============================] - 243s 4s/step - loss: 0.6220 - recall: 0.7149 - val_loss: 0.6471 - val_recall: 0.6777\n",
      "Epoch 94/400\n",
      "62/62 [==============================] - 235s 4s/step - loss: 0.6261 - recall: 0.7170 - val_loss: 0.6300 - val_recall: 0.7133\n",
      "Epoch 95/400\n",
      "62/62 [==============================] - 225s 4s/step - loss: 0.6130 - recall: 0.7139 - val_loss: 0.6828 - val_recall: 0.6801\n",
      "Epoch 96/400\n",
      "62/62 [==============================] - 226s 4s/step - loss: 0.6038 - recall: 0.7251 - val_loss: 0.6525 - val_recall: 0.6564\n",
      "Epoch 97/400\n",
      "62/62 [==============================] - ETA: 0s - loss: 0.6392 - recall: 0.7099INFO:tensorflow:Assets written to: models/run_2021_01_11-07_40_45/assets\n",
      "62/62 [==============================] - 242s 4s/step - loss: 0.6392 - recall: 0.7099 - val_loss: 0.6258 - val_recall: 0.7441\n",
      "Epoch 98/400\n",
      "62/62 [==============================] - ETA: 0s - loss: 0.6072 - recall: 0.7205INFO:tensorflow:Assets written to: models/run_2021_01_11-07_40_45/assets\n",
      "62/62 [==============================] - 245s 4s/step - loss: 0.6072 - recall: 0.7205 - val_loss: 0.6242 - val_recall: 0.7180\n",
      "Epoch 99/400\n",
      "62/62 [==============================] - 243s 4s/step - loss: 0.6235 - recall: 0.7043 - val_loss: 0.6498 - val_recall: 0.6659\n",
      "Epoch 100/400\n",
      "62/62 [==============================] - 256s 4s/step - loss: 0.6174 - recall: 0.7093 - val_loss: 0.6459 - val_recall: 0.7275\n",
      "Epoch 101/400\n",
      "62/62 [==============================] - 224s 4s/step - loss: 0.6077 - recall: 0.7297 - val_loss: 0.6678 - val_recall: 0.7441\n",
      "Epoch 102/400\n",
      "62/62 [==============================] - 237s 4s/step - loss: 0.5896 - recall: 0.7317 - val_loss: 0.6517 - val_recall: 0.7441\n",
      "Epoch 103/400\n",
      "62/62 [==============================] - 230s 4s/step - loss: 0.6076 - recall: 0.7231 - val_loss: 0.6424 - val_recall: 0.6825\n",
      "Epoch 104/400\n",
      "62/62 [==============================] - 179s 3s/step - loss: 0.5972 - recall: 0.7241 - val_loss: 0.6427 - val_recall: 0.7322\n",
      "Epoch 105/400\n",
      "62/62 [==============================] - 185s 3s/step - loss: 0.5978 - recall: 0.7180 - val_loss: 0.6417 - val_recall: 0.7346\n",
      "Epoch 106/400\n",
      "62/62 [==============================] - 178s 3s/step - loss: 0.5984 - recall: 0.7190 - val_loss: 0.6890 - val_recall: 0.5995\n",
      "Epoch 107/400\n",
      "62/62 [==============================] - 179s 3s/step - loss: 0.5944 - recall: 0.7200 - val_loss: 0.6466 - val_recall: 0.7370\n",
      "Epoch 108/400\n",
      "62/62 [==============================] - 191s 3s/step - loss: 0.5914 - recall: 0.7175 - val_loss: 0.6541 - val_recall: 0.6351\n",
      "Epoch 109/400\n",
      "62/62 [==============================] - 197s 3s/step - loss: 0.5916 - recall: 0.7322 - val_loss: 0.6592 - val_recall: 0.7085\n",
      "Epoch 110/400\n",
      "62/62 [==============================] - 196s 3s/step - loss: 0.6066 - recall: 0.7231 - val_loss: 0.6755 - val_recall: 0.6943\n",
      "Epoch 111/400\n",
      "62/62 [==============================] - 194s 3s/step - loss: 0.5915 - recall: 0.7312 - val_loss: 0.6539 - val_recall: 0.6967\n",
      "Epoch 112/400\n",
      "62/62 [==============================] - 182s 3s/step - loss: 0.5820 - recall: 0.7256 - val_loss: 0.6287 - val_recall: 0.7204\n",
      "Epoch 113/400\n",
      "62/62 [==============================] - 184s 3s/step - loss: 0.5612 - recall: 0.7403 - val_loss: 0.6898 - val_recall: 0.6754\n",
      "Epoch 114/400\n",
      "62/62 [==============================] - 183s 3s/step - loss: 0.5806 - recall: 0.7337 - val_loss: 0.6295 - val_recall: 0.7156\n",
      "Epoch 115/400\n",
      "62/62 [==============================] - ETA: 0s - loss: 0.5788 - recall: 0.7195INFO:tensorflow:Assets written to: models/run_2021_01_11-07_40_45/assets\n",
      "62/62 [==============================] - 239s 4s/step - loss: 0.5788 - recall: 0.7195 - val_loss: 0.6231 - val_recall: 0.7275\n",
      "Epoch 116/400\n",
      "62/62 [==============================] - ETA: 0s - loss: 0.5744 - recall: 0.7470INFO:tensorflow:Assets written to: models/run_2021_01_11-07_40_45/assets\n",
      "62/62 [==============================] - 248s 4s/step - loss: 0.5744 - recall: 0.7470 - val_loss: 0.6169 - val_recall: 0.7275\n",
      "Epoch 117/400\n",
      "62/62 [==============================] - 243s 4s/step - loss: 0.5581 - recall: 0.7439 - val_loss: 0.6543 - val_recall: 0.7062\n",
      "Epoch 118/400\n",
      "62/62 [==============================] - 237s 4s/step - loss: 0.5606 - recall: 0.7403 - val_loss: 0.6854 - val_recall: 0.6967\n",
      "Epoch 119/400\n",
      "62/62 [==============================] - 207s 3s/step - loss: 0.5689 - recall: 0.7363 - val_loss: 0.6649 - val_recall: 0.6943\n",
      "Epoch 120/400\n",
      "62/62 [==============================] - 190s 3s/step - loss: 0.5603 - recall: 0.7398 - val_loss: 0.6211 - val_recall: 0.7204\n",
      "Epoch 121/400\n",
      "62/62 [==============================] - 192s 3s/step - loss: 0.5762 - recall: 0.7236 - val_loss: 0.7085 - val_recall: 0.6588\n",
      "Epoch 122/400\n",
      "62/62 [==============================] - 192s 3s/step - loss: 0.5666 - recall: 0.7424 - val_loss: 0.6318 - val_recall: 0.7109\n",
      "Epoch 123/400\n",
      "62/62 [==============================] - 205s 3s/step - loss: 0.5486 - recall: 0.7409 - val_loss: 0.6484 - val_recall: 0.7014\n",
      "Epoch 124/400\n",
      "62/62 [==============================] - 184s 3s/step - loss: 0.5495 - recall: 0.7444 - val_loss: 0.6286 - val_recall: 0.7109\n",
      "Epoch 125/400\n",
      "62/62 [==============================] - 185s 3s/step - loss: 0.5649 - recall: 0.7464 - val_loss: 0.6319 - val_recall: 0.7370\n",
      "Epoch 126/400\n",
      "62/62 [==============================] - 183s 3s/step - loss: 0.5624 - recall: 0.7358 - val_loss: 0.6327 - val_recall: 0.7299\n",
      "Epoch 127/400\n",
      "62/62 [==============================] - 241s 4s/step - loss: 0.5340 - recall: 0.7602 - val_loss: 0.6641 - val_recall: 0.7322\n",
      "Epoch 128/400\n",
      "62/62 [==============================] - ETA: 0s - loss: 0.5458 - recall: 0.7424INFO:tensorflow:Assets written to: models/run_2021_01_11-07_40_45/assets\n",
      "62/62 [==============================] - 241s 4s/step - loss: 0.5458 - recall: 0.7424 - val_loss: 0.6037 - val_recall: 0.7085\n",
      "Epoch 129/400\n",
      "62/62 [==============================] - 227s 4s/step - loss: 0.5498 - recall: 0.7541 - val_loss: 0.6647 - val_recall: 0.6943\n",
      "Epoch 130/400\n",
      "62/62 [==============================] - 225s 4s/step - loss: 0.5396 - recall: 0.7571 - val_loss: 0.6588 - val_recall: 0.7156\n",
      "Epoch 131/400\n",
      "62/62 [==============================] - 226s 4s/step - loss: 0.5515 - recall: 0.7383 - val_loss: 0.6540 - val_recall: 0.6825\n",
      "Epoch 132/400\n",
      "62/62 [==============================] - 228s 4s/step - loss: 0.5481 - recall: 0.7505 - val_loss: 0.6086 - val_recall: 0.7133\n",
      "Epoch 133/400\n",
      "62/62 [==============================] - ETA: 0s - loss: 0.5478 - recall: 0.7470INFO:tensorflow:Assets written to: models/run_2021_01_11-07_40_45/assets\n",
      "62/62 [==============================] - 245s 4s/step - loss: 0.5478 - recall: 0.7470 - val_loss: 0.5997 - val_recall: 0.7536\n",
      "Epoch 134/400\n",
      "62/62 [==============================] - 237s 4s/step - loss: 0.5419 - recall: 0.7530 - val_loss: 0.6212 - val_recall: 0.7014\n",
      "Epoch 135/400\n",
      "62/62 [==============================] - ETA: 0s - loss: 0.5381 - recall: 0.7490INFO:tensorflow:Assets written to: models/run_2021_01_11-07_40_45/assets\n",
      "62/62 [==============================] - 241s 4s/step - loss: 0.5381 - recall: 0.7490 - val_loss: 0.5986 - val_recall: 0.7133\n",
      "Epoch 136/400\n",
      "62/62 [==============================] - 238s 4s/step - loss: 0.5329 - recall: 0.7612 - val_loss: 0.6296 - val_recall: 0.7488\n"
     ]
    },
    {
     "name": "stdout",
     "output_type": "stream",
     "text": [
      "Epoch 137/400\n",
      "62/62 [==============================] - 235s 4s/step - loss: 0.5119 - recall: 0.7749 - val_loss: 0.6258 - val_recall: 0.7275\n",
      "Epoch 138/400\n",
      "62/62 [==============================] - 240s 4s/step - loss: 0.5367 - recall: 0.7510 - val_loss: 0.6100 - val_recall: 0.7299\n",
      "Epoch 139/400\n",
      "62/62 [==============================] - 243s 4s/step - loss: 0.5264 - recall: 0.7617 - val_loss: 0.6382 - val_recall: 0.7393\n",
      "Epoch 140/400\n",
      "62/62 [==============================] - 245s 4s/step - loss: 0.5215 - recall: 0.7536 - val_loss: 0.6418 - val_recall: 0.7156\n",
      "Epoch 141/400\n",
      "62/62 [==============================] - 243s 4s/step - loss: 0.5203 - recall: 0.7591 - val_loss: 0.6047 - val_recall: 0.6991\n",
      "Epoch 142/400\n",
      "62/62 [==============================] - ETA: 0s - loss: 0.5118 - recall: 0.7622INFO:tensorflow:Assets written to: models/run_2021_01_11-07_40_45/assets\n",
      "62/62 [==============================] - 246s 4s/step - loss: 0.5118 - recall: 0.7622 - val_loss: 0.5939 - val_recall: 0.7346\n",
      "Epoch 143/400\n",
      "62/62 [==============================] - ETA: 0s - loss: 0.5143 - recall: 0.7622INFO:tensorflow:Assets written to: models/run_2021_01_11-07_40_45/assets\n",
      "62/62 [==============================] - 247s 4s/step - loss: 0.5143 - recall: 0.7622 - val_loss: 0.5820 - val_recall: 0.7441\n",
      "Epoch 144/400\n",
      "62/62 [==============================] - 243s 4s/step - loss: 0.5152 - recall: 0.7622 - val_loss: 0.6127 - val_recall: 0.7536\n",
      "Epoch 145/400\n",
      "62/62 [==============================] - 245s 4s/step - loss: 0.5044 - recall: 0.7698 - val_loss: 0.6043 - val_recall: 0.7133\n",
      "Epoch 146/400\n",
      "62/62 [==============================] - 218s 4s/step - loss: 0.5236 - recall: 0.7647 - val_loss: 0.6031 - val_recall: 0.7299\n",
      "Epoch 147/400\n",
      "62/62 [==============================] - ETA: 0s - loss: 0.5204 - recall: 0.7561INFO:tensorflow:Assets written to: models/run_2021_01_11-07_40_45/assets\n",
      "62/62 [==============================] - 228s 4s/step - loss: 0.5204 - recall: 0.7561 - val_loss: 0.5632 - val_recall: 0.7370\n",
      "Epoch 148/400\n",
      "62/62 [==============================] - 247s 4s/step - loss: 0.5055 - recall: 0.7673 - val_loss: 0.5794 - val_recall: 0.7630\n",
      "Epoch 149/400\n",
      "62/62 [==============================] - 240s 4s/step - loss: 0.5168 - recall: 0.7571 - val_loss: 0.5907 - val_recall: 0.7464\n",
      "Epoch 150/400\n",
      "62/62 [==============================] - ETA: 0s - loss: 0.5025 - recall: 0.7739INFO:tensorflow:Assets written to: models/run_2021_01_11-07_40_45/assets\n",
      "62/62 [==============================] - 257s 4s/step - loss: 0.5025 - recall: 0.7739 - val_loss: 0.5550 - val_recall: 0.7488\n",
      "Epoch 151/400\n",
      "62/62 [==============================] - 264s 4s/step - loss: 0.5045 - recall: 0.7729 - val_loss: 0.5905 - val_recall: 0.7417\n",
      "Epoch 152/400\n",
      "62/62 [==============================] - 241s 4s/step - loss: 0.4771 - recall: 0.7749 - val_loss: 0.6511 - val_recall: 0.7488\n",
      "Epoch 153/400\n",
      "62/62 [==============================] - 227s 4s/step - loss: 0.5289 - recall: 0.7556 - val_loss: 0.6002 - val_recall: 0.7275\n",
      "Epoch 154/400\n",
      "62/62 [==============================] - 226s 4s/step - loss: 0.4823 - recall: 0.7815 - val_loss: 0.5887 - val_recall: 0.7559\n",
      "Epoch 155/400\n",
      "62/62 [==============================] - 251s 4s/step - loss: 0.4989 - recall: 0.7795 - val_loss: 0.6058 - val_recall: 0.7393\n",
      "Epoch 156/400\n",
      "62/62 [==============================] - 246s 4s/step - loss: 0.4999 - recall: 0.7663 - val_loss: 0.5900 - val_recall: 0.7346\n",
      "Epoch 157/400\n",
      "62/62 [==============================] - 228s 4s/step - loss: 0.4856 - recall: 0.7815 - val_loss: 0.5897 - val_recall: 0.7441\n",
      "Epoch 158/400\n",
      "62/62 [==============================] - 242s 4s/step - loss: 0.4835 - recall: 0.7810 - val_loss: 0.6210 - val_recall: 0.7464\n",
      "Epoch 159/400\n",
      "62/62 [==============================] - 236s 4s/step - loss: 0.4696 - recall: 0.7876 - val_loss: 0.6053 - val_recall: 0.7536\n",
      "Epoch 160/400\n",
      "62/62 [==============================] - 223s 4s/step - loss: 0.4950 - recall: 0.7708 - val_loss: 0.5990 - val_recall: 0.7441\n",
      "Epoch 161/400\n",
      "62/62 [==============================] - 223s 4s/step - loss: 0.4830 - recall: 0.7795 - val_loss: 0.5901 - val_recall: 0.7322\n",
      "Epoch 162/400\n",
      "62/62 [==============================] - ETA: 0s - loss: 0.4894 - recall: 0.7774INFO:tensorflow:Assets written to: models/run_2021_01_11-07_40_45/assets\n",
      "62/62 [==============================] - 218s 4s/step - loss: 0.4894 - recall: 0.7774 - val_loss: 0.5545 - val_recall: 0.7488\n",
      "Epoch 163/400\n",
      "62/62 [==============================] - 222s 4s/step - loss: 0.4871 - recall: 0.7805 - val_loss: 0.5565 - val_recall: 0.7346\n",
      "Epoch 164/400\n",
      "62/62 [==============================] - 219s 4s/step - loss: 0.4714 - recall: 0.7871 - val_loss: 0.5848 - val_recall: 0.7773\n",
      "Epoch 165/400\n",
      "62/62 [==============================] - 217s 4s/step - loss: 0.4686 - recall: 0.7810 - val_loss: 0.6531 - val_recall: 0.6777\n",
      "Epoch 166/400\n",
      "62/62 [==============================] - 217s 4s/step - loss: 0.4647 - recall: 0.7825 - val_loss: 0.6603 - val_recall: 0.7536\n",
      "Epoch 167/400\n",
      "62/62 [==============================] - 218s 4s/step - loss: 0.4665 - recall: 0.7922 - val_loss: 0.6088 - val_recall: 0.7393\n",
      "Epoch 168/400\n",
      "62/62 [==============================] - 215s 3s/step - loss: 0.4584 - recall: 0.7957 - val_loss: 0.5788 - val_recall: 0.7488\n",
      "Epoch 169/400\n",
      "62/62 [==============================] - 217s 4s/step - loss: 0.4599 - recall: 0.7917 - val_loss: 0.6693 - val_recall: 0.6682\n",
      "Epoch 170/400\n",
      "62/62 [==============================] - 227s 4s/step - loss: 0.4927 - recall: 0.7790 - val_loss: 0.6322 - val_recall: 0.6967\n",
      "Epoch 171/400\n",
      "62/62 [==============================] - 239s 4s/step - loss: 0.4900 - recall: 0.7790 - val_loss: 0.5773 - val_recall: 0.7275\n",
      "Epoch 172/400\n",
      "62/62 [==============================] - ETA: 0s - loss: 0.4678 - recall: 0.7942INFO:tensorflow:Assets written to: models/run_2021_01_11-07_40_45/assets\n",
      "62/62 [==============================] - 228s 4s/step - loss: 0.4678 - recall: 0.7942 - val_loss: 0.5311 - val_recall: 0.7867\n",
      "Epoch 173/400\n",
      "62/62 [==============================] - 223s 4s/step - loss: 0.4656 - recall: 0.7846 - val_loss: 0.6082 - val_recall: 0.7583\n",
      "Epoch 174/400\n",
      "62/62 [==============================] - 224s 4s/step - loss: 0.4478 - recall: 0.8028 - val_loss: 0.5905 - val_recall: 0.7654\n",
      "Epoch 175/400\n",
      "62/62 [==============================] - 240s 4s/step - loss: 0.4584 - recall: 0.7967 - val_loss: 0.5687 - val_recall: 0.7441\n",
      "Epoch 176/400\n",
      "62/62 [==============================] - 247s 4s/step - loss: 0.4595 - recall: 0.7901 - val_loss: 0.5657 - val_recall: 0.7725\n",
      "Epoch 177/400\n",
      "62/62 [==============================] - 258s 4s/step - loss: 0.4575 - recall: 0.7937 - val_loss: 0.5834 - val_recall: 0.7559\n",
      "Epoch 178/400\n",
      "62/62 [==============================] - 256s 4s/step - loss: 0.4508 - recall: 0.8008 - val_loss: 0.5526 - val_recall: 0.7701\n",
      "Epoch 179/400\n",
      "62/62 [==============================] - 254s 4s/step - loss: 0.4398 - recall: 0.8084 - val_loss: 0.5846 - val_recall: 0.7654\n",
      "Epoch 180/400\n",
      "62/62 [==============================] - 196s 3s/step - loss: 0.4660 - recall: 0.7922 - val_loss: 0.5532 - val_recall: 0.7796\n",
      "Epoch 181/400\n",
      "62/62 [==============================] - 176s 3s/step - loss: 0.4067 - recall: 0.8125 - val_loss: 0.6276 - val_recall: 0.7346\n",
      "Epoch 182/400\n",
      "62/62 [==============================] - 218s 4s/step - loss: 0.4363 - recall: 0.8166 - val_loss: 0.6209 - val_recall: 0.7559\n",
      "Epoch 183/400\n",
      "62/62 [==============================] - 235s 4s/step - loss: 0.4435 - recall: 0.8049 - val_loss: 0.5999 - val_recall: 0.7820\n",
      "Epoch 184/400\n",
      "62/62 [==============================] - 237s 4s/step - loss: 0.4391 - recall: 0.8079 - val_loss: 0.5855 - val_recall: 0.7346\n",
      "Epoch 185/400\n",
      "62/62 [==============================] - 241s 4s/step - loss: 0.4490 - recall: 0.8089 - val_loss: 0.5909 - val_recall: 0.7251\n",
      "Epoch 186/400\n",
      "62/62 [==============================] - 243s 4s/step - loss: 0.4222 - recall: 0.8145 - val_loss: 0.5550 - val_recall: 0.7796\n",
      "Epoch 187/400\n",
      "62/62 [==============================] - 242s 4s/step - loss: 0.4400 - recall: 0.8044 - val_loss: 0.5561 - val_recall: 0.7678\n",
      "Epoch 188/400\n",
      "62/62 [==============================] - 244s 4s/step - loss: 0.4232 - recall: 0.8155 - val_loss: 0.5627 - val_recall: 0.7630\n"
     ]
    },
    {
     "name": "stdout",
     "output_type": "stream",
     "text": [
      "Epoch 189/400\n",
      "62/62 [==============================] - 241s 4s/step - loss: 0.5048 - recall: 0.7866 - val_loss: 0.6743 - val_recall: 0.7441\n",
      "Epoch 190/400\n",
      "62/62 [==============================] - 247s 4s/step - loss: 0.5042 - recall: 0.7785 - val_loss: 0.5769 - val_recall: 0.7536\n",
      "Epoch 191/400\n",
      "62/62 [==============================] - 242s 4s/step - loss: 0.4622 - recall: 0.7937 - val_loss: 0.5612 - val_recall: 0.7370\n",
      "Epoch 192/400\n",
      "62/62 [==============================] - 252s 4s/step - loss: 0.4460 - recall: 0.7998 - val_loss: 0.6191 - val_recall: 0.7725\n",
      "Epoch 193/400\n",
      "62/62 [==============================] - 243s 4s/step - loss: 0.4320 - recall: 0.8044 - val_loss: 0.6088 - val_recall: 0.7607\n",
      "Epoch 194/400\n",
      "62/62 [==============================] - 241s 4s/step - loss: 0.4412 - recall: 0.8135 - val_loss: 0.5811 - val_recall: 0.7773\n",
      "Epoch 195/400\n",
      "62/62 [==============================] - 235s 4s/step - loss: 0.4254 - recall: 0.8115 - val_loss: 0.5463 - val_recall: 0.7844\n",
      "Epoch 196/400\n",
      "62/62 [==============================] - 185s 3s/step - loss: 0.4041 - recall: 0.8252 - val_loss: 0.6146 - val_recall: 0.7867\n",
      "Epoch 197/400\n",
      "62/62 [==============================] - 166s 3s/step - loss: 0.4325 - recall: 0.8166 - val_loss: 0.6022 - val_recall: 0.7820\n",
      "Epoch 198/400\n",
      "62/62 [==============================] - 170s 3s/step - loss: 0.4194 - recall: 0.8084 - val_loss: 0.5952 - val_recall: 0.7891\n",
      "Epoch 199/400\n",
      "62/62 [==============================] - 170s 3s/step - loss: 0.4160 - recall: 0.8216 - val_loss: 0.5595 - val_recall: 0.7796\n",
      "Epoch 200/400\n",
      "62/62 [==============================] - 175s 3s/step - loss: 0.4507 - recall: 0.7983 - val_loss: 0.5908 - val_recall: 0.7796\n",
      "Epoch 201/400\n",
      "62/62 [==============================] - 196s 3s/step - loss: 0.4118 - recall: 0.8216 - val_loss: 0.6425 - val_recall: 0.7630\n",
      "Epoch 202/400\n",
      "62/62 [==============================] - 181s 3s/step - loss: 0.4013 - recall: 0.8277 - val_loss: 0.6104 - val_recall: 0.7559\n",
      "Epoch 203/400\n",
      "62/62 [==============================] - 172s 3s/step - loss: 0.4169 - recall: 0.8166 - val_loss: 0.5893 - val_recall: 0.7725\n",
      "Epoch 204/400\n",
      "62/62 [==============================] - 172s 3s/step - loss: 0.4199 - recall: 0.8272 - val_loss: 0.5900 - val_recall: 0.7559\n",
      "Epoch 205/400\n",
      "62/62 [==============================] - 171s 3s/step - loss: 0.4141 - recall: 0.8176 - val_loss: 0.5916 - val_recall: 0.7370\n",
      "Epoch 206/400\n",
      "62/62 [==============================] - 170s 3s/step - loss: 0.4036 - recall: 0.8211 - val_loss: 0.5661 - val_recall: 0.7867\n",
      "Epoch 207/400\n",
      "62/62 [==============================] - 172s 3s/step - loss: 0.4127 - recall: 0.8155 - val_loss: 0.5872 - val_recall: 0.7938\n",
      "Epoch 208/400\n",
      "62/62 [==============================] - 170s 3s/step - loss: 0.4023 - recall: 0.8206 - val_loss: 0.6732 - val_recall: 0.7536\n",
      "Epoch 209/400\n",
      "62/62 [==============================] - 170s 3s/step - loss: 0.3955 - recall: 0.8211 - val_loss: 0.6144 - val_recall: 0.7749\n",
      "Epoch 210/400\n",
      "62/62 [==============================] - 163s 3s/step - loss: 0.3941 - recall: 0.8283 - val_loss: 0.6466 - val_recall: 0.7867\n",
      "Epoch 211/400\n",
      "62/62 [==============================] - 164s 3s/step - loss: 0.3921 - recall: 0.8277 - val_loss: 0.6202 - val_recall: 0.7654\n",
      "Epoch 212/400\n",
      "62/62 [==============================] - 163s 3s/step - loss: 0.4009 - recall: 0.8196 - val_loss: 0.5564 - val_recall: 0.7583\n",
      "Epoch 213/400\n",
      "62/62 [==============================] - 164s 3s/step - loss: 0.3790 - recall: 0.8323 - val_loss: 0.6384 - val_recall: 0.7725\n",
      "Epoch 214/400\n",
      "62/62 [==============================] - 164s 3s/step - loss: 0.3991 - recall: 0.8308 - val_loss: 0.6663 - val_recall: 0.7725\n",
      "Epoch 215/400\n",
      "62/62 [==============================] - 164s 3s/step - loss: 0.3884 - recall: 0.8283 - val_loss: 0.6173 - val_recall: 0.7867\n",
      "Epoch 216/400\n",
      "62/62 [==============================] - 165s 3s/step - loss: 0.3965 - recall: 0.8374 - val_loss: 0.6082 - val_recall: 0.7820\n",
      "Epoch 217/400\n",
      "62/62 [==============================] - 173s 3s/step - loss: 0.3862 - recall: 0.8410 - val_loss: 0.6473 - val_recall: 0.7844\n",
      "Epoch 00217: early stopping\n"
     ]
    }
   ],
   "source": [
    "epochs=400\n",
    "history = model.fit(\n",
    "  train_generator,\n",
    "  validation_data=validation_generator,\n",
    "  epochs=epochs,\n",
    "    callbacks=[callbacks])"
   ]
  },
  {
   "cell_type": "code",
   "execution_count": 25,
   "metadata": {},
   "outputs": [
    {
     "data": {
      "image/png": "[encoded data removed]",
      "text/plain": [
       "<Figure size 576x576 with 2 Axes>"
      ]
     },
     "metadata": {},
     "output_type": "display_data"
    }
   ],
   "source": [
    "plt.style.use('seaborn')\n",
    "acc = history.history['recall']\n",
    "val_acc = history.history['val_recall']\n",
    "\n",
    "loss = history.history['loss']\n",
    "val_loss = history.history['val_loss']\n",
    "\n",
    "epochs_range = range(len(acc))\n",
    "\n",
    "plt.figure(figsize=(8, 8))\n",
    "plt.subplot(1, 2, 1)\n",
    "plt.plot(epochs_range, acc, label='Training Recall')\n",
    "plt.plot(epochs_range, val_acc, label='Validation Recall')\n",
    "plt.legend(loc='lower right')\n",
    "plt.title('Training and Validation Recall')\n",
    "\n",
    "\n",
    "plt.subplot(1, 2, 2)\n",
    "plt.plot(epochs_range, loss, label='Training Loss')\n",
    "plt.plot(epochs_range, val_loss, label='Validation Loss')\n",
    "plt.legend(loc='upper right')\n",
    "plt.title('Training and Validation Loss')\n",
    "plt.savefig('graphs/simplemodel128x2aug_zoom_bright.png', bbox_inches='tight')\n",
    "plt.show()"
   ]
  },
  {
   "cell_type": "code",
   "execution_count": 26,
   "metadata": {},
   "outputs": [
    {
     "name": "stdout",
     "output_type": "stream",
     "text": [
      "Found 424 images belonging to 3 classes.\n"
     ]
    }
   ],
   "source": [
    "test_generator = test_datagen.flow_from_directory(\n",
    "        'plants/test',\n",
    "        target_size=(300, 200),\n",
    "        batch_size=16,\n",
    "        shuffle=False,\n",
    "        class_mode='categorical')"
   ]
  },
  {
   "cell_type": "code",
   "execution_count": 27,
   "metadata": {},
   "outputs": [],
   "source": [
    "ben_plants = os.listdir('plants/test/Benign_Plants')\n",
    "ivy=os.listdir('plants/test/Poison_Ivy/')\n",
    "oak=os.listdir('plants/test/Poison_Oak')"
   ]
  },
  {
   "cell_type": "code",
   "execution_count": 28,
   "metadata": {},
   "outputs": [],
   "source": [
    "y_true=pd.DataFrame()\n",
    "for i in range(len(ben_plants)):\n",
    "    num=pd.Series([1,0,0])\n",
    "    y_true= y_true.append(num, ignore_index=True)\n",
    "for j in range(len(ivy)):\n",
    "    num=pd.Series([0,1,0])\n",
    "    y_true= y_true.append(num, ignore_index=True)\n",
    "for k in range(len(oak)):\n",
    "    num=pd.Series([0,0,1])\n",
    "    y_true= y_true.append(num, ignore_index=True)"
   ]
  },
  {
   "cell_type": "code",
   "execution_count": 29,
   "metadata": {},
   "outputs": [
    {
     "name": "stdout",
     "output_type": "stream",
     "text": [
      "27/27 [==============================] - 9s 346ms/step\n"
     ]
    }
   ],
   "source": [
    "y_hat=(model.predict(test_generator, verbose=1))"
   ]
  },
  {
   "cell_type": "code",
   "execution_count": 31,
   "metadata": {},
   "outputs": [],
   "source": [
    "y_pred=np.argmax(y_hat, axis=1)\n",
    "y_s=np.argmax(np.array(y_true), axis=1)\n",
    "c_mat=confusion_matrix(y_s, y_pred)\n",
    "percent=(c_mat/(np.sum(c_mat, axis=1).reshape(3,-1))).reshape(3,3)"
   ]
  },
  {
   "cell_type": "code",
   "execution_count": 32,
   "metadata": {},
   "outputs": [
    {
     "data": {
      "image/png": "[encoded data removed]",
      "text/plain": [
       "<Figure size 576x396 with 2 Axes>"
      ]
     },
     "metadata": {},
     "output_type": "display_data"
    }
   ],
   "source": [
    "predicted_cat=['Predicted Benign', 'Predicted Poison Ivy', 'Predicted Poison Oak']\n",
    "real_cat=['Actual Benign', 'Actual Poison Ivy', 'Actual Poison Oak']\n",
    "sns.heatmap(percent, annot=percent, cmap='YlGn', \n",
    "            xticklabels=predicted_cat, \n",
    "            yticklabels=real_cat).set_title('Confusion Matrix -Percent Actual Plant Predicted \\n built model 128 filters heavy augment with no weights');\n",
    "plt.savefig('graphs/simplemodel128x2_2aug_zoom_bright.png', bbox_inches='tight')"
   ]
  },
  {
   "cell_type": "code",
   "execution_count": 33,
   "metadata": {},
   "outputs": [],
   "source": [
    "def print_model_properties(model, indices = 0):\n",
    "     for i, layer in enumerate(model.layers[indices:]):\n",
    "        print(\"Layer {} | Name: {} | Trainable: {}\".format(i+indices, layer.name, layer.trainable))"
   ]
  },
  {
   "cell_type": "code",
   "execution_count": 75,
   "metadata": {},
   "outputs": [],
   "source": [
    "callbacks = [\n",
    "    keras.callbacks.EarlyStopping(\n",
    "        # Stop training when `val_loss` is no longer improving\n",
    "        monitor=\"val_loss\",\n",
    "        # \"no longer improving\" being defined as \"no better than 1e-5 less\"\n",
    "        min_delta=1e-3,\n",
    "        # \"no longer improving\" being further defined as \"for at least 30 epochs\"\n",
    "        patience=60,\n",
    "        verbose=1,), \n",
    "    keras.callbacks.TensorBoard(run_logdir,\n",
    "                              histogram_freq=2,\n",
    "                              write_graph=True,\n",
    "                              write_images=True),\n",
    "    keras.callbacks.ModelCheckpoint(filepath='models/'+model_name ,save_best_only=True)]"
   ]
  },
  {
   "cell_type": "code",
   "execution_count": 69,
   "metadata": {},
   "outputs": [],
   "source": [
    "optimizer=tf.keras.optimizers.Adam(\n",
    "    learning_rate=0.0001, beta_1=0.9, beta_2=0.999, epsilon=1e-07, amsgrad=False)"
   ]
  },
  {
   "cell_type": "code",
   "execution_count": 36,
   "metadata": {},
   "outputs": [],
   "source": [
    "train_datagen=tf.keras.preprocessing.image.ImageDataGenerator(\n",
    "    zca_whitening=False, zca_epsilon=1e-06, rotation_range=30, width_shift_range=0.3,\n",
    "    height_shift_range=0.3, fill_mode='nearest', cval=0.0,\n",
    "    horizontal_flip=True, vertical_flip=False, zoom_range=0.25, brightness_range=(0.75, 1.25))\n",
    "test_datagen=tf.keras.preprocessing.image.ImageDataGenerator()"
   ]
  },
  {
   "cell_type": "code",
   "execution_count": 65,
   "metadata": {},
   "outputs": [],
   "source": [
    "model.pop()\n"
   ]
  },
  {
   "cell_type": "code",
   "execution_count": 66,
   "metadata": {},
   "outputs": [
    {
     "name": "stdout",
     "output_type": "stream",
     "text": [
      "Model: \"sequential\"\n",
      "_________________________________________________________________\n",
      "Layer (type)                 Output Shape              Param #   \n",
      "=================================================================\n",
      "rescaling (Rescaling)        (None, 300, 200, 3)       0         \n",
      "_________________________________________________________________\n",
      "conv2d (Conv2D)              (None, 300, 200, 64)      9472      \n",
      "_________________________________________________________________\n",
      "max_pooling2d (MaxPooling2D) (None, 150, 100, 64)      0         \n",
      "_________________________________________________________________\n",
      "conv2d_1 (Conv2D)            (None, 150, 100, 64)      36928     \n",
      "_________________________________________________________________\n",
      "max_pooling2d_1 (MaxPooling2 (None, 75, 50, 64)        0         \n",
      "_________________________________________________________________\n",
      "conv2d_2 (Conv2D)            (None, 75, 50, 128)       73856     \n",
      "_________________________________________________________________\n",
      "max_pooling2d_2 (MaxPooling2 (None, 37, 25, 128)       0         \n",
      "_________________________________________________________________\n",
      "conv2d_3 (Conv2D)            (None, 37, 25, 128)       147584    \n",
      "_________________________________________________________________\n",
      "max_pooling2d_3 (MaxPooling2 (None, 18, 12, 128)       0         \n",
      "=================================================================\n",
      "Total params: 267,840\n",
      "Trainable params: 0\n",
      "Non-trainable params: 267,840\n",
      "_________________________________________________________________\n"
     ]
    }
   ],
   "source": [
    "model.summary()"
   ]
  },
  {
   "cell_type": "code",
   "execution_count": null,
   "metadata": {},
   "outputs": [],
   "source": []
  },
  {
   "cell_type": "code",
   "execution_count": 67,
   "metadata": {},
   "outputs": [],
   "source": [
    "model.add(layers.Flatten())\n",
    "model.add(layers.Dropout(0.3)) \n",
    "model.add(layers.Dense(128, activation='relu'))\n",
    "model.add(layers.Dense(num_classes, activation='softmax'))"
   ]
  },
  {
   "cell_type": "code",
   "execution_count": 39,
   "metadata": {},
   "outputs": [
    {
     "name": "stdout",
     "output_type": "stream",
     "text": [
      "Layer 0 | Name: rescaling | Trainable: True\n",
      "Layer 1 | Name: conv2d | Trainable: True\n",
      "Layer 2 | Name: max_pooling2d | Trainable: True\n",
      "Layer 3 | Name: conv2d_1 | Trainable: True\n",
      "Layer 4 | Name: max_pooling2d_1 | Trainable: True\n",
      "Layer 5 | Name: conv2d_2 | Trainable: True\n",
      "Layer 6 | Name: max_pooling2d_2 | Trainable: True\n",
      "Layer 7 | Name: conv2d_3 | Trainable: True\n",
      "Layer 8 | Name: max_pooling2d_3 | Trainable: True\n"
     ]
    }
   ],
   "source": [
    "print_model_properties(model)"
   ]
  },
  {
   "cell_type": "code",
   "execution_count": 40,
   "metadata": {},
   "outputs": [],
   "source": [
    "model.add(layers.Dropout(0.3)) \n",
    "model.add(layers.Dense(128, activation='relu'))\n",
    "model.add(layers.Dense(num_classes, activation='softmax'))"
   ]
  },
  {
   "cell_type": "code",
   "execution_count": 41,
   "metadata": {},
   "outputs": [],
   "source": [
    "def change_trainable_layers(model, trainable_index):\n",
    "    for layer in model.layers[:trainable_index]:\n",
    "        layer.trainable = False\n",
    "    for layer in model.layers[trainable_index:]:\n",
    "        layer.trainable = True"
   ]
  },
  {
   "cell_type": "code",
   "execution_count": 74,
   "metadata": {},
   "outputs": [
    {
     "name": "stdout",
     "output_type": "stream",
     "text": [
      "Layer 0 | Name: rescaling | Trainable: True\n",
      "Layer 1 | Name: conv2d | Trainable: True\n",
      "Layer 2 | Name: max_pooling2d | Trainable: True\n",
      "Layer 3 | Name: conv2d_1 | Trainable: True\n",
      "Layer 4 | Name: max_pooling2d_1 | Trainable: True\n",
      "Layer 5 | Name: conv2d_2 | Trainable: True\n",
      "Layer 6 | Name: max_pooling2d_2 | Trainable: True\n",
      "Layer 7 | Name: conv2d_3 | Trainable: True\n",
      "Layer 8 | Name: max_pooling2d_3 | Trainable: True\n",
      "Layer 9 | Name: flatten_1 | Trainable: True\n",
      "Layer 10 | Name: dropout_1 | Trainable: True\n",
      "Layer 11 | Name: dense_4 | Trainable: True\n",
      "Layer 12 | Name: dense_5 | Trainable: True\n"
     ]
    }
   ],
   "source": [
    "print_model_properties(model)"
   ]
  },
  {
   "cell_type": "code",
   "execution_count": 73,
   "metadata": {},
   "outputs": [],
   "source": [
    "change_trainable_layers(model, 0)"
   ]
  },
  {
   "cell_type": "code",
   "execution_count": 70,
   "metadata": {},
   "outputs": [],
   "source": [
    "model.compile(optimizer=optimizer,\n",
    "              loss=tf.keras.losses.CategoricalCrossentropy(),\n",
    "              metrics=[recall])"
   ]
  },
  {
   "cell_type": "code",
   "execution_count": null,
   "metadata": {},
   "outputs": [],
   "source": []
  },
  {
   "cell_type": "code",
   "execution_count": 76,
   "metadata": {},
   "outputs": [],
   "source": [
    "weight_for_0 = (1 / 1800)*(2200)/2.0 \n",
    "weight_for_1 = (1 / 400)*(2200)/2.0\n",
    "weight_for_2 = (1/400)*(2200)/2.0\n",
    "class_weight = {0: weight_for_0, 1: weight_for_1, 2: weight_for_2}"
   ]
  },
  {
   "cell_type": "code",
   "execution_count": 78,
   "metadata": {},
   "outputs": [
    {
     "data": {
      "text/plain": [
       "0.6111111111111112"
      ]
     },
     "execution_count": 78,
     "metadata": {},
     "output_type": "execute_result"
    }
   ],
   "source": [
    "weight_for_0"
   ]
  },
  {
   "cell_type": "code",
   "execution_count": null,
   "metadata": {},
   "outputs": [
    {
     "name": "stdout",
     "output_type": "stream",
     "text": [
      "Epoch 1/600\n",
      "48/62 [======================>.......] - ETA: 12s - loss: 1.1155 - recall: 0.5592"
     ]
    }
   ],
   "source": [
    "epochs=600\n",
    "history = model.fit(\n",
    "  train_generator,\n",
    "  validation_data=validation_generator,\n",
    "  epochs=epochs,\n",
    "    callbacks=[callbacks], class_weight=class_weight)"
   ]
  },
  {
   "cell_type": "code",
   "execution_count": 59,
   "metadata": {},
   "outputs": [
    {
     "name": "stdout",
     "output_type": "stream",
     "text": [
      "Model: \"sequential\"\n",
      "_________________________________________________________________\n",
      "Layer (type)                 Output Shape              Param #   \n",
      "=================================================================\n",
      "rescaling (Rescaling)        (None, 300, 200, 3)       0         \n",
      "_________________________________________________________________\n",
      "conv2d (Conv2D)              (None, 300, 200, 64)      9472      \n",
      "_________________________________________________________________\n",
      "max_pooling2d (MaxPooling2D) (None, 150, 100, 64)      0         \n",
      "_________________________________________________________________\n",
      "conv2d_1 (Conv2D)            (None, 150, 100, 64)      36928     \n",
      "_________________________________________________________________\n",
      "max_pooling2d_1 (MaxPooling2 (None, 75, 50, 64)        0         \n",
      "_________________________________________________________________\n",
      "conv2d_2 (Conv2D)            (None, 75, 50, 128)       73856     \n",
      "_________________________________________________________________\n",
      "max_pooling2d_2 (MaxPooling2 (None, 37, 25, 128)       0         \n",
      "_________________________________________________________________\n",
      "conv2d_3 (Conv2D)            (None, 37, 25, 128)       147584    \n",
      "_________________________________________________________________\n",
      "max_pooling2d_3 (MaxPooling2 (None, 18, 12, 128)       0         \n",
      "_________________________________________________________________\n",
      "dropout (Dropout)            (None, 18, 12, 128)       0         \n",
      "_________________________________________________________________\n",
      "dense_2 (Dense)              (None, 18, 12, 128)       16512     \n",
      "_________________________________________________________________\n",
      "dense_3 (Dense)              (None, 18, 12, 3)         387       \n",
      "=================================================================\n",
      "Total params: 284,739\n",
      "Trainable params: 16,899\n",
      "Non-trainable params: 267,840\n",
      "_________________________________________________________________\n"
     ]
    }
   ],
   "source": [
    "model.summary()"
   ]
  },
  {
   "cell_type": "code",
   "execution_count": null,
   "metadata": {},
   "outputs": [],
   "source": []
  }
 ],
 "metadata": {
  "kernelspec": {
   "display_name": "Python 3",
   "language": "python",
   "name": "python3"
  },
  "language_info": {
   "codemirror_mode": {
    "name": "ipython",
    "version": 3
   },
   "file_extension": ".py",
   "mimetype": "text/x-python",
   "name": "python",
   "nbconvert_exporter": "python",
   "pygments_lexer": "ipython3",
   "version": "3.8.3"
  }
 },
 "nbformat": 4,
 "nbformat_minor": 4
}
